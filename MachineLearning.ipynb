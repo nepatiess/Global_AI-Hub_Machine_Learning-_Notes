{
  "nbformat": 4,
  "nbformat_minor": 0,
  "metadata": {
    "colab": {
      "provenance": [],
      "collapsed_sections": [
        "vWHVbwK9m1oU"
      ],
      "authorship_tag": "ABX9TyPQDF5+FuC14PX1Nr3DdecV",
      "include_colab_link": true
    },
    "kernelspec": {
      "name": "python3",
      "display_name": "Python 3"
    },
    "language_info": {
      "name": "python"
    }
  },
  "cells": [
    {
      "cell_type": "markdown",
      "metadata": {
        "id": "view-in-github",
        "colab_type": "text"
      },
      "source": [
        "<a href=\"https://colab.research.google.com/github/nepatiess/Global_AI-Hub_Machine_Learning-_Notes/blob/main/MachineLearning.ipynb\" target=\"_parent\"><img src=\"https://colab.research.google.com/assets/colab-badge.svg\" alt=\"Open In Colab\"/></a>"
      ]
    },
    {
      "cell_type": "markdown",
      "source": [
        "# Assessment - Introduction to machine learning"
      ],
      "metadata": {
        "id": "SAKCQAMQGoCZ"
      }
    },
    {
      "cell_type": "markdown",
      "source": [
        "### 1.Which of the following statements about machine learning (ML) is correct?\n",
        "* ML is a field of computer science.\n",
        "* ML is a subfield of artificial intelligence.\n",
        "* ML reduces the need for traditional programming.\n",
        "* All of the above."
      ],
      "metadata": {
        "id": "PbWuWwrhGyfA"
      }
    },
    {
      "cell_type": "markdown",
      "source": [
        "The correct statement is \"**All of the above**\"."
      ],
      "metadata": {
        "id": "lOeyp0AsHdgn"
      }
    },
    {
      "cell_type": "markdown",
      "source": [
        "\n",
        "\n",
        "---\n",
        "\n"
      ],
      "metadata": {
        "id": "BBZJSpj89gIk"
      }
    },
    {
      "cell_type": "markdown",
      "source": [
        "### 2.What are the practical advantages of machine learning compared to traditional programming?\n",
        "* Faster data analysis.\n",
        "* Automation of repetitive tasks.\n",
        "* Handling large amounts of data.\n",
        "* Continuous learnşng from new data.\n",
        "* All of the above."
      ],
      "metadata": {
        "id": "lt25LkTQIM5M"
      }
    },
    {
      "cell_type": "markdown",
      "source": [
        "  The correct statement is \"**All of the above**\"."
      ],
      "metadata": {
        "id": "o6UFocJVJLH8"
      }
    },
    {
      "cell_type": "markdown",
      "source": [
        "\n",
        "\n",
        "---\n",
        "\n"
      ],
      "metadata": {
        "id": "XKyTlKJx9mF8"
      }
    },
    {
      "cell_type": "markdown",
      "source": [
        "### 3.Which of the following is a regression algorithm?\n",
        "* Linear regression\n",
        "* Logistic regression\n",
        "* K-means\n",
        "* All of the above"
      ],
      "metadata": {
        "id": "Fb0hKxFHJNEE"
      }
    },
    {
      "cell_type": "markdown",
      "source": [
        "The correct answer is \"**Linear regression**\"."
      ],
      "metadata": {
        "id": "CbZNpUC_JdJX"
      }
    },
    {
      "cell_type": "markdown",
      "source": [
        "\n",
        "\n",
        "---\n",
        "\n"
      ],
      "metadata": {
        "id": "qDHhiTXA9oDo"
      }
    },
    {
      "cell_type": "markdown",
      "source": [
        "### 4.What is the main goal of clustering algrithms?\n",
        "* To divide a set of data into groups that are near each other.\n",
        "* To choose the optimal data point.\n",
        "* To determine the most similar data point.\n",
        "* To predict the catagory of a data point."
      ],
      "metadata": {
        "id": "ZMvQeh5KJsMv"
      }
    },
    {
      "cell_type": "markdown",
      "source": [
        "The main goal of clustering algorithms is: \"**To divide a set of data into groups that are near each other.**\""
      ],
      "metadata": {
        "id": "S2aF4CAhKDsH"
      }
    },
    {
      "cell_type": "markdown",
      "source": [
        "\n",
        "\n",
        "---\n",
        "\n"
      ],
      "metadata": {
        "id": "P4frkMHD9qFc"
      }
    },
    {
      "cell_type": "markdown",
      "source": [
        "### 5.______ are specific mathematical procedures that consist of a series of steps which help to solve a specific problem and achieve a defined goal. Please fill in the required field with the correct option.\n",
        "\n",
        "* Algorithms\n",
        "* Models\n",
        "* Outputs\n",
        "* All of the above"
      ],
      "metadata": {
        "id": "UXk_FMkIKIYH"
      }
    },
    {
      "cell_type": "markdown",
      "source": [
        "  The correct options is \"**Algorithms**\"."
      ],
      "metadata": {
        "id": "uCleMs4OKaXv"
      }
    },
    {
      "cell_type": "markdown",
      "source": [
        "\n",
        "\n",
        "---\n",
        "\n"
      ],
      "metadata": {
        "id": "oSEAki4e9s1w"
      }
    },
    {
      "cell_type": "markdown",
      "source": [
        "### 6.How do we build a machine learning pipeline? Order the steps chronologically.\n",
        "\n",
        "* A series of mathematical steps are performed.\n",
        "* Raw data is fed to the system.\n",
        "* Data is transformed into a form that a computer can understand.\n",
        "* An output is computed."
      ],
      "metadata": {
        "id": "C9bEiiSEKgqH"
      }
    },
    {
      "cell_type": "markdown",
      "source": [
        "  The chronological order is:\n",
        "1. Raw data is fed to the system.\n",
        "2. Data is transformed into a form that a computer can understand.\n",
        "3. A series of mathematical steps are performed.\n",
        "4. An output is computed\n"
      ],
      "metadata": {
        "id": "baWAdRvGK6Nc"
      }
    },
    {
      "cell_type": "markdown",
      "source": [
        "\n",
        "\n",
        "---\n",
        "\n"
      ],
      "metadata": {
        "id": "w-wvlzwY9vGB"
      }
    },
    {
      "cell_type": "markdown",
      "source": [
        "### 7.In the context of machine learning, what is loss?\n",
        "* The difference between the predicted and the expected output\n",
        "* The value of the dependent variable\n",
        "* The value of the independent variable\n",
        "* The difference between our input and output"
      ],
      "metadata": {
        "id": "KKL7j0x_LKey"
      }
    },
    {
      "cell_type": "markdown",
      "source": [
        "  In the context of machine learning, loss is: \"**The difference between the predicted and the expected output.**\""
      ],
      "metadata": {
        "id": "OnO5AQXZLdf0"
      }
    },
    {
      "cell_type": "markdown",
      "source": [
        "\n",
        "\n",
        "---\n",
        "\n"
      ],
      "metadata": {
        "id": "z6miYbD29waY"
      }
    },
    {
      "cell_type": "markdown",
      "source": [
        "### 8.What does the performance of the machine learning model indicate?\n",
        "* How fast the model is.\n",
        "* How much memory capacity the model needs.\n",
        "* How accurately it predicts the expected output.\n",
        "* How well the model memorizes the data patterns."
      ],
      "metadata": {
        "id": "Jmf5Uys0Luwr"
      }
    },
    {
      "cell_type": "markdown",
      "source": [
        "  The performance of a machine learning model primarily indicates: \"**How accurately it predicts the expected output.**\""
      ],
      "metadata": {
        "id": "vNtNMcWdMFw0"
      }
    },
    {
      "cell_type": "markdown",
      "source": [
        "\n",
        "\n",
        "---\n",
        "\n"
      ],
      "metadata": {
        "id": "rv8_yXnU9zGQ"
      }
    },
    {
      "cell_type": "markdown",
      "source": [
        "### 9.In the context of machine learning, what is training?\n",
        "* The process of iteratively adjusting parameters to minimize loss.\n",
        "* The difference between the predicted and the expected output\n",
        "* The training dataset collection process\n",
        "* The process of memorizing relationships in the data"
      ],
      "metadata": {
        "id": "M_pvmbSjMLRU"
      }
    },
    {
      "cell_type": "markdown",
      "source": [
        "  In the context of machine learning, training is: \"**The process of iteratively adjusting parameters to minimize loss.**\""
      ],
      "metadata": {
        "id": "qWDbbCbaMcav"
      }
    },
    {
      "cell_type": "markdown",
      "source": [
        "\n",
        "\n",
        "---\n",
        "\n"
      ],
      "metadata": {
        "id": "tppJaj7992fN"
      }
    },
    {
      "cell_type": "markdown",
      "source": [
        "### 10.Which of the following statements about training and test datasets is correct?\n",
        "* They are the same.\n",
        "* The training set is used to evaluate the model's performance on new data.\n",
        "* The test set is used to train the model to find patterns in the data.\n",
        "* The test set is used to assess the model's performance on new data."
      ],
      "metadata": {
        "id": "LXIOtnZ3NrVW"
      }
    },
    {
      "cell_type": "markdown",
      "source": [
        "  The correct statement is: \"**The test set is used to assess the model’s performance on new data.**\""
      ],
      "metadata": {
        "id": "5xdihuqyOM7z"
      }
    },
    {
      "cell_type": "markdown",
      "source": [
        "\n",
        "\n",
        "---\n",
        "\n"
      ],
      "metadata": {
        "id": "o9IL9RSr95KP"
      }
    },
    {
      "cell_type": "markdown",
      "source": [
        "# Regression"
      ],
      "metadata": {
        "id": "8GCoejz8PFhX"
      }
    },
    {
      "cell_type": "code",
      "source": [
        "import pandas as pd"
      ],
      "metadata": {
        "id": "EoNGogQwPduX"
      },
      "execution_count": null,
      "outputs": []
    },
    {
      "cell_type": "code",
      "source": [
        "from google.colab import files\n",
        "uploaded = files.upload()"
      ],
      "metadata": {
        "colab": {
          "base_uri": "https://localhost:8080/",
          "height": 107
        },
        "id": "JRuSEdiPReMa",
        "outputId": "5001f020-c21f-4c7e-851c-b9c87bcd6a7e"
      },
      "execution_count": null,
      "outputs": [
        {
          "output_type": "display_data",
          "data": {
            "text/plain": [
              "<IPython.core.display.HTML object>"
            ],
            "text/html": [
              "\n",
              "     <input type=\"file\" id=\"files-b9e5328d-b231-4d2f-8490-8c418e25a407\" name=\"files[]\" multiple disabled\n",
              "        style=\"border:none\" />\n",
              "     <output id=\"result-b9e5328d-b231-4d2f-8490-8c418e25a407\">\n",
              "      Upload widget is only available when the cell has been executed in the\n",
              "      current browser session. Please rerun this cell to enable.\n",
              "      </output>\n",
              "      <script>// Copyright 2017 Google LLC\n",
              "//\n",
              "// Licensed under the Apache License, Version 2.0 (the \"License\");\n",
              "// you may not use this file except in compliance with the License.\n",
              "// You may obtain a copy of the License at\n",
              "//\n",
              "//      http://www.apache.org/licenses/LICENSE-2.0\n",
              "//\n",
              "// Unless required by applicable law or agreed to in writing, software\n",
              "// distributed under the License is distributed on an \"AS IS\" BASIS,\n",
              "// WITHOUT WARRANTIES OR CONDITIONS OF ANY KIND, either express or implied.\n",
              "// See the License for the specific language governing permissions and\n",
              "// limitations under the License.\n",
              "\n",
              "/**\n",
              " * @fileoverview Helpers for google.colab Python module.\n",
              " */\n",
              "(function(scope) {\n",
              "function span(text, styleAttributes = {}) {\n",
              "  const element = document.createElement('span');\n",
              "  element.textContent = text;\n",
              "  for (const key of Object.keys(styleAttributes)) {\n",
              "    element.style[key] = styleAttributes[key];\n",
              "  }\n",
              "  return element;\n",
              "}\n",
              "\n",
              "// Max number of bytes which will be uploaded at a time.\n",
              "const MAX_PAYLOAD_SIZE = 100 * 1024;\n",
              "\n",
              "function _uploadFiles(inputId, outputId) {\n",
              "  const steps = uploadFilesStep(inputId, outputId);\n",
              "  const outputElement = document.getElementById(outputId);\n",
              "  // Cache steps on the outputElement to make it available for the next call\n",
              "  // to uploadFilesContinue from Python.\n",
              "  outputElement.steps = steps;\n",
              "\n",
              "  return _uploadFilesContinue(outputId);\n",
              "}\n",
              "\n",
              "// This is roughly an async generator (not supported in the browser yet),\n",
              "// where there are multiple asynchronous steps and the Python side is going\n",
              "// to poll for completion of each step.\n",
              "// This uses a Promise to block the python side on completion of each step,\n",
              "// then passes the result of the previous step as the input to the next step.\n",
              "function _uploadFilesContinue(outputId) {\n",
              "  const outputElement = document.getElementById(outputId);\n",
              "  const steps = outputElement.steps;\n",
              "\n",
              "  const next = steps.next(outputElement.lastPromiseValue);\n",
              "  return Promise.resolve(next.value.promise).then((value) => {\n",
              "    // Cache the last promise value to make it available to the next\n",
              "    // step of the generator.\n",
              "    outputElement.lastPromiseValue = value;\n",
              "    return next.value.response;\n",
              "  });\n",
              "}\n",
              "\n",
              "/**\n",
              " * Generator function which is called between each async step of the upload\n",
              " * process.\n",
              " * @param {string} inputId Element ID of the input file picker element.\n",
              " * @param {string} outputId Element ID of the output display.\n",
              " * @return {!Iterable<!Object>} Iterable of next steps.\n",
              " */\n",
              "function* uploadFilesStep(inputId, outputId) {\n",
              "  const inputElement = document.getElementById(inputId);\n",
              "  inputElement.disabled = false;\n",
              "\n",
              "  const outputElement = document.getElementById(outputId);\n",
              "  outputElement.innerHTML = '';\n",
              "\n",
              "  const pickedPromise = new Promise((resolve) => {\n",
              "    inputElement.addEventListener('change', (e) => {\n",
              "      resolve(e.target.files);\n",
              "    });\n",
              "  });\n",
              "\n",
              "  const cancel = document.createElement('button');\n",
              "  inputElement.parentElement.appendChild(cancel);\n",
              "  cancel.textContent = 'Cancel upload';\n",
              "  const cancelPromise = new Promise((resolve) => {\n",
              "    cancel.onclick = () => {\n",
              "      resolve(null);\n",
              "    };\n",
              "  });\n",
              "\n",
              "  // Wait for the user to pick the files.\n",
              "  const files = yield {\n",
              "    promise: Promise.race([pickedPromise, cancelPromise]),\n",
              "    response: {\n",
              "      action: 'starting',\n",
              "    }\n",
              "  };\n",
              "\n",
              "  cancel.remove();\n",
              "\n",
              "  // Disable the input element since further picks are not allowed.\n",
              "  inputElement.disabled = true;\n",
              "\n",
              "  if (!files) {\n",
              "    return {\n",
              "      response: {\n",
              "        action: 'complete',\n",
              "      }\n",
              "    };\n",
              "  }\n",
              "\n",
              "  for (const file of files) {\n",
              "    const li = document.createElement('li');\n",
              "    li.append(span(file.name, {fontWeight: 'bold'}));\n",
              "    li.append(span(\n",
              "        `(${file.type || 'n/a'}) - ${file.size} bytes, ` +\n",
              "        `last modified: ${\n",
              "            file.lastModifiedDate ? file.lastModifiedDate.toLocaleDateString() :\n",
              "                                    'n/a'} - `));\n",
              "    const percent = span('0% done');\n",
              "    li.appendChild(percent);\n",
              "\n",
              "    outputElement.appendChild(li);\n",
              "\n",
              "    const fileDataPromise = new Promise((resolve) => {\n",
              "      const reader = new FileReader();\n",
              "      reader.onload = (e) => {\n",
              "        resolve(e.target.result);\n",
              "      };\n",
              "      reader.readAsArrayBuffer(file);\n",
              "    });\n",
              "    // Wait for the data to be ready.\n",
              "    let fileData = yield {\n",
              "      promise: fileDataPromise,\n",
              "      response: {\n",
              "        action: 'continue',\n",
              "      }\n",
              "    };\n",
              "\n",
              "    // Use a chunked sending to avoid message size limits. See b/62115660.\n",
              "    let position = 0;\n",
              "    do {\n",
              "      const length = Math.min(fileData.byteLength - position, MAX_PAYLOAD_SIZE);\n",
              "      const chunk = new Uint8Array(fileData, position, length);\n",
              "      position += length;\n",
              "\n",
              "      const base64 = btoa(String.fromCharCode.apply(null, chunk));\n",
              "      yield {\n",
              "        response: {\n",
              "          action: 'append',\n",
              "          file: file.name,\n",
              "          data: base64,\n",
              "        },\n",
              "      };\n",
              "\n",
              "      let percentDone = fileData.byteLength === 0 ?\n",
              "          100 :\n",
              "          Math.round((position / fileData.byteLength) * 100);\n",
              "      percent.textContent = `${percentDone}% done`;\n",
              "\n",
              "    } while (position < fileData.byteLength);\n",
              "  }\n",
              "\n",
              "  // All done.\n",
              "  yield {\n",
              "    response: {\n",
              "      action: 'complete',\n",
              "    }\n",
              "  };\n",
              "}\n",
              "\n",
              "scope.google = scope.google || {};\n",
              "scope.google.colab = scope.google.colab || {};\n",
              "scope.google.colab._files = {\n",
              "  _uploadFiles,\n",
              "  _uploadFilesContinue,\n",
              "};\n",
              "})(self);\n",
              "</script> "
            ]
          },
          "metadata": {}
        },
        {
          "output_type": "stream",
          "name": "stdout",
          "text": [
            "Saving test.csv to test.csv\n",
            "Saving train.csv to train.csv\n"
          ]
        }
      ]
    },
    {
      "cell_type": "code",
      "source": [
        "# The code line are used to read data from CSV files into pandas DataFrames.\n",
        "train = pd.read_csv('train.csv')\n",
        "test = pd.read_csv('test.csv')"
      ],
      "metadata": {
        "id": "Zh0ZvecRPh0n"
      },
      "execution_count": null,
      "outputs": []
    },
    {
      "cell_type": "code",
      "source": [
        "# This line of code will display the names of all the columns in the DataFrame \"train\"\n",
        "train.columns"
      ],
      "metadata": {
        "colab": {
          "base_uri": "https://localhost:8080/"
        },
        "id": "FCAvrK7lRmXr",
        "outputId": "1934cbe7-5a00-4415-de2e-72af484ddf28"
      },
      "execution_count": null,
      "outputs": [
        {
          "output_type": "execute_result",
          "data": {
            "text/plain": [
              "Index(['OverallQual', 'YearBuilt', 'YearRemodAdd', 'TotalBsmtSF', '1stFlrSF',\n",
              "       'GrLivArea', 'FullBath', 'TotRmsAbvGrd', 'GarageCars', 'GarageArea',\n",
              "       'SalePrice', 'ExterQual_TA', 'Foundation_PConc', 'KitchenQual_TA'],\n",
              "      dtype='object')"
            ]
          },
          "metadata": {},
          "execution_count": 4
        }
      ]
    },
    {
      "cell_type": "code",
      "source": [
        "# This line of code imports the LinearRegression class from the sklearn.linear_model module.\n",
        "from sklearn.linear_model import LinearRegression"
      ],
      "metadata": {
        "id": "xYyGRdrvRqYL"
      },
      "execution_count": null,
      "outputs": []
    },
    {
      "cell_type": "code",
      "source": [
        "model = LinearRegression()"
      ],
      "metadata": {
        "id": "FQBqGNhMRwRK"
      },
      "execution_count": null,
      "outputs": []
    },
    {
      "cell_type": "code",
      "source": [
        "# These lines of code are used to prepare the features and target variable for training a machine learning model:\n",
        "X_train = train.drop('SalePrice', axis = 1)\n",
        "y_train = train.loc[:, 'SalePrice']"
      ],
      "metadata": {
        "id": "QkEkBS38R0lS"
      },
      "execution_count": null,
      "outputs": []
    },
    {
      "cell_type": "code",
      "source": [
        "'''\n",
        "* X_train = train.drop('SalePrice', axis=1):\n",
        "\n",
        "  train.drop('SalePrice', axis=1): This part of the code removes the SalePrice column from the train DataFrame. The axis=1 argument specifies that a column (not a row) is being dropped.\n",
        "\n",
        "  X_train: This variable stores the DataFrame resulting from the removal of the SalePrice column. It contains all the feature columns that will be used to train the model. X_train is used as the input data for the model.\n",
        "\n",
        "\n",
        "* y_train = train.loc[:, 'SalePrice']:\n",
        "\n",
        "  train.loc[:, 'SalePrice']: This part selects the SalePrice column from the train DataFrame. The loc method is used for label-based indexing, where : indicates all rows and 'SalePrice' specifies the column to select.\n",
        "\n",
        "  y_train: This variable stores the SalePrice column, which is the target variable or the output that the model aims to predict. y_train is used as the target data for training the model.\n",
        "\n",
        "'''"
      ],
      "metadata": {
        "id": "gKTvM5VFTc43",
        "colab": {
          "base_uri": "https://localhost:8080/",
          "height": 174
        },
        "outputId": "992c8913-8f88-423f-eefa-82f5fe482e52"
      },
      "execution_count": null,
      "outputs": [
        {
          "output_type": "execute_result",
          "data": {
            "text/plain": [
              "\"\\n* X_train = train.drop('SalePrice', axis=1):\\n\\n  train.drop('SalePrice', axis=1): This part of the code removes the SalePrice column from the train DataFrame. The axis=1 argument specifies that a column (not a row) is being dropped.\\n\\n  X_train: This variable stores the DataFrame resulting from the removal of the SalePrice column. It contains all the feature columns that will be used to train the model. X_train is used as the input data for the model.\\n\\n\\n* y_train = train.loc[:, 'SalePrice']:\\n\\n  train.loc[:, 'SalePrice']: This part selects the SalePrice column from the train DataFrame. The loc method is used for label-based indexing, where : indicates all rows and 'SalePrice' specifies the column to select.\\n\\n  y_train: This variable stores the SalePrice column, which is the target variable or the output that the model aims to predict. y_train is used as the target data for training the model.\\n\\n\""
            ],
            "application/vnd.google.colaboratory.intrinsic+json": {
              "type": "string"
            }
          },
          "metadata": {},
          "execution_count": 8
        }
      ]
    },
    {
      "cell_type": "code",
      "source": [
        "# This code is used to train a machine learning model.\n",
        "model.fit(X_train,y_train)"
      ],
      "metadata": {
        "colab": {
          "base_uri": "https://localhost:8080/",
          "height": 75
        },
        "id": "wtGQYK-EXkpS",
        "outputId": "9a9c5ff5-5aef-4162-b593-57b6190f86c0"
      },
      "execution_count": null,
      "outputs": [
        {
          "output_type": "execute_result",
          "data": {
            "text/plain": [
              "LinearRegression()"
            ],
            "text/html": [
              "<style>#sk-container-id-1 {color: black;}#sk-container-id-1 pre{padding: 0;}#sk-container-id-1 div.sk-toggleable {background-color: white;}#sk-container-id-1 label.sk-toggleable__label {cursor: pointer;display: block;width: 100%;margin-bottom: 0;padding: 0.3em;box-sizing: border-box;text-align: center;}#sk-container-id-1 label.sk-toggleable__label-arrow:before {content: \"▸\";float: left;margin-right: 0.25em;color: #696969;}#sk-container-id-1 label.sk-toggleable__label-arrow:hover:before {color: black;}#sk-container-id-1 div.sk-estimator:hover label.sk-toggleable__label-arrow:before {color: black;}#sk-container-id-1 div.sk-toggleable__content {max-height: 0;max-width: 0;overflow: hidden;text-align: left;background-color: #f0f8ff;}#sk-container-id-1 div.sk-toggleable__content pre {margin: 0.2em;color: black;border-radius: 0.25em;background-color: #f0f8ff;}#sk-container-id-1 input.sk-toggleable__control:checked~div.sk-toggleable__content {max-height: 200px;max-width: 100%;overflow: auto;}#sk-container-id-1 input.sk-toggleable__control:checked~label.sk-toggleable__label-arrow:before {content: \"▾\";}#sk-container-id-1 div.sk-estimator input.sk-toggleable__control:checked~label.sk-toggleable__label {background-color: #d4ebff;}#sk-container-id-1 div.sk-label input.sk-toggleable__control:checked~label.sk-toggleable__label {background-color: #d4ebff;}#sk-container-id-1 input.sk-hidden--visually {border: 0;clip: rect(1px 1px 1px 1px);clip: rect(1px, 1px, 1px, 1px);height: 1px;margin: -1px;overflow: hidden;padding: 0;position: absolute;width: 1px;}#sk-container-id-1 div.sk-estimator {font-family: monospace;background-color: #f0f8ff;border: 1px dotted black;border-radius: 0.25em;box-sizing: border-box;margin-bottom: 0.5em;}#sk-container-id-1 div.sk-estimator:hover {background-color: #d4ebff;}#sk-container-id-1 div.sk-parallel-item::after {content: \"\";width: 100%;border-bottom: 1px solid gray;flex-grow: 1;}#sk-container-id-1 div.sk-label:hover label.sk-toggleable__label {background-color: #d4ebff;}#sk-container-id-1 div.sk-serial::before {content: \"\";position: absolute;border-left: 1px solid gray;box-sizing: border-box;top: 0;bottom: 0;left: 50%;z-index: 0;}#sk-container-id-1 div.sk-serial {display: flex;flex-direction: column;align-items: center;background-color: white;padding-right: 0.2em;padding-left: 0.2em;position: relative;}#sk-container-id-1 div.sk-item {position: relative;z-index: 1;}#sk-container-id-1 div.sk-parallel {display: flex;align-items: stretch;justify-content: center;background-color: white;position: relative;}#sk-container-id-1 div.sk-item::before, #sk-container-id-1 div.sk-parallel-item::before {content: \"\";position: absolute;border-left: 1px solid gray;box-sizing: border-box;top: 0;bottom: 0;left: 50%;z-index: -1;}#sk-container-id-1 div.sk-parallel-item {display: flex;flex-direction: column;z-index: 1;position: relative;background-color: white;}#sk-container-id-1 div.sk-parallel-item:first-child::after {align-self: flex-end;width: 50%;}#sk-container-id-1 div.sk-parallel-item:last-child::after {align-self: flex-start;width: 50%;}#sk-container-id-1 div.sk-parallel-item:only-child::after {width: 0;}#sk-container-id-1 div.sk-dashed-wrapped {border: 1px dashed gray;margin: 0 0.4em 0.5em 0.4em;box-sizing: border-box;padding-bottom: 0.4em;background-color: white;}#sk-container-id-1 div.sk-label label {font-family: monospace;font-weight: bold;display: inline-block;line-height: 1.2em;}#sk-container-id-1 div.sk-label-container {text-align: center;}#sk-container-id-1 div.sk-container {/* jupyter's `normalize.less` sets `[hidden] { display: none; }` but bootstrap.min.css set `[hidden] { display: none !important; }` so we also need the `!important` here to be able to override the default hidden behavior on the sphinx rendered scikit-learn.org. See: https://github.com/scikit-learn/scikit-learn/issues/21755 */display: inline-block !important;position: relative;}#sk-container-id-1 div.sk-text-repr-fallback {display: none;}</style><div id=\"sk-container-id-1\" class=\"sk-top-container\"><div class=\"sk-text-repr-fallback\"><pre>LinearRegression()</pre><b>In a Jupyter environment, please rerun this cell to show the HTML representation or trust the notebook. <br />On GitHub, the HTML representation is unable to render, please try loading this page with nbviewer.org.</b></div><div class=\"sk-container\" hidden><div class=\"sk-item\"><div class=\"sk-estimator sk-toggleable\"><input class=\"sk-toggleable__control sk-hidden--visually\" id=\"sk-estimator-id-1\" type=\"checkbox\" checked><label for=\"sk-estimator-id-1\" class=\"sk-toggleable__label sk-toggleable__label-arrow\">LinearRegression</label><div class=\"sk-toggleable__content\"><pre>LinearRegression()</pre></div></div></div></div></div>"
            ]
          },
          "metadata": {},
          "execution_count": 9
        }
      ]
    },
    {
      "cell_type": "code",
      "source": [
        "# X_test contains the test data's input features (without the SalePrice column), which the model will use to make predictions.\n",
        "#y_test contains the actual values of the SalePrice column, which will be used to compare the model's predictions to the actual data during evaulation.\n",
        "\n",
        "X_test = test.drop('SalePrice', axis=1)\n",
        "y_test = test.loc[:,'SalePrice']"
      ],
      "metadata": {
        "id": "X1NzGgiXXtI6"
      },
      "execution_count": null,
      "outputs": []
    },
    {
      "cell_type": "code",
      "source": [
        "# The code is used to generate predictions using a trained machine learning model.\n",
        "# This code generates predictions for the X_test data by applying the trained model. The results are stored in the predictions variable, which contains the model’s output for each row in X_test.\n",
        "predictions = model.predict(X_test)"
      ],
      "metadata": {
        "id": "noB6vhPQX1wS"
      },
      "execution_count": null,
      "outputs": []
    },
    {
      "cell_type": "code",
      "source": [
        "# mean_squared_error helps you calculate how far your predictions are from actual values on average, and\n",
        "# sqrt can help convert that into RMSE for easier interpretation.\n",
        "from sklearn.metrics import mean_squared_error\n",
        "from numpy import sqrt"
      ],
      "metadata": {
        "id": "rU9QP57eX4xR"
      },
      "execution_count": null,
      "outputs": []
    },
    {
      "cell_type": "code",
      "source": [
        "# The code, calculates the Root Mean Squared Error (RMSE) between the actual values (y_test) and the predicted values (predictions).\n",
        "rmse = sqrt(mean_squared_error(y_test, predictions))\n",
        "rmse"
      ],
      "metadata": {
        "colab": {
          "base_uri": "https://localhost:8080/"
        },
        "id": "FY9pyuWmX_Aq",
        "outputId": "86b36d9b-6bf0-45e3-c334-44f6881d7213"
      },
      "execution_count": null,
      "outputs": [
        {
          "output_type": "execute_result",
          "data": {
            "text/plain": [
              "33186.384172367696"
            ]
          },
          "metadata": {},
          "execution_count": 13
        }
      ]
    },
    {
      "cell_type": "code",
      "source": [
        "# This code creates a DataFrame that displays actual vs. predicted values, allowing you to visually compare them to understand model performance.\n",
        "comparison = pd.DataFrame({'Actual Values': y_test, 'Predictions': predictions})\n",
        "\n",
        "# This shows the first five rows of the comparison DataFrame, helping to quickly inspect how well the predictions align with the actual values.\n",
        "comparison.head()"
      ],
      "metadata": {
        "colab": {
          "base_uri": "https://localhost:8080/",
          "height": 206
        },
        "id": "ViAwlyAEYDuS",
        "outputId": "c03aca46-e009-4f3c-a2c3-4266a7a9e5fe"
      },
      "execution_count": null,
      "outputs": [
        {
          "output_type": "execute_result",
          "data": {
            "text/plain": [
              "   Actual Values    Predictions\n",
              "0         118500   83380.944694\n",
              "1         154900  105974.149765\n",
              "2         133000  139238.138343\n",
              "3         115000  104982.049557\n",
              "4         154500  140473.360146"
            ],
            "text/html": [
              "\n",
              "  <div id=\"df-b6e2e38a-2b42-4510-adc4-50c07abf238e\" class=\"colab-df-container\">\n",
              "    <div>\n",
              "<style scoped>\n",
              "    .dataframe tbody tr th:only-of-type {\n",
              "        vertical-align: middle;\n",
              "    }\n",
              "\n",
              "    .dataframe tbody tr th {\n",
              "        vertical-align: top;\n",
              "    }\n",
              "\n",
              "    .dataframe thead th {\n",
              "        text-align: right;\n",
              "    }\n",
              "</style>\n",
              "<table border=\"1\" class=\"dataframe\">\n",
              "  <thead>\n",
              "    <tr style=\"text-align: right;\">\n",
              "      <th></th>\n",
              "      <th>Actual Values</th>\n",
              "      <th>Predictions</th>\n",
              "    </tr>\n",
              "  </thead>\n",
              "  <tbody>\n",
              "    <tr>\n",
              "      <th>0</th>\n",
              "      <td>118500</td>\n",
              "      <td>83380.944694</td>\n",
              "    </tr>\n",
              "    <tr>\n",
              "      <th>1</th>\n",
              "      <td>154900</td>\n",
              "      <td>105974.149765</td>\n",
              "    </tr>\n",
              "    <tr>\n",
              "      <th>2</th>\n",
              "      <td>133000</td>\n",
              "      <td>139238.138343</td>\n",
              "    </tr>\n",
              "    <tr>\n",
              "      <th>3</th>\n",
              "      <td>115000</td>\n",
              "      <td>104982.049557</td>\n",
              "    </tr>\n",
              "    <tr>\n",
              "      <th>4</th>\n",
              "      <td>154500</td>\n",
              "      <td>140473.360146</td>\n",
              "    </tr>\n",
              "  </tbody>\n",
              "</table>\n",
              "</div>\n",
              "    <div class=\"colab-df-buttons\">\n",
              "\n",
              "  <div class=\"colab-df-container\">\n",
              "    <button class=\"colab-df-convert\" onclick=\"convertToInteractive('df-b6e2e38a-2b42-4510-adc4-50c07abf238e')\"\n",
              "            title=\"Convert this dataframe to an interactive table.\"\n",
              "            style=\"display:none;\">\n",
              "\n",
              "  <svg xmlns=\"http://www.w3.org/2000/svg\" height=\"24px\" viewBox=\"0 -960 960 960\">\n",
              "    <path d=\"M120-120v-720h720v720H120Zm60-500h600v-160H180v160Zm220 220h160v-160H400v160Zm0 220h160v-160H400v160ZM180-400h160v-160H180v160Zm440 0h160v-160H620v160ZM180-180h160v-160H180v160Zm440 0h160v-160H620v160Z\"/>\n",
              "  </svg>\n",
              "    </button>\n",
              "\n",
              "  <style>\n",
              "    .colab-df-container {\n",
              "      display:flex;\n",
              "      gap: 12px;\n",
              "    }\n",
              "\n",
              "    .colab-df-convert {\n",
              "      background-color: #E8F0FE;\n",
              "      border: none;\n",
              "      border-radius: 50%;\n",
              "      cursor: pointer;\n",
              "      display: none;\n",
              "      fill: #1967D2;\n",
              "      height: 32px;\n",
              "      padding: 0 0 0 0;\n",
              "      width: 32px;\n",
              "    }\n",
              "\n",
              "    .colab-df-convert:hover {\n",
              "      background-color: #E2EBFA;\n",
              "      box-shadow: 0px 1px 2px rgba(60, 64, 67, 0.3), 0px 1px 3px 1px rgba(60, 64, 67, 0.15);\n",
              "      fill: #174EA6;\n",
              "    }\n",
              "\n",
              "    .colab-df-buttons div {\n",
              "      margin-bottom: 4px;\n",
              "    }\n",
              "\n",
              "    [theme=dark] .colab-df-convert {\n",
              "      background-color: #3B4455;\n",
              "      fill: #D2E3FC;\n",
              "    }\n",
              "\n",
              "    [theme=dark] .colab-df-convert:hover {\n",
              "      background-color: #434B5C;\n",
              "      box-shadow: 0px 1px 3px 1px rgba(0, 0, 0, 0.15);\n",
              "      filter: drop-shadow(0px 1px 2px rgba(0, 0, 0, 0.3));\n",
              "      fill: #FFFFFF;\n",
              "    }\n",
              "  </style>\n",
              "\n",
              "    <script>\n",
              "      const buttonEl =\n",
              "        document.querySelector('#df-b6e2e38a-2b42-4510-adc4-50c07abf238e button.colab-df-convert');\n",
              "      buttonEl.style.display =\n",
              "        google.colab.kernel.accessAllowed ? 'block' : 'none';\n",
              "\n",
              "      async function convertToInteractive(key) {\n",
              "        const element = document.querySelector('#df-b6e2e38a-2b42-4510-adc4-50c07abf238e');\n",
              "        const dataTable =\n",
              "          await google.colab.kernel.invokeFunction('convertToInteractive',\n",
              "                                                    [key], {});\n",
              "        if (!dataTable) return;\n",
              "\n",
              "        const docLinkHtml = 'Like what you see? Visit the ' +\n",
              "          '<a target=\"_blank\" href=https://colab.research.google.com/notebooks/data_table.ipynb>data table notebook</a>'\n",
              "          + ' to learn more about interactive tables.';\n",
              "        element.innerHTML = '';\n",
              "        dataTable['output_type'] = 'display_data';\n",
              "        await google.colab.output.renderOutput(dataTable, element);\n",
              "        const docLink = document.createElement('div');\n",
              "        docLink.innerHTML = docLinkHtml;\n",
              "        element.appendChild(docLink);\n",
              "      }\n",
              "    </script>\n",
              "  </div>\n",
              "\n",
              "\n",
              "<div id=\"df-3643d368-410c-4f9c-981f-ac23984c902f\">\n",
              "  <button class=\"colab-df-quickchart\" onclick=\"quickchart('df-3643d368-410c-4f9c-981f-ac23984c902f')\"\n",
              "            title=\"Suggest charts\"\n",
              "            style=\"display:none;\">\n",
              "\n",
              "<svg xmlns=\"http://www.w3.org/2000/svg\" height=\"24px\"viewBox=\"0 0 24 24\"\n",
              "     width=\"24px\">\n",
              "    <g>\n",
              "        <path d=\"M19 3H5c-1.1 0-2 .9-2 2v14c0 1.1.9 2 2 2h14c1.1 0 2-.9 2-2V5c0-1.1-.9-2-2-2zM9 17H7v-7h2v7zm4 0h-2V7h2v10zm4 0h-2v-4h2v4z\"/>\n",
              "    </g>\n",
              "</svg>\n",
              "  </button>\n",
              "\n",
              "<style>\n",
              "  .colab-df-quickchart {\n",
              "      --bg-color: #E8F0FE;\n",
              "      --fill-color: #1967D2;\n",
              "      --hover-bg-color: #E2EBFA;\n",
              "      --hover-fill-color: #174EA6;\n",
              "      --disabled-fill-color: #AAA;\n",
              "      --disabled-bg-color: #DDD;\n",
              "  }\n",
              "\n",
              "  [theme=dark] .colab-df-quickchart {\n",
              "      --bg-color: #3B4455;\n",
              "      --fill-color: #D2E3FC;\n",
              "      --hover-bg-color: #434B5C;\n",
              "      --hover-fill-color: #FFFFFF;\n",
              "      --disabled-bg-color: #3B4455;\n",
              "      --disabled-fill-color: #666;\n",
              "  }\n",
              "\n",
              "  .colab-df-quickchart {\n",
              "    background-color: var(--bg-color);\n",
              "    border: none;\n",
              "    border-radius: 50%;\n",
              "    cursor: pointer;\n",
              "    display: none;\n",
              "    fill: var(--fill-color);\n",
              "    height: 32px;\n",
              "    padding: 0;\n",
              "    width: 32px;\n",
              "  }\n",
              "\n",
              "  .colab-df-quickchart:hover {\n",
              "    background-color: var(--hover-bg-color);\n",
              "    box-shadow: 0 1px 2px rgba(60, 64, 67, 0.3), 0 1px 3px 1px rgba(60, 64, 67, 0.15);\n",
              "    fill: var(--button-hover-fill-color);\n",
              "  }\n",
              "\n",
              "  .colab-df-quickchart-complete:disabled,\n",
              "  .colab-df-quickchart-complete:disabled:hover {\n",
              "    background-color: var(--disabled-bg-color);\n",
              "    fill: var(--disabled-fill-color);\n",
              "    box-shadow: none;\n",
              "  }\n",
              "\n",
              "  .colab-df-spinner {\n",
              "    border: 2px solid var(--fill-color);\n",
              "    border-color: transparent;\n",
              "    border-bottom-color: var(--fill-color);\n",
              "    animation:\n",
              "      spin 1s steps(1) infinite;\n",
              "  }\n",
              "\n",
              "  @keyframes spin {\n",
              "    0% {\n",
              "      border-color: transparent;\n",
              "      border-bottom-color: var(--fill-color);\n",
              "      border-left-color: var(--fill-color);\n",
              "    }\n",
              "    20% {\n",
              "      border-color: transparent;\n",
              "      border-left-color: var(--fill-color);\n",
              "      border-top-color: var(--fill-color);\n",
              "    }\n",
              "    30% {\n",
              "      border-color: transparent;\n",
              "      border-left-color: var(--fill-color);\n",
              "      border-top-color: var(--fill-color);\n",
              "      border-right-color: var(--fill-color);\n",
              "    }\n",
              "    40% {\n",
              "      border-color: transparent;\n",
              "      border-right-color: var(--fill-color);\n",
              "      border-top-color: var(--fill-color);\n",
              "    }\n",
              "    60% {\n",
              "      border-color: transparent;\n",
              "      border-right-color: var(--fill-color);\n",
              "    }\n",
              "    80% {\n",
              "      border-color: transparent;\n",
              "      border-right-color: var(--fill-color);\n",
              "      border-bottom-color: var(--fill-color);\n",
              "    }\n",
              "    90% {\n",
              "      border-color: transparent;\n",
              "      border-bottom-color: var(--fill-color);\n",
              "    }\n",
              "  }\n",
              "</style>\n",
              "\n",
              "  <script>\n",
              "    async function quickchart(key) {\n",
              "      const quickchartButtonEl =\n",
              "        document.querySelector('#' + key + ' button');\n",
              "      quickchartButtonEl.disabled = true;  // To prevent multiple clicks.\n",
              "      quickchartButtonEl.classList.add('colab-df-spinner');\n",
              "      try {\n",
              "        const charts = await google.colab.kernel.invokeFunction(\n",
              "            'suggestCharts', [key], {});\n",
              "      } catch (error) {\n",
              "        console.error('Error during call to suggestCharts:', error);\n",
              "      }\n",
              "      quickchartButtonEl.classList.remove('colab-df-spinner');\n",
              "      quickchartButtonEl.classList.add('colab-df-quickchart-complete');\n",
              "    }\n",
              "    (() => {\n",
              "      let quickchartButtonEl =\n",
              "        document.querySelector('#df-3643d368-410c-4f9c-981f-ac23984c902f button');\n",
              "      quickchartButtonEl.style.display =\n",
              "        google.colab.kernel.accessAllowed ? 'block' : 'none';\n",
              "    })();\n",
              "  </script>\n",
              "</div>\n",
              "\n",
              "    </div>\n",
              "  </div>\n"
            ],
            "application/vnd.google.colaboratory.intrinsic+json": {
              "type": "dataframe",
              "variable_name": "comparison",
              "summary": "{\n  \"name\": \"comparison\",\n  \"rows\": 329,\n  \"fields\": [\n    {\n      \"column\": \"Actual Values\",\n      \"properties\": {\n        \"dtype\": \"number\",\n        \"std\": 73958,\n        \"min\": 35311,\n        \"max\": 501837,\n        \"num_unique_values\": 241,\n        \"samples\": [\n          174000,\n          125500,\n          215200\n        ],\n        \"semantic_type\": \"\",\n        \"description\": \"\"\n      }\n    },\n    {\n      \"column\": \"Predictions\",\n      \"properties\": {\n        \"dtype\": \"number\",\n        \"std\": 69824.51968975221,\n        \"min\": -5972.640442703734,\n        \"max\": 379114.08694789896,\n        \"num_unique_values\": 329,\n        \"samples\": [\n          284836.6037503049,\n          232881.31740875554,\n          257980.9401694351\n        ],\n        \"semantic_type\": \"\",\n        \"description\": \"\"\n      }\n    }\n  ]\n}"
            }
          },
          "metadata": {},
          "execution_count": 14
        }
      ]
    },
    {
      "cell_type": "code",
      "source": [
        "# This method provides a view of the final five rows of the DataFrame. It’s useful for inspecting the end of the dataset to check how well the model's predictions match the actual values for the last entries.\n",
        "comparison.tail()"
      ],
      "metadata": {
        "colab": {
          "base_uri": "https://localhost:8080/",
          "height": 206
        },
        "id": "HcG-6t-KYJ3K",
        "outputId": "38a8a2db-7b33-4bf1-ca47-7416a0d73e8f"
      },
      "execution_count": null,
      "outputs": [
        {
          "output_type": "execute_result",
          "data": {
            "text/plain": [
              "     Actual Values    Predictions\n",
              "324         132250  102816.796295\n",
              "325         123000  121698.649065\n",
              "326         316600  271745.844407\n",
              "327         142000  131258.275591\n",
              "328         250000  263005.372419"
            ],
            "text/html": [
              "\n",
              "  <div id=\"df-16cfa0ea-2ac7-4bde-8a9c-b216ce9377e9\" class=\"colab-df-container\">\n",
              "    <div>\n",
              "<style scoped>\n",
              "    .dataframe tbody tr th:only-of-type {\n",
              "        vertical-align: middle;\n",
              "    }\n",
              "\n",
              "    .dataframe tbody tr th {\n",
              "        vertical-align: top;\n",
              "    }\n",
              "\n",
              "    .dataframe thead th {\n",
              "        text-align: right;\n",
              "    }\n",
              "</style>\n",
              "<table border=\"1\" class=\"dataframe\">\n",
              "  <thead>\n",
              "    <tr style=\"text-align: right;\">\n",
              "      <th></th>\n",
              "      <th>Actual Values</th>\n",
              "      <th>Predictions</th>\n",
              "    </tr>\n",
              "  </thead>\n",
              "  <tbody>\n",
              "    <tr>\n",
              "      <th>324</th>\n",
              "      <td>132250</td>\n",
              "      <td>102816.796295</td>\n",
              "    </tr>\n",
              "    <tr>\n",
              "      <th>325</th>\n",
              "      <td>123000</td>\n",
              "      <td>121698.649065</td>\n",
              "    </tr>\n",
              "    <tr>\n",
              "      <th>326</th>\n",
              "      <td>316600</td>\n",
              "      <td>271745.844407</td>\n",
              "    </tr>\n",
              "    <tr>\n",
              "      <th>327</th>\n",
              "      <td>142000</td>\n",
              "      <td>131258.275591</td>\n",
              "    </tr>\n",
              "    <tr>\n",
              "      <th>328</th>\n",
              "      <td>250000</td>\n",
              "      <td>263005.372419</td>\n",
              "    </tr>\n",
              "  </tbody>\n",
              "</table>\n",
              "</div>\n",
              "    <div class=\"colab-df-buttons\">\n",
              "\n",
              "  <div class=\"colab-df-container\">\n",
              "    <button class=\"colab-df-convert\" onclick=\"convertToInteractive('df-16cfa0ea-2ac7-4bde-8a9c-b216ce9377e9')\"\n",
              "            title=\"Convert this dataframe to an interactive table.\"\n",
              "            style=\"display:none;\">\n",
              "\n",
              "  <svg xmlns=\"http://www.w3.org/2000/svg\" height=\"24px\" viewBox=\"0 -960 960 960\">\n",
              "    <path d=\"M120-120v-720h720v720H120Zm60-500h600v-160H180v160Zm220 220h160v-160H400v160Zm0 220h160v-160H400v160ZM180-400h160v-160H180v160Zm440 0h160v-160H620v160ZM180-180h160v-160H180v160Zm440 0h160v-160H620v160Z\"/>\n",
              "  </svg>\n",
              "    </button>\n",
              "\n",
              "  <style>\n",
              "    .colab-df-container {\n",
              "      display:flex;\n",
              "      gap: 12px;\n",
              "    }\n",
              "\n",
              "    .colab-df-convert {\n",
              "      background-color: #E8F0FE;\n",
              "      border: none;\n",
              "      border-radius: 50%;\n",
              "      cursor: pointer;\n",
              "      display: none;\n",
              "      fill: #1967D2;\n",
              "      height: 32px;\n",
              "      padding: 0 0 0 0;\n",
              "      width: 32px;\n",
              "    }\n",
              "\n",
              "    .colab-df-convert:hover {\n",
              "      background-color: #E2EBFA;\n",
              "      box-shadow: 0px 1px 2px rgba(60, 64, 67, 0.3), 0px 1px 3px 1px rgba(60, 64, 67, 0.15);\n",
              "      fill: #174EA6;\n",
              "    }\n",
              "\n",
              "    .colab-df-buttons div {\n",
              "      margin-bottom: 4px;\n",
              "    }\n",
              "\n",
              "    [theme=dark] .colab-df-convert {\n",
              "      background-color: #3B4455;\n",
              "      fill: #D2E3FC;\n",
              "    }\n",
              "\n",
              "    [theme=dark] .colab-df-convert:hover {\n",
              "      background-color: #434B5C;\n",
              "      box-shadow: 0px 1px 3px 1px rgba(0, 0, 0, 0.15);\n",
              "      filter: drop-shadow(0px 1px 2px rgba(0, 0, 0, 0.3));\n",
              "      fill: #FFFFFF;\n",
              "    }\n",
              "  </style>\n",
              "\n",
              "    <script>\n",
              "      const buttonEl =\n",
              "        document.querySelector('#df-16cfa0ea-2ac7-4bde-8a9c-b216ce9377e9 button.colab-df-convert');\n",
              "      buttonEl.style.display =\n",
              "        google.colab.kernel.accessAllowed ? 'block' : 'none';\n",
              "\n",
              "      async function convertToInteractive(key) {\n",
              "        const element = document.querySelector('#df-16cfa0ea-2ac7-4bde-8a9c-b216ce9377e9');\n",
              "        const dataTable =\n",
              "          await google.colab.kernel.invokeFunction('convertToInteractive',\n",
              "                                                    [key], {});\n",
              "        if (!dataTable) return;\n",
              "\n",
              "        const docLinkHtml = 'Like what you see? Visit the ' +\n",
              "          '<a target=\"_blank\" href=https://colab.research.google.com/notebooks/data_table.ipynb>data table notebook</a>'\n",
              "          + ' to learn more about interactive tables.';\n",
              "        element.innerHTML = '';\n",
              "        dataTable['output_type'] = 'display_data';\n",
              "        await google.colab.output.renderOutput(dataTable, element);\n",
              "        const docLink = document.createElement('div');\n",
              "        docLink.innerHTML = docLinkHtml;\n",
              "        element.appendChild(docLink);\n",
              "      }\n",
              "    </script>\n",
              "  </div>\n",
              "\n",
              "\n",
              "<div id=\"df-0c138fa7-b917-4028-beab-448e3d70a3b2\">\n",
              "  <button class=\"colab-df-quickchart\" onclick=\"quickchart('df-0c138fa7-b917-4028-beab-448e3d70a3b2')\"\n",
              "            title=\"Suggest charts\"\n",
              "            style=\"display:none;\">\n",
              "\n",
              "<svg xmlns=\"http://www.w3.org/2000/svg\" height=\"24px\"viewBox=\"0 0 24 24\"\n",
              "     width=\"24px\">\n",
              "    <g>\n",
              "        <path d=\"M19 3H5c-1.1 0-2 .9-2 2v14c0 1.1.9 2 2 2h14c1.1 0 2-.9 2-2V5c0-1.1-.9-2-2-2zM9 17H7v-7h2v7zm4 0h-2V7h2v10zm4 0h-2v-4h2v4z\"/>\n",
              "    </g>\n",
              "</svg>\n",
              "  </button>\n",
              "\n",
              "<style>\n",
              "  .colab-df-quickchart {\n",
              "      --bg-color: #E8F0FE;\n",
              "      --fill-color: #1967D2;\n",
              "      --hover-bg-color: #E2EBFA;\n",
              "      --hover-fill-color: #174EA6;\n",
              "      --disabled-fill-color: #AAA;\n",
              "      --disabled-bg-color: #DDD;\n",
              "  }\n",
              "\n",
              "  [theme=dark] .colab-df-quickchart {\n",
              "      --bg-color: #3B4455;\n",
              "      --fill-color: #D2E3FC;\n",
              "      --hover-bg-color: #434B5C;\n",
              "      --hover-fill-color: #FFFFFF;\n",
              "      --disabled-bg-color: #3B4455;\n",
              "      --disabled-fill-color: #666;\n",
              "  }\n",
              "\n",
              "  .colab-df-quickchart {\n",
              "    background-color: var(--bg-color);\n",
              "    border: none;\n",
              "    border-radius: 50%;\n",
              "    cursor: pointer;\n",
              "    display: none;\n",
              "    fill: var(--fill-color);\n",
              "    height: 32px;\n",
              "    padding: 0;\n",
              "    width: 32px;\n",
              "  }\n",
              "\n",
              "  .colab-df-quickchart:hover {\n",
              "    background-color: var(--hover-bg-color);\n",
              "    box-shadow: 0 1px 2px rgba(60, 64, 67, 0.3), 0 1px 3px 1px rgba(60, 64, 67, 0.15);\n",
              "    fill: var(--button-hover-fill-color);\n",
              "  }\n",
              "\n",
              "  .colab-df-quickchart-complete:disabled,\n",
              "  .colab-df-quickchart-complete:disabled:hover {\n",
              "    background-color: var(--disabled-bg-color);\n",
              "    fill: var(--disabled-fill-color);\n",
              "    box-shadow: none;\n",
              "  }\n",
              "\n",
              "  .colab-df-spinner {\n",
              "    border: 2px solid var(--fill-color);\n",
              "    border-color: transparent;\n",
              "    border-bottom-color: var(--fill-color);\n",
              "    animation:\n",
              "      spin 1s steps(1) infinite;\n",
              "  }\n",
              "\n",
              "  @keyframes spin {\n",
              "    0% {\n",
              "      border-color: transparent;\n",
              "      border-bottom-color: var(--fill-color);\n",
              "      border-left-color: var(--fill-color);\n",
              "    }\n",
              "    20% {\n",
              "      border-color: transparent;\n",
              "      border-left-color: var(--fill-color);\n",
              "      border-top-color: var(--fill-color);\n",
              "    }\n",
              "    30% {\n",
              "      border-color: transparent;\n",
              "      border-left-color: var(--fill-color);\n",
              "      border-top-color: var(--fill-color);\n",
              "      border-right-color: var(--fill-color);\n",
              "    }\n",
              "    40% {\n",
              "      border-color: transparent;\n",
              "      border-right-color: var(--fill-color);\n",
              "      border-top-color: var(--fill-color);\n",
              "    }\n",
              "    60% {\n",
              "      border-color: transparent;\n",
              "      border-right-color: var(--fill-color);\n",
              "    }\n",
              "    80% {\n",
              "      border-color: transparent;\n",
              "      border-right-color: var(--fill-color);\n",
              "      border-bottom-color: var(--fill-color);\n",
              "    }\n",
              "    90% {\n",
              "      border-color: transparent;\n",
              "      border-bottom-color: var(--fill-color);\n",
              "    }\n",
              "  }\n",
              "</style>\n",
              "\n",
              "  <script>\n",
              "    async function quickchart(key) {\n",
              "      const quickchartButtonEl =\n",
              "        document.querySelector('#' + key + ' button');\n",
              "      quickchartButtonEl.disabled = true;  // To prevent multiple clicks.\n",
              "      quickchartButtonEl.classList.add('colab-df-spinner');\n",
              "      try {\n",
              "        const charts = await google.colab.kernel.invokeFunction(\n",
              "            'suggestCharts', [key], {});\n",
              "      } catch (error) {\n",
              "        console.error('Error during call to suggestCharts:', error);\n",
              "      }\n",
              "      quickchartButtonEl.classList.remove('colab-df-spinner');\n",
              "      quickchartButtonEl.classList.add('colab-df-quickchart-complete');\n",
              "    }\n",
              "    (() => {\n",
              "      let quickchartButtonEl =\n",
              "        document.querySelector('#df-0c138fa7-b917-4028-beab-448e3d70a3b2 button');\n",
              "      quickchartButtonEl.style.display =\n",
              "        google.colab.kernel.accessAllowed ? 'block' : 'none';\n",
              "    })();\n",
              "  </script>\n",
              "</div>\n",
              "\n",
              "    </div>\n",
              "  </div>\n"
            ],
            "application/vnd.google.colaboratory.intrinsic+json": {
              "type": "dataframe",
              "summary": "{\n  \"name\": \"comparison\",\n  \"rows\": 5,\n  \"fields\": [\n    {\n      \"column\": \"Actual Values\",\n      \"properties\": {\n        \"dtype\": \"number\",\n        \"std\": 86193,\n        \"min\": 123000,\n        \"max\": 316600,\n        \"num_unique_values\": 5,\n        \"samples\": [\n          123000,\n          250000,\n          316600\n        ],\n        \"semantic_type\": \"\",\n        \"description\": \"\"\n      }\n    },\n    {\n      \"column\": \"Predictions\",\n      \"properties\": {\n        \"dtype\": \"number\",\n        \"std\": 82190.76378894818,\n        \"min\": 102816.79629472538,\n        \"max\": 271745.8444067716,\n        \"num_unique_values\": 5,\n        \"samples\": [\n          121698.64906474901,\n          263005.3724186524,\n          271745.8444067716\n        ],\n        \"semantic_type\": \"\",\n        \"description\": \"\"\n      }\n    }\n  ]\n}"
            }
          },
          "metadata": {},
          "execution_count": 15
        }
      ]
    },
    {
      "cell_type": "code",
      "source": [
        "# This code identifies and lists the 10 features most strongly correlated with the target variable 'SalePrice'. It helps in understanding which features have the greatest impact on the target variable and might be most relevant for predictive modeling.\n",
        "train.corr()[\"SalePrice\"].sort_values(ascending=False).head(10)"
      ],
      "metadata": {
        "colab": {
          "base_uri": "https://localhost:8080/",
          "height": 398
        },
        "id": "vNBTJKd9YO7e",
        "outputId": "331013c6-b075-49e3-e685-f0204a2fd2bc"
      },
      "execution_count": null,
      "outputs": [
        {
          "output_type": "execute_result",
          "data": {
            "text/plain": [
              "SalePrice           1.000000\n",
              "OverallQual         0.792263\n",
              "GrLivArea           0.712054\n",
              "GarageCars          0.658355\n",
              "GarageArea          0.621354\n",
              "1stFlrSF            0.621057\n",
              "TotalBsmtSF         0.612205\n",
              "FullBath            0.597505\n",
              "TotRmsAbvGrd        0.573845\n",
              "Foundation_PConc    0.517222\n",
              "Name: SalePrice, dtype: float64"
            ],
            "text/html": [
              "<div>\n",
              "<style scoped>\n",
              "    .dataframe tbody tr th:only-of-type {\n",
              "        vertical-align: middle;\n",
              "    }\n",
              "\n",
              "    .dataframe tbody tr th {\n",
              "        vertical-align: top;\n",
              "    }\n",
              "\n",
              "    .dataframe thead th {\n",
              "        text-align: right;\n",
              "    }\n",
              "</style>\n",
              "<table border=\"1\" class=\"dataframe\">\n",
              "  <thead>\n",
              "    <tr style=\"text-align: right;\">\n",
              "      <th></th>\n",
              "      <th>SalePrice</th>\n",
              "    </tr>\n",
              "  </thead>\n",
              "  <tbody>\n",
              "    <tr>\n",
              "      <th>SalePrice</th>\n",
              "      <td>1.000000</td>\n",
              "    </tr>\n",
              "    <tr>\n",
              "      <th>OverallQual</th>\n",
              "      <td>0.792263</td>\n",
              "    </tr>\n",
              "    <tr>\n",
              "      <th>GrLivArea</th>\n",
              "      <td>0.712054</td>\n",
              "    </tr>\n",
              "    <tr>\n",
              "      <th>GarageCars</th>\n",
              "      <td>0.658355</td>\n",
              "    </tr>\n",
              "    <tr>\n",
              "      <th>GarageArea</th>\n",
              "      <td>0.621354</td>\n",
              "    </tr>\n",
              "    <tr>\n",
              "      <th>1stFlrSF</th>\n",
              "      <td>0.621057</td>\n",
              "    </tr>\n",
              "    <tr>\n",
              "      <th>TotalBsmtSF</th>\n",
              "      <td>0.612205</td>\n",
              "    </tr>\n",
              "    <tr>\n",
              "      <th>FullBath</th>\n",
              "      <td>0.597505</td>\n",
              "    </tr>\n",
              "    <tr>\n",
              "      <th>TotRmsAbvGrd</th>\n",
              "      <td>0.573845</td>\n",
              "    </tr>\n",
              "    <tr>\n",
              "      <th>Foundation_PConc</th>\n",
              "      <td>0.517222</td>\n",
              "    </tr>\n",
              "  </tbody>\n",
              "</table>\n",
              "</div><br><label><b>dtype:</b> float64</label>"
            ]
          },
          "metadata": {},
          "execution_count": 16
        }
      ]
    },
    {
      "cell_type": "code",
      "source": [
        "'''\n",
        "* train.corr():\n",
        "\n",
        "  This method calculates the correlation matrix for the train DataFrame. The correlation matrix is a table that shows the Pearson correlation coefficients between all pairs of numerical columns in the DataFrame. These coefficients range from -1 to 1, indicating the strength and direction of the linear relationship between two variables.\n",
        "  *  A correlation of 1 implies a perfect positive linear relationship.\n",
        "  *  A correlation of -1 implies a perfect negative linear relationship.\n",
        "  *  A correlation of 0 implies no linear relationship.\n",
        "\n",
        "* correlations:\n",
        "\n",
        "  This variable stores the resulting correlation matrix. By printing or displaying correlations, you can view how each numerical feature in the train DataFrame is correlated with every other numerical feature.\n",
        "\n",
        "'''\n",
        "correlations = train.corr()\n",
        "correlations"
      ],
      "metadata": {
        "colab": {
          "base_uri": "https://localhost:8080/",
          "height": 508
        },
        "id": "FIkRSXK1Yccu",
        "outputId": "a5a0e92d-570f-4f32-f4d9-ce837f30426a"
      },
      "execution_count": null,
      "outputs": [
        {
          "output_type": "execute_result",
          "data": {
            "text/plain": [
              "                  OverallQual  YearBuilt  YearRemodAdd  TotalBsmtSF  1stFlrSF  \\\n",
              "OverallQual          1.000000   0.572367      0.550407     0.557685  0.539527   \n",
              "YearBuilt            0.572367   1.000000      0.615451     0.418706  0.315715   \n",
              "YearRemodAdd         0.550407   0.615451      1.000000     0.305751  0.299912   \n",
              "TotalBsmtSF          0.557685   0.418706      0.305751     1.000000  0.912271   \n",
              "1stFlrSF             0.539527   0.315715      0.299912     0.912271  1.000000   \n",
              "GrLivArea            0.628890   0.205311      0.300983     0.517430  0.589766   \n",
              "FullBath             0.598265   0.496001      0.500358     0.370448  0.392271   \n",
              "TotRmsAbvGrd         0.482744   0.122193      0.189233     0.337671  0.416777   \n",
              "GarageCars           0.627897   0.530869      0.507051     0.476327  0.472616   \n",
              "GarageArea           0.579378   0.466243      0.459938     0.539858  0.531808   \n",
              "SalePrice            0.792263   0.503317      0.504414     0.612205  0.621057   \n",
              "ExterQual_TA        -0.692146  -0.608600     -0.586210    -0.414837 -0.355415   \n",
              "Foundation_PConc     0.593079   0.675289      0.608433     0.330111  0.262008   \n",
              "KitchenQual_TA      -0.579892  -0.478635     -0.621112    -0.353424 -0.315156   \n",
              "\n",
              "                  GrLivArea  FullBath  TotRmsAbvGrd  GarageCars  GarageArea  \\\n",
              "OverallQual        0.628890  0.598265      0.482744    0.627897    0.579378   \n",
              "YearBuilt          0.205311  0.496001      0.122193    0.530869    0.466243   \n",
              "YearRemodAdd       0.300983  0.500358      0.189233    0.507051    0.459938   \n",
              "TotalBsmtSF        0.517430  0.370448      0.337671    0.476327    0.539858   \n",
              "1stFlrSF           0.589766  0.392271      0.416777    0.472616    0.531808   \n",
              "GrLivArea          1.000000  0.624707      0.826999    0.492914    0.499800   \n",
              "FullBath           0.624707  1.000000      0.550967    0.528268    0.465081   \n",
              "TotRmsAbvGrd       0.826999  0.550967      1.000000    0.426842    0.389448   \n",
              "GarageCars         0.492914  0.528268      0.426842    1.000000    0.845512   \n",
              "GarageArea         0.499800  0.465081      0.389448    0.845512    1.000000   \n",
              "SalePrice          0.712054  0.597505      0.573845    0.658355    0.621354   \n",
              "ExterQual_TA      -0.427637 -0.516471     -0.307535   -0.543945   -0.511492   \n",
              "Foundation_PConc   0.340340  0.519781      0.255900    0.517289    0.451725   \n",
              "KitchenQual_TA    -0.384288 -0.474227     -0.251362   -0.465095   -0.455758   \n",
              "\n",
              "                  SalePrice  ExterQual_TA  Foundation_PConc  KitchenQual_TA  \n",
              "OverallQual        0.792263     -0.692146          0.593079       -0.579892  \n",
              "YearBuilt          0.503317     -0.608600          0.675289       -0.478635  \n",
              "YearRemodAdd       0.504414     -0.586210          0.608433       -0.621112  \n",
              "TotalBsmtSF        0.612205     -0.414837          0.330111       -0.353424  \n",
              "1stFlrSF           0.621057     -0.355415          0.262008       -0.315156  \n",
              "GrLivArea          0.712054     -0.427637          0.340340       -0.384288  \n",
              "FullBath           0.597505     -0.516471          0.519781       -0.474227  \n",
              "TotRmsAbvGrd       0.573845     -0.307535          0.255900       -0.251362  \n",
              "GarageCars         0.658355     -0.543945          0.517289       -0.465095  \n",
              "GarageArea         0.621354     -0.511492          0.451725       -0.455758  \n",
              "SalePrice          1.000000     -0.598202          0.517222       -0.527176  \n",
              "ExterQual_TA      -0.598202      1.000000         -0.673381        0.683627  \n",
              "Foundation_PConc   0.517222     -0.673381          1.000000       -0.600103  \n",
              "KitchenQual_TA    -0.527176      0.683627         -0.600103        1.000000  "
            ],
            "text/html": [
              "\n",
              "  <div id=\"df-260706eb-a464-4224-8440-16a213304704\" class=\"colab-df-container\">\n",
              "    <div>\n",
              "<style scoped>\n",
              "    .dataframe tbody tr th:only-of-type {\n",
              "        vertical-align: middle;\n",
              "    }\n",
              "\n",
              "    .dataframe tbody tr th {\n",
              "        vertical-align: top;\n",
              "    }\n",
              "\n",
              "    .dataframe thead th {\n",
              "        text-align: right;\n",
              "    }\n",
              "</style>\n",
              "<table border=\"1\" class=\"dataframe\">\n",
              "  <thead>\n",
              "    <tr style=\"text-align: right;\">\n",
              "      <th></th>\n",
              "      <th>OverallQual</th>\n",
              "      <th>YearBuilt</th>\n",
              "      <th>YearRemodAdd</th>\n",
              "      <th>TotalBsmtSF</th>\n",
              "      <th>1stFlrSF</th>\n",
              "      <th>GrLivArea</th>\n",
              "      <th>FullBath</th>\n",
              "      <th>TotRmsAbvGrd</th>\n",
              "      <th>GarageCars</th>\n",
              "      <th>GarageArea</th>\n",
              "      <th>SalePrice</th>\n",
              "      <th>ExterQual_TA</th>\n",
              "      <th>Foundation_PConc</th>\n",
              "      <th>KitchenQual_TA</th>\n",
              "    </tr>\n",
              "  </thead>\n",
              "  <tbody>\n",
              "    <tr>\n",
              "      <th>OverallQual</th>\n",
              "      <td>1.000000</td>\n",
              "      <td>0.572367</td>\n",
              "      <td>0.550407</td>\n",
              "      <td>0.557685</td>\n",
              "      <td>0.539527</td>\n",
              "      <td>0.628890</td>\n",
              "      <td>0.598265</td>\n",
              "      <td>0.482744</td>\n",
              "      <td>0.627897</td>\n",
              "      <td>0.579378</td>\n",
              "      <td>0.792263</td>\n",
              "      <td>-0.692146</td>\n",
              "      <td>0.593079</td>\n",
              "      <td>-0.579892</td>\n",
              "    </tr>\n",
              "    <tr>\n",
              "      <th>YearBuilt</th>\n",
              "      <td>0.572367</td>\n",
              "      <td>1.000000</td>\n",
              "      <td>0.615451</td>\n",
              "      <td>0.418706</td>\n",
              "      <td>0.315715</td>\n",
              "      <td>0.205311</td>\n",
              "      <td>0.496001</td>\n",
              "      <td>0.122193</td>\n",
              "      <td>0.530869</td>\n",
              "      <td>0.466243</td>\n",
              "      <td>0.503317</td>\n",
              "      <td>-0.608600</td>\n",
              "      <td>0.675289</td>\n",
              "      <td>-0.478635</td>\n",
              "    </tr>\n",
              "    <tr>\n",
              "      <th>YearRemodAdd</th>\n",
              "      <td>0.550407</td>\n",
              "      <td>0.615451</td>\n",
              "      <td>1.000000</td>\n",
              "      <td>0.305751</td>\n",
              "      <td>0.299912</td>\n",
              "      <td>0.300983</td>\n",
              "      <td>0.500358</td>\n",
              "      <td>0.189233</td>\n",
              "      <td>0.507051</td>\n",
              "      <td>0.459938</td>\n",
              "      <td>0.504414</td>\n",
              "      <td>-0.586210</td>\n",
              "      <td>0.608433</td>\n",
              "      <td>-0.621112</td>\n",
              "    </tr>\n",
              "    <tr>\n",
              "      <th>TotalBsmtSF</th>\n",
              "      <td>0.557685</td>\n",
              "      <td>0.418706</td>\n",
              "      <td>0.305751</td>\n",
              "      <td>1.000000</td>\n",
              "      <td>0.912271</td>\n",
              "      <td>0.517430</td>\n",
              "      <td>0.370448</td>\n",
              "      <td>0.337671</td>\n",
              "      <td>0.476327</td>\n",
              "      <td>0.539858</td>\n",
              "      <td>0.612205</td>\n",
              "      <td>-0.414837</td>\n",
              "      <td>0.330111</td>\n",
              "      <td>-0.353424</td>\n",
              "    </tr>\n",
              "    <tr>\n",
              "      <th>1stFlrSF</th>\n",
              "      <td>0.539527</td>\n",
              "      <td>0.315715</td>\n",
              "      <td>0.299912</td>\n",
              "      <td>0.912271</td>\n",
              "      <td>1.000000</td>\n",
              "      <td>0.589766</td>\n",
              "      <td>0.392271</td>\n",
              "      <td>0.416777</td>\n",
              "      <td>0.472616</td>\n",
              "      <td>0.531808</td>\n",
              "      <td>0.621057</td>\n",
              "      <td>-0.355415</td>\n",
              "      <td>0.262008</td>\n",
              "      <td>-0.315156</td>\n",
              "    </tr>\n",
              "    <tr>\n",
              "      <th>GrLivArea</th>\n",
              "      <td>0.628890</td>\n",
              "      <td>0.205311</td>\n",
              "      <td>0.300983</td>\n",
              "      <td>0.517430</td>\n",
              "      <td>0.589766</td>\n",
              "      <td>1.000000</td>\n",
              "      <td>0.624707</td>\n",
              "      <td>0.826999</td>\n",
              "      <td>0.492914</td>\n",
              "      <td>0.499800</td>\n",
              "      <td>0.712054</td>\n",
              "      <td>-0.427637</td>\n",
              "      <td>0.340340</td>\n",
              "      <td>-0.384288</td>\n",
              "    </tr>\n",
              "    <tr>\n",
              "      <th>FullBath</th>\n",
              "      <td>0.598265</td>\n",
              "      <td>0.496001</td>\n",
              "      <td>0.500358</td>\n",
              "      <td>0.370448</td>\n",
              "      <td>0.392271</td>\n",
              "      <td>0.624707</td>\n",
              "      <td>1.000000</td>\n",
              "      <td>0.550967</td>\n",
              "      <td>0.528268</td>\n",
              "      <td>0.465081</td>\n",
              "      <td>0.597505</td>\n",
              "      <td>-0.516471</td>\n",
              "      <td>0.519781</td>\n",
              "      <td>-0.474227</td>\n",
              "    </tr>\n",
              "    <tr>\n",
              "      <th>TotRmsAbvGrd</th>\n",
              "      <td>0.482744</td>\n",
              "      <td>0.122193</td>\n",
              "      <td>0.189233</td>\n",
              "      <td>0.337671</td>\n",
              "      <td>0.416777</td>\n",
              "      <td>0.826999</td>\n",
              "      <td>0.550967</td>\n",
              "      <td>1.000000</td>\n",
              "      <td>0.426842</td>\n",
              "      <td>0.389448</td>\n",
              "      <td>0.573845</td>\n",
              "      <td>-0.307535</td>\n",
              "      <td>0.255900</td>\n",
              "      <td>-0.251362</td>\n",
              "    </tr>\n",
              "    <tr>\n",
              "      <th>GarageCars</th>\n",
              "      <td>0.627897</td>\n",
              "      <td>0.530869</td>\n",
              "      <td>0.507051</td>\n",
              "      <td>0.476327</td>\n",
              "      <td>0.472616</td>\n",
              "      <td>0.492914</td>\n",
              "      <td>0.528268</td>\n",
              "      <td>0.426842</td>\n",
              "      <td>1.000000</td>\n",
              "      <td>0.845512</td>\n",
              "      <td>0.658355</td>\n",
              "      <td>-0.543945</td>\n",
              "      <td>0.517289</td>\n",
              "      <td>-0.465095</td>\n",
              "    </tr>\n",
              "    <tr>\n",
              "      <th>GarageArea</th>\n",
              "      <td>0.579378</td>\n",
              "      <td>0.466243</td>\n",
              "      <td>0.459938</td>\n",
              "      <td>0.539858</td>\n",
              "      <td>0.531808</td>\n",
              "      <td>0.499800</td>\n",
              "      <td>0.465081</td>\n",
              "      <td>0.389448</td>\n",
              "      <td>0.845512</td>\n",
              "      <td>1.000000</td>\n",
              "      <td>0.621354</td>\n",
              "      <td>-0.511492</td>\n",
              "      <td>0.451725</td>\n",
              "      <td>-0.455758</td>\n",
              "    </tr>\n",
              "    <tr>\n",
              "      <th>SalePrice</th>\n",
              "      <td>0.792263</td>\n",
              "      <td>0.503317</td>\n",
              "      <td>0.504414</td>\n",
              "      <td>0.612205</td>\n",
              "      <td>0.621057</td>\n",
              "      <td>0.712054</td>\n",
              "      <td>0.597505</td>\n",
              "      <td>0.573845</td>\n",
              "      <td>0.658355</td>\n",
              "      <td>0.621354</td>\n",
              "      <td>1.000000</td>\n",
              "      <td>-0.598202</td>\n",
              "      <td>0.517222</td>\n",
              "      <td>-0.527176</td>\n",
              "    </tr>\n",
              "    <tr>\n",
              "      <th>ExterQual_TA</th>\n",
              "      <td>-0.692146</td>\n",
              "      <td>-0.608600</td>\n",
              "      <td>-0.586210</td>\n",
              "      <td>-0.414837</td>\n",
              "      <td>-0.355415</td>\n",
              "      <td>-0.427637</td>\n",
              "      <td>-0.516471</td>\n",
              "      <td>-0.307535</td>\n",
              "      <td>-0.543945</td>\n",
              "      <td>-0.511492</td>\n",
              "      <td>-0.598202</td>\n",
              "      <td>1.000000</td>\n",
              "      <td>-0.673381</td>\n",
              "      <td>0.683627</td>\n",
              "    </tr>\n",
              "    <tr>\n",
              "      <th>Foundation_PConc</th>\n",
              "      <td>0.593079</td>\n",
              "      <td>0.675289</td>\n",
              "      <td>0.608433</td>\n",
              "      <td>0.330111</td>\n",
              "      <td>0.262008</td>\n",
              "      <td>0.340340</td>\n",
              "      <td>0.519781</td>\n",
              "      <td>0.255900</td>\n",
              "      <td>0.517289</td>\n",
              "      <td>0.451725</td>\n",
              "      <td>0.517222</td>\n",
              "      <td>-0.673381</td>\n",
              "      <td>1.000000</td>\n",
              "      <td>-0.600103</td>\n",
              "    </tr>\n",
              "    <tr>\n",
              "      <th>KitchenQual_TA</th>\n",
              "      <td>-0.579892</td>\n",
              "      <td>-0.478635</td>\n",
              "      <td>-0.621112</td>\n",
              "      <td>-0.353424</td>\n",
              "      <td>-0.315156</td>\n",
              "      <td>-0.384288</td>\n",
              "      <td>-0.474227</td>\n",
              "      <td>-0.251362</td>\n",
              "      <td>-0.465095</td>\n",
              "      <td>-0.455758</td>\n",
              "      <td>-0.527176</td>\n",
              "      <td>0.683627</td>\n",
              "      <td>-0.600103</td>\n",
              "      <td>1.000000</td>\n",
              "    </tr>\n",
              "  </tbody>\n",
              "</table>\n",
              "</div>\n",
              "    <div class=\"colab-df-buttons\">\n",
              "\n",
              "  <div class=\"colab-df-container\">\n",
              "    <button class=\"colab-df-convert\" onclick=\"convertToInteractive('df-260706eb-a464-4224-8440-16a213304704')\"\n",
              "            title=\"Convert this dataframe to an interactive table.\"\n",
              "            style=\"display:none;\">\n",
              "\n",
              "  <svg xmlns=\"http://www.w3.org/2000/svg\" height=\"24px\" viewBox=\"0 -960 960 960\">\n",
              "    <path d=\"M120-120v-720h720v720H120Zm60-500h600v-160H180v160Zm220 220h160v-160H400v160Zm0 220h160v-160H400v160ZM180-400h160v-160H180v160Zm440 0h160v-160H620v160ZM180-180h160v-160H180v160Zm440 0h160v-160H620v160Z\"/>\n",
              "  </svg>\n",
              "    </button>\n",
              "\n",
              "  <style>\n",
              "    .colab-df-container {\n",
              "      display:flex;\n",
              "      gap: 12px;\n",
              "    }\n",
              "\n",
              "    .colab-df-convert {\n",
              "      background-color: #E8F0FE;\n",
              "      border: none;\n",
              "      border-radius: 50%;\n",
              "      cursor: pointer;\n",
              "      display: none;\n",
              "      fill: #1967D2;\n",
              "      height: 32px;\n",
              "      padding: 0 0 0 0;\n",
              "      width: 32px;\n",
              "    }\n",
              "\n",
              "    .colab-df-convert:hover {\n",
              "      background-color: #E2EBFA;\n",
              "      box-shadow: 0px 1px 2px rgba(60, 64, 67, 0.3), 0px 1px 3px 1px rgba(60, 64, 67, 0.15);\n",
              "      fill: #174EA6;\n",
              "    }\n",
              "\n",
              "    .colab-df-buttons div {\n",
              "      margin-bottom: 4px;\n",
              "    }\n",
              "\n",
              "    [theme=dark] .colab-df-convert {\n",
              "      background-color: #3B4455;\n",
              "      fill: #D2E3FC;\n",
              "    }\n",
              "\n",
              "    [theme=dark] .colab-df-convert:hover {\n",
              "      background-color: #434B5C;\n",
              "      box-shadow: 0px 1px 3px 1px rgba(0, 0, 0, 0.15);\n",
              "      filter: drop-shadow(0px 1px 2px rgba(0, 0, 0, 0.3));\n",
              "      fill: #FFFFFF;\n",
              "    }\n",
              "  </style>\n",
              "\n",
              "    <script>\n",
              "      const buttonEl =\n",
              "        document.querySelector('#df-260706eb-a464-4224-8440-16a213304704 button.colab-df-convert');\n",
              "      buttonEl.style.display =\n",
              "        google.colab.kernel.accessAllowed ? 'block' : 'none';\n",
              "\n",
              "      async function convertToInteractive(key) {\n",
              "        const element = document.querySelector('#df-260706eb-a464-4224-8440-16a213304704');\n",
              "        const dataTable =\n",
              "          await google.colab.kernel.invokeFunction('convertToInteractive',\n",
              "                                                    [key], {});\n",
              "        if (!dataTable) return;\n",
              "\n",
              "        const docLinkHtml = 'Like what you see? Visit the ' +\n",
              "          '<a target=\"_blank\" href=https://colab.research.google.com/notebooks/data_table.ipynb>data table notebook</a>'\n",
              "          + ' to learn more about interactive tables.';\n",
              "        element.innerHTML = '';\n",
              "        dataTable['output_type'] = 'display_data';\n",
              "        await google.colab.output.renderOutput(dataTable, element);\n",
              "        const docLink = document.createElement('div');\n",
              "        docLink.innerHTML = docLinkHtml;\n",
              "        element.appendChild(docLink);\n",
              "      }\n",
              "    </script>\n",
              "  </div>\n",
              "\n",
              "\n",
              "<div id=\"df-2f451530-6137-48f9-9560-137e5521b1c8\">\n",
              "  <button class=\"colab-df-quickchart\" onclick=\"quickchart('df-2f451530-6137-48f9-9560-137e5521b1c8')\"\n",
              "            title=\"Suggest charts\"\n",
              "            style=\"display:none;\">\n",
              "\n",
              "<svg xmlns=\"http://www.w3.org/2000/svg\" height=\"24px\"viewBox=\"0 0 24 24\"\n",
              "     width=\"24px\">\n",
              "    <g>\n",
              "        <path d=\"M19 3H5c-1.1 0-2 .9-2 2v14c0 1.1.9 2 2 2h14c1.1 0 2-.9 2-2V5c0-1.1-.9-2-2-2zM9 17H7v-7h2v7zm4 0h-2V7h2v10zm4 0h-2v-4h2v4z\"/>\n",
              "    </g>\n",
              "</svg>\n",
              "  </button>\n",
              "\n",
              "<style>\n",
              "  .colab-df-quickchart {\n",
              "      --bg-color: #E8F0FE;\n",
              "      --fill-color: #1967D2;\n",
              "      --hover-bg-color: #E2EBFA;\n",
              "      --hover-fill-color: #174EA6;\n",
              "      --disabled-fill-color: #AAA;\n",
              "      --disabled-bg-color: #DDD;\n",
              "  }\n",
              "\n",
              "  [theme=dark] .colab-df-quickchart {\n",
              "      --bg-color: #3B4455;\n",
              "      --fill-color: #D2E3FC;\n",
              "      --hover-bg-color: #434B5C;\n",
              "      --hover-fill-color: #FFFFFF;\n",
              "      --disabled-bg-color: #3B4455;\n",
              "      --disabled-fill-color: #666;\n",
              "  }\n",
              "\n",
              "  .colab-df-quickchart {\n",
              "    background-color: var(--bg-color);\n",
              "    border: none;\n",
              "    border-radius: 50%;\n",
              "    cursor: pointer;\n",
              "    display: none;\n",
              "    fill: var(--fill-color);\n",
              "    height: 32px;\n",
              "    padding: 0;\n",
              "    width: 32px;\n",
              "  }\n",
              "\n",
              "  .colab-df-quickchart:hover {\n",
              "    background-color: var(--hover-bg-color);\n",
              "    box-shadow: 0 1px 2px rgba(60, 64, 67, 0.3), 0 1px 3px 1px rgba(60, 64, 67, 0.15);\n",
              "    fill: var(--button-hover-fill-color);\n",
              "  }\n",
              "\n",
              "  .colab-df-quickchart-complete:disabled,\n",
              "  .colab-df-quickchart-complete:disabled:hover {\n",
              "    background-color: var(--disabled-bg-color);\n",
              "    fill: var(--disabled-fill-color);\n",
              "    box-shadow: none;\n",
              "  }\n",
              "\n",
              "  .colab-df-spinner {\n",
              "    border: 2px solid var(--fill-color);\n",
              "    border-color: transparent;\n",
              "    border-bottom-color: var(--fill-color);\n",
              "    animation:\n",
              "      spin 1s steps(1) infinite;\n",
              "  }\n",
              "\n",
              "  @keyframes spin {\n",
              "    0% {\n",
              "      border-color: transparent;\n",
              "      border-bottom-color: var(--fill-color);\n",
              "      border-left-color: var(--fill-color);\n",
              "    }\n",
              "    20% {\n",
              "      border-color: transparent;\n",
              "      border-left-color: var(--fill-color);\n",
              "      border-top-color: var(--fill-color);\n",
              "    }\n",
              "    30% {\n",
              "      border-color: transparent;\n",
              "      border-left-color: var(--fill-color);\n",
              "      border-top-color: var(--fill-color);\n",
              "      border-right-color: var(--fill-color);\n",
              "    }\n",
              "    40% {\n",
              "      border-color: transparent;\n",
              "      border-right-color: var(--fill-color);\n",
              "      border-top-color: var(--fill-color);\n",
              "    }\n",
              "    60% {\n",
              "      border-color: transparent;\n",
              "      border-right-color: var(--fill-color);\n",
              "    }\n",
              "    80% {\n",
              "      border-color: transparent;\n",
              "      border-right-color: var(--fill-color);\n",
              "      border-bottom-color: var(--fill-color);\n",
              "    }\n",
              "    90% {\n",
              "      border-color: transparent;\n",
              "      border-bottom-color: var(--fill-color);\n",
              "    }\n",
              "  }\n",
              "</style>\n",
              "\n",
              "  <script>\n",
              "    async function quickchart(key) {\n",
              "      const quickchartButtonEl =\n",
              "        document.querySelector('#' + key + ' button');\n",
              "      quickchartButtonEl.disabled = true;  // To prevent multiple clicks.\n",
              "      quickchartButtonEl.classList.add('colab-df-spinner');\n",
              "      try {\n",
              "        const charts = await google.colab.kernel.invokeFunction(\n",
              "            'suggestCharts', [key], {});\n",
              "      } catch (error) {\n",
              "        console.error('Error during call to suggestCharts:', error);\n",
              "      }\n",
              "      quickchartButtonEl.classList.remove('colab-df-spinner');\n",
              "      quickchartButtonEl.classList.add('colab-df-quickchart-complete');\n",
              "    }\n",
              "    (() => {\n",
              "      let quickchartButtonEl =\n",
              "        document.querySelector('#df-2f451530-6137-48f9-9560-137e5521b1c8 button');\n",
              "      quickchartButtonEl.style.display =\n",
              "        google.colab.kernel.accessAllowed ? 'block' : 'none';\n",
              "    })();\n",
              "  </script>\n",
              "</div>\n",
              "\n",
              "  <div id=\"id_58c0370f-af4b-4bf1-84e2-59fa32ca7b3b\">\n",
              "    <style>\n",
              "      .colab-df-generate {\n",
              "        background-color: #E8F0FE;\n",
              "        border: none;\n",
              "        border-radius: 50%;\n",
              "        cursor: pointer;\n",
              "        display: none;\n",
              "        fill: #1967D2;\n",
              "        height: 32px;\n",
              "        padding: 0 0 0 0;\n",
              "        width: 32px;\n",
              "      }\n",
              "\n",
              "      .colab-df-generate:hover {\n",
              "        background-color: #E2EBFA;\n",
              "        box-shadow: 0px 1px 2px rgba(60, 64, 67, 0.3), 0px 1px 3px 1px rgba(60, 64, 67, 0.15);\n",
              "        fill: #174EA6;\n",
              "      }\n",
              "\n",
              "      [theme=dark] .colab-df-generate {\n",
              "        background-color: #3B4455;\n",
              "        fill: #D2E3FC;\n",
              "      }\n",
              "\n",
              "      [theme=dark] .colab-df-generate:hover {\n",
              "        background-color: #434B5C;\n",
              "        box-shadow: 0px 1px 3px 1px rgba(0, 0, 0, 0.15);\n",
              "        filter: drop-shadow(0px 1px 2px rgba(0, 0, 0, 0.3));\n",
              "        fill: #FFFFFF;\n",
              "      }\n",
              "    </style>\n",
              "    <button class=\"colab-df-generate\" onclick=\"generateWithVariable('correlations')\"\n",
              "            title=\"Generate code using this dataframe.\"\n",
              "            style=\"display:none;\">\n",
              "\n",
              "  <svg xmlns=\"http://www.w3.org/2000/svg\" height=\"24px\"viewBox=\"0 0 24 24\"\n",
              "       width=\"24px\">\n",
              "    <path d=\"M7,19H8.4L18.45,9,17,7.55,7,17.6ZM5,21V16.75L18.45,3.32a2,2,0,0,1,2.83,0l1.4,1.43a1.91,1.91,0,0,1,.58,1.4,1.91,1.91,0,0,1-.58,1.4L9.25,21ZM18.45,9,17,7.55Zm-12,3A5.31,5.31,0,0,0,4.9,8.1,5.31,5.31,0,0,0,1,6.5,5.31,5.31,0,0,0,4.9,4.9,5.31,5.31,0,0,0,6.5,1,5.31,5.31,0,0,0,8.1,4.9,5.31,5.31,0,0,0,12,6.5,5.46,5.46,0,0,0,6.5,12Z\"/>\n",
              "  </svg>\n",
              "    </button>\n",
              "    <script>\n",
              "      (() => {\n",
              "      const buttonEl =\n",
              "        document.querySelector('#id_58c0370f-af4b-4bf1-84e2-59fa32ca7b3b button.colab-df-generate');\n",
              "      buttonEl.style.display =\n",
              "        google.colab.kernel.accessAllowed ? 'block' : 'none';\n",
              "\n",
              "      buttonEl.onclick = () => {\n",
              "        google.colab.notebook.generateWithVariable('correlations');\n",
              "      }\n",
              "      })();\n",
              "    </script>\n",
              "  </div>\n",
              "\n",
              "    </div>\n",
              "  </div>\n"
            ],
            "application/vnd.google.colaboratory.intrinsic+json": {
              "type": "dataframe",
              "variable_name": "correlations",
              "summary": "{\n  \"name\": \"correlations\",\n  \"rows\": 14,\n  \"fields\": [\n    {\n      \"column\": \"OverallQual\",\n      \"properties\": {\n        \"dtype\": \"number\",\n        \"std\": 0.4766247261937349,\n        \"min\": -0.6921463280473319,\n        \"max\": 1.0,\n        \"num_unique_values\": 14,\n        \"samples\": [\n          0.5793778766437196,\n          -0.6921463280473319,\n          1.0\n        ],\n        \"semantic_type\": \"\",\n        \"description\": \"\"\n      }\n    },\n    {\n      \"column\": \"YearBuilt\",\n      \"properties\": {\n        \"dtype\": \"number\",\n        \"std\": 0.43174423695843855,\n        \"min\": -0.608600344669269,\n        \"max\": 1.0,\n        \"num_unique_values\": 14,\n        \"samples\": [\n          0.46624277571857875,\n          -0.608600344669269,\n          0.5723669503400937\n        ],\n        \"semantic_type\": \"\",\n        \"description\": \"\"\n      }\n    },\n    {\n      \"column\": \"YearRemodAdd\",\n      \"properties\": {\n        \"dtype\": \"number\",\n        \"std\": 0.4411827944430725,\n        \"min\": -0.621111863793657,\n        \"max\": 1.0,\n        \"num_unique_values\": 14,\n        \"samples\": [\n          0.4599376629531881,\n          -0.5862098407844741,\n          0.5504073779086779\n        ],\n        \"semantic_type\": \"\",\n        \"description\": \"\"\n      }\n    },\n    {\n      \"column\": \"TotalBsmtSF\",\n      \"properties\": {\n        \"dtype\": \"number\",\n        \"std\": 0.3904600312481787,\n        \"min\": -0.41483713253576465,\n        \"max\": 1.0,\n        \"num_unique_values\": 14,\n        \"samples\": [\n          0.5398582031215543,\n          -0.41483713253576465,\n          0.5576853552621912\n        ],\n        \"semantic_type\": \"\",\n        \"description\": \"\"\n      }\n    },\n    {\n      \"column\": \"1stFlrSF\",\n      \"properties\": {\n        \"dtype\": \"number\",\n        \"std\": 0.3790192517018746,\n        \"min\": -0.35541458009302435,\n        \"max\": 1.0,\n        \"num_unique_values\": 14,\n        \"samples\": [\n          0.5318083906174216,\n          -0.35541458009302435,\n          0.5395272408329819\n        ],\n        \"semantic_type\": \"\",\n        \"description\": \"\"\n      }\n    },\n    {\n      \"column\": \"GrLivArea\",\n      \"properties\": {\n        \"dtype\": \"number\",\n        \"std\": 0.4071186464864819,\n        \"min\": -0.4276373546726133,\n        \"max\": 1.0,\n        \"num_unique_values\": 14,\n        \"samples\": [\n          0.49979979671070296,\n          -0.4276373546726133,\n          0.628889661419312\n        ],\n        \"semantic_type\": \"\",\n        \"description\": \"\"\n      }\n    },\n    {\n      \"column\": \"FullBath\",\n      \"properties\": {\n        \"dtype\": \"number\",\n        \"std\": 0.40864210784206983,\n        \"min\": -0.5164708597297273,\n        \"max\": 1.0,\n        \"num_unique_values\": 14,\n        \"samples\": [\n          0.4650808533820417,\n          -0.5164708597297273,\n          0.5982652076458531\n        ],\n        \"semantic_type\": \"\",\n        \"description\": \"\"\n      }\n    },\n    {\n      \"column\": \"TotRmsAbvGrd\",\n      \"properties\": {\n        \"dtype\": \"number\",\n        \"std\": 0.35624939056053306,\n        \"min\": -0.30753452056201946,\n        \"max\": 1.0,\n        \"num_unique_values\": 14,\n        \"samples\": [\n          0.38944840833283334,\n          -0.30753452056201946,\n          0.48274366720673056\n        ],\n        \"semantic_type\": \"\",\n        \"description\": \"\"\n      }\n    },\n    {\n      \"column\": \"GarageCars\",\n      \"properties\": {\n        \"dtype\": \"number\",\n        \"std\": 0.42785020221387843,\n        \"min\": -0.5439448134900358,\n        \"max\": 1.0,\n        \"num_unique_values\": 14,\n        \"samples\": [\n          0.845512380233518,\n          -0.5439448134900358,\n          0.6278969775006789\n        ],\n        \"semantic_type\": \"\",\n        \"description\": \"\"\n      }\n    },\n    {\n      \"column\": \"GarageArea\",\n      \"properties\": {\n        \"dtype\": \"number\",\n        \"std\": 0.4168541544772745,\n        \"min\": -0.5114921239959549,\n        \"max\": 1.0,\n        \"num_unique_values\": 14,\n        \"samples\": [\n          1.0,\n          -0.5114921239959549,\n          0.5793778766437196\n        ],\n        \"semantic_type\": \"\",\n        \"description\": \"\"\n      }\n    },\n    {\n      \"column\": \"SalePrice\",\n      \"properties\": {\n        \"dtype\": \"number\",\n        \"std\": 0.4567228996645595,\n        \"min\": -0.5982016178850817,\n        \"max\": 1.0,\n        \"num_unique_values\": 14,\n        \"samples\": [\n          0.6213539680556522,\n          -0.5982016178850817,\n          0.7922633030603968\n        ],\n        \"semantic_type\": \"\",\n        \"description\": \"\"\n      }\n    },\n    {\n      \"column\": \"ExterQual_TA\",\n      \"properties\": {\n        \"dtype\": \"number\",\n        \"std\": 0.5107784685751464,\n        \"min\": -0.6921463280473319,\n        \"max\": 1.0,\n        \"num_unique_values\": 14,\n        \"samples\": [\n          -0.5114921239959549,\n          1.0,\n          -0.6921463280473319\n        ],\n        \"semantic_type\": \"\",\n        \"description\": \"\"\n      }\n    },\n    {\n      \"column\": \"Foundation_PConc\",\n      \"properties\": {\n        \"dtype\": \"number\",\n        \"std\": 0.45705192554480084,\n        \"min\": -0.6733810037649316,\n        \"max\": 1.0,\n        \"num_unique_values\": 14,\n        \"samples\": [\n          0.4517252759189342,\n          -0.6733810037649316,\n          0.5930793803828339\n        ],\n        \"semantic_type\": \"\",\n        \"description\": \"\"\n      }\n    },\n    {\n      \"column\": \"KitchenQual_TA\",\n      \"properties\": {\n        \"dtype\": \"number\",\n        \"std\": 0.48807374331050973,\n        \"min\": -0.621111863793657,\n        \"max\": 1.0,\n        \"num_unique_values\": 14,\n        \"samples\": [\n          -0.45575842966689595,\n          0.6836271165051652,\n          -0.5798917730049085\n        ],\n        \"semantic_type\": \"\",\n        \"description\": \"\"\n      }\n    }\n  ]\n}"
            }
          },
          "metadata": {},
          "execution_count": 17
        }
      ]
    },
    {
      "cell_type": "code",
      "source": [
        "#saleprice_correlations provides the correlations between 'SalePrice' and other numerical features, helping identify which features are most related to 'SalePrice'.\n",
        "saleprice_correlations = correlations[\"SalePrice\"]\n",
        "saleprice_correlations"
      ],
      "metadata": {
        "colab": {
          "base_uri": "https://localhost:8080/",
          "height": 523
        },
        "id": "NOyG4sGHYefb",
        "outputId": "bd81a6b8-8a65-4b83-9526-26ee9e10a813"
      },
      "execution_count": null,
      "outputs": [
        {
          "output_type": "execute_result",
          "data": {
            "text/plain": [
              "OverallQual         0.792263\n",
              "YearBuilt           0.503317\n",
              "YearRemodAdd        0.504414\n",
              "TotalBsmtSF         0.612205\n",
              "1stFlrSF            0.621057\n",
              "GrLivArea           0.712054\n",
              "FullBath            0.597505\n",
              "TotRmsAbvGrd        0.573845\n",
              "GarageCars          0.658355\n",
              "GarageArea          0.621354\n",
              "SalePrice           1.000000\n",
              "ExterQual_TA       -0.598202\n",
              "Foundation_PConc    0.517222\n",
              "KitchenQual_TA     -0.527176\n",
              "Name: SalePrice, dtype: float64"
            ],
            "text/html": [
              "<div>\n",
              "<style scoped>\n",
              "    .dataframe tbody tr th:only-of-type {\n",
              "        vertical-align: middle;\n",
              "    }\n",
              "\n",
              "    .dataframe tbody tr th {\n",
              "        vertical-align: top;\n",
              "    }\n",
              "\n",
              "    .dataframe thead th {\n",
              "        text-align: right;\n",
              "    }\n",
              "</style>\n",
              "<table border=\"1\" class=\"dataframe\">\n",
              "  <thead>\n",
              "    <tr style=\"text-align: right;\">\n",
              "      <th></th>\n",
              "      <th>SalePrice</th>\n",
              "    </tr>\n",
              "  </thead>\n",
              "  <tbody>\n",
              "    <tr>\n",
              "      <th>OverallQual</th>\n",
              "      <td>0.792263</td>\n",
              "    </tr>\n",
              "    <tr>\n",
              "      <th>YearBuilt</th>\n",
              "      <td>0.503317</td>\n",
              "    </tr>\n",
              "    <tr>\n",
              "      <th>YearRemodAdd</th>\n",
              "      <td>0.504414</td>\n",
              "    </tr>\n",
              "    <tr>\n",
              "      <th>TotalBsmtSF</th>\n",
              "      <td>0.612205</td>\n",
              "    </tr>\n",
              "    <tr>\n",
              "      <th>1stFlrSF</th>\n",
              "      <td>0.621057</td>\n",
              "    </tr>\n",
              "    <tr>\n",
              "      <th>GrLivArea</th>\n",
              "      <td>0.712054</td>\n",
              "    </tr>\n",
              "    <tr>\n",
              "      <th>FullBath</th>\n",
              "      <td>0.597505</td>\n",
              "    </tr>\n",
              "    <tr>\n",
              "      <th>TotRmsAbvGrd</th>\n",
              "      <td>0.573845</td>\n",
              "    </tr>\n",
              "    <tr>\n",
              "      <th>GarageCars</th>\n",
              "      <td>0.658355</td>\n",
              "    </tr>\n",
              "    <tr>\n",
              "      <th>GarageArea</th>\n",
              "      <td>0.621354</td>\n",
              "    </tr>\n",
              "    <tr>\n",
              "      <th>SalePrice</th>\n",
              "      <td>1.000000</td>\n",
              "    </tr>\n",
              "    <tr>\n",
              "      <th>ExterQual_TA</th>\n",
              "      <td>-0.598202</td>\n",
              "    </tr>\n",
              "    <tr>\n",
              "      <th>Foundation_PConc</th>\n",
              "      <td>0.517222</td>\n",
              "    </tr>\n",
              "    <tr>\n",
              "      <th>KitchenQual_TA</th>\n",
              "      <td>-0.527176</td>\n",
              "    </tr>\n",
              "  </tbody>\n",
              "</table>\n",
              "</div><br><label><b>dtype:</b> float64</label>"
            ]
          },
          "metadata": {},
          "execution_count": 18
        }
      ]
    },
    {
      "cell_type": "code",
      "source": [
        "# This code lists the 10 features most strongly correlated with 'SalePrice', making it easier to identify which features have the greatest relationship with the target variable.\n",
        "saleprice_correlations.sort_values(ascending=False).head(10)"
      ],
      "metadata": {
        "colab": {
          "base_uri": "https://localhost:8080/",
          "height": 398
        },
        "id": "xoH1m_A_YhS_",
        "outputId": "140cb418-d9ba-4641-b7ad-16f81fc1c1c2"
      },
      "execution_count": null,
      "outputs": [
        {
          "output_type": "execute_result",
          "data": {
            "text/plain": [
              "SalePrice           1.000000\n",
              "OverallQual         0.792263\n",
              "GrLivArea           0.712054\n",
              "GarageCars          0.658355\n",
              "GarageArea          0.621354\n",
              "1stFlrSF            0.621057\n",
              "TotalBsmtSF         0.612205\n",
              "FullBath            0.597505\n",
              "TotRmsAbvGrd        0.573845\n",
              "Foundation_PConc    0.517222\n",
              "Name: SalePrice, dtype: float64"
            ],
            "text/html": [
              "<div>\n",
              "<style scoped>\n",
              "    .dataframe tbody tr th:only-of-type {\n",
              "        vertical-align: middle;\n",
              "    }\n",
              "\n",
              "    .dataframe tbody tr th {\n",
              "        vertical-align: top;\n",
              "    }\n",
              "\n",
              "    .dataframe thead th {\n",
              "        text-align: right;\n",
              "    }\n",
              "</style>\n",
              "<table border=\"1\" class=\"dataframe\">\n",
              "  <thead>\n",
              "    <tr style=\"text-align: right;\">\n",
              "      <th></th>\n",
              "      <th>SalePrice</th>\n",
              "    </tr>\n",
              "  </thead>\n",
              "  <tbody>\n",
              "    <tr>\n",
              "      <th>SalePrice</th>\n",
              "      <td>1.000000</td>\n",
              "    </tr>\n",
              "    <tr>\n",
              "      <th>OverallQual</th>\n",
              "      <td>0.792263</td>\n",
              "    </tr>\n",
              "    <tr>\n",
              "      <th>GrLivArea</th>\n",
              "      <td>0.712054</td>\n",
              "    </tr>\n",
              "    <tr>\n",
              "      <th>GarageCars</th>\n",
              "      <td>0.658355</td>\n",
              "    </tr>\n",
              "    <tr>\n",
              "      <th>GarageArea</th>\n",
              "      <td>0.621354</td>\n",
              "    </tr>\n",
              "    <tr>\n",
              "      <th>1stFlrSF</th>\n",
              "      <td>0.621057</td>\n",
              "    </tr>\n",
              "    <tr>\n",
              "      <th>TotalBsmtSF</th>\n",
              "      <td>0.612205</td>\n",
              "    </tr>\n",
              "    <tr>\n",
              "      <th>FullBath</th>\n",
              "      <td>0.597505</td>\n",
              "    </tr>\n",
              "    <tr>\n",
              "      <th>TotRmsAbvGrd</th>\n",
              "      <td>0.573845</td>\n",
              "    </tr>\n",
              "    <tr>\n",
              "      <th>Foundation_PConc</th>\n",
              "      <td>0.517222</td>\n",
              "    </tr>\n",
              "  </tbody>\n",
              "</table>\n",
              "</div><br><label><b>dtype:</b> float64</label>"
            ]
          },
          "metadata": {},
          "execution_count": 19
        }
      ]
    },
    {
      "cell_type": "markdown",
      "source": [
        "# Assessment - Regression"
      ],
      "metadata": {
        "id": "TlultI0d81Wi"
      }
    },
    {
      "cell_type": "markdown",
      "source": [
        "### 1.\"Computer algorithms are trained to learn from labeled input data.\" This statement is true for which machine learning approach?\n",
        "* Unsupervised Learning\n",
        "* Supervised Learning\n",
        "* Reinforcement Learning\n",
        "* Other"
      ],
      "metadata": {
        "id": "iMi-SUFM9Bsq"
      }
    },
    {
      "cell_type": "markdown",
      "source": [
        "The correct answer is **Supervised Learning**."
      ],
      "metadata": {
        "id": "WMfIFsaS92Ay"
      }
    },
    {
      "cell_type": "markdown",
      "source": [
        "\n",
        "\n",
        "---\n",
        "\n"
      ],
      "metadata": {
        "id": "v2NRcdBJ9-dg"
      }
    },
    {
      "cell_type": "markdown",
      "source": [
        "### 2.What can regression help predict?\n",
        "* Categories\n",
        "* Cluster\n",
        "* Quantities\n",
        "* None of the above"
      ],
      "metadata": {
        "id": "TZ9aM5x898wy"
      }
    },
    {
      "cell_type": "markdown",
      "source": [
        "Regression is a statistical method used to predict **quantities**."
      ],
      "metadata": {
        "id": "u-D7lrbY-PmG"
      }
    },
    {
      "cell_type": "markdown",
      "source": [
        "\n",
        "\n",
        "---\n",
        "\n"
      ],
      "metadata": {
        "id": "3lrdqWR3-BEn"
      }
    },
    {
      "cell_type": "markdown",
      "source": [
        "### 3.Which of the following ML models helps to explain the relationship between two variables?\n",
        "* Logistic regression\n",
        "* Polynomial regression\n",
        "* Multivariate regression\n",
        "* Linear regression"
      ],
      "metadata": {
        "id": "8oJbxBwB-Qj2"
      }
    },
    {
      "cell_type": "markdown",
      "source": [
        "**Linear regression** is the ML model that helps to explain the relationship between two variables."
      ],
      "metadata": {
        "id": "ApeFOuPc-mAO"
      }
    },
    {
      "cell_type": "markdown",
      "source": [
        "\n",
        "\n",
        "---\n",
        "\n"
      ],
      "metadata": {
        "id": "QaqKRdqS-ERY"
      }
    },
    {
      "cell_type": "markdown",
      "source": [
        "### 4.What is the formula of the regression line?\n",
        "* y = wX + b\n",
        "* x = −b ± √b²-4ac/2a\n",
        "* d=√(x₁ – x₂)² + (y₁ – y₂)²\n",
        "* (y₂ – y₁) / (x₂ – x₁)"
      ],
      "metadata": {
        "id": "h0ZwAyyP-oUe"
      }
    },
    {
      "cell_type": "markdown",
      "source": [
        "The formula of the regression line is **y = wX + b**."
      ],
      "metadata": {
        "id": "L8jv7QFE_Mc3"
      }
    },
    {
      "cell_type": "markdown",
      "source": [
        "\n",
        "\n",
        "---\n",
        "\n"
      ],
      "metadata": {
        "id": "nwEnAo_R-HBP"
      }
    },
    {
      "cell_type": "markdown",
      "source": [
        "### 5.A student wants to use linear regression to predict the spread of the COVID-19 pandemic in the upcoming month. What would be the downside of using linear regression for this problem?\n",
        "* The dataset would be too large\n",
        "* It won't find non-linear relationships\n",
        "* It is impossible to make any predictions about a pandemic\n",
        "* The predictions will be intimidating"
      ],
      "metadata": {
        "id": "Mm70N4hf_Pcn"
      }
    },
    {
      "cell_type": "markdown",
      "source": [
        " It won’t find non-linear relationships"
      ],
      "metadata": {
        "id": "MNstFItA_46v"
      }
    },
    {
      "cell_type": "markdown",
      "source": [
        "\n",
        "\n",
        "---\n",
        "\n"
      ],
      "metadata": {
        "id": "LyWloXy5-I__"
      }
    },
    {
      "cell_type": "markdown",
      "source": [
        "### 6.Which of the following is most common method used in linear regression to find the best fit line for data?\n",
        "* Maximum Likelihood\n",
        "* Least Square Error\n",
        "* Logarithmic Loss\n",
        "* Mean squared error"
      ],
      "metadata": {
        "id": "3X3VKykW_6ge"
      }
    },
    {
      "cell_type": "markdown",
      "source": [
        "The correct option is \"**Least Square Error**\""
      ],
      "metadata": {
        "id": "RaykavDvAP0S"
      }
    },
    {
      "cell_type": "markdown",
      "source": [
        "### 7.Which of the following indicates a statistical relationship between the dependent and independent variables?\n",
        "* Gradient\n",
        "* Feature metrics\n",
        "* Correlation\n",
        "* Matrix"
      ],
      "metadata": {
        "id": "MsOWr6eAAToT"
      }
    },
    {
      "cell_type": "markdown",
      "source": [
        "**Correlation** indicates a statistical relationship between the dependent and independent variables."
      ],
      "metadata": {
        "id": "Tc_jnU72AnFT"
      }
    },
    {
      "cell_type": "markdown",
      "source": [
        "\n",
        "\n",
        "---\n",
        "\n"
      ],
      "metadata": {
        "id": "X3iUX57W-P-P"
      }
    },
    {
      "cell_type": "markdown",
      "source": [
        "### 8.Which of the following pairs is used to compute “Mean Squared Error”?\n",
        "* Observed values – Predicted values\n",
        "* Mean value – Predicted values\n",
        "* Standard deviation value – Mean values\n",
        "*  Mean value – Observed values"
      ],
      "metadata": {
        "id": "V3-hNlOVAquy"
      }
    },
    {
      "cell_type": "markdown",
      "source": [
        "**Observed values – Predicted values** is used to compute \"Mean Squared Error\"."
      ],
      "metadata": {
        "id": "RlLGjTilA2Hz"
      }
    },
    {
      "cell_type": "markdown",
      "source": [
        "\n",
        "\n",
        "---\n",
        "\n"
      ],
      "metadata": {
        "id": "NGuJXQeA-SSX"
      }
    },
    {
      "cell_type": "markdown",
      "source": [
        "### 9.Which of the following performance and evaluation metrics are used in a regression model?\n",
        "* MSE and RMSE\n",
        "* Confusion matrix\n",
        "* Silhoutte score\n",
        "* Accuracy"
      ],
      "metadata": {
        "id": "lnl2QKDSA3ei"
      }
    },
    {
      "cell_type": "markdown",
      "source": [
        "**MSE** (Mean Squared Error) and **RMSE** (Root Mean Squared Error) are performance and evaluation metrics used in a regression model."
      ],
      "metadata": {
        "id": "c0ksWl5ZBGgb"
      }
    },
    {
      "cell_type": "markdown",
      "source": [
        "\n",
        "\n",
        "---\n",
        "\n"
      ],
      "metadata": {
        "id": "8q2CBNoO-VEB"
      }
    },
    {
      "cell_type": "markdown",
      "source": [
        "### 10.Which of the following is the most common library for importing machine learning modules in Python?\n",
        "* NumPy\n",
        "* Pandas\n",
        "* Matplotlib\n",
        "* Sklearn"
      ],
      "metadata": {
        "id": "mGgtvXWFBHui"
      }
    },
    {
      "cell_type": "markdown",
      "source": [
        "**Sklearn**."
      ],
      "metadata": {
        "id": "5td0M-0EBS_K"
      }
    },
    {
      "cell_type": "markdown",
      "source": [
        "\n",
        "\n",
        "---\n",
        "\n"
      ],
      "metadata": {
        "id": "Xi9e4pC7-XUn"
      }
    },
    {
      "cell_type": "markdown",
      "source": [
        "### 11.Which of the following methods is used to train a model in the sklearn library?\n",
        "* model.train(X_train,y_train)\n",
        "* model.fit(X_train,y_train)\n",
        "* model.learn(X_train,y_train)\n",
        "* model.test(X_train,y_train)"
      ],
      "metadata": {
        "id": "pnQVLVDTBVB7"
      }
    },
    {
      "cell_type": "markdown",
      "source": [
        "The most common method used to train a model in the sklearn library is:\n",
        "\n",
        "**model.fit(X_train, y_train)**"
      ],
      "metadata": {
        "id": "VkI38RsjBgrI"
      }
    },
    {
      "cell_type": "markdown",
      "source": [
        "\n",
        "\n",
        "---\n",
        "\n"
      ],
      "metadata": {
        "id": "Sd9NL_La-Y7w"
      }
    },
    {
      "cell_type": "markdown",
      "source": [
        "### 12.Which of the following methods is used to make predictions with a trained model?\n",
        "* model.guess(X)\n",
        "* model.estimate(X)\n",
        "* model.predict(X)\n",
        "* model.result(X)"
      ],
      "metadata": {
        "id": "BWjaBLWCBix7"
      }
    },
    {
      "cell_type": "markdown",
      "source": [
        "**model.predict(X)** is the method used to make predictions with a trained model in the scikit-learn library."
      ],
      "metadata": {
        "id": "whEptbFJBw5O"
      }
    },
    {
      "cell_type": "markdown",
      "source": [
        "\n",
        "\n",
        "---\n",
        "\n"
      ],
      "metadata": {
        "id": "GsgcnR7C-d9w"
      }
    },
    {
      "cell_type": "markdown",
      "source": [
        "### 13.In which ML approach is a computer algorithm trained using input data together with its expected output?\n",
        "* Unsupervised Learning\n",
        "* Reinforcement Learning\n",
        "* Supervised Learning\n",
        "* Ensemble Learning"
      ],
      "metadata": {
        "id": "iLj82zNwBxuv"
      }
    },
    {
      "cell_type": "markdown",
      "source": [
        "**Supervised Learning** is the ML approach where a computer algorithm is trained using input data together with its expected output."
      ],
      "metadata": {
        "id": "CAdaYCwaB--O"
      }
    },
    {
      "cell_type": "markdown",
      "source": [
        "\n",
        "\n",
        "---\n",
        "\n"
      ],
      "metadata": {
        "id": "dGTM95n_-dWR"
      }
    },
    {
      "cell_type": "markdown",
      "source": [
        "# Classification"
      ],
      "metadata": {
        "id": "IsjsGkrkDtdq"
      }
    },
    {
      "cell_type": "code",
      "source": [
        "import pandas as pd"
      ],
      "metadata": {
        "id": "YVMDoQ_2DxFL"
      },
      "execution_count": null,
      "outputs": []
    },
    {
      "cell_type": "code",
      "source": [
        "from google.colab import files\n",
        "uploaded = files.upload()"
      ],
      "metadata": {
        "colab": {
          "base_uri": "https://localhost:8080/",
          "height": 73
        },
        "id": "PV2MBTkPD_Ca",
        "outputId": "00c11ad8-e0dd-4f71-8149-72634d53fee7"
      },
      "execution_count": null,
      "outputs": [
        {
          "output_type": "display_data",
          "data": {
            "text/plain": [
              "<IPython.core.display.HTML object>"
            ],
            "text/html": [
              "\n",
              "     <input type=\"file\" id=\"files-a4b11c46-eb3c-4ceb-81c0-a9d14b7c4ec1\" name=\"files[]\" multiple disabled\n",
              "        style=\"border:none\" />\n",
              "     <output id=\"result-a4b11c46-eb3c-4ceb-81c0-a9d14b7c4ec1\">\n",
              "      Upload widget is only available when the cell has been executed in the\n",
              "      current browser session. Please rerun this cell to enable.\n",
              "      </output>\n",
              "      <script>// Copyright 2017 Google LLC\n",
              "//\n",
              "// Licensed under the Apache License, Version 2.0 (the \"License\");\n",
              "// you may not use this file except in compliance with the License.\n",
              "// You may obtain a copy of the License at\n",
              "//\n",
              "//      http://www.apache.org/licenses/LICENSE-2.0\n",
              "//\n",
              "// Unless required by applicable law or agreed to in writing, software\n",
              "// distributed under the License is distributed on an \"AS IS\" BASIS,\n",
              "// WITHOUT WARRANTIES OR CONDITIONS OF ANY KIND, either express or implied.\n",
              "// See the License for the specific language governing permissions and\n",
              "// limitations under the License.\n",
              "\n",
              "/**\n",
              " * @fileoverview Helpers for google.colab Python module.\n",
              " */\n",
              "(function(scope) {\n",
              "function span(text, styleAttributes = {}) {\n",
              "  const element = document.createElement('span');\n",
              "  element.textContent = text;\n",
              "  for (const key of Object.keys(styleAttributes)) {\n",
              "    element.style[key] = styleAttributes[key];\n",
              "  }\n",
              "  return element;\n",
              "}\n",
              "\n",
              "// Max number of bytes which will be uploaded at a time.\n",
              "const MAX_PAYLOAD_SIZE = 100 * 1024;\n",
              "\n",
              "function _uploadFiles(inputId, outputId) {\n",
              "  const steps = uploadFilesStep(inputId, outputId);\n",
              "  const outputElement = document.getElementById(outputId);\n",
              "  // Cache steps on the outputElement to make it available for the next call\n",
              "  // to uploadFilesContinue from Python.\n",
              "  outputElement.steps = steps;\n",
              "\n",
              "  return _uploadFilesContinue(outputId);\n",
              "}\n",
              "\n",
              "// This is roughly an async generator (not supported in the browser yet),\n",
              "// where there are multiple asynchronous steps and the Python side is going\n",
              "// to poll for completion of each step.\n",
              "// This uses a Promise to block the python side on completion of each step,\n",
              "// then passes the result of the previous step as the input to the next step.\n",
              "function _uploadFilesContinue(outputId) {\n",
              "  const outputElement = document.getElementById(outputId);\n",
              "  const steps = outputElement.steps;\n",
              "\n",
              "  const next = steps.next(outputElement.lastPromiseValue);\n",
              "  return Promise.resolve(next.value.promise).then((value) => {\n",
              "    // Cache the last promise value to make it available to the next\n",
              "    // step of the generator.\n",
              "    outputElement.lastPromiseValue = value;\n",
              "    return next.value.response;\n",
              "  });\n",
              "}\n",
              "\n",
              "/**\n",
              " * Generator function which is called between each async step of the upload\n",
              " * process.\n",
              " * @param {string} inputId Element ID of the input file picker element.\n",
              " * @param {string} outputId Element ID of the output display.\n",
              " * @return {!Iterable<!Object>} Iterable of next steps.\n",
              " */\n",
              "function* uploadFilesStep(inputId, outputId) {\n",
              "  const inputElement = document.getElementById(inputId);\n",
              "  inputElement.disabled = false;\n",
              "\n",
              "  const outputElement = document.getElementById(outputId);\n",
              "  outputElement.innerHTML = '';\n",
              "\n",
              "  const pickedPromise = new Promise((resolve) => {\n",
              "    inputElement.addEventListener('change', (e) => {\n",
              "      resolve(e.target.files);\n",
              "    });\n",
              "  });\n",
              "\n",
              "  const cancel = document.createElement('button');\n",
              "  inputElement.parentElement.appendChild(cancel);\n",
              "  cancel.textContent = 'Cancel upload';\n",
              "  const cancelPromise = new Promise((resolve) => {\n",
              "    cancel.onclick = () => {\n",
              "      resolve(null);\n",
              "    };\n",
              "  });\n",
              "\n",
              "  // Wait for the user to pick the files.\n",
              "  const files = yield {\n",
              "    promise: Promise.race([pickedPromise, cancelPromise]),\n",
              "    response: {\n",
              "      action: 'starting',\n",
              "    }\n",
              "  };\n",
              "\n",
              "  cancel.remove();\n",
              "\n",
              "  // Disable the input element since further picks are not allowed.\n",
              "  inputElement.disabled = true;\n",
              "\n",
              "  if (!files) {\n",
              "    return {\n",
              "      response: {\n",
              "        action: 'complete',\n",
              "      }\n",
              "    };\n",
              "  }\n",
              "\n",
              "  for (const file of files) {\n",
              "    const li = document.createElement('li');\n",
              "    li.append(span(file.name, {fontWeight: 'bold'}));\n",
              "    li.append(span(\n",
              "        `(${file.type || 'n/a'}) - ${file.size} bytes, ` +\n",
              "        `last modified: ${\n",
              "            file.lastModifiedDate ? file.lastModifiedDate.toLocaleDateString() :\n",
              "                                    'n/a'} - `));\n",
              "    const percent = span('0% done');\n",
              "    li.appendChild(percent);\n",
              "\n",
              "    outputElement.appendChild(li);\n",
              "\n",
              "    const fileDataPromise = new Promise((resolve) => {\n",
              "      const reader = new FileReader();\n",
              "      reader.onload = (e) => {\n",
              "        resolve(e.target.result);\n",
              "      };\n",
              "      reader.readAsArrayBuffer(file);\n",
              "    });\n",
              "    // Wait for the data to be ready.\n",
              "    let fileData = yield {\n",
              "      promise: fileDataPromise,\n",
              "      response: {\n",
              "        action: 'continue',\n",
              "      }\n",
              "    };\n",
              "\n",
              "    // Use a chunked sending to avoid message size limits. See b/62115660.\n",
              "    let position = 0;\n",
              "    do {\n",
              "      const length = Math.min(fileData.byteLength - position, MAX_PAYLOAD_SIZE);\n",
              "      const chunk = new Uint8Array(fileData, position, length);\n",
              "      position += length;\n",
              "\n",
              "      const base64 = btoa(String.fromCharCode.apply(null, chunk));\n",
              "      yield {\n",
              "        response: {\n",
              "          action: 'append',\n",
              "          file: file.name,\n",
              "          data: base64,\n",
              "        },\n",
              "      };\n",
              "\n",
              "      let percentDone = fileData.byteLength === 0 ?\n",
              "          100 :\n",
              "          Math.round((position / fileData.byteLength) * 100);\n",
              "      percent.textContent = `${percentDone}% done`;\n",
              "\n",
              "    } while (position < fileData.byteLength);\n",
              "  }\n",
              "\n",
              "  // All done.\n",
              "  yield {\n",
              "    response: {\n",
              "      action: 'complete',\n",
              "    }\n",
              "  };\n",
              "}\n",
              "\n",
              "scope.google = scope.google || {};\n",
              "scope.google.colab = scope.google.colab || {};\n",
              "scope.google.colab._files = {\n",
              "  _uploadFiles,\n",
              "  _uploadFilesContinue,\n",
              "};\n",
              "})(self);\n",
              "</script> "
            ]
          },
          "metadata": {}
        },
        {
          "output_type": "stream",
          "name": "stdout",
          "text": [
            "Saving breast-cancer.csv to breast-cancer (1).csv\n"
          ]
        }
      ]
    },
    {
      "cell_type": "code",
      "source": [
        "# The code line are used to read data from CSV files into pandas DataFrames.\n",
        "dataset = pd.read_csv('breast-cancer.csv')"
      ],
      "metadata": {
        "id": "yHVJV73pELuj"
      },
      "execution_count": null,
      "outputs": []
    },
    {
      "cell_type": "code",
      "source": [
        "# It tells you how many rows and columns are in your dataset.\n",
        "# Bu kod size veri setinizde kaç satır ve kaç sütun olduğunu söyler.\n",
        "dataset.shape"
      ],
      "metadata": {
        "colab": {
          "base_uri": "https://localhost:8080/"
        },
        "id": "KlHHxk1fFBRm",
        "outputId": "dddf8cfc-f4be-4a91-d7e7-492a3a316b24"
      },
      "execution_count": null,
      "outputs": [
        {
          "output_type": "execute_result",
          "data": {
            "text/plain": [
              "(569, 31)"
            ]
          },
          "metadata": {},
          "execution_count": 60
        }
      ]
    },
    {
      "cell_type": "code",
      "source": [
        "# dataset.head() is a Python function used to quickly preview the first few rows of a DataFrame.\n",
        "# bir veri çerçevesinin ilk birkaç satırını görüntülemek için kullanılır.\n",
        "dataset.head()"
      ],
      "metadata": {
        "colab": {
          "base_uri": "https://localhost:8080/",
          "height": 273
        },
        "id": "0bEH7HkBFISu",
        "outputId": "f0be2977-bb29-4c32-e6bc-26fb2b640d18"
      },
      "execution_count": null,
      "outputs": [
        {
          "output_type": "execute_result",
          "data": {
            "text/plain": [
              "  diagnosis  radius_mean  texture_mean  perimeter_mean  area_mean  \\\n",
              "0         M     1.097064     -2.073335        1.269934   0.984375   \n",
              "1         M     1.829821     -0.353632        1.685955   1.908708   \n",
              "2         M     1.579888      0.456187        1.566503   1.558884   \n",
              "3         M    -0.768909      0.253732       -0.592687  -0.764464   \n",
              "4         M     1.750297     -1.151816        1.776573   1.826229   \n",
              "\n",
              "   smoothness_mean  compactness_mean  concavity_mean  concave points_mean  \\\n",
              "0         1.568466          3.283515        2.652874             2.532475   \n",
              "1        -0.826962         -0.487072       -0.023846             0.548144   \n",
              "2         0.942210          1.052926        1.363478             2.037231   \n",
              "3         3.283553          3.402909        1.915897             1.451707   \n",
              "4         0.280372          0.539340        1.371011             1.428493   \n",
              "\n",
              "   symmetry_mean  ...  radius_worst  texture_worst  perimeter_worst  \\\n",
              "0       2.217515  ...      1.886690      -1.359293         2.303601   \n",
              "1       0.001392  ...      1.805927      -0.369203         1.535126   \n",
              "2       0.939685  ...      1.511870      -0.023974         1.347475   \n",
              "3       2.867383  ...     -0.281464       0.133984        -0.249939   \n",
              "4      -0.009560  ...      1.298575      -1.466770         1.338539   \n",
              "\n",
              "   area_worst  smoothness_worst  compactness_worst  concavity_worst  \\\n",
              "0    2.001237          1.307686           2.616665         2.109526   \n",
              "1    1.890489         -0.375612          -0.430444        -0.146749   \n",
              "2    1.456285          0.527407           1.082932         0.854974   \n",
              "3   -0.550021          3.394275           3.893397         1.989588   \n",
              "4    1.220724          0.220556          -0.313395         0.613179   \n",
              "\n",
              "   concave points_worst  symmetry_worst  fractal_dimension_worst  \n",
              "0              2.296076        2.750622                 1.937015  \n",
              "1              1.087084       -0.243890                 0.281190  \n",
              "2              1.955000        1.152255                 0.201391  \n",
              "3              2.175786        6.046041                 4.935010  \n",
              "4              0.729259       -0.868353                -0.397100  \n",
              "\n",
              "[5 rows x 31 columns]"
            ],
            "text/html": [
              "\n",
              "  <div id=\"df-4f1f6e12-1605-43ae-8c3c-8d6b51ce87aa\" class=\"colab-df-container\">\n",
              "    <div>\n",
              "<style scoped>\n",
              "    .dataframe tbody tr th:only-of-type {\n",
              "        vertical-align: middle;\n",
              "    }\n",
              "\n",
              "    .dataframe tbody tr th {\n",
              "        vertical-align: top;\n",
              "    }\n",
              "\n",
              "    .dataframe thead th {\n",
              "        text-align: right;\n",
              "    }\n",
              "</style>\n",
              "<table border=\"1\" class=\"dataframe\">\n",
              "  <thead>\n",
              "    <tr style=\"text-align: right;\">\n",
              "      <th></th>\n",
              "      <th>diagnosis</th>\n",
              "      <th>radius_mean</th>\n",
              "      <th>texture_mean</th>\n",
              "      <th>perimeter_mean</th>\n",
              "      <th>area_mean</th>\n",
              "      <th>smoothness_mean</th>\n",
              "      <th>compactness_mean</th>\n",
              "      <th>concavity_mean</th>\n",
              "      <th>concave points_mean</th>\n",
              "      <th>symmetry_mean</th>\n",
              "      <th>...</th>\n",
              "      <th>radius_worst</th>\n",
              "      <th>texture_worst</th>\n",
              "      <th>perimeter_worst</th>\n",
              "      <th>area_worst</th>\n",
              "      <th>smoothness_worst</th>\n",
              "      <th>compactness_worst</th>\n",
              "      <th>concavity_worst</th>\n",
              "      <th>concave points_worst</th>\n",
              "      <th>symmetry_worst</th>\n",
              "      <th>fractal_dimension_worst</th>\n",
              "    </tr>\n",
              "  </thead>\n",
              "  <tbody>\n",
              "    <tr>\n",
              "      <th>0</th>\n",
              "      <td>M</td>\n",
              "      <td>1.097064</td>\n",
              "      <td>-2.073335</td>\n",
              "      <td>1.269934</td>\n",
              "      <td>0.984375</td>\n",
              "      <td>1.568466</td>\n",
              "      <td>3.283515</td>\n",
              "      <td>2.652874</td>\n",
              "      <td>2.532475</td>\n",
              "      <td>2.217515</td>\n",
              "      <td>...</td>\n",
              "      <td>1.886690</td>\n",
              "      <td>-1.359293</td>\n",
              "      <td>2.303601</td>\n",
              "      <td>2.001237</td>\n",
              "      <td>1.307686</td>\n",
              "      <td>2.616665</td>\n",
              "      <td>2.109526</td>\n",
              "      <td>2.296076</td>\n",
              "      <td>2.750622</td>\n",
              "      <td>1.937015</td>\n",
              "    </tr>\n",
              "    <tr>\n",
              "      <th>1</th>\n",
              "      <td>M</td>\n",
              "      <td>1.829821</td>\n",
              "      <td>-0.353632</td>\n",
              "      <td>1.685955</td>\n",
              "      <td>1.908708</td>\n",
              "      <td>-0.826962</td>\n",
              "      <td>-0.487072</td>\n",
              "      <td>-0.023846</td>\n",
              "      <td>0.548144</td>\n",
              "      <td>0.001392</td>\n",
              "      <td>...</td>\n",
              "      <td>1.805927</td>\n",
              "      <td>-0.369203</td>\n",
              "      <td>1.535126</td>\n",
              "      <td>1.890489</td>\n",
              "      <td>-0.375612</td>\n",
              "      <td>-0.430444</td>\n",
              "      <td>-0.146749</td>\n",
              "      <td>1.087084</td>\n",
              "      <td>-0.243890</td>\n",
              "      <td>0.281190</td>\n",
              "    </tr>\n",
              "    <tr>\n",
              "      <th>2</th>\n",
              "      <td>M</td>\n",
              "      <td>1.579888</td>\n",
              "      <td>0.456187</td>\n",
              "      <td>1.566503</td>\n",
              "      <td>1.558884</td>\n",
              "      <td>0.942210</td>\n",
              "      <td>1.052926</td>\n",
              "      <td>1.363478</td>\n",
              "      <td>2.037231</td>\n",
              "      <td>0.939685</td>\n",
              "      <td>...</td>\n",
              "      <td>1.511870</td>\n",
              "      <td>-0.023974</td>\n",
              "      <td>1.347475</td>\n",
              "      <td>1.456285</td>\n",
              "      <td>0.527407</td>\n",
              "      <td>1.082932</td>\n",
              "      <td>0.854974</td>\n",
              "      <td>1.955000</td>\n",
              "      <td>1.152255</td>\n",
              "      <td>0.201391</td>\n",
              "    </tr>\n",
              "    <tr>\n",
              "      <th>3</th>\n",
              "      <td>M</td>\n",
              "      <td>-0.768909</td>\n",
              "      <td>0.253732</td>\n",
              "      <td>-0.592687</td>\n",
              "      <td>-0.764464</td>\n",
              "      <td>3.283553</td>\n",
              "      <td>3.402909</td>\n",
              "      <td>1.915897</td>\n",
              "      <td>1.451707</td>\n",
              "      <td>2.867383</td>\n",
              "      <td>...</td>\n",
              "      <td>-0.281464</td>\n",
              "      <td>0.133984</td>\n",
              "      <td>-0.249939</td>\n",
              "      <td>-0.550021</td>\n",
              "      <td>3.394275</td>\n",
              "      <td>3.893397</td>\n",
              "      <td>1.989588</td>\n",
              "      <td>2.175786</td>\n",
              "      <td>6.046041</td>\n",
              "      <td>4.935010</td>\n",
              "    </tr>\n",
              "    <tr>\n",
              "      <th>4</th>\n",
              "      <td>M</td>\n",
              "      <td>1.750297</td>\n",
              "      <td>-1.151816</td>\n",
              "      <td>1.776573</td>\n",
              "      <td>1.826229</td>\n",
              "      <td>0.280372</td>\n",
              "      <td>0.539340</td>\n",
              "      <td>1.371011</td>\n",
              "      <td>1.428493</td>\n",
              "      <td>-0.009560</td>\n",
              "      <td>...</td>\n",
              "      <td>1.298575</td>\n",
              "      <td>-1.466770</td>\n",
              "      <td>1.338539</td>\n",
              "      <td>1.220724</td>\n",
              "      <td>0.220556</td>\n",
              "      <td>-0.313395</td>\n",
              "      <td>0.613179</td>\n",
              "      <td>0.729259</td>\n",
              "      <td>-0.868353</td>\n",
              "      <td>-0.397100</td>\n",
              "    </tr>\n",
              "  </tbody>\n",
              "</table>\n",
              "<p>5 rows × 31 columns</p>\n",
              "</div>\n",
              "    <div class=\"colab-df-buttons\">\n",
              "\n",
              "  <div class=\"colab-df-container\">\n",
              "    <button class=\"colab-df-convert\" onclick=\"convertToInteractive('df-4f1f6e12-1605-43ae-8c3c-8d6b51ce87aa')\"\n",
              "            title=\"Convert this dataframe to an interactive table.\"\n",
              "            style=\"display:none;\">\n",
              "\n",
              "  <svg xmlns=\"http://www.w3.org/2000/svg\" height=\"24px\" viewBox=\"0 -960 960 960\">\n",
              "    <path d=\"M120-120v-720h720v720H120Zm60-500h600v-160H180v160Zm220 220h160v-160H400v160Zm0 220h160v-160H400v160ZM180-400h160v-160H180v160Zm440 0h160v-160H620v160ZM180-180h160v-160H180v160Zm440 0h160v-160H620v160Z\"/>\n",
              "  </svg>\n",
              "    </button>\n",
              "\n",
              "  <style>\n",
              "    .colab-df-container {\n",
              "      display:flex;\n",
              "      gap: 12px;\n",
              "    }\n",
              "\n",
              "    .colab-df-convert {\n",
              "      background-color: #E8F0FE;\n",
              "      border: none;\n",
              "      border-radius: 50%;\n",
              "      cursor: pointer;\n",
              "      display: none;\n",
              "      fill: #1967D2;\n",
              "      height: 32px;\n",
              "      padding: 0 0 0 0;\n",
              "      width: 32px;\n",
              "    }\n",
              "\n",
              "    .colab-df-convert:hover {\n",
              "      background-color: #E2EBFA;\n",
              "      box-shadow: 0px 1px 2px rgba(60, 64, 67, 0.3), 0px 1px 3px 1px rgba(60, 64, 67, 0.15);\n",
              "      fill: #174EA6;\n",
              "    }\n",
              "\n",
              "    .colab-df-buttons div {\n",
              "      margin-bottom: 4px;\n",
              "    }\n",
              "\n",
              "    [theme=dark] .colab-df-convert {\n",
              "      background-color: #3B4455;\n",
              "      fill: #D2E3FC;\n",
              "    }\n",
              "\n",
              "    [theme=dark] .colab-df-convert:hover {\n",
              "      background-color: #434B5C;\n",
              "      box-shadow: 0px 1px 3px 1px rgba(0, 0, 0, 0.15);\n",
              "      filter: drop-shadow(0px 1px 2px rgba(0, 0, 0, 0.3));\n",
              "      fill: #FFFFFF;\n",
              "    }\n",
              "  </style>\n",
              "\n",
              "    <script>\n",
              "      const buttonEl =\n",
              "        document.querySelector('#df-4f1f6e12-1605-43ae-8c3c-8d6b51ce87aa button.colab-df-convert');\n",
              "      buttonEl.style.display =\n",
              "        google.colab.kernel.accessAllowed ? 'block' : 'none';\n",
              "\n",
              "      async function convertToInteractive(key) {\n",
              "        const element = document.querySelector('#df-4f1f6e12-1605-43ae-8c3c-8d6b51ce87aa');\n",
              "        const dataTable =\n",
              "          await google.colab.kernel.invokeFunction('convertToInteractive',\n",
              "                                                    [key], {});\n",
              "        if (!dataTable) return;\n",
              "\n",
              "        const docLinkHtml = 'Like what you see? Visit the ' +\n",
              "          '<a target=\"_blank\" href=https://colab.research.google.com/notebooks/data_table.ipynb>data table notebook</a>'\n",
              "          + ' to learn more about interactive tables.';\n",
              "        element.innerHTML = '';\n",
              "        dataTable['output_type'] = 'display_data';\n",
              "        await google.colab.output.renderOutput(dataTable, element);\n",
              "        const docLink = document.createElement('div');\n",
              "        docLink.innerHTML = docLinkHtml;\n",
              "        element.appendChild(docLink);\n",
              "      }\n",
              "    </script>\n",
              "  </div>\n",
              "\n",
              "\n",
              "<div id=\"df-c1bb91eb-b796-4708-9b4d-da91691bf716\">\n",
              "  <button class=\"colab-df-quickchart\" onclick=\"quickchart('df-c1bb91eb-b796-4708-9b4d-da91691bf716')\"\n",
              "            title=\"Suggest charts\"\n",
              "            style=\"display:none;\">\n",
              "\n",
              "<svg xmlns=\"http://www.w3.org/2000/svg\" height=\"24px\"viewBox=\"0 0 24 24\"\n",
              "     width=\"24px\">\n",
              "    <g>\n",
              "        <path d=\"M19 3H5c-1.1 0-2 .9-2 2v14c0 1.1.9 2 2 2h14c1.1 0 2-.9 2-2V5c0-1.1-.9-2-2-2zM9 17H7v-7h2v7zm4 0h-2V7h2v10zm4 0h-2v-4h2v4z\"/>\n",
              "    </g>\n",
              "</svg>\n",
              "  </button>\n",
              "\n",
              "<style>\n",
              "  .colab-df-quickchart {\n",
              "      --bg-color: #E8F0FE;\n",
              "      --fill-color: #1967D2;\n",
              "      --hover-bg-color: #E2EBFA;\n",
              "      --hover-fill-color: #174EA6;\n",
              "      --disabled-fill-color: #AAA;\n",
              "      --disabled-bg-color: #DDD;\n",
              "  }\n",
              "\n",
              "  [theme=dark] .colab-df-quickchart {\n",
              "      --bg-color: #3B4455;\n",
              "      --fill-color: #D2E3FC;\n",
              "      --hover-bg-color: #434B5C;\n",
              "      --hover-fill-color: #FFFFFF;\n",
              "      --disabled-bg-color: #3B4455;\n",
              "      --disabled-fill-color: #666;\n",
              "  }\n",
              "\n",
              "  .colab-df-quickchart {\n",
              "    background-color: var(--bg-color);\n",
              "    border: none;\n",
              "    border-radius: 50%;\n",
              "    cursor: pointer;\n",
              "    display: none;\n",
              "    fill: var(--fill-color);\n",
              "    height: 32px;\n",
              "    padding: 0;\n",
              "    width: 32px;\n",
              "  }\n",
              "\n",
              "  .colab-df-quickchart:hover {\n",
              "    background-color: var(--hover-bg-color);\n",
              "    box-shadow: 0 1px 2px rgba(60, 64, 67, 0.3), 0 1px 3px 1px rgba(60, 64, 67, 0.15);\n",
              "    fill: var(--button-hover-fill-color);\n",
              "  }\n",
              "\n",
              "  .colab-df-quickchart-complete:disabled,\n",
              "  .colab-df-quickchart-complete:disabled:hover {\n",
              "    background-color: var(--disabled-bg-color);\n",
              "    fill: var(--disabled-fill-color);\n",
              "    box-shadow: none;\n",
              "  }\n",
              "\n",
              "  .colab-df-spinner {\n",
              "    border: 2px solid var(--fill-color);\n",
              "    border-color: transparent;\n",
              "    border-bottom-color: var(--fill-color);\n",
              "    animation:\n",
              "      spin 1s steps(1) infinite;\n",
              "  }\n",
              "\n",
              "  @keyframes spin {\n",
              "    0% {\n",
              "      border-color: transparent;\n",
              "      border-bottom-color: var(--fill-color);\n",
              "      border-left-color: var(--fill-color);\n",
              "    }\n",
              "    20% {\n",
              "      border-color: transparent;\n",
              "      border-left-color: var(--fill-color);\n",
              "      border-top-color: var(--fill-color);\n",
              "    }\n",
              "    30% {\n",
              "      border-color: transparent;\n",
              "      border-left-color: var(--fill-color);\n",
              "      border-top-color: var(--fill-color);\n",
              "      border-right-color: var(--fill-color);\n",
              "    }\n",
              "    40% {\n",
              "      border-color: transparent;\n",
              "      border-right-color: var(--fill-color);\n",
              "      border-top-color: var(--fill-color);\n",
              "    }\n",
              "    60% {\n",
              "      border-color: transparent;\n",
              "      border-right-color: var(--fill-color);\n",
              "    }\n",
              "    80% {\n",
              "      border-color: transparent;\n",
              "      border-right-color: var(--fill-color);\n",
              "      border-bottom-color: var(--fill-color);\n",
              "    }\n",
              "    90% {\n",
              "      border-color: transparent;\n",
              "      border-bottom-color: var(--fill-color);\n",
              "    }\n",
              "  }\n",
              "</style>\n",
              "\n",
              "  <script>\n",
              "    async function quickchart(key) {\n",
              "      const quickchartButtonEl =\n",
              "        document.querySelector('#' + key + ' button');\n",
              "      quickchartButtonEl.disabled = true;  // To prevent multiple clicks.\n",
              "      quickchartButtonEl.classList.add('colab-df-spinner');\n",
              "      try {\n",
              "        const charts = await google.colab.kernel.invokeFunction(\n",
              "            'suggestCharts', [key], {});\n",
              "      } catch (error) {\n",
              "        console.error('Error during call to suggestCharts:', error);\n",
              "      }\n",
              "      quickchartButtonEl.classList.remove('colab-df-spinner');\n",
              "      quickchartButtonEl.classList.add('colab-df-quickchart-complete');\n",
              "    }\n",
              "    (() => {\n",
              "      let quickchartButtonEl =\n",
              "        document.querySelector('#df-c1bb91eb-b796-4708-9b4d-da91691bf716 button');\n",
              "      quickchartButtonEl.style.display =\n",
              "        google.colab.kernel.accessAllowed ? 'block' : 'none';\n",
              "    })();\n",
              "  </script>\n",
              "</div>\n",
              "\n",
              "    </div>\n",
              "  </div>\n"
            ],
            "application/vnd.google.colaboratory.intrinsic+json": {
              "type": "dataframe",
              "variable_name": "dataset"
            }
          },
          "metadata": {},
          "execution_count": 61
        }
      ]
    },
    {
      "cell_type": "code",
      "source": [
        "# Displays the last few rows of the dataset (5 by default).\n",
        "# Veri setinin son birkaç satırını görüntüler (varsayılan olarak 5).\n",
        "dataset.tail()"
      ],
      "metadata": {
        "colab": {
          "base_uri": "https://localhost:8080/",
          "height": 273
        },
        "id": "C_sgcLHfFRGO",
        "outputId": "b61735f9-8f5b-44e4-e9d6-61a822320944"
      },
      "execution_count": null,
      "outputs": [
        {
          "output_type": "execute_result",
          "data": {
            "text/plain": [
              "    diagnosis  radius_mean  texture_mean  perimeter_mean  area_mean  \\\n",
              "564         M     2.110995      0.721473        2.060786   2.343856   \n",
              "565         M     1.704854      2.085134        1.615931   1.723842   \n",
              "566         M     0.702284      2.045574        0.672676   0.577953   \n",
              "567         M     1.838341      2.336457        1.982524   1.735218   \n",
              "568         B    -1.808401      1.221792       -1.814389  -1.347789   \n",
              "\n",
              "     smoothness_mean  compactness_mean  concavity_mean  concave points_mean  \\\n",
              "564         1.041842          0.219060        1.947285             2.320965   \n",
              "565         0.102458         -0.017833        0.693043             1.263669   \n",
              "566        -0.840484         -0.038680        0.046588             0.105777   \n",
              "567         1.525767          3.272144        3.296944             2.658866   \n",
              "568        -3.112085         -1.150752       -1.114873            -1.261820   \n",
              "\n",
              "     symmetry_mean  ...  radius_worst  texture_worst  perimeter_worst  \\\n",
              "564      -0.312589  ...      1.901185       0.117700         1.752563   \n",
              "565      -0.217664  ...      1.536720       2.047399         1.421940   \n",
              "566      -0.809117  ...      0.561361       1.374854         0.579001   \n",
              "567       2.137194  ...      1.961239       2.237926         2.303601   \n",
              "568      -0.820070  ...     -1.410893       0.764190        -1.432735   \n",
              "\n",
              "     area_worst  smoothness_worst  compactness_worst  concavity_worst  \\\n",
              "564    2.015301          0.378365          -0.273318         0.664512   \n",
              "565    1.494959         -0.691230          -0.394820         0.236573   \n",
              "566    0.427906         -0.809587           0.350735         0.326767   \n",
              "567    1.653171          1.430427           3.904848         3.197605   \n",
              "568   -1.075813         -1.859019          -1.207552        -1.305831   \n",
              "\n",
              "     concave points_worst  symmetry_worst  fractal_dimension_worst  \n",
              "564              1.629151       -1.360158                -0.709091  \n",
              "565              0.733827       -0.531855                -0.973978  \n",
              "566              0.414069       -1.104549                -0.318409  \n",
              "567              2.289985        1.919083                 2.219635  \n",
              "568             -1.745063       -0.048138                -0.751207  \n",
              "\n",
              "[5 rows x 31 columns]"
            ],
            "text/html": [
              "\n",
              "  <div id=\"df-00d17382-eae1-40e2-86d1-d9c39598f7a2\" class=\"colab-df-container\">\n",
              "    <div>\n",
              "<style scoped>\n",
              "    .dataframe tbody tr th:only-of-type {\n",
              "        vertical-align: middle;\n",
              "    }\n",
              "\n",
              "    .dataframe tbody tr th {\n",
              "        vertical-align: top;\n",
              "    }\n",
              "\n",
              "    .dataframe thead th {\n",
              "        text-align: right;\n",
              "    }\n",
              "</style>\n",
              "<table border=\"1\" class=\"dataframe\">\n",
              "  <thead>\n",
              "    <tr style=\"text-align: right;\">\n",
              "      <th></th>\n",
              "      <th>diagnosis</th>\n",
              "      <th>radius_mean</th>\n",
              "      <th>texture_mean</th>\n",
              "      <th>perimeter_mean</th>\n",
              "      <th>area_mean</th>\n",
              "      <th>smoothness_mean</th>\n",
              "      <th>compactness_mean</th>\n",
              "      <th>concavity_mean</th>\n",
              "      <th>concave points_mean</th>\n",
              "      <th>symmetry_mean</th>\n",
              "      <th>...</th>\n",
              "      <th>radius_worst</th>\n",
              "      <th>texture_worst</th>\n",
              "      <th>perimeter_worst</th>\n",
              "      <th>area_worst</th>\n",
              "      <th>smoothness_worst</th>\n",
              "      <th>compactness_worst</th>\n",
              "      <th>concavity_worst</th>\n",
              "      <th>concave points_worst</th>\n",
              "      <th>symmetry_worst</th>\n",
              "      <th>fractal_dimension_worst</th>\n",
              "    </tr>\n",
              "  </thead>\n",
              "  <tbody>\n",
              "    <tr>\n",
              "      <th>564</th>\n",
              "      <td>M</td>\n",
              "      <td>2.110995</td>\n",
              "      <td>0.721473</td>\n",
              "      <td>2.060786</td>\n",
              "      <td>2.343856</td>\n",
              "      <td>1.041842</td>\n",
              "      <td>0.219060</td>\n",
              "      <td>1.947285</td>\n",
              "      <td>2.320965</td>\n",
              "      <td>-0.312589</td>\n",
              "      <td>...</td>\n",
              "      <td>1.901185</td>\n",
              "      <td>0.117700</td>\n",
              "      <td>1.752563</td>\n",
              "      <td>2.015301</td>\n",
              "      <td>0.378365</td>\n",
              "      <td>-0.273318</td>\n",
              "      <td>0.664512</td>\n",
              "      <td>1.629151</td>\n",
              "      <td>-1.360158</td>\n",
              "      <td>-0.709091</td>\n",
              "    </tr>\n",
              "    <tr>\n",
              "      <th>565</th>\n",
              "      <td>M</td>\n",
              "      <td>1.704854</td>\n",
              "      <td>2.085134</td>\n",
              "      <td>1.615931</td>\n",
              "      <td>1.723842</td>\n",
              "      <td>0.102458</td>\n",
              "      <td>-0.017833</td>\n",
              "      <td>0.693043</td>\n",
              "      <td>1.263669</td>\n",
              "      <td>-0.217664</td>\n",
              "      <td>...</td>\n",
              "      <td>1.536720</td>\n",
              "      <td>2.047399</td>\n",
              "      <td>1.421940</td>\n",
              "      <td>1.494959</td>\n",
              "      <td>-0.691230</td>\n",
              "      <td>-0.394820</td>\n",
              "      <td>0.236573</td>\n",
              "      <td>0.733827</td>\n",
              "      <td>-0.531855</td>\n",
              "      <td>-0.973978</td>\n",
              "    </tr>\n",
              "    <tr>\n",
              "      <th>566</th>\n",
              "      <td>M</td>\n",
              "      <td>0.702284</td>\n",
              "      <td>2.045574</td>\n",
              "      <td>0.672676</td>\n",
              "      <td>0.577953</td>\n",
              "      <td>-0.840484</td>\n",
              "      <td>-0.038680</td>\n",
              "      <td>0.046588</td>\n",
              "      <td>0.105777</td>\n",
              "      <td>-0.809117</td>\n",
              "      <td>...</td>\n",
              "      <td>0.561361</td>\n",
              "      <td>1.374854</td>\n",
              "      <td>0.579001</td>\n",
              "      <td>0.427906</td>\n",
              "      <td>-0.809587</td>\n",
              "      <td>0.350735</td>\n",
              "      <td>0.326767</td>\n",
              "      <td>0.414069</td>\n",
              "      <td>-1.104549</td>\n",
              "      <td>-0.318409</td>\n",
              "    </tr>\n",
              "    <tr>\n",
              "      <th>567</th>\n",
              "      <td>M</td>\n",
              "      <td>1.838341</td>\n",
              "      <td>2.336457</td>\n",
              "      <td>1.982524</td>\n",
              "      <td>1.735218</td>\n",
              "      <td>1.525767</td>\n",
              "      <td>3.272144</td>\n",
              "      <td>3.296944</td>\n",
              "      <td>2.658866</td>\n",
              "      <td>2.137194</td>\n",
              "      <td>...</td>\n",
              "      <td>1.961239</td>\n",
              "      <td>2.237926</td>\n",
              "      <td>2.303601</td>\n",
              "      <td>1.653171</td>\n",
              "      <td>1.430427</td>\n",
              "      <td>3.904848</td>\n",
              "      <td>3.197605</td>\n",
              "      <td>2.289985</td>\n",
              "      <td>1.919083</td>\n",
              "      <td>2.219635</td>\n",
              "    </tr>\n",
              "    <tr>\n",
              "      <th>568</th>\n",
              "      <td>B</td>\n",
              "      <td>-1.808401</td>\n",
              "      <td>1.221792</td>\n",
              "      <td>-1.814389</td>\n",
              "      <td>-1.347789</td>\n",
              "      <td>-3.112085</td>\n",
              "      <td>-1.150752</td>\n",
              "      <td>-1.114873</td>\n",
              "      <td>-1.261820</td>\n",
              "      <td>-0.820070</td>\n",
              "      <td>...</td>\n",
              "      <td>-1.410893</td>\n",
              "      <td>0.764190</td>\n",
              "      <td>-1.432735</td>\n",
              "      <td>-1.075813</td>\n",
              "      <td>-1.859019</td>\n",
              "      <td>-1.207552</td>\n",
              "      <td>-1.305831</td>\n",
              "      <td>-1.745063</td>\n",
              "      <td>-0.048138</td>\n",
              "      <td>-0.751207</td>\n",
              "    </tr>\n",
              "  </tbody>\n",
              "</table>\n",
              "<p>5 rows × 31 columns</p>\n",
              "</div>\n",
              "    <div class=\"colab-df-buttons\">\n",
              "\n",
              "  <div class=\"colab-df-container\">\n",
              "    <button class=\"colab-df-convert\" onclick=\"convertToInteractive('df-00d17382-eae1-40e2-86d1-d9c39598f7a2')\"\n",
              "            title=\"Convert this dataframe to an interactive table.\"\n",
              "            style=\"display:none;\">\n",
              "\n",
              "  <svg xmlns=\"http://www.w3.org/2000/svg\" height=\"24px\" viewBox=\"0 -960 960 960\">\n",
              "    <path d=\"M120-120v-720h720v720H120Zm60-500h600v-160H180v160Zm220 220h160v-160H400v160Zm0 220h160v-160H400v160ZM180-400h160v-160H180v160Zm440 0h160v-160H620v160ZM180-180h160v-160H180v160Zm440 0h160v-160H620v160Z\"/>\n",
              "  </svg>\n",
              "    </button>\n",
              "\n",
              "  <style>\n",
              "    .colab-df-container {\n",
              "      display:flex;\n",
              "      gap: 12px;\n",
              "    }\n",
              "\n",
              "    .colab-df-convert {\n",
              "      background-color: #E8F0FE;\n",
              "      border: none;\n",
              "      border-radius: 50%;\n",
              "      cursor: pointer;\n",
              "      display: none;\n",
              "      fill: #1967D2;\n",
              "      height: 32px;\n",
              "      padding: 0 0 0 0;\n",
              "      width: 32px;\n",
              "    }\n",
              "\n",
              "    .colab-df-convert:hover {\n",
              "      background-color: #E2EBFA;\n",
              "      box-shadow: 0px 1px 2px rgba(60, 64, 67, 0.3), 0px 1px 3px 1px rgba(60, 64, 67, 0.15);\n",
              "      fill: #174EA6;\n",
              "    }\n",
              "\n",
              "    .colab-df-buttons div {\n",
              "      margin-bottom: 4px;\n",
              "    }\n",
              "\n",
              "    [theme=dark] .colab-df-convert {\n",
              "      background-color: #3B4455;\n",
              "      fill: #D2E3FC;\n",
              "    }\n",
              "\n",
              "    [theme=dark] .colab-df-convert:hover {\n",
              "      background-color: #434B5C;\n",
              "      box-shadow: 0px 1px 3px 1px rgba(0, 0, 0, 0.15);\n",
              "      filter: drop-shadow(0px 1px 2px rgba(0, 0, 0, 0.3));\n",
              "      fill: #FFFFFF;\n",
              "    }\n",
              "  </style>\n",
              "\n",
              "    <script>\n",
              "      const buttonEl =\n",
              "        document.querySelector('#df-00d17382-eae1-40e2-86d1-d9c39598f7a2 button.colab-df-convert');\n",
              "      buttonEl.style.display =\n",
              "        google.colab.kernel.accessAllowed ? 'block' : 'none';\n",
              "\n",
              "      async function convertToInteractive(key) {\n",
              "        const element = document.querySelector('#df-00d17382-eae1-40e2-86d1-d9c39598f7a2');\n",
              "        const dataTable =\n",
              "          await google.colab.kernel.invokeFunction('convertToInteractive',\n",
              "                                                    [key], {});\n",
              "        if (!dataTable) return;\n",
              "\n",
              "        const docLinkHtml = 'Like what you see? Visit the ' +\n",
              "          '<a target=\"_blank\" href=https://colab.research.google.com/notebooks/data_table.ipynb>data table notebook</a>'\n",
              "          + ' to learn more about interactive tables.';\n",
              "        element.innerHTML = '';\n",
              "        dataTable['output_type'] = 'display_data';\n",
              "        await google.colab.output.renderOutput(dataTable, element);\n",
              "        const docLink = document.createElement('div');\n",
              "        docLink.innerHTML = docLinkHtml;\n",
              "        element.appendChild(docLink);\n",
              "      }\n",
              "    </script>\n",
              "  </div>\n",
              "\n",
              "\n",
              "<div id=\"df-9cfc33c3-a310-407b-9190-b30c8808bf9f\">\n",
              "  <button class=\"colab-df-quickchart\" onclick=\"quickchart('df-9cfc33c3-a310-407b-9190-b30c8808bf9f')\"\n",
              "            title=\"Suggest charts\"\n",
              "            style=\"display:none;\">\n",
              "\n",
              "<svg xmlns=\"http://www.w3.org/2000/svg\" height=\"24px\"viewBox=\"0 0 24 24\"\n",
              "     width=\"24px\">\n",
              "    <g>\n",
              "        <path d=\"M19 3H5c-1.1 0-2 .9-2 2v14c0 1.1.9 2 2 2h14c1.1 0 2-.9 2-2V5c0-1.1-.9-2-2-2zM9 17H7v-7h2v7zm4 0h-2V7h2v10zm4 0h-2v-4h2v4z\"/>\n",
              "    </g>\n",
              "</svg>\n",
              "  </button>\n",
              "\n",
              "<style>\n",
              "  .colab-df-quickchart {\n",
              "      --bg-color: #E8F0FE;\n",
              "      --fill-color: #1967D2;\n",
              "      --hover-bg-color: #E2EBFA;\n",
              "      --hover-fill-color: #174EA6;\n",
              "      --disabled-fill-color: #AAA;\n",
              "      --disabled-bg-color: #DDD;\n",
              "  }\n",
              "\n",
              "  [theme=dark] .colab-df-quickchart {\n",
              "      --bg-color: #3B4455;\n",
              "      --fill-color: #D2E3FC;\n",
              "      --hover-bg-color: #434B5C;\n",
              "      --hover-fill-color: #FFFFFF;\n",
              "      --disabled-bg-color: #3B4455;\n",
              "      --disabled-fill-color: #666;\n",
              "  }\n",
              "\n",
              "  .colab-df-quickchart {\n",
              "    background-color: var(--bg-color);\n",
              "    border: none;\n",
              "    border-radius: 50%;\n",
              "    cursor: pointer;\n",
              "    display: none;\n",
              "    fill: var(--fill-color);\n",
              "    height: 32px;\n",
              "    padding: 0;\n",
              "    width: 32px;\n",
              "  }\n",
              "\n",
              "  .colab-df-quickchart:hover {\n",
              "    background-color: var(--hover-bg-color);\n",
              "    box-shadow: 0 1px 2px rgba(60, 64, 67, 0.3), 0 1px 3px 1px rgba(60, 64, 67, 0.15);\n",
              "    fill: var(--button-hover-fill-color);\n",
              "  }\n",
              "\n",
              "  .colab-df-quickchart-complete:disabled,\n",
              "  .colab-df-quickchart-complete:disabled:hover {\n",
              "    background-color: var(--disabled-bg-color);\n",
              "    fill: var(--disabled-fill-color);\n",
              "    box-shadow: none;\n",
              "  }\n",
              "\n",
              "  .colab-df-spinner {\n",
              "    border: 2px solid var(--fill-color);\n",
              "    border-color: transparent;\n",
              "    border-bottom-color: var(--fill-color);\n",
              "    animation:\n",
              "      spin 1s steps(1) infinite;\n",
              "  }\n",
              "\n",
              "  @keyframes spin {\n",
              "    0% {\n",
              "      border-color: transparent;\n",
              "      border-bottom-color: var(--fill-color);\n",
              "      border-left-color: var(--fill-color);\n",
              "    }\n",
              "    20% {\n",
              "      border-color: transparent;\n",
              "      border-left-color: var(--fill-color);\n",
              "      border-top-color: var(--fill-color);\n",
              "    }\n",
              "    30% {\n",
              "      border-color: transparent;\n",
              "      border-left-color: var(--fill-color);\n",
              "      border-top-color: var(--fill-color);\n",
              "      border-right-color: var(--fill-color);\n",
              "    }\n",
              "    40% {\n",
              "      border-color: transparent;\n",
              "      border-right-color: var(--fill-color);\n",
              "      border-top-color: var(--fill-color);\n",
              "    }\n",
              "    60% {\n",
              "      border-color: transparent;\n",
              "      border-right-color: var(--fill-color);\n",
              "    }\n",
              "    80% {\n",
              "      border-color: transparent;\n",
              "      border-right-color: var(--fill-color);\n",
              "      border-bottom-color: var(--fill-color);\n",
              "    }\n",
              "    90% {\n",
              "      border-color: transparent;\n",
              "      border-bottom-color: var(--fill-color);\n",
              "    }\n",
              "  }\n",
              "</style>\n",
              "\n",
              "  <script>\n",
              "    async function quickchart(key) {\n",
              "      const quickchartButtonEl =\n",
              "        document.querySelector('#' + key + ' button');\n",
              "      quickchartButtonEl.disabled = true;  // To prevent multiple clicks.\n",
              "      quickchartButtonEl.classList.add('colab-df-spinner');\n",
              "      try {\n",
              "        const charts = await google.colab.kernel.invokeFunction(\n",
              "            'suggestCharts', [key], {});\n",
              "      } catch (error) {\n",
              "        console.error('Error during call to suggestCharts:', error);\n",
              "      }\n",
              "      quickchartButtonEl.classList.remove('colab-df-spinner');\n",
              "      quickchartButtonEl.classList.add('colab-df-quickchart-complete');\n",
              "    }\n",
              "    (() => {\n",
              "      let quickchartButtonEl =\n",
              "        document.querySelector('#df-9cfc33c3-a310-407b-9190-b30c8808bf9f button');\n",
              "      quickchartButtonEl.style.display =\n",
              "        google.colab.kernel.accessAllowed ? 'block' : 'none';\n",
              "    })();\n",
              "  </script>\n",
              "</div>\n",
              "\n",
              "    </div>\n",
              "  </div>\n"
            ],
            "application/vnd.google.colaboratory.intrinsic+json": {
              "type": "dataframe"
            }
          },
          "metadata": {},
          "execution_count": 62
        }
      ]
    },
    {
      "cell_type": "code",
      "source": [
        "'''\n",
        "This code block is used to convert a categorical variable (in this case, the \"diagnosis\" column)\n",
        "in a DataFrame to a numerical value. This is necessary because many machine learning algorithms\n",
        "can only work with numerical data.\n",
        "'''\n",
        "\n",
        "'''\n",
        "Bu kod bloğu, bir veri çerçevesindeki kategorik bir değişkeni (bu örnekte \"diagnosis\" sütunu)\n",
        "sayısal bir değere dönüştürmek için kullanılır. Bu işlem, birçok makine öğrenmesi algoritmasının\n",
        "sadece sayısal verilerle çalışabildiği için önemlidir.\n",
        "'''\n",
        "from sklearn.preprocessing import LabelEncoder\n",
        "labelencoder = LabelEncoder()\n",
        "dataset[\"diagnosis\"] = labelencoder.fit_transform(dataset[\"diagnosis\"].values)"
      ],
      "metadata": {
        "id": "A5HnTdUTFaw3"
      },
      "execution_count": null,
      "outputs": []
    },
    {
      "cell_type": "code",
      "source": [
        "dataset.head()"
      ],
      "metadata": {
        "colab": {
          "base_uri": "https://localhost:8080/",
          "height": 273
        },
        "id": "j02c93pmFb2n",
        "outputId": "ea774ccc-2ac9-4b0b-c5b4-e603052d5cca"
      },
      "execution_count": null,
      "outputs": [
        {
          "output_type": "execute_result",
          "data": {
            "text/plain": [
              "   diagnosis  radius_mean  texture_mean  perimeter_mean  area_mean  \\\n",
              "0          1     1.097064     -2.073335        1.269934   0.984375   \n",
              "1          1     1.829821     -0.353632        1.685955   1.908708   \n",
              "2          1     1.579888      0.456187        1.566503   1.558884   \n",
              "3          1    -0.768909      0.253732       -0.592687  -0.764464   \n",
              "4          1     1.750297     -1.151816        1.776573   1.826229   \n",
              "\n",
              "   smoothness_mean  compactness_mean  concavity_mean  concave points_mean  \\\n",
              "0         1.568466          3.283515        2.652874             2.532475   \n",
              "1        -0.826962         -0.487072       -0.023846             0.548144   \n",
              "2         0.942210          1.052926        1.363478             2.037231   \n",
              "3         3.283553          3.402909        1.915897             1.451707   \n",
              "4         0.280372          0.539340        1.371011             1.428493   \n",
              "\n",
              "   symmetry_mean  ...  radius_worst  texture_worst  perimeter_worst  \\\n",
              "0       2.217515  ...      1.886690      -1.359293         2.303601   \n",
              "1       0.001392  ...      1.805927      -0.369203         1.535126   \n",
              "2       0.939685  ...      1.511870      -0.023974         1.347475   \n",
              "3       2.867383  ...     -0.281464       0.133984        -0.249939   \n",
              "4      -0.009560  ...      1.298575      -1.466770         1.338539   \n",
              "\n",
              "   area_worst  smoothness_worst  compactness_worst  concavity_worst  \\\n",
              "0    2.001237          1.307686           2.616665         2.109526   \n",
              "1    1.890489         -0.375612          -0.430444        -0.146749   \n",
              "2    1.456285          0.527407           1.082932         0.854974   \n",
              "3   -0.550021          3.394275           3.893397         1.989588   \n",
              "4    1.220724          0.220556          -0.313395         0.613179   \n",
              "\n",
              "   concave points_worst  symmetry_worst  fractal_dimension_worst  \n",
              "0              2.296076        2.750622                 1.937015  \n",
              "1              1.087084       -0.243890                 0.281190  \n",
              "2              1.955000        1.152255                 0.201391  \n",
              "3              2.175786        6.046041                 4.935010  \n",
              "4              0.729259       -0.868353                -0.397100  \n",
              "\n",
              "[5 rows x 31 columns]"
            ],
            "text/html": [
              "\n",
              "  <div id=\"df-f42b73f9-e0d2-4d8a-aa8e-1f5ecf41dd59\" class=\"colab-df-container\">\n",
              "    <div>\n",
              "<style scoped>\n",
              "    .dataframe tbody tr th:only-of-type {\n",
              "        vertical-align: middle;\n",
              "    }\n",
              "\n",
              "    .dataframe tbody tr th {\n",
              "        vertical-align: top;\n",
              "    }\n",
              "\n",
              "    .dataframe thead th {\n",
              "        text-align: right;\n",
              "    }\n",
              "</style>\n",
              "<table border=\"1\" class=\"dataframe\">\n",
              "  <thead>\n",
              "    <tr style=\"text-align: right;\">\n",
              "      <th></th>\n",
              "      <th>diagnosis</th>\n",
              "      <th>radius_mean</th>\n",
              "      <th>texture_mean</th>\n",
              "      <th>perimeter_mean</th>\n",
              "      <th>area_mean</th>\n",
              "      <th>smoothness_mean</th>\n",
              "      <th>compactness_mean</th>\n",
              "      <th>concavity_mean</th>\n",
              "      <th>concave points_mean</th>\n",
              "      <th>symmetry_mean</th>\n",
              "      <th>...</th>\n",
              "      <th>radius_worst</th>\n",
              "      <th>texture_worst</th>\n",
              "      <th>perimeter_worst</th>\n",
              "      <th>area_worst</th>\n",
              "      <th>smoothness_worst</th>\n",
              "      <th>compactness_worst</th>\n",
              "      <th>concavity_worst</th>\n",
              "      <th>concave points_worst</th>\n",
              "      <th>symmetry_worst</th>\n",
              "      <th>fractal_dimension_worst</th>\n",
              "    </tr>\n",
              "  </thead>\n",
              "  <tbody>\n",
              "    <tr>\n",
              "      <th>0</th>\n",
              "      <td>1</td>\n",
              "      <td>1.097064</td>\n",
              "      <td>-2.073335</td>\n",
              "      <td>1.269934</td>\n",
              "      <td>0.984375</td>\n",
              "      <td>1.568466</td>\n",
              "      <td>3.283515</td>\n",
              "      <td>2.652874</td>\n",
              "      <td>2.532475</td>\n",
              "      <td>2.217515</td>\n",
              "      <td>...</td>\n",
              "      <td>1.886690</td>\n",
              "      <td>-1.359293</td>\n",
              "      <td>2.303601</td>\n",
              "      <td>2.001237</td>\n",
              "      <td>1.307686</td>\n",
              "      <td>2.616665</td>\n",
              "      <td>2.109526</td>\n",
              "      <td>2.296076</td>\n",
              "      <td>2.750622</td>\n",
              "      <td>1.937015</td>\n",
              "    </tr>\n",
              "    <tr>\n",
              "      <th>1</th>\n",
              "      <td>1</td>\n",
              "      <td>1.829821</td>\n",
              "      <td>-0.353632</td>\n",
              "      <td>1.685955</td>\n",
              "      <td>1.908708</td>\n",
              "      <td>-0.826962</td>\n",
              "      <td>-0.487072</td>\n",
              "      <td>-0.023846</td>\n",
              "      <td>0.548144</td>\n",
              "      <td>0.001392</td>\n",
              "      <td>...</td>\n",
              "      <td>1.805927</td>\n",
              "      <td>-0.369203</td>\n",
              "      <td>1.535126</td>\n",
              "      <td>1.890489</td>\n",
              "      <td>-0.375612</td>\n",
              "      <td>-0.430444</td>\n",
              "      <td>-0.146749</td>\n",
              "      <td>1.087084</td>\n",
              "      <td>-0.243890</td>\n",
              "      <td>0.281190</td>\n",
              "    </tr>\n",
              "    <tr>\n",
              "      <th>2</th>\n",
              "      <td>1</td>\n",
              "      <td>1.579888</td>\n",
              "      <td>0.456187</td>\n",
              "      <td>1.566503</td>\n",
              "      <td>1.558884</td>\n",
              "      <td>0.942210</td>\n",
              "      <td>1.052926</td>\n",
              "      <td>1.363478</td>\n",
              "      <td>2.037231</td>\n",
              "      <td>0.939685</td>\n",
              "      <td>...</td>\n",
              "      <td>1.511870</td>\n",
              "      <td>-0.023974</td>\n",
              "      <td>1.347475</td>\n",
              "      <td>1.456285</td>\n",
              "      <td>0.527407</td>\n",
              "      <td>1.082932</td>\n",
              "      <td>0.854974</td>\n",
              "      <td>1.955000</td>\n",
              "      <td>1.152255</td>\n",
              "      <td>0.201391</td>\n",
              "    </tr>\n",
              "    <tr>\n",
              "      <th>3</th>\n",
              "      <td>1</td>\n",
              "      <td>-0.768909</td>\n",
              "      <td>0.253732</td>\n",
              "      <td>-0.592687</td>\n",
              "      <td>-0.764464</td>\n",
              "      <td>3.283553</td>\n",
              "      <td>3.402909</td>\n",
              "      <td>1.915897</td>\n",
              "      <td>1.451707</td>\n",
              "      <td>2.867383</td>\n",
              "      <td>...</td>\n",
              "      <td>-0.281464</td>\n",
              "      <td>0.133984</td>\n",
              "      <td>-0.249939</td>\n",
              "      <td>-0.550021</td>\n",
              "      <td>3.394275</td>\n",
              "      <td>3.893397</td>\n",
              "      <td>1.989588</td>\n",
              "      <td>2.175786</td>\n",
              "      <td>6.046041</td>\n",
              "      <td>4.935010</td>\n",
              "    </tr>\n",
              "    <tr>\n",
              "      <th>4</th>\n",
              "      <td>1</td>\n",
              "      <td>1.750297</td>\n",
              "      <td>-1.151816</td>\n",
              "      <td>1.776573</td>\n",
              "      <td>1.826229</td>\n",
              "      <td>0.280372</td>\n",
              "      <td>0.539340</td>\n",
              "      <td>1.371011</td>\n",
              "      <td>1.428493</td>\n",
              "      <td>-0.009560</td>\n",
              "      <td>...</td>\n",
              "      <td>1.298575</td>\n",
              "      <td>-1.466770</td>\n",
              "      <td>1.338539</td>\n",
              "      <td>1.220724</td>\n",
              "      <td>0.220556</td>\n",
              "      <td>-0.313395</td>\n",
              "      <td>0.613179</td>\n",
              "      <td>0.729259</td>\n",
              "      <td>-0.868353</td>\n",
              "      <td>-0.397100</td>\n",
              "    </tr>\n",
              "  </tbody>\n",
              "</table>\n",
              "<p>5 rows × 31 columns</p>\n",
              "</div>\n",
              "    <div class=\"colab-df-buttons\">\n",
              "\n",
              "  <div class=\"colab-df-container\">\n",
              "    <button class=\"colab-df-convert\" onclick=\"convertToInteractive('df-f42b73f9-e0d2-4d8a-aa8e-1f5ecf41dd59')\"\n",
              "            title=\"Convert this dataframe to an interactive table.\"\n",
              "            style=\"display:none;\">\n",
              "\n",
              "  <svg xmlns=\"http://www.w3.org/2000/svg\" height=\"24px\" viewBox=\"0 -960 960 960\">\n",
              "    <path d=\"M120-120v-720h720v720H120Zm60-500h600v-160H180v160Zm220 220h160v-160H400v160Zm0 220h160v-160H400v160ZM180-400h160v-160H180v160Zm440 0h160v-160H620v160ZM180-180h160v-160H180v160Zm440 0h160v-160H620v160Z\"/>\n",
              "  </svg>\n",
              "    </button>\n",
              "\n",
              "  <style>\n",
              "    .colab-df-container {\n",
              "      display:flex;\n",
              "      gap: 12px;\n",
              "    }\n",
              "\n",
              "    .colab-df-convert {\n",
              "      background-color: #E8F0FE;\n",
              "      border: none;\n",
              "      border-radius: 50%;\n",
              "      cursor: pointer;\n",
              "      display: none;\n",
              "      fill: #1967D2;\n",
              "      height: 32px;\n",
              "      padding: 0 0 0 0;\n",
              "      width: 32px;\n",
              "    }\n",
              "\n",
              "    .colab-df-convert:hover {\n",
              "      background-color: #E2EBFA;\n",
              "      box-shadow: 0px 1px 2px rgba(60, 64, 67, 0.3), 0px 1px 3px 1px rgba(60, 64, 67, 0.15);\n",
              "      fill: #174EA6;\n",
              "    }\n",
              "\n",
              "    .colab-df-buttons div {\n",
              "      margin-bottom: 4px;\n",
              "    }\n",
              "\n",
              "    [theme=dark] .colab-df-convert {\n",
              "      background-color: #3B4455;\n",
              "      fill: #D2E3FC;\n",
              "    }\n",
              "\n",
              "    [theme=dark] .colab-df-convert:hover {\n",
              "      background-color: #434B5C;\n",
              "      box-shadow: 0px 1px 3px 1px rgba(0, 0, 0, 0.15);\n",
              "      filter: drop-shadow(0px 1px 2px rgba(0, 0, 0, 0.3));\n",
              "      fill: #FFFFFF;\n",
              "    }\n",
              "  </style>\n",
              "\n",
              "    <script>\n",
              "      const buttonEl =\n",
              "        document.querySelector('#df-f42b73f9-e0d2-4d8a-aa8e-1f5ecf41dd59 button.colab-df-convert');\n",
              "      buttonEl.style.display =\n",
              "        google.colab.kernel.accessAllowed ? 'block' : 'none';\n",
              "\n",
              "      async function convertToInteractive(key) {\n",
              "        const element = document.querySelector('#df-f42b73f9-e0d2-4d8a-aa8e-1f5ecf41dd59');\n",
              "        const dataTable =\n",
              "          await google.colab.kernel.invokeFunction('convertToInteractive',\n",
              "                                                    [key], {});\n",
              "        if (!dataTable) return;\n",
              "\n",
              "        const docLinkHtml = 'Like what you see? Visit the ' +\n",
              "          '<a target=\"_blank\" href=https://colab.research.google.com/notebooks/data_table.ipynb>data table notebook</a>'\n",
              "          + ' to learn more about interactive tables.';\n",
              "        element.innerHTML = '';\n",
              "        dataTable['output_type'] = 'display_data';\n",
              "        await google.colab.output.renderOutput(dataTable, element);\n",
              "        const docLink = document.createElement('div');\n",
              "        docLink.innerHTML = docLinkHtml;\n",
              "        element.appendChild(docLink);\n",
              "      }\n",
              "    </script>\n",
              "  </div>\n",
              "\n",
              "\n",
              "<div id=\"df-abfcffec-49da-4778-84f5-0e8bf701f74d\">\n",
              "  <button class=\"colab-df-quickchart\" onclick=\"quickchart('df-abfcffec-49da-4778-84f5-0e8bf701f74d')\"\n",
              "            title=\"Suggest charts\"\n",
              "            style=\"display:none;\">\n",
              "\n",
              "<svg xmlns=\"http://www.w3.org/2000/svg\" height=\"24px\"viewBox=\"0 0 24 24\"\n",
              "     width=\"24px\">\n",
              "    <g>\n",
              "        <path d=\"M19 3H5c-1.1 0-2 .9-2 2v14c0 1.1.9 2 2 2h14c1.1 0 2-.9 2-2V5c0-1.1-.9-2-2-2zM9 17H7v-7h2v7zm4 0h-2V7h2v10zm4 0h-2v-4h2v4z\"/>\n",
              "    </g>\n",
              "</svg>\n",
              "  </button>\n",
              "\n",
              "<style>\n",
              "  .colab-df-quickchart {\n",
              "      --bg-color: #E8F0FE;\n",
              "      --fill-color: #1967D2;\n",
              "      --hover-bg-color: #E2EBFA;\n",
              "      --hover-fill-color: #174EA6;\n",
              "      --disabled-fill-color: #AAA;\n",
              "      --disabled-bg-color: #DDD;\n",
              "  }\n",
              "\n",
              "  [theme=dark] .colab-df-quickchart {\n",
              "      --bg-color: #3B4455;\n",
              "      --fill-color: #D2E3FC;\n",
              "      --hover-bg-color: #434B5C;\n",
              "      --hover-fill-color: #FFFFFF;\n",
              "      --disabled-bg-color: #3B4455;\n",
              "      --disabled-fill-color: #666;\n",
              "  }\n",
              "\n",
              "  .colab-df-quickchart {\n",
              "    background-color: var(--bg-color);\n",
              "    border: none;\n",
              "    border-radius: 50%;\n",
              "    cursor: pointer;\n",
              "    display: none;\n",
              "    fill: var(--fill-color);\n",
              "    height: 32px;\n",
              "    padding: 0;\n",
              "    width: 32px;\n",
              "  }\n",
              "\n",
              "  .colab-df-quickchart:hover {\n",
              "    background-color: var(--hover-bg-color);\n",
              "    box-shadow: 0 1px 2px rgba(60, 64, 67, 0.3), 0 1px 3px 1px rgba(60, 64, 67, 0.15);\n",
              "    fill: var(--button-hover-fill-color);\n",
              "  }\n",
              "\n",
              "  .colab-df-quickchart-complete:disabled,\n",
              "  .colab-df-quickchart-complete:disabled:hover {\n",
              "    background-color: var(--disabled-bg-color);\n",
              "    fill: var(--disabled-fill-color);\n",
              "    box-shadow: none;\n",
              "  }\n",
              "\n",
              "  .colab-df-spinner {\n",
              "    border: 2px solid var(--fill-color);\n",
              "    border-color: transparent;\n",
              "    border-bottom-color: var(--fill-color);\n",
              "    animation:\n",
              "      spin 1s steps(1) infinite;\n",
              "  }\n",
              "\n",
              "  @keyframes spin {\n",
              "    0% {\n",
              "      border-color: transparent;\n",
              "      border-bottom-color: var(--fill-color);\n",
              "      border-left-color: var(--fill-color);\n",
              "    }\n",
              "    20% {\n",
              "      border-color: transparent;\n",
              "      border-left-color: var(--fill-color);\n",
              "      border-top-color: var(--fill-color);\n",
              "    }\n",
              "    30% {\n",
              "      border-color: transparent;\n",
              "      border-left-color: var(--fill-color);\n",
              "      border-top-color: var(--fill-color);\n",
              "      border-right-color: var(--fill-color);\n",
              "    }\n",
              "    40% {\n",
              "      border-color: transparent;\n",
              "      border-right-color: var(--fill-color);\n",
              "      border-top-color: var(--fill-color);\n",
              "    }\n",
              "    60% {\n",
              "      border-color: transparent;\n",
              "      border-right-color: var(--fill-color);\n",
              "    }\n",
              "    80% {\n",
              "      border-color: transparent;\n",
              "      border-right-color: var(--fill-color);\n",
              "      border-bottom-color: var(--fill-color);\n",
              "    }\n",
              "    90% {\n",
              "      border-color: transparent;\n",
              "      border-bottom-color: var(--fill-color);\n",
              "    }\n",
              "  }\n",
              "</style>\n",
              "\n",
              "  <script>\n",
              "    async function quickchart(key) {\n",
              "      const quickchartButtonEl =\n",
              "        document.querySelector('#' + key + ' button');\n",
              "      quickchartButtonEl.disabled = true;  // To prevent multiple clicks.\n",
              "      quickchartButtonEl.classList.add('colab-df-spinner');\n",
              "      try {\n",
              "        const charts = await google.colab.kernel.invokeFunction(\n",
              "            'suggestCharts', [key], {});\n",
              "      } catch (error) {\n",
              "        console.error('Error during call to suggestCharts:', error);\n",
              "      }\n",
              "      quickchartButtonEl.classList.remove('colab-df-spinner');\n",
              "      quickchartButtonEl.classList.add('colab-df-quickchart-complete');\n",
              "    }\n",
              "    (() => {\n",
              "      let quickchartButtonEl =\n",
              "        document.querySelector('#df-abfcffec-49da-4778-84f5-0e8bf701f74d button');\n",
              "      quickchartButtonEl.style.display =\n",
              "        google.colab.kernel.accessAllowed ? 'block' : 'none';\n",
              "    })();\n",
              "  </script>\n",
              "</div>\n",
              "\n",
              "    </div>\n",
              "  </div>\n"
            ],
            "application/vnd.google.colaboratory.intrinsic+json": {
              "type": "dataframe",
              "variable_name": "dataset"
            }
          },
          "metadata": {},
          "execution_count": 64
        }
      ]
    },
    {
      "cell_type": "code",
      "source": [
        "dataset.tail()"
      ],
      "metadata": {
        "colab": {
          "base_uri": "https://localhost:8080/",
          "height": 273
        },
        "id": "EFmDKYZzFfkH",
        "outputId": "26dfcb36-2713-42a6-b141-ae7b4aef4f94"
      },
      "execution_count": null,
      "outputs": [
        {
          "output_type": "execute_result",
          "data": {
            "text/plain": [
              "     diagnosis  radius_mean  texture_mean  perimeter_mean  area_mean  \\\n",
              "564          1     2.110995      0.721473        2.060786   2.343856   \n",
              "565          1     1.704854      2.085134        1.615931   1.723842   \n",
              "566          1     0.702284      2.045574        0.672676   0.577953   \n",
              "567          1     1.838341      2.336457        1.982524   1.735218   \n",
              "568          0    -1.808401      1.221792       -1.814389  -1.347789   \n",
              "\n",
              "     smoothness_mean  compactness_mean  concavity_mean  concave points_mean  \\\n",
              "564         1.041842          0.219060        1.947285             2.320965   \n",
              "565         0.102458         -0.017833        0.693043             1.263669   \n",
              "566        -0.840484         -0.038680        0.046588             0.105777   \n",
              "567         1.525767          3.272144        3.296944             2.658866   \n",
              "568        -3.112085         -1.150752       -1.114873            -1.261820   \n",
              "\n",
              "     symmetry_mean  ...  radius_worst  texture_worst  perimeter_worst  \\\n",
              "564      -0.312589  ...      1.901185       0.117700         1.752563   \n",
              "565      -0.217664  ...      1.536720       2.047399         1.421940   \n",
              "566      -0.809117  ...      0.561361       1.374854         0.579001   \n",
              "567       2.137194  ...      1.961239       2.237926         2.303601   \n",
              "568      -0.820070  ...     -1.410893       0.764190        -1.432735   \n",
              "\n",
              "     area_worst  smoothness_worst  compactness_worst  concavity_worst  \\\n",
              "564    2.015301          0.378365          -0.273318         0.664512   \n",
              "565    1.494959         -0.691230          -0.394820         0.236573   \n",
              "566    0.427906         -0.809587           0.350735         0.326767   \n",
              "567    1.653171          1.430427           3.904848         3.197605   \n",
              "568   -1.075813         -1.859019          -1.207552        -1.305831   \n",
              "\n",
              "     concave points_worst  symmetry_worst  fractal_dimension_worst  \n",
              "564              1.629151       -1.360158                -0.709091  \n",
              "565              0.733827       -0.531855                -0.973978  \n",
              "566              0.414069       -1.104549                -0.318409  \n",
              "567              2.289985        1.919083                 2.219635  \n",
              "568             -1.745063       -0.048138                -0.751207  \n",
              "\n",
              "[5 rows x 31 columns]"
            ],
            "text/html": [
              "\n",
              "  <div id=\"df-f28d88fe-08db-4850-9f4b-07ba0e16e0b9\" class=\"colab-df-container\">\n",
              "    <div>\n",
              "<style scoped>\n",
              "    .dataframe tbody tr th:only-of-type {\n",
              "        vertical-align: middle;\n",
              "    }\n",
              "\n",
              "    .dataframe tbody tr th {\n",
              "        vertical-align: top;\n",
              "    }\n",
              "\n",
              "    .dataframe thead th {\n",
              "        text-align: right;\n",
              "    }\n",
              "</style>\n",
              "<table border=\"1\" class=\"dataframe\">\n",
              "  <thead>\n",
              "    <tr style=\"text-align: right;\">\n",
              "      <th></th>\n",
              "      <th>diagnosis</th>\n",
              "      <th>radius_mean</th>\n",
              "      <th>texture_mean</th>\n",
              "      <th>perimeter_mean</th>\n",
              "      <th>area_mean</th>\n",
              "      <th>smoothness_mean</th>\n",
              "      <th>compactness_mean</th>\n",
              "      <th>concavity_mean</th>\n",
              "      <th>concave points_mean</th>\n",
              "      <th>symmetry_mean</th>\n",
              "      <th>...</th>\n",
              "      <th>radius_worst</th>\n",
              "      <th>texture_worst</th>\n",
              "      <th>perimeter_worst</th>\n",
              "      <th>area_worst</th>\n",
              "      <th>smoothness_worst</th>\n",
              "      <th>compactness_worst</th>\n",
              "      <th>concavity_worst</th>\n",
              "      <th>concave points_worst</th>\n",
              "      <th>symmetry_worst</th>\n",
              "      <th>fractal_dimension_worst</th>\n",
              "    </tr>\n",
              "  </thead>\n",
              "  <tbody>\n",
              "    <tr>\n",
              "      <th>564</th>\n",
              "      <td>1</td>\n",
              "      <td>2.110995</td>\n",
              "      <td>0.721473</td>\n",
              "      <td>2.060786</td>\n",
              "      <td>2.343856</td>\n",
              "      <td>1.041842</td>\n",
              "      <td>0.219060</td>\n",
              "      <td>1.947285</td>\n",
              "      <td>2.320965</td>\n",
              "      <td>-0.312589</td>\n",
              "      <td>...</td>\n",
              "      <td>1.901185</td>\n",
              "      <td>0.117700</td>\n",
              "      <td>1.752563</td>\n",
              "      <td>2.015301</td>\n",
              "      <td>0.378365</td>\n",
              "      <td>-0.273318</td>\n",
              "      <td>0.664512</td>\n",
              "      <td>1.629151</td>\n",
              "      <td>-1.360158</td>\n",
              "      <td>-0.709091</td>\n",
              "    </tr>\n",
              "    <tr>\n",
              "      <th>565</th>\n",
              "      <td>1</td>\n",
              "      <td>1.704854</td>\n",
              "      <td>2.085134</td>\n",
              "      <td>1.615931</td>\n",
              "      <td>1.723842</td>\n",
              "      <td>0.102458</td>\n",
              "      <td>-0.017833</td>\n",
              "      <td>0.693043</td>\n",
              "      <td>1.263669</td>\n",
              "      <td>-0.217664</td>\n",
              "      <td>...</td>\n",
              "      <td>1.536720</td>\n",
              "      <td>2.047399</td>\n",
              "      <td>1.421940</td>\n",
              "      <td>1.494959</td>\n",
              "      <td>-0.691230</td>\n",
              "      <td>-0.394820</td>\n",
              "      <td>0.236573</td>\n",
              "      <td>0.733827</td>\n",
              "      <td>-0.531855</td>\n",
              "      <td>-0.973978</td>\n",
              "    </tr>\n",
              "    <tr>\n",
              "      <th>566</th>\n",
              "      <td>1</td>\n",
              "      <td>0.702284</td>\n",
              "      <td>2.045574</td>\n",
              "      <td>0.672676</td>\n",
              "      <td>0.577953</td>\n",
              "      <td>-0.840484</td>\n",
              "      <td>-0.038680</td>\n",
              "      <td>0.046588</td>\n",
              "      <td>0.105777</td>\n",
              "      <td>-0.809117</td>\n",
              "      <td>...</td>\n",
              "      <td>0.561361</td>\n",
              "      <td>1.374854</td>\n",
              "      <td>0.579001</td>\n",
              "      <td>0.427906</td>\n",
              "      <td>-0.809587</td>\n",
              "      <td>0.350735</td>\n",
              "      <td>0.326767</td>\n",
              "      <td>0.414069</td>\n",
              "      <td>-1.104549</td>\n",
              "      <td>-0.318409</td>\n",
              "    </tr>\n",
              "    <tr>\n",
              "      <th>567</th>\n",
              "      <td>1</td>\n",
              "      <td>1.838341</td>\n",
              "      <td>2.336457</td>\n",
              "      <td>1.982524</td>\n",
              "      <td>1.735218</td>\n",
              "      <td>1.525767</td>\n",
              "      <td>3.272144</td>\n",
              "      <td>3.296944</td>\n",
              "      <td>2.658866</td>\n",
              "      <td>2.137194</td>\n",
              "      <td>...</td>\n",
              "      <td>1.961239</td>\n",
              "      <td>2.237926</td>\n",
              "      <td>2.303601</td>\n",
              "      <td>1.653171</td>\n",
              "      <td>1.430427</td>\n",
              "      <td>3.904848</td>\n",
              "      <td>3.197605</td>\n",
              "      <td>2.289985</td>\n",
              "      <td>1.919083</td>\n",
              "      <td>2.219635</td>\n",
              "    </tr>\n",
              "    <tr>\n",
              "      <th>568</th>\n",
              "      <td>0</td>\n",
              "      <td>-1.808401</td>\n",
              "      <td>1.221792</td>\n",
              "      <td>-1.814389</td>\n",
              "      <td>-1.347789</td>\n",
              "      <td>-3.112085</td>\n",
              "      <td>-1.150752</td>\n",
              "      <td>-1.114873</td>\n",
              "      <td>-1.261820</td>\n",
              "      <td>-0.820070</td>\n",
              "      <td>...</td>\n",
              "      <td>-1.410893</td>\n",
              "      <td>0.764190</td>\n",
              "      <td>-1.432735</td>\n",
              "      <td>-1.075813</td>\n",
              "      <td>-1.859019</td>\n",
              "      <td>-1.207552</td>\n",
              "      <td>-1.305831</td>\n",
              "      <td>-1.745063</td>\n",
              "      <td>-0.048138</td>\n",
              "      <td>-0.751207</td>\n",
              "    </tr>\n",
              "  </tbody>\n",
              "</table>\n",
              "<p>5 rows × 31 columns</p>\n",
              "</div>\n",
              "    <div class=\"colab-df-buttons\">\n",
              "\n",
              "  <div class=\"colab-df-container\">\n",
              "    <button class=\"colab-df-convert\" onclick=\"convertToInteractive('df-f28d88fe-08db-4850-9f4b-07ba0e16e0b9')\"\n",
              "            title=\"Convert this dataframe to an interactive table.\"\n",
              "            style=\"display:none;\">\n",
              "\n",
              "  <svg xmlns=\"http://www.w3.org/2000/svg\" height=\"24px\" viewBox=\"0 -960 960 960\">\n",
              "    <path d=\"M120-120v-720h720v720H120Zm60-500h600v-160H180v160Zm220 220h160v-160H400v160Zm0 220h160v-160H400v160ZM180-400h160v-160H180v160Zm440 0h160v-160H620v160ZM180-180h160v-160H180v160Zm440 0h160v-160H620v160Z\"/>\n",
              "  </svg>\n",
              "    </button>\n",
              "\n",
              "  <style>\n",
              "    .colab-df-container {\n",
              "      display:flex;\n",
              "      gap: 12px;\n",
              "    }\n",
              "\n",
              "    .colab-df-convert {\n",
              "      background-color: #E8F0FE;\n",
              "      border: none;\n",
              "      border-radius: 50%;\n",
              "      cursor: pointer;\n",
              "      display: none;\n",
              "      fill: #1967D2;\n",
              "      height: 32px;\n",
              "      padding: 0 0 0 0;\n",
              "      width: 32px;\n",
              "    }\n",
              "\n",
              "    .colab-df-convert:hover {\n",
              "      background-color: #E2EBFA;\n",
              "      box-shadow: 0px 1px 2px rgba(60, 64, 67, 0.3), 0px 1px 3px 1px rgba(60, 64, 67, 0.15);\n",
              "      fill: #174EA6;\n",
              "    }\n",
              "\n",
              "    .colab-df-buttons div {\n",
              "      margin-bottom: 4px;\n",
              "    }\n",
              "\n",
              "    [theme=dark] .colab-df-convert {\n",
              "      background-color: #3B4455;\n",
              "      fill: #D2E3FC;\n",
              "    }\n",
              "\n",
              "    [theme=dark] .colab-df-convert:hover {\n",
              "      background-color: #434B5C;\n",
              "      box-shadow: 0px 1px 3px 1px rgba(0, 0, 0, 0.15);\n",
              "      filter: drop-shadow(0px 1px 2px rgba(0, 0, 0, 0.3));\n",
              "      fill: #FFFFFF;\n",
              "    }\n",
              "  </style>\n",
              "\n",
              "    <script>\n",
              "      const buttonEl =\n",
              "        document.querySelector('#df-f28d88fe-08db-4850-9f4b-07ba0e16e0b9 button.colab-df-convert');\n",
              "      buttonEl.style.display =\n",
              "        google.colab.kernel.accessAllowed ? 'block' : 'none';\n",
              "\n",
              "      async function convertToInteractive(key) {\n",
              "        const element = document.querySelector('#df-f28d88fe-08db-4850-9f4b-07ba0e16e0b9');\n",
              "        const dataTable =\n",
              "          await google.colab.kernel.invokeFunction('convertToInteractive',\n",
              "                                                    [key], {});\n",
              "        if (!dataTable) return;\n",
              "\n",
              "        const docLinkHtml = 'Like what you see? Visit the ' +\n",
              "          '<a target=\"_blank\" href=https://colab.research.google.com/notebooks/data_table.ipynb>data table notebook</a>'\n",
              "          + ' to learn more about interactive tables.';\n",
              "        element.innerHTML = '';\n",
              "        dataTable['output_type'] = 'display_data';\n",
              "        await google.colab.output.renderOutput(dataTable, element);\n",
              "        const docLink = document.createElement('div');\n",
              "        docLink.innerHTML = docLinkHtml;\n",
              "        element.appendChild(docLink);\n",
              "      }\n",
              "    </script>\n",
              "  </div>\n",
              "\n",
              "\n",
              "<div id=\"df-d62ad81e-9f91-4510-8f69-a869ea1c461f\">\n",
              "  <button class=\"colab-df-quickchart\" onclick=\"quickchart('df-d62ad81e-9f91-4510-8f69-a869ea1c461f')\"\n",
              "            title=\"Suggest charts\"\n",
              "            style=\"display:none;\">\n",
              "\n",
              "<svg xmlns=\"http://www.w3.org/2000/svg\" height=\"24px\"viewBox=\"0 0 24 24\"\n",
              "     width=\"24px\">\n",
              "    <g>\n",
              "        <path d=\"M19 3H5c-1.1 0-2 .9-2 2v14c0 1.1.9 2 2 2h14c1.1 0 2-.9 2-2V5c0-1.1-.9-2-2-2zM9 17H7v-7h2v7zm4 0h-2V7h2v10zm4 0h-2v-4h2v4z\"/>\n",
              "    </g>\n",
              "</svg>\n",
              "  </button>\n",
              "\n",
              "<style>\n",
              "  .colab-df-quickchart {\n",
              "      --bg-color: #E8F0FE;\n",
              "      --fill-color: #1967D2;\n",
              "      --hover-bg-color: #E2EBFA;\n",
              "      --hover-fill-color: #174EA6;\n",
              "      --disabled-fill-color: #AAA;\n",
              "      --disabled-bg-color: #DDD;\n",
              "  }\n",
              "\n",
              "  [theme=dark] .colab-df-quickchart {\n",
              "      --bg-color: #3B4455;\n",
              "      --fill-color: #D2E3FC;\n",
              "      --hover-bg-color: #434B5C;\n",
              "      --hover-fill-color: #FFFFFF;\n",
              "      --disabled-bg-color: #3B4455;\n",
              "      --disabled-fill-color: #666;\n",
              "  }\n",
              "\n",
              "  .colab-df-quickchart {\n",
              "    background-color: var(--bg-color);\n",
              "    border: none;\n",
              "    border-radius: 50%;\n",
              "    cursor: pointer;\n",
              "    display: none;\n",
              "    fill: var(--fill-color);\n",
              "    height: 32px;\n",
              "    padding: 0;\n",
              "    width: 32px;\n",
              "  }\n",
              "\n",
              "  .colab-df-quickchart:hover {\n",
              "    background-color: var(--hover-bg-color);\n",
              "    box-shadow: 0 1px 2px rgba(60, 64, 67, 0.3), 0 1px 3px 1px rgba(60, 64, 67, 0.15);\n",
              "    fill: var(--button-hover-fill-color);\n",
              "  }\n",
              "\n",
              "  .colab-df-quickchart-complete:disabled,\n",
              "  .colab-df-quickchart-complete:disabled:hover {\n",
              "    background-color: var(--disabled-bg-color);\n",
              "    fill: var(--disabled-fill-color);\n",
              "    box-shadow: none;\n",
              "  }\n",
              "\n",
              "  .colab-df-spinner {\n",
              "    border: 2px solid var(--fill-color);\n",
              "    border-color: transparent;\n",
              "    border-bottom-color: var(--fill-color);\n",
              "    animation:\n",
              "      spin 1s steps(1) infinite;\n",
              "  }\n",
              "\n",
              "  @keyframes spin {\n",
              "    0% {\n",
              "      border-color: transparent;\n",
              "      border-bottom-color: var(--fill-color);\n",
              "      border-left-color: var(--fill-color);\n",
              "    }\n",
              "    20% {\n",
              "      border-color: transparent;\n",
              "      border-left-color: var(--fill-color);\n",
              "      border-top-color: var(--fill-color);\n",
              "    }\n",
              "    30% {\n",
              "      border-color: transparent;\n",
              "      border-left-color: var(--fill-color);\n",
              "      border-top-color: var(--fill-color);\n",
              "      border-right-color: var(--fill-color);\n",
              "    }\n",
              "    40% {\n",
              "      border-color: transparent;\n",
              "      border-right-color: var(--fill-color);\n",
              "      border-top-color: var(--fill-color);\n",
              "    }\n",
              "    60% {\n",
              "      border-color: transparent;\n",
              "      border-right-color: var(--fill-color);\n",
              "    }\n",
              "    80% {\n",
              "      border-color: transparent;\n",
              "      border-right-color: var(--fill-color);\n",
              "      border-bottom-color: var(--fill-color);\n",
              "    }\n",
              "    90% {\n",
              "      border-color: transparent;\n",
              "      border-bottom-color: var(--fill-color);\n",
              "    }\n",
              "  }\n",
              "</style>\n",
              "\n",
              "  <script>\n",
              "    async function quickchart(key) {\n",
              "      const quickchartButtonEl =\n",
              "        document.querySelector('#' + key + ' button');\n",
              "      quickchartButtonEl.disabled = true;  // To prevent multiple clicks.\n",
              "      quickchartButtonEl.classList.add('colab-df-spinner');\n",
              "      try {\n",
              "        const charts = await google.colab.kernel.invokeFunction(\n",
              "            'suggestCharts', [key], {});\n",
              "      } catch (error) {\n",
              "        console.error('Error during call to suggestCharts:', error);\n",
              "      }\n",
              "      quickchartButtonEl.classList.remove('colab-df-spinner');\n",
              "      quickchartButtonEl.classList.add('colab-df-quickchart-complete');\n",
              "    }\n",
              "    (() => {\n",
              "      let quickchartButtonEl =\n",
              "        document.querySelector('#df-d62ad81e-9f91-4510-8f69-a869ea1c461f button');\n",
              "      quickchartButtonEl.style.display =\n",
              "        google.colab.kernel.accessAllowed ? 'block' : 'none';\n",
              "    })();\n",
              "  </script>\n",
              "</div>\n",
              "\n",
              "    </div>\n",
              "  </div>\n"
            ],
            "application/vnd.google.colaboratory.intrinsic+json": {
              "type": "dataframe"
            }
          },
          "metadata": {},
          "execution_count": 65
        }
      ]
    },
    {
      "cell_type": "code",
      "source": [
        "# This line of code imports the train_test_split function from the sklearn library.\n",
        "# Bu kod satırı, sklearn kütüphanesinden train_test_split fonksiyonunu import eder\n",
        "from sklearn.model_selection import train_test_split"
      ],
      "metadata": {
        "id": "gh0Sj1xbGCwf"
      },
      "execution_count": null,
      "outputs": []
    },
    {
      "cell_type": "code",
      "source": [
        "# This line of code splits a dataset into two subsets: a training set and a testing set.\n",
        "# bir makine öğrenmesi modelini eğitmek ve değerlendirmek için veri setini ikiye ayırır.\n",
        "train, test = train_test_split(dataset, test_size=0.3)"
      ],
      "metadata": {
        "id": "KIYHbaJaGImf"
      },
      "execution_count": null,
      "outputs": []
    },
    {
      "cell_type": "code",
      "source": [
        "'''\n",
        "This code block splits the data into training and testing sets, a common practice\n",
        "in machine learning. It separates the dataset into a portion used for training\n",
        "the model (training set) and a portion used for evaluating the model's performance (test set).\n",
        "'''\n",
        "\n",
        "'''\n",
        "Bu kod bloğu, makine öğrenmesi modellerinde sıkça kullanılan bir veri hazırlama\n",
        "işlemi olan \"eğitim\" ve \"test\" verilerinin ayrıştırılmasını yapar.\n",
        "Yani, bir veri setini modelin eğitimi için kullanılacak bir kısım (eğitim seti)\n",
        "ve modelin performansının değerlendirilmesi için kullanılacak bir kısım (test seti)\n",
        "olarak ayırır.\n",
        "'''\n",
        "\n",
        "X_train = train.drop(\"diagnosis\",axis=1)\n",
        "y_train = train.loc[:,\"diagnosis\"]\n",
        "\n",
        "X_test = test.drop(\"diagnosis\",axis=1)\n",
        "y_test = test.loc[:,\"diagnosis\"]"
      ],
      "metadata": {
        "id": "EZwzN7BvGLN_"
      },
      "execution_count": null,
      "outputs": []
    },
    {
      "cell_type": "code",
      "source": [
        "# This line of code imports the class from the scikit-learn library\n",
        "# to use the Logistic Regression model in Python.\n",
        "\n",
        "# scikit-learn kütüphanesinden Lojistik Regresyon modelini kullanabilmek için\n",
        "# gerekli olan sınıfı içe aktarma işlemini yapar\n",
        "\n",
        "\n",
        "from sklearn.linear_model import LogisticRegression"
      ],
      "metadata": {
        "id": "0LOq_rinGMgP"
      },
      "execution_count": null,
      "outputs": []
    },
    {
      "cell_type": "code",
      "source": [
        "# Creates a Logistic Regression model\n",
        "# Lojistik Regresyon modeli oluşturur\n",
        "\n",
        "model_1 = LogisticRegression()"
      ],
      "metadata": {
        "id": "KQqc1tneGNvP"
      },
      "execution_count": null,
      "outputs": []
    },
    {
      "cell_type": "code",
      "source": [
        "# it is used to start the learning process of the model.\n",
        "# modelin öğrenme sürecini başlatmak için kullanılır.\n",
        "\n",
        "model_1.fit(X_train,y_train)"
      ],
      "metadata": {
        "colab": {
          "base_uri": "https://localhost:8080/",
          "height": 75
        },
        "id": "tlZXkfdJGPYf",
        "outputId": "a53966d2-cf4f-4ac7-cf81-65628902e432"
      },
      "execution_count": null,
      "outputs": [
        {
          "output_type": "execute_result",
          "data": {
            "text/plain": [
              "LogisticRegression()"
            ],
            "text/html": [
              "<style>#sk-container-id-5 {color: black;}#sk-container-id-5 pre{padding: 0;}#sk-container-id-5 div.sk-toggleable {background-color: white;}#sk-container-id-5 label.sk-toggleable__label {cursor: pointer;display: block;width: 100%;margin-bottom: 0;padding: 0.3em;box-sizing: border-box;text-align: center;}#sk-container-id-5 label.sk-toggleable__label-arrow:before {content: \"▸\";float: left;margin-right: 0.25em;color: #696969;}#sk-container-id-5 label.sk-toggleable__label-arrow:hover:before {color: black;}#sk-container-id-5 div.sk-estimator:hover label.sk-toggleable__label-arrow:before {color: black;}#sk-container-id-5 div.sk-toggleable__content {max-height: 0;max-width: 0;overflow: hidden;text-align: left;background-color: #f0f8ff;}#sk-container-id-5 div.sk-toggleable__content pre {margin: 0.2em;color: black;border-radius: 0.25em;background-color: #f0f8ff;}#sk-container-id-5 input.sk-toggleable__control:checked~div.sk-toggleable__content {max-height: 200px;max-width: 100%;overflow: auto;}#sk-container-id-5 input.sk-toggleable__control:checked~label.sk-toggleable__label-arrow:before {content: \"▾\";}#sk-container-id-5 div.sk-estimator input.sk-toggleable__control:checked~label.sk-toggleable__label {background-color: #d4ebff;}#sk-container-id-5 div.sk-label input.sk-toggleable__control:checked~label.sk-toggleable__label {background-color: #d4ebff;}#sk-container-id-5 input.sk-hidden--visually {border: 0;clip: rect(1px 1px 1px 1px);clip: rect(1px, 1px, 1px, 1px);height: 1px;margin: -1px;overflow: hidden;padding: 0;position: absolute;width: 1px;}#sk-container-id-5 div.sk-estimator {font-family: monospace;background-color: #f0f8ff;border: 1px dotted black;border-radius: 0.25em;box-sizing: border-box;margin-bottom: 0.5em;}#sk-container-id-5 div.sk-estimator:hover {background-color: #d4ebff;}#sk-container-id-5 div.sk-parallel-item::after {content: \"\";width: 100%;border-bottom: 1px solid gray;flex-grow: 1;}#sk-container-id-5 div.sk-label:hover label.sk-toggleable__label {background-color: #d4ebff;}#sk-container-id-5 div.sk-serial::before {content: \"\";position: absolute;border-left: 1px solid gray;box-sizing: border-box;top: 0;bottom: 0;left: 50%;z-index: 0;}#sk-container-id-5 div.sk-serial {display: flex;flex-direction: column;align-items: center;background-color: white;padding-right: 0.2em;padding-left: 0.2em;position: relative;}#sk-container-id-5 div.sk-item {position: relative;z-index: 1;}#sk-container-id-5 div.sk-parallel {display: flex;align-items: stretch;justify-content: center;background-color: white;position: relative;}#sk-container-id-5 div.sk-item::before, #sk-container-id-5 div.sk-parallel-item::before {content: \"\";position: absolute;border-left: 1px solid gray;box-sizing: border-box;top: 0;bottom: 0;left: 50%;z-index: -1;}#sk-container-id-5 div.sk-parallel-item {display: flex;flex-direction: column;z-index: 1;position: relative;background-color: white;}#sk-container-id-5 div.sk-parallel-item:first-child::after {align-self: flex-end;width: 50%;}#sk-container-id-5 div.sk-parallel-item:last-child::after {align-self: flex-start;width: 50%;}#sk-container-id-5 div.sk-parallel-item:only-child::after {width: 0;}#sk-container-id-5 div.sk-dashed-wrapped {border: 1px dashed gray;margin: 0 0.4em 0.5em 0.4em;box-sizing: border-box;padding-bottom: 0.4em;background-color: white;}#sk-container-id-5 div.sk-label label {font-family: monospace;font-weight: bold;display: inline-block;line-height: 1.2em;}#sk-container-id-5 div.sk-label-container {text-align: center;}#sk-container-id-5 div.sk-container {/* jupyter's `normalize.less` sets `[hidden] { display: none; }` but bootstrap.min.css set `[hidden] { display: none !important; }` so we also need the `!important` here to be able to override the default hidden behavior on the sphinx rendered scikit-learn.org. See: https://github.com/scikit-learn/scikit-learn/issues/21755 */display: inline-block !important;position: relative;}#sk-container-id-5 div.sk-text-repr-fallback {display: none;}</style><div id=\"sk-container-id-5\" class=\"sk-top-container\"><div class=\"sk-text-repr-fallback\"><pre>LogisticRegression()</pre><b>In a Jupyter environment, please rerun this cell to show the HTML representation or trust the notebook. <br />On GitHub, the HTML representation is unable to render, please try loading this page with nbviewer.org.</b></div><div class=\"sk-container\" hidden><div class=\"sk-item\"><div class=\"sk-estimator sk-toggleable\"><input class=\"sk-toggleable__control sk-hidden--visually\" id=\"sk-estimator-id-5\" type=\"checkbox\" checked><label for=\"sk-estimator-id-5\" class=\"sk-toggleable__label sk-toggleable__label-arrow\">LogisticRegression</label><div class=\"sk-toggleable__content\"><pre>LogisticRegression()</pre></div></div></div></div></div>"
            ]
          },
          "metadata": {},
          "execution_count": 71
        }
      ]
    },
    {
      "cell_type": "code",
      "source": [
        "# This code allows a trained machine learning model to make predictions on new data.\n",
        "# Bu kod, bir eğitilmiş makine öğrenmesi modelinin, yeni veriler üzerinde tahminler yapmasını sağlar.\n",
        "predictions = model_1.predict(X_test)\n",
        "predictions"
      ],
      "metadata": {
        "colab": {
          "base_uri": "https://localhost:8080/"
        },
        "id": "025NZOuXGRJ2",
        "outputId": "4c005a91-d467-4843-b214-517690b9ec82"
      },
      "execution_count": null,
      "outputs": [
        {
          "output_type": "execute_result",
          "data": {
            "text/plain": [
              "array([0, 0, 0, 0, 0, 0, 0, 1, 0, 0, 1, 0, 0, 0, 0, 0, 0, 0, 0, 0, 1, 0,\n",
              "       0, 0, 0, 1, 1, 1, 0, 0, 0, 1, 0, 0, 1, 1, 0, 0, 0, 0, 1, 0, 0, 0,\n",
              "       0, 1, 0, 0, 0, 1, 1, 1, 0, 0, 0, 0, 1, 0, 1, 0, 0, 0, 0, 1, 0, 1,\n",
              "       0, 0, 1, 0, 0, 1, 1, 1, 1, 1, 0, 0, 0, 0, 0, 1, 1, 1, 1, 0, 0, 1,\n",
              "       0, 0, 0, 0, 0, 1, 0, 0, 0, 0, 0, 1, 1, 1, 1, 0, 0, 1, 0, 0, 0, 0,\n",
              "       0, 0, 0, 0, 0, 0, 0, 1, 1, 1, 1, 1, 0, 1, 0, 0, 1, 1, 0, 0, 0, 0,\n",
              "       0, 0, 0, 0, 1, 0, 1, 0, 1, 0, 0, 0, 0, 0, 0, 0, 0, 0, 1, 0, 0, 0,\n",
              "       0, 1, 0, 1, 1, 1, 0, 1, 1, 1, 1, 0, 1, 0, 0, 1, 0])"
            ]
          },
          "metadata": {},
          "execution_count": 72
        }
      ]
    },
    {
      "cell_type": "code",
      "source": [
        "from sklearn.metrics import confusion_matrix\n",
        "\n",
        "confusion_matrix(y_test, predictions)"
      ],
      "metadata": {
        "colab": {
          "base_uri": "https://localhost:8080/"
        },
        "id": "32dNnQ2PGScm",
        "outputId": "853cc500-136a-4ce5-f1c6-14c859d766f7"
      },
      "execution_count": null,
      "outputs": [
        {
          "output_type": "execute_result",
          "data": {
            "text/plain": [
              "array([[110,   1],\n",
              "       [  4,  56]])"
            ]
          },
          "metadata": {},
          "execution_count": 73
        }
      ]
    },
    {
      "cell_type": "code",
      "source": [
        "'''\n",
        "it calculates the \"complexity matrix\", a metric used to evaluate\n",
        "the performance of a classification model. The complexity matrix shows\n",
        "the correct and incorrect predictions of the model on a class basis.\n",
        "'''\n",
        "\n",
        "'''\n",
        "bir sınıflandırma modelinin performansını değerlendirmek için kullanılan bir metrik olan\n",
        "\"karmaşıklık matrisi\"ni hesaplar. Karmaşıklık matrisi, modelin doğru ve yanlış\n",
        "tahminlerini sınıf bazında gösterir.\n",
        "'''\n",
        "\n",
        "from sklearn.metrics import classification_report\n",
        "\n",
        "print(classification_report(y_test, predictions))"
      ],
      "metadata": {
        "colab": {
          "base_uri": "https://localhost:8080/"
        },
        "id": "_1O9B8D1GsdK",
        "outputId": "93272023-86ae-4300-92d7-d7e92d349aeb"
      },
      "execution_count": null,
      "outputs": [
        {
          "output_type": "stream",
          "name": "stdout",
          "text": [
            "              precision    recall  f1-score   support\n",
            "\n",
            "           0       0.96      0.99      0.98       111\n",
            "           1       0.98      0.93      0.96        60\n",
            "\n",
            "    accuracy                           0.97       171\n",
            "   macro avg       0.97      0.96      0.97       171\n",
            "weighted avg       0.97      0.97      0.97       171\n",
            "\n"
          ]
        }
      ]
    },
    {
      "cell_type": "code",
      "source": [
        "# scikit-learn imports a class called LinearSVC from the machine learning library\n",
        "# scikit-learn makine öğrenmesi kütüphanesinden LinearSVC adlı bir sınıfı içe aktarır\n",
        "from sklearn.svm import LinearSVC"
      ],
      "metadata": {
        "id": "jJLRxhhCGumD"
      },
      "execution_count": null,
      "outputs": []
    },
    {
      "cell_type": "code",
      "source": [
        "# Creates a LinearSVC model\n",
        "# LinearSCV modeli oluşturur\n",
        "\n",
        "model_2 = LinearSVC()"
      ],
      "metadata": {
        "id": "ca4mBvIeGugK"
      },
      "execution_count": null,
      "outputs": []
    },
    {
      "cell_type": "code",
      "source": [
        "# This line of code trains the model named model_2 on X_train training\n",
        "# data and tries to reach the correct results in y_train data.\n",
        "\n",
        "# Bu kod satırı, model_2 adlı modeli, X_train eğitim verileri üzerinde eğitir\n",
        "# ve y_train verilerindeki doğru sonuçlara ulaşmaya çalışır.\n",
        "model_2.fit(X_train,y_train)"
      ],
      "metadata": {
        "colab": {
          "base_uri": "https://localhost:8080/",
          "height": 129
        },
        "id": "7ZJmDvBQGxea",
        "outputId": "4e9a2a2b-e5e4-4286-fa09-8b50582ce583"
      },
      "execution_count": null,
      "outputs": [
        {
          "output_type": "stream",
          "name": "stderr",
          "text": [
            "/usr/local/lib/python3.10/dist-packages/sklearn/svm/_classes.py:32: FutureWarning: The default value of `dual` will change from `True` to `'auto'` in 1.5. Set the value of `dual` explicitly to suppress the warning.\n",
            "  warnings.warn(\n"
          ]
        },
        {
          "output_type": "execute_result",
          "data": {
            "text/plain": [
              "LinearSVC()"
            ],
            "text/html": [
              "<style>#sk-container-id-6 {color: black;}#sk-container-id-6 pre{padding: 0;}#sk-container-id-6 div.sk-toggleable {background-color: white;}#sk-container-id-6 label.sk-toggleable__label {cursor: pointer;display: block;width: 100%;margin-bottom: 0;padding: 0.3em;box-sizing: border-box;text-align: center;}#sk-container-id-6 label.sk-toggleable__label-arrow:before {content: \"▸\";float: left;margin-right: 0.25em;color: #696969;}#sk-container-id-6 label.sk-toggleable__label-arrow:hover:before {color: black;}#sk-container-id-6 div.sk-estimator:hover label.sk-toggleable__label-arrow:before {color: black;}#sk-container-id-6 div.sk-toggleable__content {max-height: 0;max-width: 0;overflow: hidden;text-align: left;background-color: #f0f8ff;}#sk-container-id-6 div.sk-toggleable__content pre {margin: 0.2em;color: black;border-radius: 0.25em;background-color: #f0f8ff;}#sk-container-id-6 input.sk-toggleable__control:checked~div.sk-toggleable__content {max-height: 200px;max-width: 100%;overflow: auto;}#sk-container-id-6 input.sk-toggleable__control:checked~label.sk-toggleable__label-arrow:before {content: \"▾\";}#sk-container-id-6 div.sk-estimator input.sk-toggleable__control:checked~label.sk-toggleable__label {background-color: #d4ebff;}#sk-container-id-6 div.sk-label input.sk-toggleable__control:checked~label.sk-toggleable__label {background-color: #d4ebff;}#sk-container-id-6 input.sk-hidden--visually {border: 0;clip: rect(1px 1px 1px 1px);clip: rect(1px, 1px, 1px, 1px);height: 1px;margin: -1px;overflow: hidden;padding: 0;position: absolute;width: 1px;}#sk-container-id-6 div.sk-estimator {font-family: monospace;background-color: #f0f8ff;border: 1px dotted black;border-radius: 0.25em;box-sizing: border-box;margin-bottom: 0.5em;}#sk-container-id-6 div.sk-estimator:hover {background-color: #d4ebff;}#sk-container-id-6 div.sk-parallel-item::after {content: \"\";width: 100%;border-bottom: 1px solid gray;flex-grow: 1;}#sk-container-id-6 div.sk-label:hover label.sk-toggleable__label {background-color: #d4ebff;}#sk-container-id-6 div.sk-serial::before {content: \"\";position: absolute;border-left: 1px solid gray;box-sizing: border-box;top: 0;bottom: 0;left: 50%;z-index: 0;}#sk-container-id-6 div.sk-serial {display: flex;flex-direction: column;align-items: center;background-color: white;padding-right: 0.2em;padding-left: 0.2em;position: relative;}#sk-container-id-6 div.sk-item {position: relative;z-index: 1;}#sk-container-id-6 div.sk-parallel {display: flex;align-items: stretch;justify-content: center;background-color: white;position: relative;}#sk-container-id-6 div.sk-item::before, #sk-container-id-6 div.sk-parallel-item::before {content: \"\";position: absolute;border-left: 1px solid gray;box-sizing: border-box;top: 0;bottom: 0;left: 50%;z-index: -1;}#sk-container-id-6 div.sk-parallel-item {display: flex;flex-direction: column;z-index: 1;position: relative;background-color: white;}#sk-container-id-6 div.sk-parallel-item:first-child::after {align-self: flex-end;width: 50%;}#sk-container-id-6 div.sk-parallel-item:last-child::after {align-self: flex-start;width: 50%;}#sk-container-id-6 div.sk-parallel-item:only-child::after {width: 0;}#sk-container-id-6 div.sk-dashed-wrapped {border: 1px dashed gray;margin: 0 0.4em 0.5em 0.4em;box-sizing: border-box;padding-bottom: 0.4em;background-color: white;}#sk-container-id-6 div.sk-label label {font-family: monospace;font-weight: bold;display: inline-block;line-height: 1.2em;}#sk-container-id-6 div.sk-label-container {text-align: center;}#sk-container-id-6 div.sk-container {/* jupyter's `normalize.less` sets `[hidden] { display: none; }` but bootstrap.min.css set `[hidden] { display: none !important; }` so we also need the `!important` here to be able to override the default hidden behavior on the sphinx rendered scikit-learn.org. See: https://github.com/scikit-learn/scikit-learn/issues/21755 */display: inline-block !important;position: relative;}#sk-container-id-6 div.sk-text-repr-fallback {display: none;}</style><div id=\"sk-container-id-6\" class=\"sk-top-container\"><div class=\"sk-text-repr-fallback\"><pre>LinearSVC()</pre><b>In a Jupyter environment, please rerun this cell to show the HTML representation or trust the notebook. <br />On GitHub, the HTML representation is unable to render, please try loading this page with nbviewer.org.</b></div><div class=\"sk-container\" hidden><div class=\"sk-item\"><div class=\"sk-estimator sk-toggleable\"><input class=\"sk-toggleable__control sk-hidden--visually\" id=\"sk-estimator-id-6\" type=\"checkbox\" checked><label for=\"sk-estimator-id-6\" class=\"sk-toggleable__label sk-toggleable__label-arrow\">LinearSVC</label><div class=\"sk-toggleable__content\"><pre>LinearSVC()</pre></div></div></div></div></div>"
            ]
          },
          "metadata": {},
          "execution_count": 77
        }
      ]
    },
    {
      "cell_type": "code",
      "source": [
        "'''\n",
        "This line of code runs the model_2 model on test data named X_test and generates\n",
        " an estimate for each sample. These estimates are stored in a variable called predictions.\n",
        "'''\n",
        "\n",
        "'''\n",
        "Bu kod satırı, model_2 modelini, X_test adlı test verileri üzerinde çalıştırır\n",
        "ve her bir örnek için bir tahmin üretir. Bu tahminler, predictions adlı değişkende saklanır.\n",
        "'''\n",
        "predictions = model_2.predict(X_test)\n",
        "predictions"
      ],
      "metadata": {
        "colab": {
          "base_uri": "https://localhost:8080/"
        },
        "id": "yM0KakCNGyya",
        "outputId": "90327da0-40a1-4461-8154-3c38e95ce7e5"
      },
      "execution_count": null,
      "outputs": [
        {
          "output_type": "execute_result",
          "data": {
            "text/plain": [
              "array([0, 0, 0, 0, 0, 0, 0, 1, 0, 0, 1, 0, 0, 0, 0, 0, 0, 0, 0, 0, 1, 0,\n",
              "       0, 0, 0, 1, 1, 1, 0, 0, 0, 1, 0, 0, 1, 1, 0, 0, 0, 0, 1, 0, 0, 0,\n",
              "       0, 1, 0, 0, 0, 1, 1, 1, 0, 0, 0, 0, 1, 0, 1, 0, 0, 0, 0, 1, 0, 1,\n",
              "       0, 0, 1, 0, 0, 1, 1, 1, 1, 1, 0, 0, 0, 0, 0, 1, 1, 1, 1, 0, 0, 1,\n",
              "       0, 0, 0, 0, 0, 1, 0, 0, 0, 0, 0, 1, 1, 1, 1, 0, 0, 1, 0, 0, 0, 0,\n",
              "       0, 0, 0, 0, 0, 0, 0, 1, 1, 1, 1, 1, 1, 1, 0, 0, 1, 1, 0, 0, 0, 0,\n",
              "       0, 0, 0, 0, 1, 0, 1, 0, 1, 0, 0, 0, 0, 0, 0, 0, 0, 0, 1, 0, 0, 0,\n",
              "       0, 1, 0, 1, 1, 1, 0, 1, 1, 1, 1, 0, 1, 0, 0, 1, 0])"
            ]
          },
          "metadata": {},
          "execution_count": 78
        }
      ]
    },
    {
      "cell_type": "code",
      "source": [
        "'''\n",
        "This Python code calculates the \"complexity matrix\", a metric used to evaluate\n",
        "the performance of a classification model. The complexity matrix shows\n",
        "the correct and incorrect predictions of the model on a class basis.\n",
        "'''\n",
        "\n",
        "'''\n",
        "Bu Python kodu, bir sınıflandırma modelinin performansını değerlendirmek için\n",
        "kullanılan bir metrik olan \"karmaşıklık matrisi\"ni hesaplar. Karmaşıklık matrisi,\n",
        "modelin doğru ve yanlış tahminlerini sınıf bazında gösterir.\n",
        "'''\n",
        "from sklearn.metrics import confusion_matrix\n",
        "\n",
        "confusion_matrix(y_test, predictions)"
      ],
      "metadata": {
        "colab": {
          "base_uri": "https://localhost:8080/"
        },
        "id": "iRB3KU4EG0da",
        "outputId": "c0813b11-1e27-4bc4-f6dc-d3235cbd271c"
      },
      "execution_count": null,
      "outputs": [
        {
          "output_type": "execute_result",
          "data": {
            "text/plain": [
              "array([[109,   2],\n",
              "       [  4,  56]])"
            ]
          },
          "metadata": {},
          "execution_count": 79
        }
      ]
    },
    {
      "cell_type": "code",
      "source": [
        "'''\n",
        "This code calculates and prints on the screen the \"classification report\",\n",
        "another metric used to evaluate the performance of a classification model.\n",
        "The classification report contains a set of metrics derived from the complexity\n",
        "matrix and presented in a more understandable way.\n",
        "'''\n",
        "\n",
        "'''\n",
        "Bu kod, bir sınıflandırma modelinin performansını değerlendirmek için kullanılan\n",
        "bir başka metrik olan \"sınıflandırma raporu\"nu hesaplar ve ekrana yazdırır.\n",
        "Sınıflandırma raporu, karmaşıklık matrisinden türetilen ve daha anlaşılır bir\n",
        "şekilde sunulan bir dizi metrik içerir.\n",
        "'''\n",
        "\n",
        "from sklearn.metrics import classification_report\n",
        "\n",
        "print(classification_report(y_test, predictions))"
      ],
      "metadata": {
        "colab": {
          "base_uri": "https://localhost:8080/"
        },
        "id": "pe62NPS-G2QT",
        "outputId": "415649bd-26a0-47bd-f038-1b92fb4accc7"
      },
      "execution_count": null,
      "outputs": [
        {
          "output_type": "stream",
          "name": "stdout",
          "text": [
            "              precision    recall  f1-score   support\n",
            "\n",
            "           0       0.96      0.98      0.97       111\n",
            "           1       0.97      0.93      0.95        60\n",
            "\n",
            "    accuracy                           0.96       171\n",
            "   macro avg       0.97      0.96      0.96       171\n",
            "weighted avg       0.96      0.96      0.96       171\n",
            "\n"
          ]
        }
      ]
    },
    {
      "cell_type": "markdown",
      "source": [
        "# Assessment - Classification"
      ],
      "metadata": {
        "id": "hMzKiq_dPoj-"
      }
    },
    {
      "cell_type": "markdown",
      "source": [
        "### 1.Which of the following algorithms is best suited to solve a binary classification problem?\n",
        "* Logistic regression\n",
        "* Linear regression\n",
        "* Lasso regression\n",
        "* None of the above"
      ],
      "metadata": {
        "id": "HTKJ9PVdPwd3"
      }
    },
    {
      "cell_type": "markdown",
      "source": [
        "**Logistic regression** is the best suited algorithm to solve a binary classification problem."
      ],
      "metadata": {
        "id": "E4Q1EK1qQEMO"
      }
    },
    {
      "cell_type": "markdown",
      "source": [
        "\n",
        "\n",
        "---\n",
        "\n"
      ],
      "metadata": {
        "id": "3oLZO0jtDWeV"
      }
    },
    {
      "cell_type": "markdown",
      "source": [
        "### 2.Which of the following statements about the sigmoid function is correct?\n",
        "* It transforms given inputs into the range from 0 to 1\n",
        "* It is typically used to solve regression problems\n",
        "* The shape of the function in a plane resembles the letter Z\n",
        "* After using the sigmoid function, we get a negative value"
      ],
      "metadata": {
        "id": "ji76jIA9QHtv"
      }
    },
    {
      "cell_type": "markdown",
      "source": [
        "The correct statement about the sigmoid function is: **It transforms given inputs into the range from 0 to 1.**"
      ],
      "metadata": {
        "id": "gKnZvyjXQUGK"
      }
    },
    {
      "cell_type": "markdown",
      "source": [
        "\n",
        "\n",
        "---\n",
        "\n"
      ],
      "metadata": {
        "id": "0aGwb3lzDYcd"
      }
    },
    {
      "cell_type": "markdown",
      "source": [
        "### 3.In the confusion metrix, which one is the formula for the classification evaluation metric, recall?\n",
        "* (True Positives) / (True Positives + False Negatives)\n",
        "* (True Positives) / (True Positives + True Negatives)\n",
        "*  (True Positives) / (False Positives + True Positives)\n",
        "*  (True Positives) / (False Positives + True Negatives)"
      ],
      "metadata": {
        "id": "SG3UhZTcQVcO"
      }
    },
    {
      "cell_type": "markdown",
      "source": [
        "The correct formula for recall in a confusion matrix is:\n",
        "\n",
        "**(True Positives) / (True Positives + False Negatives)**"
      ],
      "metadata": {
        "id": "jFXOYxkHQnYj"
      }
    },
    {
      "cell_type": "markdown",
      "source": [
        "\n",
        "\n",
        "---\n",
        "\n"
      ],
      "metadata": {
        "id": "wD709BWGDaqt"
      }
    },
    {
      "cell_type": "markdown",
      "source": [
        "### 4.In the confusion matrix, which values do we want to maximize? There are two correct answers.\n",
        "* True positive\n",
        "* True negative\n",
        "* False positive\n",
        "* False negative"
      ],
      "metadata": {
        "id": "sk-Cj0i1QqmL"
      }
    },
    {
      "cell_type": "markdown",
      "source": [
        "* **1. True positive**\n",
        "* **2. True negative**"
      ],
      "metadata": {
        "id": "Y3NYcxCWQ-Cj"
      }
    },
    {
      "cell_type": "markdown",
      "source": [
        "\n",
        "\n",
        "---\n",
        "\n"
      ],
      "metadata": {
        "id": "Mn5-8ideDc1V"
      }
    },
    {
      "cell_type": "markdown",
      "source": [
        "### 5.Which of the following statements is correct?\n",
        "* Classification problems with two class labels are called binary classification\n",
        "* Like linear regression, logistic regression can only be used when there is a linear relationship between input and output variables\n",
        "* In the confusion matrix, “false positives” and “false negatives” need to be maximized\n",
        "* In the confusion matrix, “true positives” and “true negatives” need to be minimized"
      ],
      "metadata": {
        "id": "c2r_JKJnRCfD"
      }
    },
    {
      "cell_type": "markdown",
      "source": [
        "The correct statement is:\n",
        "\n",
        "**Classification problems with two class labels are called binary classification.**"
      ],
      "metadata": {
        "id": "MIDEMvp0RNZa"
      }
    },
    {
      "cell_type": "markdown",
      "source": [
        "\n",
        "\n",
        "---\n",
        "\n"
      ],
      "metadata": {
        "id": "EdSZIo9CFhVh"
      }
    },
    {
      "cell_type": "markdown",
      "source": [
        "### 6.What is a hyper-plane?\n",
        "* A line\n",
        "* A 2D plane\n",
        "* A 3D plane\n",
        "* A multimdimensional plane that exists in four or more dimension."
      ],
      "metadata": {
        "id": "R25dbPnZRPEy"
      }
    },
    {
      "cell_type": "markdown",
      "source": [
        "A hyper-plane is **a multidimensional plane that exists in four or more dimensions.**"
      ],
      "metadata": {
        "id": "fUQrM4J0Rh9y"
      }
    },
    {
      "cell_type": "markdown",
      "source": [
        "\n",
        "\n",
        "---\n",
        "\n"
      ],
      "metadata": {
        "id": "guVhepJbFji5"
      }
    },
    {
      "cell_type": "markdown",
      "source": [
        "### 7.What is the SVM called when the hyper-plane is non-linear?\n",
        "* Linear kernel\n",
        "* Polynomial kernel\n",
        "* F1 score\n",
        "* None of the above"
      ],
      "metadata": {
        "id": "5fHI3kW1Riiq"
      }
    },
    {
      "cell_type": "markdown",
      "source": [
        "**Polynomial kernel** is the SVM called when the hyper-plane is non-linear."
      ],
      "metadata": {
        "id": "3wrV6mfWR1b6"
      }
    },
    {
      "cell_type": "markdown",
      "source": [
        "\n",
        "\n",
        "---\n",
        "\n"
      ],
      "metadata": {
        "id": "O-lYpdyiFmKw"
      }
    },
    {
      "cell_type": "markdown",
      "source": [
        "### 8.Which of the following is an example of a binary classification?\n",
        "* Spam or no spam\n",
        "* Weight of tomato harvest\n",
        "* Temperature prediction\n",
        "* Car, plane or bicycle"
      ],
      "metadata": {
        "id": "XKe105_sR4MM"
      }
    },
    {
      "cell_type": "markdown",
      "source": [
        "**Spam or no spam** is an example of binary classification."
      ],
      "metadata": {
        "id": "e4sPfzkESMs_"
      }
    },
    {
      "cell_type": "markdown",
      "source": [
        "\n",
        "\n",
        "---\n",
        "\n"
      ],
      "metadata": {
        "id": "IW7SEL0yFokt"
      }
    },
    {
      "cell_type": "markdown",
      "source": [
        "### 9.Which of the following functions of sklearn splits data into a train and a test dataset?\n",
        "* split()\n",
        "* seperet()\n",
        "* train_test_split()\n",
        "* test_train_split()"
      ],
      "metadata": {
        "id": "Ars6nWZlSNeP"
      }
    },
    {
      "cell_type": "markdown",
      "source": [
        "**train_test_split()**"
      ],
      "metadata": {
        "id": "6vjcRp1USZdP"
      }
    },
    {
      "cell_type": "markdown",
      "source": [
        "\n",
        "\n",
        "---\n",
        "\n"
      ],
      "metadata": {
        "id": "uCgCUdSbFqEB"
      }
    },
    {
      "cell_type": "markdown",
      "source": [
        "### 10.Which of the following statements is true about the support vector machine algorithm? (SVM)\n",
        "* It can only be used for regression problems\n",
        "* It uses decision boundaries to separate classes\n",
        "* It works with numerical type target variables\n",
        "* It uses hyper-planes that exist in three dimensions"
      ],
      "metadata": {
        "id": "UK_RzI9zSa55"
      }
    },
    {
      "cell_type": "markdown",
      "source": [
        "**It uses decision boundaries to separate classes.**"
      ],
      "metadata": {
        "id": "sVIkxbXOSuIe"
      }
    },
    {
      "cell_type": "markdown",
      "source": [
        "\n",
        "\n",
        "---\n",
        "\n"
      ],
      "metadata": {
        "id": "qYCwO90WFrmG"
      }
    },
    {
      "cell_type": "markdown",
      "source": [
        "# Clustering"
      ],
      "metadata": {
        "id": "5Y016cY5Sz6G"
      }
    },
    {
      "cell_type": "code",
      "source": [
        "import pandas as pd"
      ],
      "metadata": {
        "id": "wzYBHNyPTSvP"
      },
      "execution_count": null,
      "outputs": []
    },
    {
      "cell_type": "code",
      "source": [
        "from google.colab import files\n",
        "uploaded = files.upload()"
      ],
      "metadata": {
        "colab": {
          "base_uri": "https://localhost:8080/",
          "height": 73
        },
        "id": "yP5v5QEpTWU-",
        "outputId": "01f693e9-1997-4249-c1c3-82b3bc04cd04"
      },
      "execution_count": null,
      "outputs": [
        {
          "output_type": "display_data",
          "data": {
            "text/plain": [
              "<IPython.core.display.HTML object>"
            ],
            "text/html": [
              "\n",
              "     <input type=\"file\" id=\"files-6aebd5a5-9ef0-4fff-8d9e-9fcf2b0234b6\" name=\"files[]\" multiple disabled\n",
              "        style=\"border:none\" />\n",
              "     <output id=\"result-6aebd5a5-9ef0-4fff-8d9e-9fcf2b0234b6\">\n",
              "      Upload widget is only available when the cell has been executed in the\n",
              "      current browser session. Please rerun this cell to enable.\n",
              "      </output>\n",
              "      <script>// Copyright 2017 Google LLC\n",
              "//\n",
              "// Licensed under the Apache License, Version 2.0 (the \"License\");\n",
              "// you may not use this file except in compliance with the License.\n",
              "// You may obtain a copy of the License at\n",
              "//\n",
              "//      http://www.apache.org/licenses/LICENSE-2.0\n",
              "//\n",
              "// Unless required by applicable law or agreed to in writing, software\n",
              "// distributed under the License is distributed on an \"AS IS\" BASIS,\n",
              "// WITHOUT WARRANTIES OR CONDITIONS OF ANY KIND, either express or implied.\n",
              "// See the License for the specific language governing permissions and\n",
              "// limitations under the License.\n",
              "\n",
              "/**\n",
              " * @fileoverview Helpers for google.colab Python module.\n",
              " */\n",
              "(function(scope) {\n",
              "function span(text, styleAttributes = {}) {\n",
              "  const element = document.createElement('span');\n",
              "  element.textContent = text;\n",
              "  for (const key of Object.keys(styleAttributes)) {\n",
              "    element.style[key] = styleAttributes[key];\n",
              "  }\n",
              "  return element;\n",
              "}\n",
              "\n",
              "// Max number of bytes which will be uploaded at a time.\n",
              "const MAX_PAYLOAD_SIZE = 100 * 1024;\n",
              "\n",
              "function _uploadFiles(inputId, outputId) {\n",
              "  const steps = uploadFilesStep(inputId, outputId);\n",
              "  const outputElement = document.getElementById(outputId);\n",
              "  // Cache steps on the outputElement to make it available for the next call\n",
              "  // to uploadFilesContinue from Python.\n",
              "  outputElement.steps = steps;\n",
              "\n",
              "  return _uploadFilesContinue(outputId);\n",
              "}\n",
              "\n",
              "// This is roughly an async generator (not supported in the browser yet),\n",
              "// where there are multiple asynchronous steps and the Python side is going\n",
              "// to poll for completion of each step.\n",
              "// This uses a Promise to block the python side on completion of each step,\n",
              "// then passes the result of the previous step as the input to the next step.\n",
              "function _uploadFilesContinue(outputId) {\n",
              "  const outputElement = document.getElementById(outputId);\n",
              "  const steps = outputElement.steps;\n",
              "\n",
              "  const next = steps.next(outputElement.lastPromiseValue);\n",
              "  return Promise.resolve(next.value.promise).then((value) => {\n",
              "    // Cache the last promise value to make it available to the next\n",
              "    // step of the generator.\n",
              "    outputElement.lastPromiseValue = value;\n",
              "    return next.value.response;\n",
              "  });\n",
              "}\n",
              "\n",
              "/**\n",
              " * Generator function which is called between each async step of the upload\n",
              " * process.\n",
              " * @param {string} inputId Element ID of the input file picker element.\n",
              " * @param {string} outputId Element ID of the output display.\n",
              " * @return {!Iterable<!Object>} Iterable of next steps.\n",
              " */\n",
              "function* uploadFilesStep(inputId, outputId) {\n",
              "  const inputElement = document.getElementById(inputId);\n",
              "  inputElement.disabled = false;\n",
              "\n",
              "  const outputElement = document.getElementById(outputId);\n",
              "  outputElement.innerHTML = '';\n",
              "\n",
              "  const pickedPromise = new Promise((resolve) => {\n",
              "    inputElement.addEventListener('change', (e) => {\n",
              "      resolve(e.target.files);\n",
              "    });\n",
              "  });\n",
              "\n",
              "  const cancel = document.createElement('button');\n",
              "  inputElement.parentElement.appendChild(cancel);\n",
              "  cancel.textContent = 'Cancel upload';\n",
              "  const cancelPromise = new Promise((resolve) => {\n",
              "    cancel.onclick = () => {\n",
              "      resolve(null);\n",
              "    };\n",
              "  });\n",
              "\n",
              "  // Wait for the user to pick the files.\n",
              "  const files = yield {\n",
              "    promise: Promise.race([pickedPromise, cancelPromise]),\n",
              "    response: {\n",
              "      action: 'starting',\n",
              "    }\n",
              "  };\n",
              "\n",
              "  cancel.remove();\n",
              "\n",
              "  // Disable the input element since further picks are not allowed.\n",
              "  inputElement.disabled = true;\n",
              "\n",
              "  if (!files) {\n",
              "    return {\n",
              "      response: {\n",
              "        action: 'complete',\n",
              "      }\n",
              "    };\n",
              "  }\n",
              "\n",
              "  for (const file of files) {\n",
              "    const li = document.createElement('li');\n",
              "    li.append(span(file.name, {fontWeight: 'bold'}));\n",
              "    li.append(span(\n",
              "        `(${file.type || 'n/a'}) - ${file.size} bytes, ` +\n",
              "        `last modified: ${\n",
              "            file.lastModifiedDate ? file.lastModifiedDate.toLocaleDateString() :\n",
              "                                    'n/a'} - `));\n",
              "    const percent = span('0% done');\n",
              "    li.appendChild(percent);\n",
              "\n",
              "    outputElement.appendChild(li);\n",
              "\n",
              "    const fileDataPromise = new Promise((resolve) => {\n",
              "      const reader = new FileReader();\n",
              "      reader.onload = (e) => {\n",
              "        resolve(e.target.result);\n",
              "      };\n",
              "      reader.readAsArrayBuffer(file);\n",
              "    });\n",
              "    // Wait for the data to be ready.\n",
              "    let fileData = yield {\n",
              "      promise: fileDataPromise,\n",
              "      response: {\n",
              "        action: 'continue',\n",
              "      }\n",
              "    };\n",
              "\n",
              "    // Use a chunked sending to avoid message size limits. See b/62115660.\n",
              "    let position = 0;\n",
              "    do {\n",
              "      const length = Math.min(fileData.byteLength - position, MAX_PAYLOAD_SIZE);\n",
              "      const chunk = new Uint8Array(fileData, position, length);\n",
              "      position += length;\n",
              "\n",
              "      const base64 = btoa(String.fromCharCode.apply(null, chunk));\n",
              "      yield {\n",
              "        response: {\n",
              "          action: 'append',\n",
              "          file: file.name,\n",
              "          data: base64,\n",
              "        },\n",
              "      };\n",
              "\n",
              "      let percentDone = fileData.byteLength === 0 ?\n",
              "          100 :\n",
              "          Math.round((position / fileData.byteLength) * 100);\n",
              "      percent.textContent = `${percentDone}% done`;\n",
              "\n",
              "    } while (position < fileData.byteLength);\n",
              "  }\n",
              "\n",
              "  // All done.\n",
              "  yield {\n",
              "    response: {\n",
              "      action: 'complete',\n",
              "    }\n",
              "  };\n",
              "}\n",
              "\n",
              "scope.google = scope.google || {};\n",
              "scope.google.colab = scope.google.colab || {};\n",
              "scope.google.colab._files = {\n",
              "  _uploadFiles,\n",
              "  _uploadFilesContinue,\n",
              "};\n",
              "})(self);\n",
              "</script> "
            ]
          },
          "metadata": {}
        },
        {
          "output_type": "stream",
          "name": "stdout",
          "text": [
            "Saving Live.csv to Live (1).csv\n"
          ]
        }
      ]
    },
    {
      "cell_type": "code",
      "source": [
        "# The code line are used to read data from CSV files into pandas DataFrames.\n",
        "datasetx = pd.read_csv('Live.csv')"
      ],
      "metadata": {
        "id": "PPKTCQ4eTMCW"
      },
      "execution_count": null,
      "outputs": []
    },
    {
      "cell_type": "code",
      "source": [
        "# dataset.head() is a Python function used to quickly preview the first few rows of a DataFrame.\n",
        "# bir veri çerçevesinin ilk birkaç satırını görüntülemek için kullanılır.\n",
        "datasetx.head()"
      ],
      "metadata": {
        "colab": {
          "base_uri": "https://localhost:8080/",
          "height": 226
        },
        "id": "csmZ7uL7TkWW",
        "outputId": "422137d2-ceb1-4eb3-8a63-c7ea6c01ea5e"
      },
      "execution_count": null,
      "outputs": [
        {
          "output_type": "execute_result",
          "data": {
            "text/plain": [
              "   num_reactions  num_comments  num_shares  num_likes  num_loves  num_wows  \\\n",
              "0       0.112314      0.024393    0.076519   0.091720   0.140030  0.010791   \n",
              "1       0.031847      0.000000    0.000000   0.031847   0.000000  0.000000   \n",
              "2       0.048195      0.011243    0.016647   0.043312   0.031963  0.003597   \n",
              "3       0.023567      0.000000    0.000000   0.023567   0.000000  0.000000   \n",
              "4       0.045223      0.000000    0.000000   0.043312   0.013699  0.000000   \n",
              "\n",
              "   num_hahas  num_sads  num_angrys  status_type_link  status_type_photo  \\\n",
              "0   0.006369  0.019608         0.0               0.0                0.0   \n",
              "1   0.000000  0.000000         0.0               0.0                1.0   \n",
              "2   0.006369  0.000000         0.0               0.0                0.0   \n",
              "3   0.000000  0.000000         0.0               0.0                1.0   \n",
              "4   0.000000  0.000000         0.0               0.0                1.0   \n",
              "\n",
              "   status_type_status  status_type_video  \n",
              "0                 0.0                1.0  \n",
              "1                 0.0                0.0  \n",
              "2                 0.0                1.0  \n",
              "3                 0.0                0.0  \n",
              "4                 0.0                0.0  "
            ],
            "text/html": [
              "\n",
              "  <div id=\"df-6c805f55-5424-460b-bb11-1233e1a180c9\" class=\"colab-df-container\">\n",
              "    <div>\n",
              "<style scoped>\n",
              "    .dataframe tbody tr th:only-of-type {\n",
              "        vertical-align: middle;\n",
              "    }\n",
              "\n",
              "    .dataframe tbody tr th {\n",
              "        vertical-align: top;\n",
              "    }\n",
              "\n",
              "    .dataframe thead th {\n",
              "        text-align: right;\n",
              "    }\n",
              "</style>\n",
              "<table border=\"1\" class=\"dataframe\">\n",
              "  <thead>\n",
              "    <tr style=\"text-align: right;\">\n",
              "      <th></th>\n",
              "      <th>num_reactions</th>\n",
              "      <th>num_comments</th>\n",
              "      <th>num_shares</th>\n",
              "      <th>num_likes</th>\n",
              "      <th>num_loves</th>\n",
              "      <th>num_wows</th>\n",
              "      <th>num_hahas</th>\n",
              "      <th>num_sads</th>\n",
              "      <th>num_angrys</th>\n",
              "      <th>status_type_link</th>\n",
              "      <th>status_type_photo</th>\n",
              "      <th>status_type_status</th>\n",
              "      <th>status_type_video</th>\n",
              "    </tr>\n",
              "  </thead>\n",
              "  <tbody>\n",
              "    <tr>\n",
              "      <th>0</th>\n",
              "      <td>0.112314</td>\n",
              "      <td>0.024393</td>\n",
              "      <td>0.076519</td>\n",
              "      <td>0.091720</td>\n",
              "      <td>0.140030</td>\n",
              "      <td>0.010791</td>\n",
              "      <td>0.006369</td>\n",
              "      <td>0.019608</td>\n",
              "      <td>0.0</td>\n",
              "      <td>0.0</td>\n",
              "      <td>0.0</td>\n",
              "      <td>0.0</td>\n",
              "      <td>1.0</td>\n",
              "    </tr>\n",
              "    <tr>\n",
              "      <th>1</th>\n",
              "      <td>0.031847</td>\n",
              "      <td>0.000000</td>\n",
              "      <td>0.000000</td>\n",
              "      <td>0.031847</td>\n",
              "      <td>0.000000</td>\n",
              "      <td>0.000000</td>\n",
              "      <td>0.000000</td>\n",
              "      <td>0.000000</td>\n",
              "      <td>0.0</td>\n",
              "      <td>0.0</td>\n",
              "      <td>1.0</td>\n",
              "      <td>0.0</td>\n",
              "      <td>0.0</td>\n",
              "    </tr>\n",
              "    <tr>\n",
              "      <th>2</th>\n",
              "      <td>0.048195</td>\n",
              "      <td>0.011243</td>\n",
              "      <td>0.016647</td>\n",
              "      <td>0.043312</td>\n",
              "      <td>0.031963</td>\n",
              "      <td>0.003597</td>\n",
              "      <td>0.006369</td>\n",
              "      <td>0.000000</td>\n",
              "      <td>0.0</td>\n",
              "      <td>0.0</td>\n",
              "      <td>0.0</td>\n",
              "      <td>0.0</td>\n",
              "      <td>1.0</td>\n",
              "    </tr>\n",
              "    <tr>\n",
              "      <th>3</th>\n",
              "      <td>0.023567</td>\n",
              "      <td>0.000000</td>\n",
              "      <td>0.000000</td>\n",
              "      <td>0.023567</td>\n",
              "      <td>0.000000</td>\n",
              "      <td>0.000000</td>\n",
              "      <td>0.000000</td>\n",
              "      <td>0.000000</td>\n",
              "      <td>0.0</td>\n",
              "      <td>0.0</td>\n",
              "      <td>1.0</td>\n",
              "      <td>0.0</td>\n",
              "      <td>0.0</td>\n",
              "    </tr>\n",
              "    <tr>\n",
              "      <th>4</th>\n",
              "      <td>0.045223</td>\n",
              "      <td>0.000000</td>\n",
              "      <td>0.000000</td>\n",
              "      <td>0.043312</td>\n",
              "      <td>0.013699</td>\n",
              "      <td>0.000000</td>\n",
              "      <td>0.000000</td>\n",
              "      <td>0.000000</td>\n",
              "      <td>0.0</td>\n",
              "      <td>0.0</td>\n",
              "      <td>1.0</td>\n",
              "      <td>0.0</td>\n",
              "      <td>0.0</td>\n",
              "    </tr>\n",
              "  </tbody>\n",
              "</table>\n",
              "</div>\n",
              "    <div class=\"colab-df-buttons\">\n",
              "\n",
              "  <div class=\"colab-df-container\">\n",
              "    <button class=\"colab-df-convert\" onclick=\"convertToInteractive('df-6c805f55-5424-460b-bb11-1233e1a180c9')\"\n",
              "            title=\"Convert this dataframe to an interactive table.\"\n",
              "            style=\"display:none;\">\n",
              "\n",
              "  <svg xmlns=\"http://www.w3.org/2000/svg\" height=\"24px\" viewBox=\"0 -960 960 960\">\n",
              "    <path d=\"M120-120v-720h720v720H120Zm60-500h600v-160H180v160Zm220 220h160v-160H400v160Zm0 220h160v-160H400v160ZM180-400h160v-160H180v160Zm440 0h160v-160H620v160ZM180-180h160v-160H180v160Zm440 0h160v-160H620v160Z\"/>\n",
              "  </svg>\n",
              "    </button>\n",
              "\n",
              "  <style>\n",
              "    .colab-df-container {\n",
              "      display:flex;\n",
              "      gap: 12px;\n",
              "    }\n",
              "\n",
              "    .colab-df-convert {\n",
              "      background-color: #E8F0FE;\n",
              "      border: none;\n",
              "      border-radius: 50%;\n",
              "      cursor: pointer;\n",
              "      display: none;\n",
              "      fill: #1967D2;\n",
              "      height: 32px;\n",
              "      padding: 0 0 0 0;\n",
              "      width: 32px;\n",
              "    }\n",
              "\n",
              "    .colab-df-convert:hover {\n",
              "      background-color: #E2EBFA;\n",
              "      box-shadow: 0px 1px 2px rgba(60, 64, 67, 0.3), 0px 1px 3px 1px rgba(60, 64, 67, 0.15);\n",
              "      fill: #174EA6;\n",
              "    }\n",
              "\n",
              "    .colab-df-buttons div {\n",
              "      margin-bottom: 4px;\n",
              "    }\n",
              "\n",
              "    [theme=dark] .colab-df-convert {\n",
              "      background-color: #3B4455;\n",
              "      fill: #D2E3FC;\n",
              "    }\n",
              "\n",
              "    [theme=dark] .colab-df-convert:hover {\n",
              "      background-color: #434B5C;\n",
              "      box-shadow: 0px 1px 3px 1px rgba(0, 0, 0, 0.15);\n",
              "      filter: drop-shadow(0px 1px 2px rgba(0, 0, 0, 0.3));\n",
              "      fill: #FFFFFF;\n",
              "    }\n",
              "  </style>\n",
              "\n",
              "    <script>\n",
              "      const buttonEl =\n",
              "        document.querySelector('#df-6c805f55-5424-460b-bb11-1233e1a180c9 button.colab-df-convert');\n",
              "      buttonEl.style.display =\n",
              "        google.colab.kernel.accessAllowed ? 'block' : 'none';\n",
              "\n",
              "      async function convertToInteractive(key) {\n",
              "        const element = document.querySelector('#df-6c805f55-5424-460b-bb11-1233e1a180c9');\n",
              "        const dataTable =\n",
              "          await google.colab.kernel.invokeFunction('convertToInteractive',\n",
              "                                                    [key], {});\n",
              "        if (!dataTable) return;\n",
              "\n",
              "        const docLinkHtml = 'Like what you see? Visit the ' +\n",
              "          '<a target=\"_blank\" href=https://colab.research.google.com/notebooks/data_table.ipynb>data table notebook</a>'\n",
              "          + ' to learn more about interactive tables.';\n",
              "        element.innerHTML = '';\n",
              "        dataTable['output_type'] = 'display_data';\n",
              "        await google.colab.output.renderOutput(dataTable, element);\n",
              "        const docLink = document.createElement('div');\n",
              "        docLink.innerHTML = docLinkHtml;\n",
              "        element.appendChild(docLink);\n",
              "      }\n",
              "    </script>\n",
              "  </div>\n",
              "\n",
              "\n",
              "<div id=\"df-47e21a8e-8e6e-434b-8923-4717e9732870\">\n",
              "  <button class=\"colab-df-quickchart\" onclick=\"quickchart('df-47e21a8e-8e6e-434b-8923-4717e9732870')\"\n",
              "            title=\"Suggest charts\"\n",
              "            style=\"display:none;\">\n",
              "\n",
              "<svg xmlns=\"http://www.w3.org/2000/svg\" height=\"24px\"viewBox=\"0 0 24 24\"\n",
              "     width=\"24px\">\n",
              "    <g>\n",
              "        <path d=\"M19 3H5c-1.1 0-2 .9-2 2v14c0 1.1.9 2 2 2h14c1.1 0 2-.9 2-2V5c0-1.1-.9-2-2-2zM9 17H7v-7h2v7zm4 0h-2V7h2v10zm4 0h-2v-4h2v4z\"/>\n",
              "    </g>\n",
              "</svg>\n",
              "  </button>\n",
              "\n",
              "<style>\n",
              "  .colab-df-quickchart {\n",
              "      --bg-color: #E8F0FE;\n",
              "      --fill-color: #1967D2;\n",
              "      --hover-bg-color: #E2EBFA;\n",
              "      --hover-fill-color: #174EA6;\n",
              "      --disabled-fill-color: #AAA;\n",
              "      --disabled-bg-color: #DDD;\n",
              "  }\n",
              "\n",
              "  [theme=dark] .colab-df-quickchart {\n",
              "      --bg-color: #3B4455;\n",
              "      --fill-color: #D2E3FC;\n",
              "      --hover-bg-color: #434B5C;\n",
              "      --hover-fill-color: #FFFFFF;\n",
              "      --disabled-bg-color: #3B4455;\n",
              "      --disabled-fill-color: #666;\n",
              "  }\n",
              "\n",
              "  .colab-df-quickchart {\n",
              "    background-color: var(--bg-color);\n",
              "    border: none;\n",
              "    border-radius: 50%;\n",
              "    cursor: pointer;\n",
              "    display: none;\n",
              "    fill: var(--fill-color);\n",
              "    height: 32px;\n",
              "    padding: 0;\n",
              "    width: 32px;\n",
              "  }\n",
              "\n",
              "  .colab-df-quickchart:hover {\n",
              "    background-color: var(--hover-bg-color);\n",
              "    box-shadow: 0 1px 2px rgba(60, 64, 67, 0.3), 0 1px 3px 1px rgba(60, 64, 67, 0.15);\n",
              "    fill: var(--button-hover-fill-color);\n",
              "  }\n",
              "\n",
              "  .colab-df-quickchart-complete:disabled,\n",
              "  .colab-df-quickchart-complete:disabled:hover {\n",
              "    background-color: var(--disabled-bg-color);\n",
              "    fill: var(--disabled-fill-color);\n",
              "    box-shadow: none;\n",
              "  }\n",
              "\n",
              "  .colab-df-spinner {\n",
              "    border: 2px solid var(--fill-color);\n",
              "    border-color: transparent;\n",
              "    border-bottom-color: var(--fill-color);\n",
              "    animation:\n",
              "      spin 1s steps(1) infinite;\n",
              "  }\n",
              "\n",
              "  @keyframes spin {\n",
              "    0% {\n",
              "      border-color: transparent;\n",
              "      border-bottom-color: var(--fill-color);\n",
              "      border-left-color: var(--fill-color);\n",
              "    }\n",
              "    20% {\n",
              "      border-color: transparent;\n",
              "      border-left-color: var(--fill-color);\n",
              "      border-top-color: var(--fill-color);\n",
              "    }\n",
              "    30% {\n",
              "      border-color: transparent;\n",
              "      border-left-color: var(--fill-color);\n",
              "      border-top-color: var(--fill-color);\n",
              "      border-right-color: var(--fill-color);\n",
              "    }\n",
              "    40% {\n",
              "      border-color: transparent;\n",
              "      border-right-color: var(--fill-color);\n",
              "      border-top-color: var(--fill-color);\n",
              "    }\n",
              "    60% {\n",
              "      border-color: transparent;\n",
              "      border-right-color: var(--fill-color);\n",
              "    }\n",
              "    80% {\n",
              "      border-color: transparent;\n",
              "      border-right-color: var(--fill-color);\n",
              "      border-bottom-color: var(--fill-color);\n",
              "    }\n",
              "    90% {\n",
              "      border-color: transparent;\n",
              "      border-bottom-color: var(--fill-color);\n",
              "    }\n",
              "  }\n",
              "</style>\n",
              "\n",
              "  <script>\n",
              "    async function quickchart(key) {\n",
              "      const quickchartButtonEl =\n",
              "        document.querySelector('#' + key + ' button');\n",
              "      quickchartButtonEl.disabled = true;  // To prevent multiple clicks.\n",
              "      quickchartButtonEl.classList.add('colab-df-spinner');\n",
              "      try {\n",
              "        const charts = await google.colab.kernel.invokeFunction(\n",
              "            'suggestCharts', [key], {});\n",
              "      } catch (error) {\n",
              "        console.error('Error during call to suggestCharts:', error);\n",
              "      }\n",
              "      quickchartButtonEl.classList.remove('colab-df-spinner');\n",
              "      quickchartButtonEl.classList.add('colab-df-quickchart-complete');\n",
              "    }\n",
              "    (() => {\n",
              "      let quickchartButtonEl =\n",
              "        document.querySelector('#df-47e21a8e-8e6e-434b-8923-4717e9732870 button');\n",
              "      quickchartButtonEl.style.display =\n",
              "        google.colab.kernel.accessAllowed ? 'block' : 'none';\n",
              "    })();\n",
              "  </script>\n",
              "</div>\n",
              "\n",
              "    </div>\n",
              "  </div>\n"
            ],
            "application/vnd.google.colaboratory.intrinsic+json": {
              "type": "dataframe",
              "variable_name": "datasetx",
              "summary": "{\n  \"name\": \"datasetx\",\n  \"rows\": 7050,\n  \"fields\": [\n    {\n      \"column\": \"num_reactions\",\n      \"properties\": {\n        \"dtype\": \"number\",\n        \"std\": 0.09822193399898797,\n        \"min\": 0.0,\n        \"max\": 1.0,\n        \"num_unique_values\": 1067,\n        \"samples\": [\n          0.0861995753715499,\n          0.3957537154989384,\n          0.0673036093418259\n        ],\n        \"semantic_type\": \"\",\n        \"description\": \"\"\n      }\n    },\n    {\n      \"column\": \"num_comments\",\n      \"properties\": {\n        \"dtype\": \"number\",\n        \"std\": 0.042383840853692505,\n        \"min\": 0.0,\n        \"max\": 1.0,\n        \"num_unique_values\": 993,\n        \"samples\": [\n          0.1565983801810385,\n          0.0148165793234873,\n          0.025869461648404\n        ],\n        \"semantic_type\": \"\",\n        \"description\": \"\"\n      }\n    },\n    {\n      \"column\": \"num_shares\",\n      \"properties\": {\n        \"dtype\": \"number\",\n        \"std\": 0.038434569360448624,\n        \"min\": 0.0,\n        \"max\": 1.0,\n        \"num_unique_values\": 501,\n        \"samples\": [\n          0.0683411214953271,\n          0.0227803738317757,\n          0.0870327102803738\n        ],\n        \"semantic_type\": \"\",\n        \"description\": \"\"\n      }\n    },\n    {\n      \"column\": \"num_likes\",\n      \"properties\": {\n        \"dtype\": \"number\",\n        \"std\": 0.09542937517115532,\n        \"min\": 0.0,\n        \"max\": 1.0,\n        \"num_unique_values\": 1044,\n        \"samples\": [\n          0.1791932059447983,\n          0.1859872611464968,\n          0.5093418259023355\n        ],\n        \"semantic_type\": \"\",\n        \"description\": \"\"\n      }\n    },\n    {\n      \"column\": \"num_loves\",\n      \"properties\": {\n        \"dtype\": \"number\",\n        \"std\": 0.06084159833880618,\n        \"min\": 0.0,\n        \"max\": 1.0,\n        \"num_unique_values\": 229,\n        \"samples\": [\n          0.1537290715372907,\n          0.2070015220700152,\n          0.0091324200913242\n        ],\n        \"semantic_type\": \"\",\n        \"description\": \"\"\n      }\n    },\n    {\n      \"column\": \"num_wows\",\n      \"properties\": {\n        \"dtype\": \"number\",\n        \"std\": 0.03136564885029318,\n        \"min\": 0.0,\n        \"max\": 1.0,\n        \"num_unique_values\": 65,\n        \"samples\": [\n          0.118705035971223,\n          0.1762589928057554,\n          0.0107913669064748\n        ],\n        \"semantic_type\": \"\",\n        \"description\": \"\"\n      }\n    },\n    {\n      \"column\": \"num_hahas\",\n      \"properties\": {\n        \"dtype\": \"number\",\n        \"std\": 0.02520499008250207,\n        \"min\": 0.0,\n        \"max\": 1.0,\n        \"num_unique_values\": 42,\n        \"samples\": [\n          0.3184713375796179,\n          0.0573248407643312,\n          0.0445859872611465\n        ],\n        \"semantic_type\": \"\",\n        \"description\": \"\"\n      }\n    },\n    {\n      \"column\": \"num_sads\",\n      \"properties\": {\n        \"dtype\": \"number\",\n        \"std\": 0.03131678312767335,\n        \"min\": 0.0,\n        \"max\": 1.0,\n        \"num_unique_values\": 24,\n        \"samples\": [\n          0.0784313725490196,\n          1.0,\n          0.0196078431372549\n        ],\n        \"semantic_type\": \"\",\n        \"description\": \"\"\n      }\n    },\n    {\n      \"column\": \"num_angrys\",\n      \"properties\": {\n        \"dtype\": \"number\",\n        \"std\": 0.023445544859874642,\n        \"min\": 0.0,\n        \"max\": 1.0,\n        \"num_unique_values\": 14,\n        \"samples\": [\n          0.2580645161290322,\n          0.6129032258064516,\n          0.0\n        ],\n        \"semantic_type\": \"\",\n        \"description\": \"\"\n      }\n    },\n    {\n      \"column\": \"status_type_link\",\n      \"properties\": {\n        \"dtype\": \"number\",\n        \"std\": 0.09411467190513088,\n        \"min\": 0.0,\n        \"max\": 1.0,\n        \"num_unique_values\": 2,\n        \"samples\": [\n          1.0,\n          0.0\n        ],\n        \"semantic_type\": \"\",\n        \"description\": \"\"\n      }\n    },\n    {\n      \"column\": \"status_type_photo\",\n      \"properties\": {\n        \"dtype\": \"number\",\n        \"std\": 0.48818104385159156,\n        \"min\": 0.0,\n        \"max\": 1.0,\n        \"num_unique_values\": 2,\n        \"samples\": [\n          1.0,\n          0.0\n        ],\n        \"semantic_type\": \"\",\n        \"description\": \"\"\n      }\n    },\n    {\n      \"column\": \"status_type_status\",\n      \"properties\": {\n        \"dtype\": \"number\",\n        \"std\": 0.22158421751825036,\n        \"min\": 0.0,\n        \"max\": 1.0,\n        \"num_unique_values\": 2,\n        \"samples\": [\n          1.0,\n          0.0\n        ],\n        \"semantic_type\": \"\",\n        \"description\": \"\"\n      }\n    },\n    {\n      \"column\": \"status_type_video\",\n      \"properties\": {\n        \"dtype\": \"number\",\n        \"std\": 0.470629352778875,\n        \"min\": 0.0,\n        \"max\": 1.0,\n        \"num_unique_values\": 2,\n        \"samples\": [\n          0.0,\n          1.0\n        ],\n        \"semantic_type\": \"\",\n        \"description\": \"\"\n      }\n    }\n  ]\n}"
            }
          },
          "metadata": {},
          "execution_count": 111
        }
      ]
    },
    {
      "cell_type": "code",
      "source": [
        "# The code snippet you provided is used to perform K-Means clustering using the scikit-learn library\n",
        "# scikit-learn kütüphanesini kullanarak K-Means kümeleme işlemi yapar.\n",
        "from sklearn.cluster import KMeans\n",
        "model = KMeans(n_clusters=3)"
      ],
      "metadata": {
        "id": "mIwsbKg3eGG1"
      },
      "execution_count": null,
      "outputs": []
    },
    {
      "cell_type": "code",
      "source": [
        "# The code snippet model.fit(datasetx) is used to train the K-Means model on the provided dataset datasetx.\n",
        "# Model.fit(datasetx) kod parçası, K-Means modelini verilen datasetx veri kümesi üzerinde eğitmek için kullanılır.\n",
        "\n",
        "model.fit(datasetx)"
      ],
      "metadata": {
        "colab": {
          "base_uri": "https://localhost:8080/",
          "height": 129
        },
        "id": "d82TGRDFeH5t",
        "outputId": "94ff2132-890b-4e14-b5a2-e7180af8fa07"
      },
      "execution_count": null,
      "outputs": [
        {
          "output_type": "stream",
          "name": "stderr",
          "text": [
            "/usr/local/lib/python3.10/dist-packages/sklearn/cluster/_kmeans.py:1416: FutureWarning: The default value of `n_init` will change from 10 to 'auto' in 1.4. Set the value of `n_init` explicitly to suppress the warning\n",
            "  super()._check_params_vs_input(X, default_n_init=10)\n"
          ]
        },
        {
          "output_type": "execute_result",
          "data": {
            "text/plain": [
              "KMeans(n_clusters=3)"
            ],
            "text/html": [
              "<style>#sk-container-id-8 {color: black;}#sk-container-id-8 pre{padding: 0;}#sk-container-id-8 div.sk-toggleable {background-color: white;}#sk-container-id-8 label.sk-toggleable__label {cursor: pointer;display: block;width: 100%;margin-bottom: 0;padding: 0.3em;box-sizing: border-box;text-align: center;}#sk-container-id-8 label.sk-toggleable__label-arrow:before {content: \"▸\";float: left;margin-right: 0.25em;color: #696969;}#sk-container-id-8 label.sk-toggleable__label-arrow:hover:before {color: black;}#sk-container-id-8 div.sk-estimator:hover label.sk-toggleable__label-arrow:before {color: black;}#sk-container-id-8 div.sk-toggleable__content {max-height: 0;max-width: 0;overflow: hidden;text-align: left;background-color: #f0f8ff;}#sk-container-id-8 div.sk-toggleable__content pre {margin: 0.2em;color: black;border-radius: 0.25em;background-color: #f0f8ff;}#sk-container-id-8 input.sk-toggleable__control:checked~div.sk-toggleable__content {max-height: 200px;max-width: 100%;overflow: auto;}#sk-container-id-8 input.sk-toggleable__control:checked~label.sk-toggleable__label-arrow:before {content: \"▾\";}#sk-container-id-8 div.sk-estimator input.sk-toggleable__control:checked~label.sk-toggleable__label {background-color: #d4ebff;}#sk-container-id-8 div.sk-label input.sk-toggleable__control:checked~label.sk-toggleable__label {background-color: #d4ebff;}#sk-container-id-8 input.sk-hidden--visually {border: 0;clip: rect(1px 1px 1px 1px);clip: rect(1px, 1px, 1px, 1px);height: 1px;margin: -1px;overflow: hidden;padding: 0;position: absolute;width: 1px;}#sk-container-id-8 div.sk-estimator {font-family: monospace;background-color: #f0f8ff;border: 1px dotted black;border-radius: 0.25em;box-sizing: border-box;margin-bottom: 0.5em;}#sk-container-id-8 div.sk-estimator:hover {background-color: #d4ebff;}#sk-container-id-8 div.sk-parallel-item::after {content: \"\";width: 100%;border-bottom: 1px solid gray;flex-grow: 1;}#sk-container-id-8 div.sk-label:hover label.sk-toggleable__label {background-color: #d4ebff;}#sk-container-id-8 div.sk-serial::before {content: \"\";position: absolute;border-left: 1px solid gray;box-sizing: border-box;top: 0;bottom: 0;left: 50%;z-index: 0;}#sk-container-id-8 div.sk-serial {display: flex;flex-direction: column;align-items: center;background-color: white;padding-right: 0.2em;padding-left: 0.2em;position: relative;}#sk-container-id-8 div.sk-item {position: relative;z-index: 1;}#sk-container-id-8 div.sk-parallel {display: flex;align-items: stretch;justify-content: center;background-color: white;position: relative;}#sk-container-id-8 div.sk-item::before, #sk-container-id-8 div.sk-parallel-item::before {content: \"\";position: absolute;border-left: 1px solid gray;box-sizing: border-box;top: 0;bottom: 0;left: 50%;z-index: -1;}#sk-container-id-8 div.sk-parallel-item {display: flex;flex-direction: column;z-index: 1;position: relative;background-color: white;}#sk-container-id-8 div.sk-parallel-item:first-child::after {align-self: flex-end;width: 50%;}#sk-container-id-8 div.sk-parallel-item:last-child::after {align-self: flex-start;width: 50%;}#sk-container-id-8 div.sk-parallel-item:only-child::after {width: 0;}#sk-container-id-8 div.sk-dashed-wrapped {border: 1px dashed gray;margin: 0 0.4em 0.5em 0.4em;box-sizing: border-box;padding-bottom: 0.4em;background-color: white;}#sk-container-id-8 div.sk-label label {font-family: monospace;font-weight: bold;display: inline-block;line-height: 1.2em;}#sk-container-id-8 div.sk-label-container {text-align: center;}#sk-container-id-8 div.sk-container {/* jupyter's `normalize.less` sets `[hidden] { display: none; }` but bootstrap.min.css set `[hidden] { display: none !important; }` so we also need the `!important` here to be able to override the default hidden behavior on the sphinx rendered scikit-learn.org. See: https://github.com/scikit-learn/scikit-learn/issues/21755 */display: inline-block !important;position: relative;}#sk-container-id-8 div.sk-text-repr-fallback {display: none;}</style><div id=\"sk-container-id-8\" class=\"sk-top-container\"><div class=\"sk-text-repr-fallback\"><pre>KMeans(n_clusters=3)</pre><b>In a Jupyter environment, please rerun this cell to show the HTML representation or trust the notebook. <br />On GitHub, the HTML representation is unable to render, please try loading this page with nbviewer.org.</b></div><div class=\"sk-container\" hidden><div class=\"sk-item\"><div class=\"sk-estimator sk-toggleable\"><input class=\"sk-toggleable__control sk-hidden--visually\" id=\"sk-estimator-id-8\" type=\"checkbox\" checked><label for=\"sk-estimator-id-8\" class=\"sk-toggleable__label sk-toggleable__label-arrow\">KMeans</label><div class=\"sk-toggleable__content\"><pre>KMeans(n_clusters=3)</pre></div></div></div></div></div>"
            ]
          },
          "metadata": {},
          "execution_count": 113
        }
      ]
    },
    {
      "cell_type": "code",
      "source": [
        "# It  is used to make predictions using the trained K-Means model\n",
        "# Bu kod parçası, eğitilmiş K-Means modelini kullanarak tahminler yapmak için kullanılır.\n",
        "labels = model.predict(datasetx)"
      ],
      "metadata": {
        "id": "Cskk2DBZeKaM"
      },
      "execution_count": null,
      "outputs": []
    },
    {
      "cell_type": "code",
      "source": [
        "# It is used to find the unique elements in the labels array and count how many times each unique element appears\n",
        "# kod parçası, labels dizisindeki benzersiz elemanları bulmak ve her benzersiz elemanın kaç kez göründüğünü saymak için kullanılır.\n",
        "\n",
        "import numpy as np\n",
        "np.unique(labels, return_counts=True)"
      ],
      "metadata": {
        "colab": {
          "base_uri": "https://localhost:8080/"
        },
        "id": "BZeIYI2eeNuF",
        "outputId": "7245b5f1-b230-4694-c66e-7f1007e09fdd"
      },
      "execution_count": null,
      "outputs": [
        {
          "output_type": "execute_result",
          "data": {
            "text/plain": [
              "(array([0, 1, 2], dtype=int32), array([ 428, 4288, 2334]))"
            ]
          },
          "metadata": {},
          "execution_count": 115
        }
      ]
    },
    {
      "cell_type": "code",
      "source": [
        "'''\n",
        "This code snippet is used to determine the optimal number of clusters\n",
        "for K-Means clustering by evaluating the silhouette score for different values of ( k )\n",
        "'''\n",
        "\n",
        "'''\n",
        "Bu kod parçası, farklı ( k ) değerleri için silüet skorunu değerlendirerek K-Means\n",
        "kümeleme için en uygun küme sayısını belirlemek için kullanılır\n",
        "'''\n",
        "from sklearn.metrics import silhouette_score #imports the sihouette_score func. to evaluate the quality of clustering.\n",
        "import matplotlib.pyplot as plt # imports the matplotlib.pyplot module for ploting.\n",
        "\n",
        "silhouettes = [] # initialized an empty list to store silhouette scores.\n",
        "ks = list(range(2, 12)) #creates a list of cluster numbers from 2 to 11.\n",
        "for n_cluster in ks: # The for looop iterates over each value of n_cluster in ks.\n",
        "    kmeans = KMeans(n_clusters=n_cluster).fit(datasetx)  # fits the k-means model to the dataset satasetx with n_cluster cluster.\n",
        "    label = kmeans.labels_ #retrieves the cluster labels for each data point\n",
        "    sil_coeff = silhouette_score(datasetx, label, metric='euclidean') # calculates the silhouette score for the current clustering.\n",
        "    print(\"For n_clusters={}, The Silhouette Coefficient is {}\".format(n_cluster, sil_coeff)) # prints the silhouette score  for the current number of clusters.\n",
        "    silhouettes.append(sil_coeff) # appends the silhouette score to the silhouettes list\n",
        "\n",
        "plt.figure(figsize=(12, 8))   #creates a new figure with specified size\n",
        "plt.subplot(211) # adds a subplot to the figure\n",
        "plt.scatter(ks, silhouettes, marker='x', c='r')  # creates a scatter plot of the silhouette scores\n",
        "plt.plot(ks, silhouettes) #plots the silhouette scores as a line plot.\n",
        "plt.xlabel('k') # labels the x-axis as 'k'\n",
        "plt.ylabel('Silhouette score'); # labels the y-axis as 'Silhouette score'"
      ],
      "metadata": {
        "colab": {
          "base_uri": "https://localhost:8080/",
          "height": 839
        },
        "id": "9BrTEM0LeO_V",
        "outputId": "618a6774-15b7-45d7-efb9-e2a051827af9"
      },
      "execution_count": null,
      "outputs": [
        {
          "output_type": "stream",
          "name": "stderr",
          "text": [
            "/usr/local/lib/python3.10/dist-packages/sklearn/cluster/_kmeans.py:1416: FutureWarning: The default value of `n_init` will change from 10 to 'auto' in 1.4. Set the value of `n_init` explicitly to suppress the warning\n",
            "  super()._check_params_vs_input(X, default_n_init=10)\n"
          ]
        },
        {
          "output_type": "stream",
          "name": "stdout",
          "text": [
            "For n_clusters=2, The Silhouette Coefficient is 0.8188237721696822\n"
          ]
        },
        {
          "output_type": "stream",
          "name": "stderr",
          "text": [
            "/usr/local/lib/python3.10/dist-packages/sklearn/cluster/_kmeans.py:1416: FutureWarning: The default value of `n_init` will change from 10 to 'auto' in 1.4. Set the value of `n_init` explicitly to suppress the warning\n",
            "  super()._check_params_vs_input(X, default_n_init=10)\n"
          ]
        },
        {
          "output_type": "stream",
          "name": "stdout",
          "text": [
            "For n_clusters=3, The Silhouette Coefficient is 0.8972493682244883\n"
          ]
        },
        {
          "output_type": "stream",
          "name": "stderr",
          "text": [
            "/usr/local/lib/python3.10/dist-packages/sklearn/cluster/_kmeans.py:1416: FutureWarning: The default value of `n_init` will change from 10 to 'auto' in 1.4. Set the value of `n_init` explicitly to suppress the warning\n",
            "  super()._check_params_vs_input(X, default_n_init=10)\n"
          ]
        },
        {
          "output_type": "stream",
          "name": "stdout",
          "text": [
            "For n_clusters=4, The Silhouette Coefficient is 0.9106664962327088\n"
          ]
        },
        {
          "output_type": "stream",
          "name": "stderr",
          "text": [
            "/usr/local/lib/python3.10/dist-packages/sklearn/cluster/_kmeans.py:1416: FutureWarning: The default value of `n_init` will change from 10 to 'auto' in 1.4. Set the value of `n_init` explicitly to suppress the warning\n",
            "  super()._check_params_vs_input(X, default_n_init=10)\n"
          ]
        },
        {
          "output_type": "stream",
          "name": "stdout",
          "text": [
            "For n_clusters=5, The Silhouette Coefficient is 0.8866768371183754\n"
          ]
        },
        {
          "output_type": "stream",
          "name": "stderr",
          "text": [
            "/usr/local/lib/python3.10/dist-packages/sklearn/cluster/_kmeans.py:1416: FutureWarning: The default value of `n_init` will change from 10 to 'auto' in 1.4. Set the value of `n_init` explicitly to suppress the warning\n",
            "  super()._check_params_vs_input(X, default_n_init=10)\n"
          ]
        },
        {
          "output_type": "stream",
          "name": "stdout",
          "text": [
            "For n_clusters=6, The Silhouette Coefficient is 0.8430118288915796\n"
          ]
        },
        {
          "output_type": "stream",
          "name": "stderr",
          "text": [
            "/usr/local/lib/python3.10/dist-packages/sklearn/cluster/_kmeans.py:1416: FutureWarning: The default value of `n_init` will change from 10 to 'auto' in 1.4. Set the value of `n_init` explicitly to suppress the warning\n",
            "  super()._check_params_vs_input(X, default_n_init=10)\n"
          ]
        },
        {
          "output_type": "stream",
          "name": "stdout",
          "text": [
            "For n_clusters=7, The Silhouette Coefficient is 0.8419421782294257\n"
          ]
        },
        {
          "output_type": "stream",
          "name": "stderr",
          "text": [
            "/usr/local/lib/python3.10/dist-packages/sklearn/cluster/_kmeans.py:1416: FutureWarning: The default value of `n_init` will change from 10 to 'auto' in 1.4. Set the value of `n_init` explicitly to suppress the warning\n",
            "  super()._check_params_vs_input(X, default_n_init=10)\n"
          ]
        },
        {
          "output_type": "stream",
          "name": "stdout",
          "text": [
            "For n_clusters=8, The Silhouette Coefficient is 0.8369757672176514\n"
          ]
        },
        {
          "output_type": "stream",
          "name": "stderr",
          "text": [
            "/usr/local/lib/python3.10/dist-packages/sklearn/cluster/_kmeans.py:1416: FutureWarning: The default value of `n_init` will change from 10 to 'auto' in 1.4. Set the value of `n_init` explicitly to suppress the warning\n",
            "  super()._check_params_vs_input(X, default_n_init=10)\n"
          ]
        },
        {
          "output_type": "stream",
          "name": "stdout",
          "text": [
            "For n_clusters=9, The Silhouette Coefficient is 0.7611167266579967\n"
          ]
        },
        {
          "output_type": "stream",
          "name": "stderr",
          "text": [
            "/usr/local/lib/python3.10/dist-packages/sklearn/cluster/_kmeans.py:1416: FutureWarning: The default value of `n_init` will change from 10 to 'auto' in 1.4. Set the value of `n_init` explicitly to suppress the warning\n",
            "  super()._check_params_vs_input(X, default_n_init=10)\n"
          ]
        },
        {
          "output_type": "stream",
          "name": "stdout",
          "text": [
            "For n_clusters=10, The Silhouette Coefficient is 0.7270134375055539\n"
          ]
        },
        {
          "output_type": "stream",
          "name": "stderr",
          "text": [
            "/usr/local/lib/python3.10/dist-packages/sklearn/cluster/_kmeans.py:1416: FutureWarning: The default value of `n_init` will change from 10 to 'auto' in 1.4. Set the value of `n_init` explicitly to suppress the warning\n",
            "  super()._check_params_vs_input(X, default_n_init=10)\n"
          ]
        },
        {
          "output_type": "stream",
          "name": "stdout",
          "text": [
            "For n_clusters=11, The Silhouette Coefficient is 0.7154432067557073\n"
          ]
        },
        {
          "output_type": "display_data",
          "data": {
            "text/plain": [
              "<Figure size 1200x800 with 1 Axes>"
            ],
            "image/png": "[encoded data removed]"
          },
          "metadata": {}
        }
      ]
    },
    {
      "cell_type": "code",
      "source": [
        "'''\n",
        "This code snippet performs K-Means clustering on a dataset and the counts the number of data points in each cluster.\n",
        "'''\n",
        "\n",
        "'''\n",
        "Bu kod parçası, bir veri kümesi üzerinde K-Means kümeleme işlemi yapar ve ardından her kümedeki veri noktalarının sayısını sayar.\n",
        "'''\n",
        "from sklearn.cluster import KMeans #importing Kmeans from sklearn.cluster\n",
        "model = KMeans(n_clusters=4) # creating a KMeans model with 4 cluster\n",
        "model.fit(datasetx) # fitting the model to the dataset.\n",
        "labels = model.predict(datasetx) # predicting the cluster labels for the dataset\n",
        "import numpy as np #importing NumPy\n",
        "np.unique(labels, return_counts=True) # counting the number of dta points in each cluster"
      ],
      "metadata": {
        "colab": {
          "base_uri": "https://localhost:8080/"
        },
        "id": "L72SxMn3ebxl",
        "outputId": "561e3d46-0d4d-4f7f-c084-c5b28ff2d2dd"
      },
      "execution_count": null,
      "outputs": [
        {
          "output_type": "stream",
          "name": "stderr",
          "text": [
            "/usr/local/lib/python3.10/dist-packages/sklearn/cluster/_kmeans.py:1416: FutureWarning: The default value of `n_init` will change from 10 to 'auto' in 1.4. Set the value of `n_init` explicitly to suppress the warning\n",
            "  super()._check_params_vs_input(X, default_n_init=10)\n"
          ]
        },
        {
          "output_type": "execute_result",
          "data": {
            "text/plain": [
              "(array([0, 1, 2, 3], dtype=int32), array([2334, 4288,  365,   63]))"
            ]
          },
          "metadata": {},
          "execution_count": 117
        }
      ]
    },
    {
      "cell_type": "code",
      "source": [
        "datasetx[\"labels\"] = labels #adding a new column to the datasetx\n",
        "datasetx # displaying the updated dataframe"
      ],
      "metadata": {
        "colab": {
          "base_uri": "https://localhost:8080/",
          "height": 444
        },
        "id": "8Cgva4dCefzd",
        "outputId": "fb5a70a4-d723-4f62-e73d-ef24d7c64e41"
      },
      "execution_count": null,
      "outputs": [
        {
          "output_type": "execute_result",
          "data": {
            "text/plain": [
              "      num_reactions  num_comments  num_shares  num_likes  num_loves  num_wows  \\\n",
              "0          0.112314      0.024393    0.076519   0.091720   0.140030  0.010791   \n",
              "1          0.031847      0.000000    0.000000   0.031847   0.000000  0.000000   \n",
              "2          0.048195      0.011243    0.016647   0.043312   0.031963  0.003597   \n",
              "3          0.023567      0.000000    0.000000   0.023567   0.000000  0.000000   \n",
              "4          0.045223      0.000000    0.000000   0.043312   0.013699  0.000000   \n",
              "...             ...           ...         ...        ...        ...       ...   \n",
              "7045       0.018896      0.000000    0.000000   0.018896   0.000000  0.000000   \n",
              "7046       0.003397      0.000000    0.000000   0.002972   0.001522  0.000000   \n",
              "7047       0.000425      0.000000    0.000000   0.000212   0.001522  0.000000   \n",
              "7048       0.074522      0.000572    0.006425   0.074098   0.003044  0.000000   \n",
              "7049       0.003609      0.000000    0.000000   0.003609   0.000000  0.000000   \n",
              "\n",
              "      num_hahas  num_sads  num_angrys  status_type_link  status_type_photo  \\\n",
              "0      0.006369  0.019608         0.0               0.0                0.0   \n",
              "1      0.000000  0.000000         0.0               0.0                1.0   \n",
              "2      0.006369  0.000000         0.0               0.0                0.0   \n",
              "3      0.000000  0.000000         0.0               0.0                1.0   \n",
              "4      0.000000  0.000000         0.0               0.0                1.0   \n",
              "...         ...       ...         ...               ...                ...   \n",
              "7045   0.000000  0.000000         0.0               0.0                1.0   \n",
              "7046   0.006369  0.000000         0.0               0.0                1.0   \n",
              "7047   0.000000  0.000000         0.0               0.0                1.0   \n",
              "7048   0.000000  0.000000         0.0               0.0                1.0   \n",
              "7049   0.000000  0.000000         0.0               0.0                1.0   \n",
              "\n",
              "      status_type_status  status_type_video  labels  \n",
              "0                    0.0                1.0       0  \n",
              "1                    0.0                0.0       1  \n",
              "2                    0.0                1.0       0  \n",
              "3                    0.0                0.0       1  \n",
              "4                    0.0                0.0       1  \n",
              "...                  ...                ...     ...  \n",
              "7045                 0.0                0.0       1  \n",
              "7046                 0.0                0.0       1  \n",
              "7047                 0.0                0.0       1  \n",
              "7048                 0.0                0.0       1  \n",
              "7049                 0.0                0.0       1  \n",
              "\n",
              "[7050 rows x 14 columns]"
            ],
            "text/html": [
              "\n",
              "  <div id=\"df-aab54c41-809d-4907-97de-124d04168bf6\" class=\"colab-df-container\">\n",
              "    <div>\n",
              "<style scoped>\n",
              "    .dataframe tbody tr th:only-of-type {\n",
              "        vertical-align: middle;\n",
              "    }\n",
              "\n",
              "    .dataframe tbody tr th {\n",
              "        vertical-align: top;\n",
              "    }\n",
              "\n",
              "    .dataframe thead th {\n",
              "        text-align: right;\n",
              "    }\n",
              "</style>\n",
              "<table border=\"1\" class=\"dataframe\">\n",
              "  <thead>\n",
              "    <tr style=\"text-align: right;\">\n",
              "      <th></th>\n",
              "      <th>num_reactions</th>\n",
              "      <th>num_comments</th>\n",
              "      <th>num_shares</th>\n",
              "      <th>num_likes</th>\n",
              "      <th>num_loves</th>\n",
              "      <th>num_wows</th>\n",
              "      <th>num_hahas</th>\n",
              "      <th>num_sads</th>\n",
              "      <th>num_angrys</th>\n",
              "      <th>status_type_link</th>\n",
              "      <th>status_type_photo</th>\n",
              "      <th>status_type_status</th>\n",
              "      <th>status_type_video</th>\n",
              "      <th>labels</th>\n",
              "    </tr>\n",
              "  </thead>\n",
              "  <tbody>\n",
              "    <tr>\n",
              "      <th>0</th>\n",
              "      <td>0.112314</td>\n",
              "      <td>0.024393</td>\n",
              "      <td>0.076519</td>\n",
              "      <td>0.091720</td>\n",
              "      <td>0.140030</td>\n",
              "      <td>0.010791</td>\n",
              "      <td>0.006369</td>\n",
              "      <td>0.019608</td>\n",
              "      <td>0.0</td>\n",
              "      <td>0.0</td>\n",
              "      <td>0.0</td>\n",
              "      <td>0.0</td>\n",
              "      <td>1.0</td>\n",
              "      <td>0</td>\n",
              "    </tr>\n",
              "    <tr>\n",
              "      <th>1</th>\n",
              "      <td>0.031847</td>\n",
              "      <td>0.000000</td>\n",
              "      <td>0.000000</td>\n",
              "      <td>0.031847</td>\n",
              "      <td>0.000000</td>\n",
              "      <td>0.000000</td>\n",
              "      <td>0.000000</td>\n",
              "      <td>0.000000</td>\n",
              "      <td>0.0</td>\n",
              "      <td>0.0</td>\n",
              "      <td>1.0</td>\n",
              "      <td>0.0</td>\n",
              "      <td>0.0</td>\n",
              "      <td>1</td>\n",
              "    </tr>\n",
              "    <tr>\n",
              "      <th>2</th>\n",
              "      <td>0.048195</td>\n",
              "      <td>0.011243</td>\n",
              "      <td>0.016647</td>\n",
              "      <td>0.043312</td>\n",
              "      <td>0.031963</td>\n",
              "      <td>0.003597</td>\n",
              "      <td>0.006369</td>\n",
              "      <td>0.000000</td>\n",
              "      <td>0.0</td>\n",
              "      <td>0.0</td>\n",
              "      <td>0.0</td>\n",
              "      <td>0.0</td>\n",
              "      <td>1.0</td>\n",
              "      <td>0</td>\n",
              "    </tr>\n",
              "    <tr>\n",
              "      <th>3</th>\n",
              "      <td>0.023567</td>\n",
              "      <td>0.000000</td>\n",
              "      <td>0.000000</td>\n",
              "      <td>0.023567</td>\n",
              "      <td>0.000000</td>\n",
              "      <td>0.000000</td>\n",
              "      <td>0.000000</td>\n",
              "      <td>0.000000</td>\n",
              "      <td>0.0</td>\n",
              "      <td>0.0</td>\n",
              "      <td>1.0</td>\n",
              "      <td>0.0</td>\n",
              "      <td>0.0</td>\n",
              "      <td>1</td>\n",
              "    </tr>\n",
              "    <tr>\n",
              "      <th>4</th>\n",
              "      <td>0.045223</td>\n",
              "      <td>0.000000</td>\n",
              "      <td>0.000000</td>\n",
              "      <td>0.043312</td>\n",
              "      <td>0.013699</td>\n",
              "      <td>0.000000</td>\n",
              "      <td>0.000000</td>\n",
              "      <td>0.000000</td>\n",
              "      <td>0.0</td>\n",
              "      <td>0.0</td>\n",
              "      <td>1.0</td>\n",
              "      <td>0.0</td>\n",
              "      <td>0.0</td>\n",
              "      <td>1</td>\n",
              "    </tr>\n",
              "    <tr>\n",
              "      <th>...</th>\n",
              "      <td>...</td>\n",
              "      <td>...</td>\n",
              "      <td>...</td>\n",
              "      <td>...</td>\n",
              "      <td>...</td>\n",
              "      <td>...</td>\n",
              "      <td>...</td>\n",
              "      <td>...</td>\n",
              "      <td>...</td>\n",
              "      <td>...</td>\n",
              "      <td>...</td>\n",
              "      <td>...</td>\n",
              "      <td>...</td>\n",
              "      <td>...</td>\n",
              "    </tr>\n",
              "    <tr>\n",
              "      <th>7045</th>\n",
              "      <td>0.018896</td>\n",
              "      <td>0.000000</td>\n",
              "      <td>0.000000</td>\n",
              "      <td>0.018896</td>\n",
              "      <td>0.000000</td>\n",
              "      <td>0.000000</td>\n",
              "      <td>0.000000</td>\n",
              "      <td>0.000000</td>\n",
              "      <td>0.0</td>\n",
              "      <td>0.0</td>\n",
              "      <td>1.0</td>\n",
              "      <td>0.0</td>\n",
              "      <td>0.0</td>\n",
              "      <td>1</td>\n",
              "    </tr>\n",
              "    <tr>\n",
              "      <th>7046</th>\n",
              "      <td>0.003397</td>\n",
              "      <td>0.000000</td>\n",
              "      <td>0.000000</td>\n",
              "      <td>0.002972</td>\n",
              "      <td>0.001522</td>\n",
              "      <td>0.000000</td>\n",
              "      <td>0.006369</td>\n",
              "      <td>0.000000</td>\n",
              "      <td>0.0</td>\n",
              "      <td>0.0</td>\n",
              "      <td>1.0</td>\n",
              "      <td>0.0</td>\n",
              "      <td>0.0</td>\n",
              "      <td>1</td>\n",
              "    </tr>\n",
              "    <tr>\n",
              "      <th>7047</th>\n",
              "      <td>0.000425</td>\n",
              "      <td>0.000000</td>\n",
              "      <td>0.000000</td>\n",
              "      <td>0.000212</td>\n",
              "      <td>0.001522</td>\n",
              "      <td>0.000000</td>\n",
              "      <td>0.000000</td>\n",
              "      <td>0.000000</td>\n",
              "      <td>0.0</td>\n",
              "      <td>0.0</td>\n",
              "      <td>1.0</td>\n",
              "      <td>0.0</td>\n",
              "      <td>0.0</td>\n",
              "      <td>1</td>\n",
              "    </tr>\n",
              "    <tr>\n",
              "      <th>7048</th>\n",
              "      <td>0.074522</td>\n",
              "      <td>0.000572</td>\n",
              "      <td>0.006425</td>\n",
              "      <td>0.074098</td>\n",
              "      <td>0.003044</td>\n",
              "      <td>0.000000</td>\n",
              "      <td>0.000000</td>\n",
              "      <td>0.000000</td>\n",
              "      <td>0.0</td>\n",
              "      <td>0.0</td>\n",
              "      <td>1.0</td>\n",
              "      <td>0.0</td>\n",
              "      <td>0.0</td>\n",
              "      <td>1</td>\n",
              "    </tr>\n",
              "    <tr>\n",
              "      <th>7049</th>\n",
              "      <td>0.003609</td>\n",
              "      <td>0.000000</td>\n",
              "      <td>0.000000</td>\n",
              "      <td>0.003609</td>\n",
              "      <td>0.000000</td>\n",
              "      <td>0.000000</td>\n",
              "      <td>0.000000</td>\n",
              "      <td>0.000000</td>\n",
              "      <td>0.0</td>\n",
              "      <td>0.0</td>\n",
              "      <td>1.0</td>\n",
              "      <td>0.0</td>\n",
              "      <td>0.0</td>\n",
              "      <td>1</td>\n",
              "    </tr>\n",
              "  </tbody>\n",
              "</table>\n",
              "<p>7050 rows × 14 columns</p>\n",
              "</div>\n",
              "    <div class=\"colab-df-buttons\">\n",
              "\n",
              "  <div class=\"colab-df-container\">\n",
              "    <button class=\"colab-df-convert\" onclick=\"convertToInteractive('df-aab54c41-809d-4907-97de-124d04168bf6')\"\n",
              "            title=\"Convert this dataframe to an interactive table.\"\n",
              "            style=\"display:none;\">\n",
              "\n",
              "  <svg xmlns=\"http://www.w3.org/2000/svg\" height=\"24px\" viewBox=\"0 -960 960 960\">\n",
              "    <path d=\"M120-120v-720h720v720H120Zm60-500h600v-160H180v160Zm220 220h160v-160H400v160Zm0 220h160v-160H400v160ZM180-400h160v-160H180v160Zm440 0h160v-160H620v160ZM180-180h160v-160H180v160Zm440 0h160v-160H620v160Z\"/>\n",
              "  </svg>\n",
              "    </button>\n",
              "\n",
              "  <style>\n",
              "    .colab-df-container {\n",
              "      display:flex;\n",
              "      gap: 12px;\n",
              "    }\n",
              "\n",
              "    .colab-df-convert {\n",
              "      background-color: #E8F0FE;\n",
              "      border: none;\n",
              "      border-radius: 50%;\n",
              "      cursor: pointer;\n",
              "      display: none;\n",
              "      fill: #1967D2;\n",
              "      height: 32px;\n",
              "      padding: 0 0 0 0;\n",
              "      width: 32px;\n",
              "    }\n",
              "\n",
              "    .colab-df-convert:hover {\n",
              "      background-color: #E2EBFA;\n",
              "      box-shadow: 0px 1px 2px rgba(60, 64, 67, 0.3), 0px 1px 3px 1px rgba(60, 64, 67, 0.15);\n",
              "      fill: #174EA6;\n",
              "    }\n",
              "\n",
              "    .colab-df-buttons div {\n",
              "      margin-bottom: 4px;\n",
              "    }\n",
              "\n",
              "    [theme=dark] .colab-df-convert {\n",
              "      background-color: #3B4455;\n",
              "      fill: #D2E3FC;\n",
              "    }\n",
              "\n",
              "    [theme=dark] .colab-df-convert:hover {\n",
              "      background-color: #434B5C;\n",
              "      box-shadow: 0px 1px 3px 1px rgba(0, 0, 0, 0.15);\n",
              "      filter: drop-shadow(0px 1px 2px rgba(0, 0, 0, 0.3));\n",
              "      fill: #FFFFFF;\n",
              "    }\n",
              "  </style>\n",
              "\n",
              "    <script>\n",
              "      const buttonEl =\n",
              "        document.querySelector('#df-aab54c41-809d-4907-97de-124d04168bf6 button.colab-df-convert');\n",
              "      buttonEl.style.display =\n",
              "        google.colab.kernel.accessAllowed ? 'block' : 'none';\n",
              "\n",
              "      async function convertToInteractive(key) {\n",
              "        const element = document.querySelector('#df-aab54c41-809d-4907-97de-124d04168bf6');\n",
              "        const dataTable =\n",
              "          await google.colab.kernel.invokeFunction('convertToInteractive',\n",
              "                                                    [key], {});\n",
              "        if (!dataTable) return;\n",
              "\n",
              "        const docLinkHtml = 'Like what you see? Visit the ' +\n",
              "          '<a target=\"_blank\" href=https://colab.research.google.com/notebooks/data_table.ipynb>data table notebook</a>'\n",
              "          + ' to learn more about interactive tables.';\n",
              "        element.innerHTML = '';\n",
              "        dataTable['output_type'] = 'display_data';\n",
              "        await google.colab.output.renderOutput(dataTable, element);\n",
              "        const docLink = document.createElement('div');\n",
              "        docLink.innerHTML = docLinkHtml;\n",
              "        element.appendChild(docLink);\n",
              "      }\n",
              "    </script>\n",
              "  </div>\n",
              "\n",
              "\n",
              "<div id=\"df-3daca309-31ed-4f6f-b4e8-842f8eafb38e\">\n",
              "  <button class=\"colab-df-quickchart\" onclick=\"quickchart('df-3daca309-31ed-4f6f-b4e8-842f8eafb38e')\"\n",
              "            title=\"Suggest charts\"\n",
              "            style=\"display:none;\">\n",
              "\n",
              "<svg xmlns=\"http://www.w3.org/2000/svg\" height=\"24px\"viewBox=\"0 0 24 24\"\n",
              "     width=\"24px\">\n",
              "    <g>\n",
              "        <path d=\"M19 3H5c-1.1 0-2 .9-2 2v14c0 1.1.9 2 2 2h14c1.1 0 2-.9 2-2V5c0-1.1-.9-2-2-2zM9 17H7v-7h2v7zm4 0h-2V7h2v10zm4 0h-2v-4h2v4z\"/>\n",
              "    </g>\n",
              "</svg>\n",
              "  </button>\n",
              "\n",
              "<style>\n",
              "  .colab-df-quickchart {\n",
              "      --bg-color: #E8F0FE;\n",
              "      --fill-color: #1967D2;\n",
              "      --hover-bg-color: #E2EBFA;\n",
              "      --hover-fill-color: #174EA6;\n",
              "      --disabled-fill-color: #AAA;\n",
              "      --disabled-bg-color: #DDD;\n",
              "  }\n",
              "\n",
              "  [theme=dark] .colab-df-quickchart {\n",
              "      --bg-color: #3B4455;\n",
              "      --fill-color: #D2E3FC;\n",
              "      --hover-bg-color: #434B5C;\n",
              "      --hover-fill-color: #FFFFFF;\n",
              "      --disabled-bg-color: #3B4455;\n",
              "      --disabled-fill-color: #666;\n",
              "  }\n",
              "\n",
              "  .colab-df-quickchart {\n",
              "    background-color: var(--bg-color);\n",
              "    border: none;\n",
              "    border-radius: 50%;\n",
              "    cursor: pointer;\n",
              "    display: none;\n",
              "    fill: var(--fill-color);\n",
              "    height: 32px;\n",
              "    padding: 0;\n",
              "    width: 32px;\n",
              "  }\n",
              "\n",
              "  .colab-df-quickchart:hover {\n",
              "    background-color: var(--hover-bg-color);\n",
              "    box-shadow: 0 1px 2px rgba(60, 64, 67, 0.3), 0 1px 3px 1px rgba(60, 64, 67, 0.15);\n",
              "    fill: var(--button-hover-fill-color);\n",
              "  }\n",
              "\n",
              "  .colab-df-quickchart-complete:disabled,\n",
              "  .colab-df-quickchart-complete:disabled:hover {\n",
              "    background-color: var(--disabled-bg-color);\n",
              "    fill: var(--disabled-fill-color);\n",
              "    box-shadow: none;\n",
              "  }\n",
              "\n",
              "  .colab-df-spinner {\n",
              "    border: 2px solid var(--fill-color);\n",
              "    border-color: transparent;\n",
              "    border-bottom-color: var(--fill-color);\n",
              "    animation:\n",
              "      spin 1s steps(1) infinite;\n",
              "  }\n",
              "\n",
              "  @keyframes spin {\n",
              "    0% {\n",
              "      border-color: transparent;\n",
              "      border-bottom-color: var(--fill-color);\n",
              "      border-left-color: var(--fill-color);\n",
              "    }\n",
              "    20% {\n",
              "      border-color: transparent;\n",
              "      border-left-color: var(--fill-color);\n",
              "      border-top-color: var(--fill-color);\n",
              "    }\n",
              "    30% {\n",
              "      border-color: transparent;\n",
              "      border-left-color: var(--fill-color);\n",
              "      border-top-color: var(--fill-color);\n",
              "      border-right-color: var(--fill-color);\n",
              "    }\n",
              "    40% {\n",
              "      border-color: transparent;\n",
              "      border-right-color: var(--fill-color);\n",
              "      border-top-color: var(--fill-color);\n",
              "    }\n",
              "    60% {\n",
              "      border-color: transparent;\n",
              "      border-right-color: var(--fill-color);\n",
              "    }\n",
              "    80% {\n",
              "      border-color: transparent;\n",
              "      border-right-color: var(--fill-color);\n",
              "      border-bottom-color: var(--fill-color);\n",
              "    }\n",
              "    90% {\n",
              "      border-color: transparent;\n",
              "      border-bottom-color: var(--fill-color);\n",
              "    }\n",
              "  }\n",
              "</style>\n",
              "\n",
              "  <script>\n",
              "    async function quickchart(key) {\n",
              "      const quickchartButtonEl =\n",
              "        document.querySelector('#' + key + ' button');\n",
              "      quickchartButtonEl.disabled = true;  // To prevent multiple clicks.\n",
              "      quickchartButtonEl.classList.add('colab-df-spinner');\n",
              "      try {\n",
              "        const charts = await google.colab.kernel.invokeFunction(\n",
              "            'suggestCharts', [key], {});\n",
              "      } catch (error) {\n",
              "        console.error('Error during call to suggestCharts:', error);\n",
              "      }\n",
              "      quickchartButtonEl.classList.remove('colab-df-spinner');\n",
              "      quickchartButtonEl.classList.add('colab-df-quickchart-complete');\n",
              "    }\n",
              "    (() => {\n",
              "      let quickchartButtonEl =\n",
              "        document.querySelector('#df-3daca309-31ed-4f6f-b4e8-842f8eafb38e button');\n",
              "      quickchartButtonEl.style.display =\n",
              "        google.colab.kernel.accessAllowed ? 'block' : 'none';\n",
              "    })();\n",
              "  </script>\n",
              "</div>\n",
              "\n",
              "  <div id=\"id_7b0c8428-7677-45fc-ada1-bbb55f248bd5\">\n",
              "    <style>\n",
              "      .colab-df-generate {\n",
              "        background-color: #E8F0FE;\n",
              "        border: none;\n",
              "        border-radius: 50%;\n",
              "        cursor: pointer;\n",
              "        display: none;\n",
              "        fill: #1967D2;\n",
              "        height: 32px;\n",
              "        padding: 0 0 0 0;\n",
              "        width: 32px;\n",
              "      }\n",
              "\n",
              "      .colab-df-generate:hover {\n",
              "        background-color: #E2EBFA;\n",
              "        box-shadow: 0px 1px 2px rgba(60, 64, 67, 0.3), 0px 1px 3px 1px rgba(60, 64, 67, 0.15);\n",
              "        fill: #174EA6;\n",
              "      }\n",
              "\n",
              "      [theme=dark] .colab-df-generate {\n",
              "        background-color: #3B4455;\n",
              "        fill: #D2E3FC;\n",
              "      }\n",
              "\n",
              "      [theme=dark] .colab-df-generate:hover {\n",
              "        background-color: #434B5C;\n",
              "        box-shadow: 0px 1px 3px 1px rgba(0, 0, 0, 0.15);\n",
              "        filter: drop-shadow(0px 1px 2px rgba(0, 0, 0, 0.3));\n",
              "        fill: #FFFFFF;\n",
              "      }\n",
              "    </style>\n",
              "    <button class=\"colab-df-generate\" onclick=\"generateWithVariable('datasetx')\"\n",
              "            title=\"Generate code using this dataframe.\"\n",
              "            style=\"display:none;\">\n",
              "\n",
              "  <svg xmlns=\"http://www.w3.org/2000/svg\" height=\"24px\"viewBox=\"0 0 24 24\"\n",
              "       width=\"24px\">\n",
              "    <path d=\"M7,19H8.4L18.45,9,17,7.55,7,17.6ZM5,21V16.75L18.45,3.32a2,2,0,0,1,2.83,0l1.4,1.43a1.91,1.91,0,0,1,.58,1.4,1.91,1.91,0,0,1-.58,1.4L9.25,21ZM18.45,9,17,7.55Zm-12,3A5.31,5.31,0,0,0,4.9,8.1,5.31,5.31,0,0,0,1,6.5,5.31,5.31,0,0,0,4.9,4.9,5.31,5.31,0,0,0,6.5,1,5.31,5.31,0,0,0,8.1,4.9,5.31,5.31,0,0,0,12,6.5,5.46,5.46,0,0,0,6.5,12Z\"/>\n",
              "  </svg>\n",
              "    </button>\n",
              "    <script>\n",
              "      (() => {\n",
              "      const buttonEl =\n",
              "        document.querySelector('#id_7b0c8428-7677-45fc-ada1-bbb55f248bd5 button.colab-df-generate');\n",
              "      buttonEl.style.display =\n",
              "        google.colab.kernel.accessAllowed ? 'block' : 'none';\n",
              "\n",
              "      buttonEl.onclick = () => {\n",
              "        google.colab.notebook.generateWithVariable('datasetx');\n",
              "      }\n",
              "      })();\n",
              "    </script>\n",
              "  </div>\n",
              "\n",
              "    </div>\n",
              "  </div>\n"
            ],
            "application/vnd.google.colaboratory.intrinsic+json": {
              "type": "dataframe",
              "variable_name": "datasetx",
              "summary": "{\n  \"name\": \"datasetx\",\n  \"rows\": 7050,\n  \"fields\": [\n    {\n      \"column\": \"num_reactions\",\n      \"properties\": {\n        \"dtype\": \"number\",\n        \"std\": 0.09822193399898797,\n        \"min\": 0.0,\n        \"max\": 1.0,\n        \"num_unique_values\": 1067,\n        \"samples\": [\n          0.0861995753715499,\n          0.3957537154989384,\n          0.0673036093418259\n        ],\n        \"semantic_type\": \"\",\n        \"description\": \"\"\n      }\n    },\n    {\n      \"column\": \"num_comments\",\n      \"properties\": {\n        \"dtype\": \"number\",\n        \"std\": 0.042383840853692505,\n        \"min\": 0.0,\n        \"max\": 1.0,\n        \"num_unique_values\": 993,\n        \"samples\": [\n          0.1565983801810385,\n          0.0148165793234873,\n          0.025869461648404\n        ],\n        \"semantic_type\": \"\",\n        \"description\": \"\"\n      }\n    },\n    {\n      \"column\": \"num_shares\",\n      \"properties\": {\n        \"dtype\": \"number\",\n        \"std\": 0.038434569360448624,\n        \"min\": 0.0,\n        \"max\": 1.0,\n        \"num_unique_values\": 501,\n        \"samples\": [\n          0.0683411214953271,\n          0.0227803738317757,\n          0.0870327102803738\n        ],\n        \"semantic_type\": \"\",\n        \"description\": \"\"\n      }\n    },\n    {\n      \"column\": \"num_likes\",\n      \"properties\": {\n        \"dtype\": \"number\",\n        \"std\": 0.09542937517115532,\n        \"min\": 0.0,\n        \"max\": 1.0,\n        \"num_unique_values\": 1044,\n        \"samples\": [\n          0.1791932059447983,\n          0.1859872611464968,\n          0.5093418259023355\n        ],\n        \"semantic_type\": \"\",\n        \"description\": \"\"\n      }\n    },\n    {\n      \"column\": \"num_loves\",\n      \"properties\": {\n        \"dtype\": \"number\",\n        \"std\": 0.06084159833880618,\n        \"min\": 0.0,\n        \"max\": 1.0,\n        \"num_unique_values\": 229,\n        \"samples\": [\n          0.1537290715372907,\n          0.2070015220700152,\n          0.0091324200913242\n        ],\n        \"semantic_type\": \"\",\n        \"description\": \"\"\n      }\n    },\n    {\n      \"column\": \"num_wows\",\n      \"properties\": {\n        \"dtype\": \"number\",\n        \"std\": 0.03136564885029318,\n        \"min\": 0.0,\n        \"max\": 1.0,\n        \"num_unique_values\": 65,\n        \"samples\": [\n          0.118705035971223,\n          0.1762589928057554,\n          0.0107913669064748\n        ],\n        \"semantic_type\": \"\",\n        \"description\": \"\"\n      }\n    },\n    {\n      \"column\": \"num_hahas\",\n      \"properties\": {\n        \"dtype\": \"number\",\n        \"std\": 0.02520499008250207,\n        \"min\": 0.0,\n        \"max\": 1.0,\n        \"num_unique_values\": 42,\n        \"samples\": [\n          0.3184713375796179,\n          0.0573248407643312,\n          0.0445859872611465\n        ],\n        \"semantic_type\": \"\",\n        \"description\": \"\"\n      }\n    },\n    {\n      \"column\": \"num_sads\",\n      \"properties\": {\n        \"dtype\": \"number\",\n        \"std\": 0.03131678312767335,\n        \"min\": 0.0,\n        \"max\": 1.0,\n        \"num_unique_values\": 24,\n        \"samples\": [\n          0.0784313725490196,\n          1.0,\n          0.0196078431372549\n        ],\n        \"semantic_type\": \"\",\n        \"description\": \"\"\n      }\n    },\n    {\n      \"column\": \"num_angrys\",\n      \"properties\": {\n        \"dtype\": \"number\",\n        \"std\": 0.023445544859874642,\n        \"min\": 0.0,\n        \"max\": 1.0,\n        \"num_unique_values\": 14,\n        \"samples\": [\n          0.2580645161290322,\n          0.6129032258064516,\n          0.0\n        ],\n        \"semantic_type\": \"\",\n        \"description\": \"\"\n      }\n    },\n    {\n      \"column\": \"status_type_link\",\n      \"properties\": {\n        \"dtype\": \"number\",\n        \"std\": 0.09411467190513088,\n        \"min\": 0.0,\n        \"max\": 1.0,\n        \"num_unique_values\": 2,\n        \"samples\": [\n          1.0,\n          0.0\n        ],\n        \"semantic_type\": \"\",\n        \"description\": \"\"\n      }\n    },\n    {\n      \"column\": \"status_type_photo\",\n      \"properties\": {\n        \"dtype\": \"number\",\n        \"std\": 0.48818104385159156,\n        \"min\": 0.0,\n        \"max\": 1.0,\n        \"num_unique_values\": 2,\n        \"samples\": [\n          1.0,\n          0.0\n        ],\n        \"semantic_type\": \"\",\n        \"description\": \"\"\n      }\n    },\n    {\n      \"column\": \"status_type_status\",\n      \"properties\": {\n        \"dtype\": \"number\",\n        \"std\": 0.22158421751825036,\n        \"min\": 0.0,\n        \"max\": 1.0,\n        \"num_unique_values\": 2,\n        \"samples\": [\n          1.0,\n          0.0\n        ],\n        \"semantic_type\": \"\",\n        \"description\": \"\"\n      }\n    },\n    {\n      \"column\": \"status_type_video\",\n      \"properties\": {\n        \"dtype\": \"number\",\n        \"std\": 0.470629352778875,\n        \"min\": 0.0,\n        \"max\": 1.0,\n        \"num_unique_values\": 2,\n        \"samples\": [\n          0.0,\n          1.0\n        ],\n        \"semantic_type\": \"\",\n        \"description\": \"\"\n      }\n    },\n    {\n      \"column\": \"labels\",\n      \"properties\": {\n        \"dtype\": \"int32\",\n        \"num_unique_values\": 4,\n        \"samples\": [\n          1,\n          2\n        ],\n        \"semantic_type\": \"\",\n        \"description\": \"\"\n      }\n    }\n  ]\n}"
            }
          },
          "metadata": {},
          "execution_count": 118
        }
      ]
    },
    {
      "cell_type": "code",
      "source": [
        "group_zero = datasetx[datasetx[\"labels\"]==0][\"num_comments\"].mean() #filtering the dataframe “labels” column is equal to 0, selecting  the \"num_comments\" column, calculating the mean\n",
        "group_zero # displaying the updated dataFrame"
      ],
      "metadata": {
        "colab": {
          "base_uri": "https://localhost:8080/"
        },
        "id": "8IBy4oQIejIl",
        "outputId": "a26b7a2e-d7a1-4814-a336-bd67eb5665b3"
      },
      "execution_count": null,
      "outputs": [
        {
          "output_type": "execute_result",
          "data": {
            "text/plain": [
              "0.030608773182480054"
            ]
          },
          "metadata": {},
          "execution_count": 119
        }
      ]
    },
    {
      "cell_type": "code",
      "source": [
        "group_one = datasetx[datasetx[\"labels\"]==1][\"num_comments\"].mean() #filtering the dataframe “labels” column is equal to 1, selecting  the \"num_comments\" column, calculating the mean\n",
        "group_one # displaying the updated dataFrame"
      ],
      "metadata": {
        "colab": {
          "base_uri": "https://localhost:8080/"
        },
        "id": "YpT3Ps93enXd",
        "outputId": "5f7f41cd-129c-4e7f-86c3-bd80fc72259c"
      },
      "execution_count": null,
      "outputs": [
        {
          "output_type": "execute_result",
          "data": {
            "text/plain": [
              "0.0007619566531325948"
            ]
          },
          "metadata": {},
          "execution_count": 120
        }
      ]
    },
    {
      "cell_type": "code",
      "source": [
        "group_two = datasetx[datasetx[\"labels\"]==2][\"num_comments\"].mean() #filtering the dataframe “labels” column is equal to 2, selecting  the \"num_comments\" column, calculating the mean\n",
        "group_two # displaying the updated dataFrame"
      ],
      "metadata": {
        "colab": {
          "base_uri": "https://localhost:8080/"
        },
        "id": "tuOTvk2wep59",
        "outputId": "56b195aa-88cd-441e-86f8-471e33edf63d"
      },
      "execution_count": null,
      "outputs": [
        {
          "output_type": "execute_result",
          "data": {
            "text/plain": [
              "0.0017264581307471548"
            ]
          },
          "metadata": {},
          "execution_count": 121
        }
      ]
    },
    {
      "cell_type": "code",
      "source": [
        "group_three = datasetx[datasetx[\"labels\"]==3][\"num_comments\"].mean() #filtering the dataframe “labels” column is equal to 3, selecting  the \"num_comments\" column, calculating the mean\n",
        "group_three # displaying the updated dataFrame"
      ],
      "metadata": {
        "colab": {
          "base_uri": "https://localhost:8080/"
        },
        "id": "SLEyIc4Xes1M",
        "outputId": "d7599e35-3720-4729-9737-02c320daed51"
      },
      "execution_count": null,
      "outputs": [
        {
          "output_type": "execute_result",
          "data": {
            "text/plain": [
              "0.00027148226290672723"
            ]
          },
          "metadata": {},
          "execution_count": 122
        }
      ]
    },
    {
      "cell_type": "markdown",
      "source": [
        "\n",
        "\n",
        "---\n",
        "\n"
      ],
      "metadata": {
        "id": "yMh9HLpfevbd"
      }
    },
    {
      "cell_type": "code",
      "source": [
        "group_zero = datasetx[datasetx[\"labels\"]==0][\"num_shares\"].mean() #filtering the dataframe “labels” column is equal to 0, selecting  the \"num_shares\" column, calculating the mean\n",
        "group_zero # displaying the updated dataFrame"
      ],
      "metadata": {
        "colab": {
          "base_uri": "https://localhost:8080/"
        },
        "id": "JAzMlv7uewhE",
        "outputId": "dd69ddc8-d18d-4f12-c4f3-dd7369dbfe43"
      },
      "execution_count": null,
      "outputs": [
        {
          "output_type": "execute_result",
          "data": {
            "text/plain": [
              "0.033785031713235436"
            ]
          },
          "metadata": {},
          "execution_count": 123
        }
      ]
    },
    {
      "cell_type": "code",
      "source": [
        "group_one = datasetx[datasetx[\"labels\"]==1][\"num_shares\"].mean() #filtering the dataframe “labels” column is equal to 1, selecting  the \"num_shares\" column, calculating the mean\n",
        "group_one # displaying the updated dataFrame"
      ],
      "metadata": {
        "colab": {
          "base_uri": "https://localhost:8080/"
        },
        "id": "0LHRE6kcezRF",
        "outputId": "8ed9d19c-849e-4faf-f8b7-f76745986c4f"
      },
      "execution_count": null,
      "outputs": [
        {
          "output_type": "execute_result",
          "data": {
            "text/plain": [
              "0.0007458736181824375"
            ]
          },
          "metadata": {},
          "execution_count": 124
        }
      ]
    },
    {
      "cell_type": "code",
      "source": [
        "group_two = datasetx[datasetx[\"labels\"]==2][\"num_shares\"].mean() #filtering the dataframe “labels” column is equal to 2, selecting  the \"num_shares\" column, calculating the mean\n",
        "group_two # displaying the updated dataFrame"
      ],
      "metadata": {
        "colab": {
          "base_uri": "https://localhost:8080/"
        },
        "id": "3BTdDs74e1lo",
        "outputId": "0d0dc3bb-0b0c-4b4c-9cbe-98f6fc2a18d5"
      },
      "execution_count": null,
      "outputs": [
        {
          "output_type": "execute_result",
          "data": {
            "text/plain": [
              "0.0007473434899500528"
            ]
          },
          "metadata": {},
          "execution_count": 125
        }
      ]
    },
    {
      "cell_type": "code",
      "source": [
        "group_three = datasetx[datasetx[\"labels\"]==3][\"num_shares\"].mean() #filtering the dataframe “labels” column is equal to 3, selecting  the \"num_shares\" column, calculating the mean\n",
        "group_three # displaying the updated dataFrame"
      ],
      "metadata": {
        "colab": {
          "base_uri": "https://localhost:8080/"
        },
        "id": "CarT2HB7e331",
        "outputId": "c6fc4e3b-4dd4-4f19-e17a-36ed7238e1cf"
      },
      "execution_count": null,
      "outputs": [
        {
          "output_type": "execute_result",
          "data": {
            "text/plain": [
              "0.001284119566829822"
            ]
          },
          "metadata": {},
          "execution_count": 126
        }
      ]
    },
    {
      "cell_type": "code",
      "source": [
        "status_type = datasetx[[\"status_type_photo\", \"status_type_video\", \"status_type_status\"]].idxmax(axis=1) #finding the most frequent status type\n",
        "datasetx = pd.concat([datasetx[\"labels\"],status_type.rename(\"status_type\")], axis=1) # combining the cluster labels and status type"
      ],
      "metadata": {
        "id": "yK4r_dGne6jF"
      },
      "execution_count": null,
      "outputs": []
    },
    {
      "cell_type": "code",
      "source": [
        "'''\n",
        "This code snippet groups the datasetx DataFrame by the “labels” and “status_type”\n",
        "columns and then counts the number of occurrences of each combination of\n",
        "“labels” and “status_type”.\n",
        "'''\n",
        "\n",
        "'''\n",
        "Bu kod parçası, datasetx DataFrame’ini “labels” ve “status_type” sütunlarına\n",
        "göre gruplar ve ardından her “labels” ve “status_type” kombinasyonunun\n",
        "kaç kez geçtiğini sayar.\n",
        "'''\n",
        "\n",
        "datasetx.groupby([\"labels\",\"status_type\"])[\"status_type\"].count()"
      ],
      "metadata": {
        "colab": {
          "base_uri": "https://localhost:8080/",
          "height": 241
        },
        "id": "CiIXmAzye-dR",
        "outputId": "f3dbabf9-deff-4a91-f677-65d841e19624"
      },
      "execution_count": null,
      "outputs": [
        {
          "output_type": "execute_result",
          "data": {
            "text/plain": [
              "labels  status_type       \n",
              "0       status_type_video     2334\n",
              "1       status_type_photo     4288\n",
              "2       status_type_status     365\n",
              "3       status_type_photo       63\n",
              "Name: status_type, dtype: int64"
            ],
            "text/html": [
              "<div>\n",
              "<style scoped>\n",
              "    .dataframe tbody tr th:only-of-type {\n",
              "        vertical-align: middle;\n",
              "    }\n",
              "\n",
              "    .dataframe tbody tr th {\n",
              "        vertical-align: top;\n",
              "    }\n",
              "\n",
              "    .dataframe thead th {\n",
              "        text-align: right;\n",
              "    }\n",
              "</style>\n",
              "<table border=\"1\" class=\"dataframe\">\n",
              "  <thead>\n",
              "    <tr style=\"text-align: right;\">\n",
              "      <th></th>\n",
              "      <th></th>\n",
              "      <th>status_type</th>\n",
              "    </tr>\n",
              "    <tr>\n",
              "      <th>labels</th>\n",
              "      <th>status_type</th>\n",
              "      <th></th>\n",
              "    </tr>\n",
              "  </thead>\n",
              "  <tbody>\n",
              "    <tr>\n",
              "      <th>0</th>\n",
              "      <th>status_type_video</th>\n",
              "      <td>2334</td>\n",
              "    </tr>\n",
              "    <tr>\n",
              "      <th>1</th>\n",
              "      <th>status_type_photo</th>\n",
              "      <td>4288</td>\n",
              "    </tr>\n",
              "    <tr>\n",
              "      <th>2</th>\n",
              "      <th>status_type_status</th>\n",
              "      <td>365</td>\n",
              "    </tr>\n",
              "    <tr>\n",
              "      <th>3</th>\n",
              "      <th>status_type_photo</th>\n",
              "      <td>63</td>\n",
              "    </tr>\n",
              "  </tbody>\n",
              "</table>\n",
              "</div><br><label><b>dtype:</b> int64</label>"
            ]
          },
          "metadata": {},
          "execution_count": 128
        }
      ]
    },
    {
      "cell_type": "markdown",
      "source": [
        "# Assessment - Clustering"
      ],
      "metadata": {
        "id": "AN2fcTQysGP5"
      }
    },
    {
      "cell_type": "markdown",
      "source": [
        "### 1.What does clustering do?\n",
        "* It groups different data points according to similarities in their features\n",
        "* It finds the nearest neighbor according to the data points\n",
        "* It highlights the best data from a dataset\n",
        "* It categorizes a given set into classes"
      ],
      "metadata": {
        "id": "M57xZr3LsJM5"
      }
    },
    {
      "cell_type": "markdown",
      "source": [
        "Clustering **groups different data points according to similarities in their features**"
      ],
      "metadata": {
        "id": "uHDw28lismfI"
      }
    },
    {
      "cell_type": "markdown",
      "source": [
        "\n",
        "\n",
        "---\n",
        "\n"
      ],
      "metadata": {
        "id": "zrHFIWcjFvFP"
      }
    },
    {
      "cell_type": "markdown",
      "source": [
        "### 2.Which of the following statements are treu? There are two coreect answers.\n",
        "* Clustering is an unsupervised learning technique\n",
        "* Clustering does not require labels\n",
        "* Clustering is unable to group instances from a dataset independently\n",
        "* Clustering groups two objects that are different from each other together"
      ],
      "metadata": {
        "id": "wjSR744Nsn5o"
      }
    },
    {
      "cell_type": "markdown",
      "source": [
        "1. **Clustering is an  unsupervised learning technique**\n",
        "2. **Clustering does not require labels**"
      ],
      "metadata": {
        "id": "WXO0kb3es6x5"
      }
    },
    {
      "cell_type": "markdown",
      "source": [
        "\n",
        "\n",
        "---\n",
        "\n"
      ],
      "metadata": {
        "id": "uEemzr9eFyUG"
      }
    },
    {
      "cell_type": "markdown",
      "source": [
        "### 3.Which of the following examples is related to clustering?\n",
        "*  In marketing, it can be used to characterize and discover consumer segments\n",
        "* In insurance, it can be used to group customers based on similar behavior, preferences or policies\n",
        "* In real estate, it can be used to group houses together and investigate their values based on their geographic locations and other criteria\n",
        "* All of the above"
      ],
      "metadata": {
        "id": "4jVS4bn_tCsp"
      }
    },
    {
      "cell_type": "markdown",
      "source": [
        "**All of the above** are examples related to clustering."
      ],
      "metadata": {
        "id": "pZcsgFmktRgR"
      }
    },
    {
      "cell_type": "markdown",
      "source": [
        "\n",
        "\n",
        "---\n",
        "\n"
      ],
      "metadata": {
        "id": "pyJS9KAjF2Fl"
      }
    },
    {
      "cell_type": "markdown",
      "source": [
        "### 4.What does \"K\" mean in K-means clustering?\n",
        "* Datasets\n",
        "* Number of clusters\n",
        "* Error function\n",
        "* None of them"
      ],
      "metadata": {
        "id": "mArokFwEtSNE"
      }
    },
    {
      "cell_type": "markdown",
      "source": [
        "**Number of clusters** is the correct answer."
      ],
      "metadata": {
        "id": "3b6PPO43tjWt"
      }
    },
    {
      "cell_type": "markdown",
      "source": [
        "\n",
        "\n",
        "---\n",
        "\n"
      ],
      "metadata": {
        "id": "x5Vu68-CF4Zl"
      }
    },
    {
      "cell_type": "markdown",
      "source": [
        "### 5.How does the K-means clustering algorithm work? Order the steps chronologically.\n",
        "* Selecting centroids rendomly\n",
        "* Initializing \"k\" number of center points\n",
        "* Assigning data o cluster\n",
        "* Optimizing the centroid iteratively"
      ],
      "metadata": {
        "id": "CnYPhFSftkNV"
      }
    },
    {
      "cell_type": "markdown",
      "source": [
        "1. Initializing \"k\" number of center points\n",
        "2. Selecting centroids rendomly\n",
        "3. Assigning data o cluster\n",
        "4. Optimizing the centroid iteratively"
      ],
      "metadata": {
        "id": "69ekAhLh2WFJ"
      }
    },
    {
      "cell_type": "markdown",
      "source": [
        "\n",
        "\n",
        "---\n",
        "\n"
      ],
      "metadata": {
        "id": "n22g71PrF6qt"
      }
    },
    {
      "cell_type": "markdown",
      "source": [
        "### 6.Which of the following statements about K-means are correct? There are two correct answers.\n",
        "* Small number of K results in large clusters\n",
        "* Small number of K results in small clusters\n",
        "* Big number of K result in small clusters\n",
        "* Big number of K results in large clusters"
      ],
      "metadata": {
        "id": "3k9Xftea2fEx"
      }
    },
    {
      "cell_type": "markdown",
      "source": [
        "1. **Small number of K results in large clusters**\n",
        "2. **Big number of K result small clusters**"
      ],
      "metadata": {
        "id": "5C0BlrpZ2991"
      }
    },
    {
      "cell_type": "markdown",
      "source": [
        "\n",
        "\n",
        "---\n",
        "\n"
      ],
      "metadata": {
        "id": "gzYMRPvIF7mF"
      }
    },
    {
      "cell_type": "markdown",
      "source": [
        "### 7.Which of the following performance evaluation metrics is used in clustering?\n",
        "* MSE\n",
        "* R2-score\n",
        "* Silhouette coefficient\n",
        "* Precision"
      ],
      "metadata": {
        "id": "4By95TCh3FFV"
      }
    },
    {
      "cell_type": "markdown",
      "source": [
        "The correct answer is:\n",
        "**Silhouette coefficient**"
      ],
      "metadata": {
        "id": "lcHy7IQ53X81"
      }
    },
    {
      "cell_type": "markdown",
      "source": [
        "\n",
        "\n",
        "---\n",
        "\n"
      ],
      "metadata": {
        "id": "fkR9-Pg2F9mV"
      }
    },
    {
      "cell_type": "markdown",
      "source": [
        "### 8.What does the Silhouette coefficient do? There are three correct answers.\n",
        "* Measures the performance of clustering algorithms\n",
        "* Takes the average distance of a sample and all other points in the same cluster\n",
        "* Takes the average distance of the sample point to the points in the nearest cluster\n",
        "* Draws the silhouette of clusters in a graph"
      ],
      "metadata": {
        "id": "nUQGgbWJ3Z19"
      }
    },
    {
      "cell_type": "markdown",
      "source": [
        "1. Measures the performance of clustering algorithms\n",
        "2. Takes the average distance of a sample and all other points in the same cluster\n",
        "3. Takes the average distance of the sample point to the points in the nearest cluster"
      ],
      "metadata": {
        "id": "UlvlcfVf3o5t"
      }
    },
    {
      "cell_type": "markdown",
      "source": [
        "\n",
        "\n",
        "---\n",
        "\n"
      ],
      "metadata": {
        "id": "Nj4u-CfLF_69"
      }
    },
    {
      "cell_type": "markdown",
      "source": [
        "### 9.What do the different scores of the silhouette coefficient mean? Drag the answers next to the correct category. (Overlapping clusters, non-meaningful clusters, dense and well separated clusters)\n",
        "* Close to 0 -->\n",
        "* Close to 1 -->\n",
        "* Close to -1 -->"
      ],
      "metadata": {
        "id": "Wd274R003sS1"
      }
    },
    {
      "cell_type": "markdown",
      "source": [
        "* Close to 0 --> **Overlapping clusters**\n",
        "* Close to 1 --> **Dense and well seperated clusters**\n",
        "* Close to -1 --> **Non-meaningful clusters**"
      ],
      "metadata": {
        "id": "z26cr1gm4KhF"
      }
    },
    {
      "cell_type": "markdown",
      "source": [
        "\n",
        "\n",
        "---\n",
        "\n"
      ],
      "metadata": {
        "id": "KSGr72ZsOukR"
      }
    },
    {
      "cell_type": "markdown",
      "source": [
        "### 10.The following graph shows the silhouette scores for different k values for a specific problem. According to the silhoutte score, which of the following values for K is the best in this case?\n",
        "* ![graph.png](data:image/png;base64,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)\n",
        "\n",
        "* 3\n",
        "* 9\n",
        "* 11\n",
        "* Cannot be determined"
      ],
      "metadata": {
        "id": "Jh7gALd-4ZMd"
      }
    },
    {
      "cell_type": "markdown",
      "source": [
        "The best value for K based on the silhouette score is **3**."
      ],
      "metadata": {
        "id": "jI-Me-pj4ttp"
      }
    },
    {
      "cell_type": "markdown",
      "source": [
        "\n",
        "\n",
        "---\n",
        "\n"
      ],
      "metadata": {
        "id": "X97WLplTOyEB"
      }
    },
    {
      "cell_type": "markdown",
      "source": [
        "# Regularization"
      ],
      "metadata": {
        "id": "kkArGc6P5YBJ"
      }
    },
    {
      "cell_type": "code",
      "source": [
        "import pandas as pd\n",
        "from sklearn.linear_model import Ridge, LinearRegression\n",
        "from sklearn.model_selection import train_test_split\n",
        "from sklearn.metrics import mean_squared_error"
      ],
      "metadata": {
        "id": "H6AHaeke5bU6"
      },
      "execution_count": null,
      "outputs": []
    },
    {
      "cell_type": "code",
      "source": [
        "from google.colab import files\n",
        "uploaded = files.upload()"
      ],
      "metadata": {
        "colab": {
          "base_uri": "https://localhost:8080/",
          "height": 73
        },
        "id": "3mgmjhcC53RK",
        "outputId": "a7ed1ec8-04f0-40fd-d50e-c4786b696750"
      },
      "execution_count": null,
      "outputs": [
        {
          "output_type": "display_data",
          "data": {
            "text/plain": [
              "<IPython.core.display.HTML object>"
            ],
            "text/html": [
              "\n",
              "     <input type=\"file\" id=\"files-ffce03db-12b6-45e8-bda4-6512889b5117\" name=\"files[]\" multiple disabled\n",
              "        style=\"border:none\" />\n",
              "     <output id=\"result-ffce03db-12b6-45e8-bda4-6512889b5117\">\n",
              "      Upload widget is only available when the cell has been executed in the\n",
              "      current browser session. Please rerun this cell to enable.\n",
              "      </output>\n",
              "      <script>// Copyright 2017 Google LLC\n",
              "//\n",
              "// Licensed under the Apache License, Version 2.0 (the \"License\");\n",
              "// you may not use this file except in compliance with the License.\n",
              "// You may obtain a copy of the License at\n",
              "//\n",
              "//      http://www.apache.org/licenses/LICENSE-2.0\n",
              "//\n",
              "// Unless required by applicable law or agreed to in writing, software\n",
              "// distributed under the License is distributed on an \"AS IS\" BASIS,\n",
              "// WITHOUT WARRANTIES OR CONDITIONS OF ANY KIND, either express or implied.\n",
              "// See the License for the specific language governing permissions and\n",
              "// limitations under the License.\n",
              "\n",
              "/**\n",
              " * @fileoverview Helpers for google.colab Python module.\n",
              " */\n",
              "(function(scope) {\n",
              "function span(text, styleAttributes = {}) {\n",
              "  const element = document.createElement('span');\n",
              "  element.textContent = text;\n",
              "  for (const key of Object.keys(styleAttributes)) {\n",
              "    element.style[key] = styleAttributes[key];\n",
              "  }\n",
              "  return element;\n",
              "}\n",
              "\n",
              "// Max number of bytes which will be uploaded at a time.\n",
              "const MAX_PAYLOAD_SIZE = 100 * 1024;\n",
              "\n",
              "function _uploadFiles(inputId, outputId) {\n",
              "  const steps = uploadFilesStep(inputId, outputId);\n",
              "  const outputElement = document.getElementById(outputId);\n",
              "  // Cache steps on the outputElement to make it available for the next call\n",
              "  // to uploadFilesContinue from Python.\n",
              "  outputElement.steps = steps;\n",
              "\n",
              "  return _uploadFilesContinue(outputId);\n",
              "}\n",
              "\n",
              "// This is roughly an async generator (not supported in the browser yet),\n",
              "// where there are multiple asynchronous steps and the Python side is going\n",
              "// to poll for completion of each step.\n",
              "// This uses a Promise to block the python side on completion of each step,\n",
              "// then passes the result of the previous step as the input to the next step.\n",
              "function _uploadFilesContinue(outputId) {\n",
              "  const outputElement = document.getElementById(outputId);\n",
              "  const steps = outputElement.steps;\n",
              "\n",
              "  const next = steps.next(outputElement.lastPromiseValue);\n",
              "  return Promise.resolve(next.value.promise).then((value) => {\n",
              "    // Cache the last promise value to make it available to the next\n",
              "    // step of the generator.\n",
              "    outputElement.lastPromiseValue = value;\n",
              "    return next.value.response;\n",
              "  });\n",
              "}\n",
              "\n",
              "/**\n",
              " * Generator function which is called between each async step of the upload\n",
              " * process.\n",
              " * @param {string} inputId Element ID of the input file picker element.\n",
              " * @param {string} outputId Element ID of the output display.\n",
              " * @return {!Iterable<!Object>} Iterable of next steps.\n",
              " */\n",
              "function* uploadFilesStep(inputId, outputId) {\n",
              "  const inputElement = document.getElementById(inputId);\n",
              "  inputElement.disabled = false;\n",
              "\n",
              "  const outputElement = document.getElementById(outputId);\n",
              "  outputElement.innerHTML = '';\n",
              "\n",
              "  const pickedPromise = new Promise((resolve) => {\n",
              "    inputElement.addEventListener('change', (e) => {\n",
              "      resolve(e.target.files);\n",
              "    });\n",
              "  });\n",
              "\n",
              "  const cancel = document.createElement('button');\n",
              "  inputElement.parentElement.appendChild(cancel);\n",
              "  cancel.textContent = 'Cancel upload';\n",
              "  const cancelPromise = new Promise((resolve) => {\n",
              "    cancel.onclick = () => {\n",
              "      resolve(null);\n",
              "    };\n",
              "  });\n",
              "\n",
              "  // Wait for the user to pick the files.\n",
              "  const files = yield {\n",
              "    promise: Promise.race([pickedPromise, cancelPromise]),\n",
              "    response: {\n",
              "      action: 'starting',\n",
              "    }\n",
              "  };\n",
              "\n",
              "  cancel.remove();\n",
              "\n",
              "  // Disable the input element since further picks are not allowed.\n",
              "  inputElement.disabled = true;\n",
              "\n",
              "  if (!files) {\n",
              "    return {\n",
              "      response: {\n",
              "        action: 'complete',\n",
              "      }\n",
              "    };\n",
              "  }\n",
              "\n",
              "  for (const file of files) {\n",
              "    const li = document.createElement('li');\n",
              "    li.append(span(file.name, {fontWeight: 'bold'}));\n",
              "    li.append(span(\n",
              "        `(${file.type || 'n/a'}) - ${file.size} bytes, ` +\n",
              "        `last modified: ${\n",
              "            file.lastModifiedDate ? file.lastModifiedDate.toLocaleDateString() :\n",
              "                                    'n/a'} - `));\n",
              "    const percent = span('0% done');\n",
              "    li.appendChild(percent);\n",
              "\n",
              "    outputElement.appendChild(li);\n",
              "\n",
              "    const fileDataPromise = new Promise((resolve) => {\n",
              "      const reader = new FileReader();\n",
              "      reader.onload = (e) => {\n",
              "        resolve(e.target.result);\n",
              "      };\n",
              "      reader.readAsArrayBuffer(file);\n",
              "    });\n",
              "    // Wait for the data to be ready.\n",
              "    let fileData = yield {\n",
              "      promise: fileDataPromise,\n",
              "      response: {\n",
              "        action: 'continue',\n",
              "      }\n",
              "    };\n",
              "\n",
              "    // Use a chunked sending to avoid message size limits. See b/62115660.\n",
              "    let position = 0;\n",
              "    do {\n",
              "      const length = Math.min(fileData.byteLength - position, MAX_PAYLOAD_SIZE);\n",
              "      const chunk = new Uint8Array(fileData, position, length);\n",
              "      position += length;\n",
              "\n",
              "      const base64 = btoa(String.fromCharCode.apply(null, chunk));\n",
              "      yield {\n",
              "        response: {\n",
              "          action: 'append',\n",
              "          file: file.name,\n",
              "          data: base64,\n",
              "        },\n",
              "      };\n",
              "\n",
              "      let percentDone = fileData.byteLength === 0 ?\n",
              "          100 :\n",
              "          Math.round((position / fileData.byteLength) * 100);\n",
              "      percent.textContent = `${percentDone}% done`;\n",
              "\n",
              "    } while (position < fileData.byteLength);\n",
              "  }\n",
              "\n",
              "  // All done.\n",
              "  yield {\n",
              "    response: {\n",
              "      action: 'complete',\n",
              "    }\n",
              "  };\n",
              "}\n",
              "\n",
              "scope.google = scope.google || {};\n",
              "scope.google.colab = scope.google.colab || {};\n",
              "scope.google.colab._files = {\n",
              "  _uploadFiles,\n",
              "  _uploadFilesContinue,\n",
              "};\n",
              "})(self);\n",
              "</script> "
            ]
          },
          "metadata": {}
        },
        {
          "output_type": "stream",
          "name": "stdout",
          "text": [
            "Saving train.csv to train (1).csv\n"
          ]
        }
      ]
    },
    {
      "cell_type": "code",
      "source": [
        "data = pd.read_csv(\"train.csv\")"
      ],
      "metadata": {
        "id": "VUWrqE835f0q"
      },
      "execution_count": null,
      "outputs": []
    },
    {
      "cell_type": "code",
      "source": [
        "X = data.drop('SalePrice',axis=1) #  This part drops the \"SalePrice\" column from the dataframe named \"data\".\n",
        "# the \"SalePrice\" column is dropped from all rows.\n",
        "\n",
        "y = data.loc[:,'SalePrice']\n",
        "'''\n",
        "This part selects only the \"SalePrice\" column from the \"data\" dataframe.\n",
        ":, Is used to select all rows.\n",
        "y: The selected \"SalePrice\" column is assigned to the variable \"y\".\n",
        "This variable is typically used as the dependent variable\n",
        "(i.e., the value that the model tries to predict).\n",
        "'''"
      ],
      "metadata": {
        "id": "yn2WNwhz5g4x"
      },
      "execution_count": null,
      "outputs": []
    },
    {
      "cell_type": "code",
      "source": [
        "'''\n",
        "train_test_split: This is a function from the Scikit-learn library. It randomly splits a dataset into training and testing sets.\n",
        "X, y: Represent the independent variables (X) and the target variable (y) that were created earlier.\n",
        "X_train, y_train: The training set of independent and dependent variables. The model will learn from this data.\n",
        "X_test, y_test: The testing set of independent and dependent variables. The model's performance is evaluated on this set, which contains data that the model has not seen during training.\n",
        "test_size=0.3: This means that 30% of the data will be assigned to the testing set, and the remaining 70% will be used for training. This ratio can be adjusted for different problems.\n",
        "'''\n",
        "\n",
        "X_train, X_test, y_train, y_test = train_test_split(X, y, test_size=0.3)"
      ],
      "metadata": {
        "id": "X6KZ0zUN5iAJ"
      },
      "execution_count": null,
      "outputs": []
    },
    {
      "cell_type": "code",
      "source": [
        "# creates a linear regression model\n",
        "linear_reg = LinearRegression()\n",
        "\n",
        "# creates a ridge regression model\n",
        "# alpha = regularization parameter, higher values mean more regularization\n",
        "# normalize = scales the feature.\n",
        "ridge_reg = Ridge(alpha=0.05, normalize=True)"
      ],
      "metadata": {
        "id": "hjFLQGdi5j2h"
      },
      "execution_count": null,
      "outputs": []
    },
    {
      "cell_type": "code",
      "source": [
        "'''\n",
        "The model tries to learn the relationship between the features in X_train and\n",
        "the target variable in y_train. In this way, when given a new data point,\n",
        "the model can predict the target variable for that point.\n",
        "'''\n",
        "linear_reg.fit(X_train, y_train)\n",
        "ridge_reg.fit(X_train, y_train)"
      ],
      "metadata": {
        "id": "G-cwrayH5lNB"
      },
      "execution_count": null,
      "outputs": []
    },
    {
      "cell_type": "code",
      "source": [
        "linear_pred = linear_reg.predict(X_test)\n",
        "ridge_pred = ridge_reg.predict(X_test)\n",
        "# These two lines of code make predictions on new, unseen data (X_test) using the previously trained linear regression and Ridge regression models."
      ],
      "metadata": {
        "id": "w_XB4CPf5mdx"
      },
      "execution_count": null,
      "outputs": []
    },
    {
      "cell_type": "code",
      "source": [
        "'''\n",
        "These two lines of code are used to evaluate the performance of the linear regression\n",
        "and Ridge regression models that we created earlier.\n",
        "'''\n",
        "\n",
        "linear_mse = mean_squared_error(y_test, linear_pred)\n",
        "ridge_mse = mean_squared_error(y_test, ridge_pred)"
      ],
      "metadata": {
        "id": "Z5epgDMP5o1B"
      },
      "execution_count": null,
      "outputs": []
    },
    {
      "cell_type": "code",
      "source": [
        "'''\n",
        "These two lines of code are used to print the previously calculated mean squared errors (MSE)\n",
        "to the console. This allows us to easily compare the performance of the linear regression\n",
        "and Ridge regression models\n",
        "'''\n",
        "\n",
        "print(f\"MSE without Ridge: {linear_mse}\")\n",
        "print(f\"MSE with Ridge : {ridge_mse}\")"
      ],
      "metadata": {
        "id": "ZFdReDBF5p4B"
      },
      "execution_count": null,
      "outputs": []
    },
    {
      "cell_type": "markdown",
      "source": [
        "# Assesment - Regularization"
      ],
      "metadata": {
        "id": "vWHVbwK9m1oU"
      }
    },
    {
      "cell_type": "markdown",
      "source": [
        "### 1.Which of the following statements describes underfitting? There are two correct answers.\n",
        "* The model tries to fit each datapoint\n",
        "* The model ignores a large portion of the data\n",
        "* The model learns too many details on data\n",
        "* The model is unable to find the patterns in the data"
      ],
      "metadata": {
        "id": "d2VTzhBYm7Lb"
      }
    },
    {
      "cell_type": "markdown",
      "source": [
        "\n",
        "The correct statements describing underfitting are:\n",
        "\n",
        "* **The model ignores a large portion of the data.**\n",
        "* **The model is unable to find the patterns in the data.**"
      ],
      "metadata": {
        "id": "PWmQ4vbSnIXo"
      }
    },
    {
      "cell_type": "markdown",
      "source": [
        "\n",
        "\n",
        "---\n",
        "\n"
      ],
      "metadata": {
        "id": "6XX8wDNmO0dp"
      }
    },
    {
      "cell_type": "markdown",
      "source": [
        "### 2.Which of the following statements describes overfitting? There are two correct answers.\n",
        "* The model tries to fit each datapoint\n",
        "* The model ignores a large portion of the data\n",
        "* The model learns too many details on the data\n",
        "* The model is unable to find the patterns in the data"
      ],
      "metadata": {
        "id": "4e8O9P4WnMOA"
      }
    },
    {
      "cell_type": "markdown",
      "source": [
        "\n",
        "The correct statements describing overfitting are:\n",
        "\n",
        "* The model tries to fit each datapoint.\n",
        "* The model learns too many details on the data."
      ],
      "metadata": {
        "id": "8SqRmRWKnY3_"
      }
    },
    {
      "cell_type": "markdown",
      "source": [
        "\n",
        "\n",
        "---\n",
        "\n"
      ],
      "metadata": {
        "id": "k_x-yLHUO3Px"
      }
    },
    {
      "cell_type": "markdown",
      "source": [
        "### 3.How are bias and variance related to overfitting and underfitting? Drag the answer to the correct category.\n",
        " overfitting\n",
        " underfitting\n",
        "\n",
        "* High variance and low bias -->\n",
        "* Low variance and high bias -->"
      ],
      "metadata": {
        "id": "K4Wp9Mmjnd5_"
      }
    },
    {
      "cell_type": "markdown",
      "source": [
        "* High variance and low bias --> **Overfitting**\n",
        "* Low variance and high bias --> **Underfitting**"
      ],
      "metadata": {
        "id": "MrTiCwXEn3ng"
      }
    },
    {
      "cell_type": "markdown",
      "source": [
        "\n",
        "\n",
        "---\n",
        "\n"
      ],
      "metadata": {
        "id": "VpyujPxnO4bA"
      }
    },
    {
      "cell_type": "markdown",
      "source": [
        "### 4.What is the relationship between variance and bias? There are two correct answer.\n",
        "* As variance increases, bias decreases\n",
        "* As variance decreases, bias increases\n",
        "* As variance increases, bias increases\n",
        "* As variance decreases, bias decreases"
      ],
      "metadata": {
        "id": "2tXcZoHroCeQ"
      }
    },
    {
      "cell_type": "markdown",
      "source": [
        "* **As variance increases, bias decreases**\n",
        "* **As variance decreases, bias increases**"
      ],
      "metadata": {
        "id": "kSMv3s4srrUI"
      }
    },
    {
      "cell_type": "markdown",
      "source": [
        "\n",
        "\n",
        "---\n",
        "\n"
      ],
      "metadata": {
        "id": "5BI0aYN7O7R5"
      }
    },
    {
      "cell_type": "markdown",
      "source": [
        "### 5.Which of the following statements about lambda in the L1 & L2 loss functions are correct? There are two correct answers.\n",
        "\n",
        "* It is a tuning parameter\n",
        "* It defines the degree of penalization\n",
        "* It increases the coefficient size\n",
        "* It describes the fit of a model"
      ],
      "metadata": {
        "id": "jCEOPU0lrzzI"
      }
    },
    {
      "cell_type": "markdown",
      "source": [
        "The correct statements about lambda in the L1 & L2 loss functions are:\n",
        "\n",
        "* **It is a tuning parameter.**\n",
        "* **It defines the degree of penalization.**"
      ],
      "metadata": {
        "id": "5VQcl-xor5il"
      }
    },
    {
      "cell_type": "markdown",
      "source": [
        "\n",
        "\n",
        "---\n",
        "\n"
      ],
      "metadata": {
        "id": "omiaA7bhO-Jq"
      }
    },
    {
      "cell_type": "markdown",
      "source": [
        "### 6.Which of the following statements is correct?\n",
        "\n",
        "* The L1 loss function penalizes the model by the absolute weight coefficients\n",
        "* The L2 loss function penalizes the model by the squared weight coefficients\n",
        "* The L1 loss function is not affected by outliers, whereas the L2 loss function is\n",
        "* All of the above"
      ],
      "metadata": {
        "id": "RuYlxI85r9sw"
      }
    },
    {
      "cell_type": "markdown",
      "source": [
        "The correct answer is: **All of the above**."
      ],
      "metadata": {
        "id": "A6cc2tL5sC9M"
      }
    },
    {
      "cell_type": "markdown",
      "source": [
        "\n",
        "\n",
        "---\n",
        "\n"
      ],
      "metadata": {
        "id": "mlxlhkcaPAbZ"
      }
    },
    {
      "cell_type": "markdown",
      "source": [
        " ### 7.Suppose your model is overfitting. Which of the following is a wrong way to reduce overfitting?\n",
        "\n",
        "* Increasing the amount of training data\n",
        "* Regularization\n",
        "* Decreasing the model complexity\n",
        "* Feature Selection"
      ],
      "metadata": {
        "id": "oGS_pL7VsFj8"
      }
    },
    {
      "cell_type": "markdown",
      "source": [
        "The wrong way to reduce overfitting is: **Increasing the amount of training data**"
      ],
      "metadata": {
        "id": "Fk7HpyWwsLF-"
      }
    },
    {
      "cell_type": "markdown",
      "source": [
        "\n",
        "\n",
        "---\n",
        "\n"
      ],
      "metadata": {
        "id": "hj8-PssyPCEZ"
      }
    },
    {
      "cell_type": "markdown",
      "source": [
        "### 8.When there are outliers in the dataset, using the _______ is not useful because taking squares of the differences between the actual and predicted values will lead to a much larger error. Please fill in the required field with the correct option.\n",
        "\n",
        "* Regularization term\n",
        "* L2 loss function\n",
        "* L1 loss function\n",
        "* Error term"
      ],
      "metadata": {
        "id": "QLfxmwbGsOQj"
      }
    },
    {
      "cell_type": "markdown",
      "source": [
        "The correct option is: **L2 loss function.**"
      ],
      "metadata": {
        "id": "riInR9-QsTMc"
      }
    },
    {
      "cell_type": "markdown",
      "source": [
        "\n",
        "\n",
        "---\n",
        "\n"
      ],
      "metadata": {
        "id": "dk1J9umfPD4h"
      }
    },
    {
      "cell_type": "markdown",
      "source": [
        "### 9.Where can the regularization L2 loss function be used?\n",
        "\n",
        "* Lasso regression\n",
        "* Ridge regression\n",
        "* Linear regression\n",
        "* Logistic regression"
      ],
      "metadata": {
        "id": "NERRLx6fsVjD"
      }
    },
    {
      "cell_type": "markdown",
      "source": [
        "The L2 loss function is used in **Ridge regression.**"
      ],
      "metadata": {
        "id": "uoqisxkUsZrz"
      }
    },
    {
      "cell_type": "markdown",
      "source": [
        "\n",
        "\n",
        "---\n",
        "\n"
      ],
      "metadata": {
        "id": "fsIlXw6FPFlp"
      }
    },
    {
      "cell_type": "markdown",
      "source": [
        "### 10.The _______ refers to the sensitivity of a model to specific datasets. Please fill in the required field with the correct option.\n",
        "\n",
        "* bias\n",
        "* variance\n",
        "* standard deviation\n",
        "* mean"
      ],
      "metadata": {
        "id": "KgQg4CI-sbvj"
      }
    },
    {
      "cell_type": "markdown",
      "source": [
        "The correct option is: **variance**."
      ],
      "metadata": {
        "id": "m1L88rH3sgsy"
      }
    },
    {
      "cell_type": "markdown",
      "source": [
        "\n",
        "\n",
        "---\n",
        "\n"
      ],
      "metadata": {
        "id": "Gg0ZnlxBPHnN"
      }
    },
    {
      "cell_type": "markdown",
      "source": [
        "# Models"
      ],
      "metadata": {
        "id": "mzqbIGsjPSSp"
      }
    },
    {
      "cell_type": "markdown",
      "source": [
        "## Naive Bayes"
      ],
      "metadata": {
        "id": "1Av2FohiPUoB"
      }
    },
    {
      "cell_type": "code",
      "source": [
        "import pandas as pd"
      ],
      "metadata": {
        "id": "_5lVvmlwPZ6F"
      },
      "execution_count": null,
      "outputs": []
    },
    {
      "cell_type": "code",
      "source": [
        "from google.colab import files\n",
        "uploaded = files.upload()"
      ],
      "metadata": {
        "colab": {
          "base_uri": "https://localhost:8080/",
          "height": 73
        },
        "id": "5Ili6WCHTE9V",
        "outputId": "522a22c2-70d9-422d-dbf3-dd4e15e54878"
      },
      "execution_count": null,
      "outputs": [
        {
          "output_type": "display_data",
          "data": {
            "text/plain": [
              "<IPython.core.display.HTML object>"
            ],
            "text/html": [
              "\n",
              "     <input type=\"file\" id=\"files-85790474-c318-4c4b-947a-d02e1deb2147\" name=\"files[]\" multiple disabled\n",
              "        style=\"border:none\" />\n",
              "     <output id=\"result-85790474-c318-4c4b-947a-d02e1deb2147\">\n",
              "      Upload widget is only available when the cell has been executed in the\n",
              "      current browser session. Please rerun this cell to enable.\n",
              "      </output>\n",
              "      <script>// Copyright 2017 Google LLC\n",
              "//\n",
              "// Licensed under the Apache License, Version 2.0 (the \"License\");\n",
              "// you may not use this file except in compliance with the License.\n",
              "// You may obtain a copy of the License at\n",
              "//\n",
              "//      http://www.apache.org/licenses/LICENSE-2.0\n",
              "//\n",
              "// Unless required by applicable law or agreed to in writing, software\n",
              "// distributed under the License is distributed on an \"AS IS\" BASIS,\n",
              "// WITHOUT WARRANTIES OR CONDITIONS OF ANY KIND, either express or implied.\n",
              "// See the License for the specific language governing permissions and\n",
              "// limitations under the License.\n",
              "\n",
              "/**\n",
              " * @fileoverview Helpers for google.colab Python module.\n",
              " */\n",
              "(function(scope) {\n",
              "function span(text, styleAttributes = {}) {\n",
              "  const element = document.createElement('span');\n",
              "  element.textContent = text;\n",
              "  for (const key of Object.keys(styleAttributes)) {\n",
              "    element.style[key] = styleAttributes[key];\n",
              "  }\n",
              "  return element;\n",
              "}\n",
              "\n",
              "// Max number of bytes which will be uploaded at a time.\n",
              "const MAX_PAYLOAD_SIZE = 100 * 1024;\n",
              "\n",
              "function _uploadFiles(inputId, outputId) {\n",
              "  const steps = uploadFilesStep(inputId, outputId);\n",
              "  const outputElement = document.getElementById(outputId);\n",
              "  // Cache steps on the outputElement to make it available for the next call\n",
              "  // to uploadFilesContinue from Python.\n",
              "  outputElement.steps = steps;\n",
              "\n",
              "  return _uploadFilesContinue(outputId);\n",
              "}\n",
              "\n",
              "// This is roughly an async generator (not supported in the browser yet),\n",
              "// where there are multiple asynchronous steps and the Python side is going\n",
              "// to poll for completion of each step.\n",
              "// This uses a Promise to block the python side on completion of each step,\n",
              "// then passes the result of the previous step as the input to the next step.\n",
              "function _uploadFilesContinue(outputId) {\n",
              "  const outputElement = document.getElementById(outputId);\n",
              "  const steps = outputElement.steps;\n",
              "\n",
              "  const next = steps.next(outputElement.lastPromiseValue);\n",
              "  return Promise.resolve(next.value.promise).then((value) => {\n",
              "    // Cache the last promise value to make it available to the next\n",
              "    // step of the generator.\n",
              "    outputElement.lastPromiseValue = value;\n",
              "    return next.value.response;\n",
              "  });\n",
              "}\n",
              "\n",
              "/**\n",
              " * Generator function which is called between each async step of the upload\n",
              " * process.\n",
              " * @param {string} inputId Element ID of the input file picker element.\n",
              " * @param {string} outputId Element ID of the output display.\n",
              " * @return {!Iterable<!Object>} Iterable of next steps.\n",
              " */\n",
              "function* uploadFilesStep(inputId, outputId) {\n",
              "  const inputElement = document.getElementById(inputId);\n",
              "  inputElement.disabled = false;\n",
              "\n",
              "  const outputElement = document.getElementById(outputId);\n",
              "  outputElement.innerHTML = '';\n",
              "\n",
              "  const pickedPromise = new Promise((resolve) => {\n",
              "    inputElement.addEventListener('change', (e) => {\n",
              "      resolve(e.target.files);\n",
              "    });\n",
              "  });\n",
              "\n",
              "  const cancel = document.createElement('button');\n",
              "  inputElement.parentElement.appendChild(cancel);\n",
              "  cancel.textContent = 'Cancel upload';\n",
              "  const cancelPromise = new Promise((resolve) => {\n",
              "    cancel.onclick = () => {\n",
              "      resolve(null);\n",
              "    };\n",
              "  });\n",
              "\n",
              "  // Wait for the user to pick the files.\n",
              "  const files = yield {\n",
              "    promise: Promise.race([pickedPromise, cancelPromise]),\n",
              "    response: {\n",
              "      action: 'starting',\n",
              "    }\n",
              "  };\n",
              "\n",
              "  cancel.remove();\n",
              "\n",
              "  // Disable the input element since further picks are not allowed.\n",
              "  inputElement.disabled = true;\n",
              "\n",
              "  if (!files) {\n",
              "    return {\n",
              "      response: {\n",
              "        action: 'complete',\n",
              "      }\n",
              "    };\n",
              "  }\n",
              "\n",
              "  for (const file of files) {\n",
              "    const li = document.createElement('li');\n",
              "    li.append(span(file.name, {fontWeight: 'bold'}));\n",
              "    li.append(span(\n",
              "        `(${file.type || 'n/a'}) - ${file.size} bytes, ` +\n",
              "        `last modified: ${\n",
              "            file.lastModifiedDate ? file.lastModifiedDate.toLocaleDateString() :\n",
              "                                    'n/a'} - `));\n",
              "    const percent = span('0% done');\n",
              "    li.appendChild(percent);\n",
              "\n",
              "    outputElement.appendChild(li);\n",
              "\n",
              "    const fileDataPromise = new Promise((resolve) => {\n",
              "      const reader = new FileReader();\n",
              "      reader.onload = (e) => {\n",
              "        resolve(e.target.result);\n",
              "      };\n",
              "      reader.readAsArrayBuffer(file);\n",
              "    });\n",
              "    // Wait for the data to be ready.\n",
              "    let fileData = yield {\n",
              "      promise: fileDataPromise,\n",
              "      response: {\n",
              "        action: 'continue',\n",
              "      }\n",
              "    };\n",
              "\n",
              "    // Use a chunked sending to avoid message size limits. See b/62115660.\n",
              "    let position = 0;\n",
              "    do {\n",
              "      const length = Math.min(fileData.byteLength - position, MAX_PAYLOAD_SIZE);\n",
              "      const chunk = new Uint8Array(fileData, position, length);\n",
              "      position += length;\n",
              "\n",
              "      const base64 = btoa(String.fromCharCode.apply(null, chunk));\n",
              "      yield {\n",
              "        response: {\n",
              "          action: 'append',\n",
              "          file: file.name,\n",
              "          data: base64,\n",
              "        },\n",
              "      };\n",
              "\n",
              "      let percentDone = fileData.byteLength === 0 ?\n",
              "          100 :\n",
              "          Math.round((position / fileData.byteLength) * 100);\n",
              "      percent.textContent = `${percentDone}% done`;\n",
              "\n",
              "    } while (position < fileData.byteLength);\n",
              "  }\n",
              "\n",
              "  // All done.\n",
              "  yield {\n",
              "    response: {\n",
              "      action: 'complete',\n",
              "    }\n",
              "  };\n",
              "}\n",
              "\n",
              "scope.google = scope.google || {};\n",
              "scope.google.colab = scope.google.colab || {};\n",
              "scope.google.colab._files = {\n",
              "  _uploadFiles,\n",
              "  _uploadFilesContinue,\n",
              "};\n",
              "})(self);\n",
              "</script> "
            ]
          },
          "metadata": {}
        },
        {
          "output_type": "stream",
          "name": "stdout",
          "text": [
            "Saving breast-cancer.csv to breast-cancer.csv\n"
          ]
        }
      ]
    },
    {
      "cell_type": "code",
      "source": [
        "dataset = pd.read_csv(\"breast-cancer.csv\")\n",
        "dataset.head()"
      ],
      "metadata": {
        "colab": {
          "base_uri": "https://localhost:8080/",
          "height": 273
        },
        "id": "2vmB3fwCSrwV",
        "outputId": "a02dcaa6-29cc-4824-8cb1-2247b3df925b"
      },
      "execution_count": null,
      "outputs": [
        {
          "output_type": "execute_result",
          "data": {
            "text/plain": [
              "  diagnosis  radius_mean  texture_mean  perimeter_mean  area_mean  \\\n",
              "0         M     1.097064     -2.073335        1.269934   0.984375   \n",
              "1         M     1.829821     -0.353632        1.685955   1.908708   \n",
              "2         M     1.579888      0.456187        1.566503   1.558884   \n",
              "3         M    -0.768909      0.253732       -0.592687  -0.764464   \n",
              "4         M     1.750297     -1.151816        1.776573   1.826229   \n",
              "\n",
              "   smoothness_mean  compactness_mean  concavity_mean  concave points_mean  \\\n",
              "0         1.568466          3.283515        2.652874             2.532475   \n",
              "1        -0.826962         -0.487072       -0.023846             0.548144   \n",
              "2         0.942210          1.052926        1.363478             2.037231   \n",
              "3         3.283553          3.402909        1.915897             1.451707   \n",
              "4         0.280372          0.539340        1.371011             1.428493   \n",
              "\n",
              "   symmetry_mean  ...  radius_worst  texture_worst  perimeter_worst  \\\n",
              "0       2.217515  ...      1.886690      -1.359293         2.303601   \n",
              "1       0.001392  ...      1.805927      -0.369203         1.535126   \n",
              "2       0.939685  ...      1.511870      -0.023974         1.347475   \n",
              "3       2.867383  ...     -0.281464       0.133984        -0.249939   \n",
              "4      -0.009560  ...      1.298575      -1.466770         1.338539   \n",
              "\n",
              "   area_worst  smoothness_worst  compactness_worst  concavity_worst  \\\n",
              "0    2.001237          1.307686           2.616665         2.109526   \n",
              "1    1.890489         -0.375612          -0.430444        -0.146749   \n",
              "2    1.456285          0.527407           1.082932         0.854974   \n",
              "3   -0.550021          3.394275           3.893397         1.989588   \n",
              "4    1.220724          0.220556          -0.313395         0.613179   \n",
              "\n",
              "   concave points_worst  symmetry_worst  fractal_dimension_worst  \n",
              "0              2.296076        2.750622                 1.937015  \n",
              "1              1.087084       -0.243890                 0.281190  \n",
              "2              1.955000        1.152255                 0.201391  \n",
              "3              2.175786        6.046041                 4.935010  \n",
              "4              0.729259       -0.868353                -0.397100  \n",
              "\n",
              "[5 rows x 31 columns]"
            ],
            "text/html": [
              "\n",
              "  <div id=\"df-1c3ada69-2108-4db2-bf96-0b6a7e2cc821\" class=\"colab-df-container\">\n",
              "    <div>\n",
              "<style scoped>\n",
              "    .dataframe tbody tr th:only-of-type {\n",
              "        vertical-align: middle;\n",
              "    }\n",
              "\n",
              "    .dataframe tbody tr th {\n",
              "        vertical-align: top;\n",
              "    }\n",
              "\n",
              "    .dataframe thead th {\n",
              "        text-align: right;\n",
              "    }\n",
              "</style>\n",
              "<table border=\"1\" class=\"dataframe\">\n",
              "  <thead>\n",
              "    <tr style=\"text-align: right;\">\n",
              "      <th></th>\n",
              "      <th>diagnosis</th>\n",
              "      <th>radius_mean</th>\n",
              "      <th>texture_mean</th>\n",
              "      <th>perimeter_mean</th>\n",
              "      <th>area_mean</th>\n",
              "      <th>smoothness_mean</th>\n",
              "      <th>compactness_mean</th>\n",
              "      <th>concavity_mean</th>\n",
              "      <th>concave points_mean</th>\n",
              "      <th>symmetry_mean</th>\n",
              "      <th>...</th>\n",
              "      <th>radius_worst</th>\n",
              "      <th>texture_worst</th>\n",
              "      <th>perimeter_worst</th>\n",
              "      <th>area_worst</th>\n",
              "      <th>smoothness_worst</th>\n",
              "      <th>compactness_worst</th>\n",
              "      <th>concavity_worst</th>\n",
              "      <th>concave points_worst</th>\n",
              "      <th>symmetry_worst</th>\n",
              "      <th>fractal_dimension_worst</th>\n",
              "    </tr>\n",
              "  </thead>\n",
              "  <tbody>\n",
              "    <tr>\n",
              "      <th>0</th>\n",
              "      <td>M</td>\n",
              "      <td>1.097064</td>\n",
              "      <td>-2.073335</td>\n",
              "      <td>1.269934</td>\n",
              "      <td>0.984375</td>\n",
              "      <td>1.568466</td>\n",
              "      <td>3.283515</td>\n",
              "      <td>2.652874</td>\n",
              "      <td>2.532475</td>\n",
              "      <td>2.217515</td>\n",
              "      <td>...</td>\n",
              "      <td>1.886690</td>\n",
              "      <td>-1.359293</td>\n",
              "      <td>2.303601</td>\n",
              "      <td>2.001237</td>\n",
              "      <td>1.307686</td>\n",
              "      <td>2.616665</td>\n",
              "      <td>2.109526</td>\n",
              "      <td>2.296076</td>\n",
              "      <td>2.750622</td>\n",
              "      <td>1.937015</td>\n",
              "    </tr>\n",
              "    <tr>\n",
              "      <th>1</th>\n",
              "      <td>M</td>\n",
              "      <td>1.829821</td>\n",
              "      <td>-0.353632</td>\n",
              "      <td>1.685955</td>\n",
              "      <td>1.908708</td>\n",
              "      <td>-0.826962</td>\n",
              "      <td>-0.487072</td>\n",
              "      <td>-0.023846</td>\n",
              "      <td>0.548144</td>\n",
              "      <td>0.001392</td>\n",
              "      <td>...</td>\n",
              "      <td>1.805927</td>\n",
              "      <td>-0.369203</td>\n",
              "      <td>1.535126</td>\n",
              "      <td>1.890489</td>\n",
              "      <td>-0.375612</td>\n",
              "      <td>-0.430444</td>\n",
              "      <td>-0.146749</td>\n",
              "      <td>1.087084</td>\n",
              "      <td>-0.243890</td>\n",
              "      <td>0.281190</td>\n",
              "    </tr>\n",
              "    <tr>\n",
              "      <th>2</th>\n",
              "      <td>M</td>\n",
              "      <td>1.579888</td>\n",
              "      <td>0.456187</td>\n",
              "      <td>1.566503</td>\n",
              "      <td>1.558884</td>\n",
              "      <td>0.942210</td>\n",
              "      <td>1.052926</td>\n",
              "      <td>1.363478</td>\n",
              "      <td>2.037231</td>\n",
              "      <td>0.939685</td>\n",
              "      <td>...</td>\n",
              "      <td>1.511870</td>\n",
              "      <td>-0.023974</td>\n",
              "      <td>1.347475</td>\n",
              "      <td>1.456285</td>\n",
              "      <td>0.527407</td>\n",
              "      <td>1.082932</td>\n",
              "      <td>0.854974</td>\n",
              "      <td>1.955000</td>\n",
              "      <td>1.152255</td>\n",
              "      <td>0.201391</td>\n",
              "    </tr>\n",
              "    <tr>\n",
              "      <th>3</th>\n",
              "      <td>M</td>\n",
              "      <td>-0.768909</td>\n",
              "      <td>0.253732</td>\n",
              "      <td>-0.592687</td>\n",
              "      <td>-0.764464</td>\n",
              "      <td>3.283553</td>\n",
              "      <td>3.402909</td>\n",
              "      <td>1.915897</td>\n",
              "      <td>1.451707</td>\n",
              "      <td>2.867383</td>\n",
              "      <td>...</td>\n",
              "      <td>-0.281464</td>\n",
              "      <td>0.133984</td>\n",
              "      <td>-0.249939</td>\n",
              "      <td>-0.550021</td>\n",
              "      <td>3.394275</td>\n",
              "      <td>3.893397</td>\n",
              "      <td>1.989588</td>\n",
              "      <td>2.175786</td>\n",
              "      <td>6.046041</td>\n",
              "      <td>4.935010</td>\n",
              "    </tr>\n",
              "    <tr>\n",
              "      <th>4</th>\n",
              "      <td>M</td>\n",
              "      <td>1.750297</td>\n",
              "      <td>-1.151816</td>\n",
              "      <td>1.776573</td>\n",
              "      <td>1.826229</td>\n",
              "      <td>0.280372</td>\n",
              "      <td>0.539340</td>\n",
              "      <td>1.371011</td>\n",
              "      <td>1.428493</td>\n",
              "      <td>-0.009560</td>\n",
              "      <td>...</td>\n",
              "      <td>1.298575</td>\n",
              "      <td>-1.466770</td>\n",
              "      <td>1.338539</td>\n",
              "      <td>1.220724</td>\n",
              "      <td>0.220556</td>\n",
              "      <td>-0.313395</td>\n",
              "      <td>0.613179</td>\n",
              "      <td>0.729259</td>\n",
              "      <td>-0.868353</td>\n",
              "      <td>-0.397100</td>\n",
              "    </tr>\n",
              "  </tbody>\n",
              "</table>\n",
              "<p>5 rows × 31 columns</p>\n",
              "</div>\n",
              "    <div class=\"colab-df-buttons\">\n",
              "\n",
              "  <div class=\"colab-df-container\">\n",
              "    <button class=\"colab-df-convert\" onclick=\"convertToInteractive('df-1c3ada69-2108-4db2-bf96-0b6a7e2cc821')\"\n",
              "            title=\"Convert this dataframe to an interactive table.\"\n",
              "            style=\"display:none;\">\n",
              "\n",
              "  <svg xmlns=\"http://www.w3.org/2000/svg\" height=\"24px\" viewBox=\"0 -960 960 960\">\n",
              "    <path d=\"M120-120v-720h720v720H120Zm60-500h600v-160H180v160Zm220 220h160v-160H400v160Zm0 220h160v-160H400v160ZM180-400h160v-160H180v160Zm440 0h160v-160H620v160ZM180-180h160v-160H180v160Zm440 0h160v-160H620v160Z\"/>\n",
              "  </svg>\n",
              "    </button>\n",
              "\n",
              "  <style>\n",
              "    .colab-df-container {\n",
              "      display:flex;\n",
              "      gap: 12px;\n",
              "    }\n",
              "\n",
              "    .colab-df-convert {\n",
              "      background-color: #E8F0FE;\n",
              "      border: none;\n",
              "      border-radius: 50%;\n",
              "      cursor: pointer;\n",
              "      display: none;\n",
              "      fill: #1967D2;\n",
              "      height: 32px;\n",
              "      padding: 0 0 0 0;\n",
              "      width: 32px;\n",
              "    }\n",
              "\n",
              "    .colab-df-convert:hover {\n",
              "      background-color: #E2EBFA;\n",
              "      box-shadow: 0px 1px 2px rgba(60, 64, 67, 0.3), 0px 1px 3px 1px rgba(60, 64, 67, 0.15);\n",
              "      fill: #174EA6;\n",
              "    }\n",
              "\n",
              "    .colab-df-buttons div {\n",
              "      margin-bottom: 4px;\n",
              "    }\n",
              "\n",
              "    [theme=dark] .colab-df-convert {\n",
              "      background-color: #3B4455;\n",
              "      fill: #D2E3FC;\n",
              "    }\n",
              "\n",
              "    [theme=dark] .colab-df-convert:hover {\n",
              "      background-color: #434B5C;\n",
              "      box-shadow: 0px 1px 3px 1px rgba(0, 0, 0, 0.15);\n",
              "      filter: drop-shadow(0px 1px 2px rgba(0, 0, 0, 0.3));\n",
              "      fill: #FFFFFF;\n",
              "    }\n",
              "  </style>\n",
              "\n",
              "    <script>\n",
              "      const buttonEl =\n",
              "        document.querySelector('#df-1c3ada69-2108-4db2-bf96-0b6a7e2cc821 button.colab-df-convert');\n",
              "      buttonEl.style.display =\n",
              "        google.colab.kernel.accessAllowed ? 'block' : 'none';\n",
              "\n",
              "      async function convertToInteractive(key) {\n",
              "        const element = document.querySelector('#df-1c3ada69-2108-4db2-bf96-0b6a7e2cc821');\n",
              "        const dataTable =\n",
              "          await google.colab.kernel.invokeFunction('convertToInteractive',\n",
              "                                                    [key], {});\n",
              "        if (!dataTable) return;\n",
              "\n",
              "        const docLinkHtml = 'Like what you see? Visit the ' +\n",
              "          '<a target=\"_blank\" href=https://colab.research.google.com/notebooks/data_table.ipynb>data table notebook</a>'\n",
              "          + ' to learn more about interactive tables.';\n",
              "        element.innerHTML = '';\n",
              "        dataTable['output_type'] = 'display_data';\n",
              "        await google.colab.output.renderOutput(dataTable, element);\n",
              "        const docLink = document.createElement('div');\n",
              "        docLink.innerHTML = docLinkHtml;\n",
              "        element.appendChild(docLink);\n",
              "      }\n",
              "    </script>\n",
              "  </div>\n",
              "\n",
              "\n",
              "<div id=\"df-b97e05ce-2f09-4bd6-9b2a-1db24a76a4cb\">\n",
              "  <button class=\"colab-df-quickchart\" onclick=\"quickchart('df-b97e05ce-2f09-4bd6-9b2a-1db24a76a4cb')\"\n",
              "            title=\"Suggest charts\"\n",
              "            style=\"display:none;\">\n",
              "\n",
              "<svg xmlns=\"http://www.w3.org/2000/svg\" height=\"24px\"viewBox=\"0 0 24 24\"\n",
              "     width=\"24px\">\n",
              "    <g>\n",
              "        <path d=\"M19 3H5c-1.1 0-2 .9-2 2v14c0 1.1.9 2 2 2h14c1.1 0 2-.9 2-2V5c0-1.1-.9-2-2-2zM9 17H7v-7h2v7zm4 0h-2V7h2v10zm4 0h-2v-4h2v4z\"/>\n",
              "    </g>\n",
              "</svg>\n",
              "  </button>\n",
              "\n",
              "<style>\n",
              "  .colab-df-quickchart {\n",
              "      --bg-color: #E8F0FE;\n",
              "      --fill-color: #1967D2;\n",
              "      --hover-bg-color: #E2EBFA;\n",
              "      --hover-fill-color: #174EA6;\n",
              "      --disabled-fill-color: #AAA;\n",
              "      --disabled-bg-color: #DDD;\n",
              "  }\n",
              "\n",
              "  [theme=dark] .colab-df-quickchart {\n",
              "      --bg-color: #3B4455;\n",
              "      --fill-color: #D2E3FC;\n",
              "      --hover-bg-color: #434B5C;\n",
              "      --hover-fill-color: #FFFFFF;\n",
              "      --disabled-bg-color: #3B4455;\n",
              "      --disabled-fill-color: #666;\n",
              "  }\n",
              "\n",
              "  .colab-df-quickchart {\n",
              "    background-color: var(--bg-color);\n",
              "    border: none;\n",
              "    border-radius: 50%;\n",
              "    cursor: pointer;\n",
              "    display: none;\n",
              "    fill: var(--fill-color);\n",
              "    height: 32px;\n",
              "    padding: 0;\n",
              "    width: 32px;\n",
              "  }\n",
              "\n",
              "  .colab-df-quickchart:hover {\n",
              "    background-color: var(--hover-bg-color);\n",
              "    box-shadow: 0 1px 2px rgba(60, 64, 67, 0.3), 0 1px 3px 1px rgba(60, 64, 67, 0.15);\n",
              "    fill: var(--button-hover-fill-color);\n",
              "  }\n",
              "\n",
              "  .colab-df-quickchart-complete:disabled,\n",
              "  .colab-df-quickchart-complete:disabled:hover {\n",
              "    background-color: var(--disabled-bg-color);\n",
              "    fill: var(--disabled-fill-color);\n",
              "    box-shadow: none;\n",
              "  }\n",
              "\n",
              "  .colab-df-spinner {\n",
              "    border: 2px solid var(--fill-color);\n",
              "    border-color: transparent;\n",
              "    border-bottom-color: var(--fill-color);\n",
              "    animation:\n",
              "      spin 1s steps(1) infinite;\n",
              "  }\n",
              "\n",
              "  @keyframes spin {\n",
              "    0% {\n",
              "      border-color: transparent;\n",
              "      border-bottom-color: var(--fill-color);\n",
              "      border-left-color: var(--fill-color);\n",
              "    }\n",
              "    20% {\n",
              "      border-color: transparent;\n",
              "      border-left-color: var(--fill-color);\n",
              "      border-top-color: var(--fill-color);\n",
              "    }\n",
              "    30% {\n",
              "      border-color: transparent;\n",
              "      border-left-color: var(--fill-color);\n",
              "      border-top-color: var(--fill-color);\n",
              "      border-right-color: var(--fill-color);\n",
              "    }\n",
              "    40% {\n",
              "      border-color: transparent;\n",
              "      border-right-color: var(--fill-color);\n",
              "      border-top-color: var(--fill-color);\n",
              "    }\n",
              "    60% {\n",
              "      border-color: transparent;\n",
              "      border-right-color: var(--fill-color);\n",
              "    }\n",
              "    80% {\n",
              "      border-color: transparent;\n",
              "      border-right-color: var(--fill-color);\n",
              "      border-bottom-color: var(--fill-color);\n",
              "    }\n",
              "    90% {\n",
              "      border-color: transparent;\n",
              "      border-bottom-color: var(--fill-color);\n",
              "    }\n",
              "  }\n",
              "</style>\n",
              "\n",
              "  <script>\n",
              "    async function quickchart(key) {\n",
              "      const quickchartButtonEl =\n",
              "        document.querySelector('#' + key + ' button');\n",
              "      quickchartButtonEl.disabled = true;  // To prevent multiple clicks.\n",
              "      quickchartButtonEl.classList.add('colab-df-spinner');\n",
              "      try {\n",
              "        const charts = await google.colab.kernel.invokeFunction(\n",
              "            'suggestCharts', [key], {});\n",
              "      } catch (error) {\n",
              "        console.error('Error during call to suggestCharts:', error);\n",
              "      }\n",
              "      quickchartButtonEl.classList.remove('colab-df-spinner');\n",
              "      quickchartButtonEl.classList.add('colab-df-quickchart-complete');\n",
              "    }\n",
              "    (() => {\n",
              "      let quickchartButtonEl =\n",
              "        document.querySelector('#df-b97e05ce-2f09-4bd6-9b2a-1db24a76a4cb button');\n",
              "      quickchartButtonEl.style.display =\n",
              "        google.colab.kernel.accessAllowed ? 'block' : 'none';\n",
              "    })();\n",
              "  </script>\n",
              "</div>\n",
              "\n",
              "    </div>\n",
              "  </div>\n"
            ],
            "application/vnd.google.colaboratory.intrinsic+json": {
              "type": "dataframe",
              "variable_name": "dataset"
            }
          },
          "metadata": {},
          "execution_count": 4
        }
      ]
    },
    {
      "cell_type": "code",
      "source": [
        "'''\n",
        "The given Python code snippet uses the LabelEncoder class from the scikit-learn library to convert a categorical variable in a dataset into a numerical variable\n",
        "'''\n",
        "from sklearn.preprocessing import LabelEncoder\n",
        "labelencoder = LabelEncoder()\n",
        "dataset[\"diagnosis\"] = labelencoder.fit_transform(dataset[\"diagnosis\"].values)"
      ],
      "metadata": {
        "id": "ssdALuVmSuEK"
      },
      "execution_count": null,
      "outputs": []
    },
    {
      "cell_type": "code",
      "source": [
        "# The code snippet represents a common data preparation step in machine learning\n",
        "X = dataset.drop(\"diagnosis\", axis =1)\n",
        "y = dataset[\"diagnosis\"]"
      ],
      "metadata": {
        "id": "nGlMTjVDSvMF"
      },
      "execution_count": null,
      "outputs": []
    },
    {
      "cell_type": "code",
      "source": [
        "from sklearn.model_selection import train_test_split\n",
        "\n",
        "X_train, X_test, y_train, y_test = train_test_split(X, y, test_size=0.3)"
      ],
      "metadata": {
        "id": "dqBOekLxSwQx"
      },
      "execution_count": null,
      "outputs": []
    },
    {
      "cell_type": "code",
      "source": [
        "# The provided Python code snippet uses the train_test_split function from scikit-learn's model_selection module to divide the dataset into training and testing sets.\n",
        "from sklearn.naive_bayes import GaussianNB\n",
        "\n",
        "model = GaussianNB()\n",
        "model.fit(X_train, y_train)"
      ],
      "metadata": {
        "colab": {
          "base_uri": "https://localhost:8080/",
          "height": 75
        },
        "id": "QyWoXXToSxiH",
        "outputId": "5b4020e5-07d3-4fd0-9e3a-908175e1427b"
      },
      "execution_count": null,
      "outputs": [
        {
          "output_type": "execute_result",
          "data": {
            "text/plain": [
              "GaussianNB()"
            ],
            "text/html": [
              "<style>#sk-container-id-1 {color: black;}#sk-container-id-1 pre{padding: 0;}#sk-container-id-1 div.sk-toggleable {background-color: white;}#sk-container-id-1 label.sk-toggleable__label {cursor: pointer;display: block;width: 100%;margin-bottom: 0;padding: 0.3em;box-sizing: border-box;text-align: center;}#sk-container-id-1 label.sk-toggleable__label-arrow:before {content: \"▸\";float: left;margin-right: 0.25em;color: #696969;}#sk-container-id-1 label.sk-toggleable__label-arrow:hover:before {color: black;}#sk-container-id-1 div.sk-estimator:hover label.sk-toggleable__label-arrow:before {color: black;}#sk-container-id-1 div.sk-toggleable__content {max-height: 0;max-width: 0;overflow: hidden;text-align: left;background-color: #f0f8ff;}#sk-container-id-1 div.sk-toggleable__content pre {margin: 0.2em;color: black;border-radius: 0.25em;background-color: #f0f8ff;}#sk-container-id-1 input.sk-toggleable__control:checked~div.sk-toggleable__content {max-height: 200px;max-width: 100%;overflow: auto;}#sk-container-id-1 input.sk-toggleable__control:checked~label.sk-toggleable__label-arrow:before {content: \"▾\";}#sk-container-id-1 div.sk-estimator input.sk-toggleable__control:checked~label.sk-toggleable__label {background-color: #d4ebff;}#sk-container-id-1 div.sk-label input.sk-toggleable__control:checked~label.sk-toggleable__label {background-color: #d4ebff;}#sk-container-id-1 input.sk-hidden--visually {border: 0;clip: rect(1px 1px 1px 1px);clip: rect(1px, 1px, 1px, 1px);height: 1px;margin: -1px;overflow: hidden;padding: 0;position: absolute;width: 1px;}#sk-container-id-1 div.sk-estimator {font-family: monospace;background-color: #f0f8ff;border: 1px dotted black;border-radius: 0.25em;box-sizing: border-box;margin-bottom: 0.5em;}#sk-container-id-1 div.sk-estimator:hover {background-color: #d4ebff;}#sk-container-id-1 div.sk-parallel-item::after {content: \"\";width: 100%;border-bottom: 1px solid gray;flex-grow: 1;}#sk-container-id-1 div.sk-label:hover label.sk-toggleable__label {background-color: #d4ebff;}#sk-container-id-1 div.sk-serial::before {content: \"\";position: absolute;border-left: 1px solid gray;box-sizing: border-box;top: 0;bottom: 0;left: 50%;z-index: 0;}#sk-container-id-1 div.sk-serial {display: flex;flex-direction: column;align-items: center;background-color: white;padding-right: 0.2em;padding-left: 0.2em;position: relative;}#sk-container-id-1 div.sk-item {position: relative;z-index: 1;}#sk-container-id-1 div.sk-parallel {display: flex;align-items: stretch;justify-content: center;background-color: white;position: relative;}#sk-container-id-1 div.sk-item::before, #sk-container-id-1 div.sk-parallel-item::before {content: \"\";position: absolute;border-left: 1px solid gray;box-sizing: border-box;top: 0;bottom: 0;left: 50%;z-index: -1;}#sk-container-id-1 div.sk-parallel-item {display: flex;flex-direction: column;z-index: 1;position: relative;background-color: white;}#sk-container-id-1 div.sk-parallel-item:first-child::after {align-self: flex-end;width: 50%;}#sk-container-id-1 div.sk-parallel-item:last-child::after {align-self: flex-start;width: 50%;}#sk-container-id-1 div.sk-parallel-item:only-child::after {width: 0;}#sk-container-id-1 div.sk-dashed-wrapped {border: 1px dashed gray;margin: 0 0.4em 0.5em 0.4em;box-sizing: border-box;padding-bottom: 0.4em;background-color: white;}#sk-container-id-1 div.sk-label label {font-family: monospace;font-weight: bold;display: inline-block;line-height: 1.2em;}#sk-container-id-1 div.sk-label-container {text-align: center;}#sk-container-id-1 div.sk-container {/* jupyter's `normalize.less` sets `[hidden] { display: none; }` but bootstrap.min.css set `[hidden] { display: none !important; }` so we also need the `!important` here to be able to override the default hidden behavior on the sphinx rendered scikit-learn.org. See: https://github.com/scikit-learn/scikit-learn/issues/21755 */display: inline-block !important;position: relative;}#sk-container-id-1 div.sk-text-repr-fallback {display: none;}</style><div id=\"sk-container-id-1\" class=\"sk-top-container\"><div class=\"sk-text-repr-fallback\"><pre>GaussianNB()</pre><b>In a Jupyter environment, please rerun this cell to show the HTML representation or trust the notebook. <br />On GitHub, the HTML representation is unable to render, please try loading this page with nbviewer.org.</b></div><div class=\"sk-container\" hidden><div class=\"sk-item\"><div class=\"sk-estimator sk-toggleable\"><input class=\"sk-toggleable__control sk-hidden--visually\" id=\"sk-estimator-id-1\" type=\"checkbox\" checked><label for=\"sk-estimator-id-1\" class=\"sk-toggleable__label sk-toggleable__label-arrow\">GaussianNB</label><div class=\"sk-toggleable__content\"><pre>GaussianNB()</pre></div></div></div></div></div>"
            ]
          },
          "metadata": {},
          "execution_count": 8
        }
      ]
    },
    {
      "cell_type": "code",
      "source": [
        "# This line of code is a fundamental operation in machine learning, particularly when evaluating the performance of a trained model.\n",
        "predictions = model.predict(X_test)\n",
        "predictions"
      ],
      "metadata": {
        "colab": {
          "base_uri": "https://localhost:8080/"
        },
        "id": "drzCPzyxSyyN",
        "outputId": "4a8fba0b-97e0-4c96-f25d-d55727c23f72"
      },
      "execution_count": null,
      "outputs": [
        {
          "output_type": "execute_result",
          "data": {
            "text/plain": [
              "array([0, 1, 0, 0, 0, 1, 0, 0, 0, 0, 0, 0, 1, 0, 0, 0, 1, 1, 0, 0, 0, 0,\n",
              "       1, 1, 0, 0, 0, 0, 0, 0, 0, 0, 0, 1, 0, 0, 0, 0, 0, 1, 1, 0, 0, 1,\n",
              "       0, 1, 0, 0, 0, 0, 0, 0, 0, 1, 0, 0, 0, 0, 0, 1, 0, 1, 0, 1, 0, 0,\n",
              "       0, 1, 0, 0, 0, 1, 0, 0, 1, 0, 1, 1, 0, 1, 1, 1, 1, 0, 0, 1, 0, 0,\n",
              "       0, 1, 1, 0, 0, 0, 0, 1, 0, 1, 0, 0, 1, 1, 0, 0, 0, 1, 0, 0, 1, 0,\n",
              "       0, 0, 0, 0, 1, 0, 1, 0, 1, 0, 0, 0, 1, 0, 0, 1, 1, 1, 1, 0, 0, 0,\n",
              "       0, 0, 1, 1, 1, 0, 1, 1, 1, 0, 0, 0, 1, 1, 0, 1, 0, 0, 0, 0, 0, 0,\n",
              "       0, 1, 0, 1, 0, 1, 1, 1, 0, 1, 0, 1, 0, 1, 0, 1, 0])"
            ]
          },
          "metadata": {},
          "execution_count": 9
        }
      ]
    },
    {
      "cell_type": "code",
      "source": [
        "# This code snippet is used to evaluate the performance of a classification model\n",
        "from sklearn.metrics import confusion_matrix\n",
        "\n",
        "confusion_matrix(y_test, predictions)"
      ],
      "metadata": {
        "colab": {
          "base_uri": "https://localhost:8080/"
        },
        "id": "zC1qFkNeSz46",
        "outputId": "a75e5666-032a-430f-cf12-83d09b1ce9da"
      },
      "execution_count": null,
      "outputs": [
        {
          "output_type": "execute_result",
          "data": {
            "text/plain": [
              "array([[105,   4],\n",
              "       [  6,  56]])"
            ]
          },
          "metadata": {},
          "execution_count": 10
        }
      ]
    },
    {
      "cell_type": "code",
      "source": [
        "# This code snippet is used to provide a comprehensive evaluation of a classification model's performance\n",
        "from sklearn.metrics import classification_report\n",
        "\n",
        "print(classification_report(y_test,predictions))"
      ],
      "metadata": {
        "colab": {
          "base_uri": "https://localhost:8080/"
        },
        "id": "xZBTik2OS07K",
        "outputId": "15ed8a7d-76dc-48d2-8b5a-82c834e52953"
      },
      "execution_count": null,
      "outputs": [
        {
          "output_type": "stream",
          "name": "stdout",
          "text": [
            "              precision    recall  f1-score   support\n",
            "\n",
            "           0       0.95      0.96      0.95       109\n",
            "           1       0.93      0.90      0.92        62\n",
            "\n",
            "    accuracy                           0.94       171\n",
            "   macro avg       0.94      0.93      0.94       171\n",
            "weighted avg       0.94      0.94      0.94       171\n",
            "\n"
          ]
        }
      ]
    },
    {
      "cell_type": "markdown",
      "source": [
        "## Decision Trees"
      ],
      "metadata": {
        "id": "XdmkzlZsXDel"
      }
    },
    {
      "cell_type": "code",
      "source": [
        "import pandas as pd\n",
        "from sklearn.tree import DecisionTreeClassifier\n",
        "from sklearn.ensemble import RandomForestClassifier\n",
        "from sklearn.model_selection import train_test_split\n",
        "from sklearn.metrics import classification_report"
      ],
      "metadata": {
        "id": "ZPnzvXXqXicR"
      },
      "execution_count": null,
      "outputs": []
    },
    {
      "cell_type": "code",
      "source": [
        "from google.colab import files\n",
        "uploaded = files.upload()"
      ],
      "metadata": {
        "colab": {
          "base_uri": "https://localhost:8080/",
          "height": 73
        },
        "id": "VV6xVjXUXnV5",
        "outputId": "9b17f026-7220-4b52-ca82-98b06aee5049"
      },
      "execution_count": null,
      "outputs": [
        {
          "output_type": "display_data",
          "data": {
            "text/plain": [
              "<IPython.core.display.HTML object>"
            ],
            "text/html": [
              "\n",
              "     <input type=\"file\" id=\"files-9b5e6d53-8d73-4bf3-b612-a621a9d34c79\" name=\"files[]\" multiple disabled\n",
              "        style=\"border:none\" />\n",
              "     <output id=\"result-9b5e6d53-8d73-4bf3-b612-a621a9d34c79\">\n",
              "      Upload widget is only available when the cell has been executed in the\n",
              "      current browser session. Please rerun this cell to enable.\n",
              "      </output>\n",
              "      <script>// Copyright 2017 Google LLC\n",
              "//\n",
              "// Licensed under the Apache License, Version 2.0 (the \"License\");\n",
              "// you may not use this file except in compliance with the License.\n",
              "// You may obtain a copy of the License at\n",
              "//\n",
              "//      http://www.apache.org/licenses/LICENSE-2.0\n",
              "//\n",
              "// Unless required by applicable law or agreed to in writing, software\n",
              "// distributed under the License is distributed on an \"AS IS\" BASIS,\n",
              "// WITHOUT WARRANTIES OR CONDITIONS OF ANY KIND, either express or implied.\n",
              "// See the License for the specific language governing permissions and\n",
              "// limitations under the License.\n",
              "\n",
              "/**\n",
              " * @fileoverview Helpers for google.colab Python module.\n",
              " */\n",
              "(function(scope) {\n",
              "function span(text, styleAttributes = {}) {\n",
              "  const element = document.createElement('span');\n",
              "  element.textContent = text;\n",
              "  for (const key of Object.keys(styleAttributes)) {\n",
              "    element.style[key] = styleAttributes[key];\n",
              "  }\n",
              "  return element;\n",
              "}\n",
              "\n",
              "// Max number of bytes which will be uploaded at a time.\n",
              "const MAX_PAYLOAD_SIZE = 100 * 1024;\n",
              "\n",
              "function _uploadFiles(inputId, outputId) {\n",
              "  const steps = uploadFilesStep(inputId, outputId);\n",
              "  const outputElement = document.getElementById(outputId);\n",
              "  // Cache steps on the outputElement to make it available for the next call\n",
              "  // to uploadFilesContinue from Python.\n",
              "  outputElement.steps = steps;\n",
              "\n",
              "  return _uploadFilesContinue(outputId);\n",
              "}\n",
              "\n",
              "// This is roughly an async generator (not supported in the browser yet),\n",
              "// where there are multiple asynchronous steps and the Python side is going\n",
              "// to poll for completion of each step.\n",
              "// This uses a Promise to block the python side on completion of each step,\n",
              "// then passes the result of the previous step as the input to the next step.\n",
              "function _uploadFilesContinue(outputId) {\n",
              "  const outputElement = document.getElementById(outputId);\n",
              "  const steps = outputElement.steps;\n",
              "\n",
              "  const next = steps.next(outputElement.lastPromiseValue);\n",
              "  return Promise.resolve(next.value.promise).then((value) => {\n",
              "    // Cache the last promise value to make it available to the next\n",
              "    // step of the generator.\n",
              "    outputElement.lastPromiseValue = value;\n",
              "    return next.value.response;\n",
              "  });\n",
              "}\n",
              "\n",
              "/**\n",
              " * Generator function which is called between each async step of the upload\n",
              " * process.\n",
              " * @param {string} inputId Element ID of the input file picker element.\n",
              " * @param {string} outputId Element ID of the output display.\n",
              " * @return {!Iterable<!Object>} Iterable of next steps.\n",
              " */\n",
              "function* uploadFilesStep(inputId, outputId) {\n",
              "  const inputElement = document.getElementById(inputId);\n",
              "  inputElement.disabled = false;\n",
              "\n",
              "  const outputElement = document.getElementById(outputId);\n",
              "  outputElement.innerHTML = '';\n",
              "\n",
              "  const pickedPromise = new Promise((resolve) => {\n",
              "    inputElement.addEventListener('change', (e) => {\n",
              "      resolve(e.target.files);\n",
              "    });\n",
              "  });\n",
              "\n",
              "  const cancel = document.createElement('button');\n",
              "  inputElement.parentElement.appendChild(cancel);\n",
              "  cancel.textContent = 'Cancel upload';\n",
              "  const cancelPromise = new Promise((resolve) => {\n",
              "    cancel.onclick = () => {\n",
              "      resolve(null);\n",
              "    };\n",
              "  });\n",
              "\n",
              "  // Wait for the user to pick the files.\n",
              "  const files = yield {\n",
              "    promise: Promise.race([pickedPromise, cancelPromise]),\n",
              "    response: {\n",
              "      action: 'starting',\n",
              "    }\n",
              "  };\n",
              "\n",
              "  cancel.remove();\n",
              "\n",
              "  // Disable the input element since further picks are not allowed.\n",
              "  inputElement.disabled = true;\n",
              "\n",
              "  if (!files) {\n",
              "    return {\n",
              "      response: {\n",
              "        action: 'complete',\n",
              "      }\n",
              "    };\n",
              "  }\n",
              "\n",
              "  for (const file of files) {\n",
              "    const li = document.createElement('li');\n",
              "    li.append(span(file.name, {fontWeight: 'bold'}));\n",
              "    li.append(span(\n",
              "        `(${file.type || 'n/a'}) - ${file.size} bytes, ` +\n",
              "        `last modified: ${\n",
              "            file.lastModifiedDate ? file.lastModifiedDate.toLocaleDateString() :\n",
              "                                    'n/a'} - `));\n",
              "    const percent = span('0% done');\n",
              "    li.appendChild(percent);\n",
              "\n",
              "    outputElement.appendChild(li);\n",
              "\n",
              "    const fileDataPromise = new Promise((resolve) => {\n",
              "      const reader = new FileReader();\n",
              "      reader.onload = (e) => {\n",
              "        resolve(e.target.result);\n",
              "      };\n",
              "      reader.readAsArrayBuffer(file);\n",
              "    });\n",
              "    // Wait for the data to be ready.\n",
              "    let fileData = yield {\n",
              "      promise: fileDataPromise,\n",
              "      response: {\n",
              "        action: 'continue',\n",
              "      }\n",
              "    };\n",
              "\n",
              "    // Use a chunked sending to avoid message size limits. See b/62115660.\n",
              "    let position = 0;\n",
              "    do {\n",
              "      const length = Math.min(fileData.byteLength - position, MAX_PAYLOAD_SIZE);\n",
              "      const chunk = new Uint8Array(fileData, position, length);\n",
              "      position += length;\n",
              "\n",
              "      const base64 = btoa(String.fromCharCode.apply(null, chunk));\n",
              "      yield {\n",
              "        response: {\n",
              "          action: 'append',\n",
              "          file: file.name,\n",
              "          data: base64,\n",
              "        },\n",
              "      };\n",
              "\n",
              "      let percentDone = fileData.byteLength === 0 ?\n",
              "          100 :\n",
              "          Math.round((position / fileData.byteLength) * 100);\n",
              "      percent.textContent = `${percentDone}% done`;\n",
              "\n",
              "    } while (position < fileData.byteLength);\n",
              "  }\n",
              "\n",
              "  // All done.\n",
              "  yield {\n",
              "    response: {\n",
              "      action: 'complete',\n",
              "    }\n",
              "  };\n",
              "}\n",
              "\n",
              "scope.google = scope.google || {};\n",
              "scope.google.colab = scope.google.colab || {};\n",
              "scope.google.colab._files = {\n",
              "  _uploadFiles,\n",
              "  _uploadFilesContinue,\n",
              "};\n",
              "})(self);\n",
              "</script> "
            ]
          },
          "metadata": {}
        },
        {
          "output_type": "stream",
          "name": "stdout",
          "text": [
            "Saving DecisionTrees_titanic.csv to DecisionTrees_titanic.csv\n"
          ]
        }
      ]
    },
    {
      "cell_type": "code",
      "source": [
        "dataset = pd.read_csv(\"DecisionTrees_titanic.csv\")"
      ],
      "metadata": {
        "id": "NCUGKMZFXyGZ"
      },
      "execution_count": null,
      "outputs": []
    },
    {
      "cell_type": "code",
      "source": [
        "dataset.head()"
      ],
      "metadata": {
        "colab": {
          "base_uri": "https://localhost:8080/",
          "height": 206
        },
        "id": "EYyNVtntX2iR",
        "outputId": "8a01d34a-c8bb-44b0-cba5-58e669254aa3"
      },
      "execution_count": null,
      "outputs": [
        {
          "output_type": "execute_result",
          "data": {
            "text/plain": [
              "   Survived  Pclass  Sex   Age  SibSp  Parch     Fare  Embarked\n",
              "0         1       1    0  38.0      1      0  71.2833         0\n",
              "1         1       1    0  35.0      1      0  53.1000         2\n",
              "2         0       1    1  54.0      0      0  51.8625         2\n",
              "3         1       3    0   4.0      1      1  16.7000         2\n",
              "4         1       1    0  58.0      0      0  26.5500         2"
            ],
            "text/html": [
              "\n",
              "  <div id=\"df-d8275410-a90f-4112-975d-9f6a45177aea\" class=\"colab-df-container\">\n",
              "    <div>\n",
              "<style scoped>\n",
              "    .dataframe tbody tr th:only-of-type {\n",
              "        vertical-align: middle;\n",
              "    }\n",
              "\n",
              "    .dataframe tbody tr th {\n",
              "        vertical-align: top;\n",
              "    }\n",
              "\n",
              "    .dataframe thead th {\n",
              "        text-align: right;\n",
              "    }\n",
              "</style>\n",
              "<table border=\"1\" class=\"dataframe\">\n",
              "  <thead>\n",
              "    <tr style=\"text-align: right;\">\n",
              "      <th></th>\n",
              "      <th>Survived</th>\n",
              "      <th>Pclass</th>\n",
              "      <th>Sex</th>\n",
              "      <th>Age</th>\n",
              "      <th>SibSp</th>\n",
              "      <th>Parch</th>\n",
              "      <th>Fare</th>\n",
              "      <th>Embarked</th>\n",
              "    </tr>\n",
              "  </thead>\n",
              "  <tbody>\n",
              "    <tr>\n",
              "      <th>0</th>\n",
              "      <td>1</td>\n",
              "      <td>1</td>\n",
              "      <td>0</td>\n",
              "      <td>38.0</td>\n",
              "      <td>1</td>\n",
              "      <td>0</td>\n",
              "      <td>71.2833</td>\n",
              "      <td>0</td>\n",
              "    </tr>\n",
              "    <tr>\n",
              "      <th>1</th>\n",
              "      <td>1</td>\n",
              "      <td>1</td>\n",
              "      <td>0</td>\n",
              "      <td>35.0</td>\n",
              "      <td>1</td>\n",
              "      <td>0</td>\n",
              "      <td>53.1000</td>\n",
              "      <td>2</td>\n",
              "    </tr>\n",
              "    <tr>\n",
              "      <th>2</th>\n",
              "      <td>0</td>\n",
              "      <td>1</td>\n",
              "      <td>1</td>\n",
              "      <td>54.0</td>\n",
              "      <td>0</td>\n",
              "      <td>0</td>\n",
              "      <td>51.8625</td>\n",
              "      <td>2</td>\n",
              "    </tr>\n",
              "    <tr>\n",
              "      <th>3</th>\n",
              "      <td>1</td>\n",
              "      <td>3</td>\n",
              "      <td>0</td>\n",
              "      <td>4.0</td>\n",
              "      <td>1</td>\n",
              "      <td>1</td>\n",
              "      <td>16.7000</td>\n",
              "      <td>2</td>\n",
              "    </tr>\n",
              "    <tr>\n",
              "      <th>4</th>\n",
              "      <td>1</td>\n",
              "      <td>1</td>\n",
              "      <td>0</td>\n",
              "      <td>58.0</td>\n",
              "      <td>0</td>\n",
              "      <td>0</td>\n",
              "      <td>26.5500</td>\n",
              "      <td>2</td>\n",
              "    </tr>\n",
              "  </tbody>\n",
              "</table>\n",
              "</div>\n",
              "    <div class=\"colab-df-buttons\">\n",
              "\n",
              "  <div class=\"colab-df-container\">\n",
              "    <button class=\"colab-df-convert\" onclick=\"convertToInteractive('df-d8275410-a90f-4112-975d-9f6a45177aea')\"\n",
              "            title=\"Convert this dataframe to an interactive table.\"\n",
              "            style=\"display:none;\">\n",
              "\n",
              "  <svg xmlns=\"http://www.w3.org/2000/svg\" height=\"24px\" viewBox=\"0 -960 960 960\">\n",
              "    <path d=\"M120-120v-720h720v720H120Zm60-500h600v-160H180v160Zm220 220h160v-160H400v160Zm0 220h160v-160H400v160ZM180-400h160v-160H180v160Zm440 0h160v-160H620v160ZM180-180h160v-160H180v160Zm440 0h160v-160H620v160Z\"/>\n",
              "  </svg>\n",
              "    </button>\n",
              "\n",
              "  <style>\n",
              "    .colab-df-container {\n",
              "      display:flex;\n",
              "      gap: 12px;\n",
              "    }\n",
              "\n",
              "    .colab-df-convert {\n",
              "      background-color: #E8F0FE;\n",
              "      border: none;\n",
              "      border-radius: 50%;\n",
              "      cursor: pointer;\n",
              "      display: none;\n",
              "      fill: #1967D2;\n",
              "      height: 32px;\n",
              "      padding: 0 0 0 0;\n",
              "      width: 32px;\n",
              "    }\n",
              "\n",
              "    .colab-df-convert:hover {\n",
              "      background-color: #E2EBFA;\n",
              "      box-shadow: 0px 1px 2px rgba(60, 64, 67, 0.3), 0px 1px 3px 1px rgba(60, 64, 67, 0.15);\n",
              "      fill: #174EA6;\n",
              "    }\n",
              "\n",
              "    .colab-df-buttons div {\n",
              "      margin-bottom: 4px;\n",
              "    }\n",
              "\n",
              "    [theme=dark] .colab-df-convert {\n",
              "      background-color: #3B4455;\n",
              "      fill: #D2E3FC;\n",
              "    }\n",
              "\n",
              "    [theme=dark] .colab-df-convert:hover {\n",
              "      background-color: #434B5C;\n",
              "      box-shadow: 0px 1px 3px 1px rgba(0, 0, 0, 0.15);\n",
              "      filter: drop-shadow(0px 1px 2px rgba(0, 0, 0, 0.3));\n",
              "      fill: #FFFFFF;\n",
              "    }\n",
              "  </style>\n",
              "\n",
              "    <script>\n",
              "      const buttonEl =\n",
              "        document.querySelector('#df-d8275410-a90f-4112-975d-9f6a45177aea button.colab-df-convert');\n",
              "      buttonEl.style.display =\n",
              "        google.colab.kernel.accessAllowed ? 'block' : 'none';\n",
              "\n",
              "      async function convertToInteractive(key) {\n",
              "        const element = document.querySelector('#df-d8275410-a90f-4112-975d-9f6a45177aea');\n",
              "        const dataTable =\n",
              "          await google.colab.kernel.invokeFunction('convertToInteractive',\n",
              "                                                    [key], {});\n",
              "        if (!dataTable) return;\n",
              "\n",
              "        const docLinkHtml = 'Like what you see? Visit the ' +\n",
              "          '<a target=\"_blank\" href=https://colab.research.google.com/notebooks/data_table.ipynb>data table notebook</a>'\n",
              "          + ' to learn more about interactive tables.';\n",
              "        element.innerHTML = '';\n",
              "        dataTable['output_type'] = 'display_data';\n",
              "        await google.colab.output.renderOutput(dataTable, element);\n",
              "        const docLink = document.createElement('div');\n",
              "        docLink.innerHTML = docLinkHtml;\n",
              "        element.appendChild(docLink);\n",
              "      }\n",
              "    </script>\n",
              "  </div>\n",
              "\n",
              "\n",
              "<div id=\"df-6ce42e2d-a3e1-4b91-add1-ac10cf5bba3e\">\n",
              "  <button class=\"colab-df-quickchart\" onclick=\"quickchart('df-6ce42e2d-a3e1-4b91-add1-ac10cf5bba3e')\"\n",
              "            title=\"Suggest charts\"\n",
              "            style=\"display:none;\">\n",
              "\n",
              "<svg xmlns=\"http://www.w3.org/2000/svg\" height=\"24px\"viewBox=\"0 0 24 24\"\n",
              "     width=\"24px\">\n",
              "    <g>\n",
              "        <path d=\"M19 3H5c-1.1 0-2 .9-2 2v14c0 1.1.9 2 2 2h14c1.1 0 2-.9 2-2V5c0-1.1-.9-2-2-2zM9 17H7v-7h2v7zm4 0h-2V7h2v10zm4 0h-2v-4h2v4z\"/>\n",
              "    </g>\n",
              "</svg>\n",
              "  </button>\n",
              "\n",
              "<style>\n",
              "  .colab-df-quickchart {\n",
              "      --bg-color: #E8F0FE;\n",
              "      --fill-color: #1967D2;\n",
              "      --hover-bg-color: #E2EBFA;\n",
              "      --hover-fill-color: #174EA6;\n",
              "      --disabled-fill-color: #AAA;\n",
              "      --disabled-bg-color: #DDD;\n",
              "  }\n",
              "\n",
              "  [theme=dark] .colab-df-quickchart {\n",
              "      --bg-color: #3B4455;\n",
              "      --fill-color: #D2E3FC;\n",
              "      --hover-bg-color: #434B5C;\n",
              "      --hover-fill-color: #FFFFFF;\n",
              "      --disabled-bg-color: #3B4455;\n",
              "      --disabled-fill-color: #666;\n",
              "  }\n",
              "\n",
              "  .colab-df-quickchart {\n",
              "    background-color: var(--bg-color);\n",
              "    border: none;\n",
              "    border-radius: 50%;\n",
              "    cursor: pointer;\n",
              "    display: none;\n",
              "    fill: var(--fill-color);\n",
              "    height: 32px;\n",
              "    padding: 0;\n",
              "    width: 32px;\n",
              "  }\n",
              "\n",
              "  .colab-df-quickchart:hover {\n",
              "    background-color: var(--hover-bg-color);\n",
              "    box-shadow: 0 1px 2px rgba(60, 64, 67, 0.3), 0 1px 3px 1px rgba(60, 64, 67, 0.15);\n",
              "    fill: var(--button-hover-fill-color);\n",
              "  }\n",
              "\n",
              "  .colab-df-quickchart-complete:disabled,\n",
              "  .colab-df-quickchart-complete:disabled:hover {\n",
              "    background-color: var(--disabled-bg-color);\n",
              "    fill: var(--disabled-fill-color);\n",
              "    box-shadow: none;\n",
              "  }\n",
              "\n",
              "  .colab-df-spinner {\n",
              "    border: 2px solid var(--fill-color);\n",
              "    border-color: transparent;\n",
              "    border-bottom-color: var(--fill-color);\n",
              "    animation:\n",
              "      spin 1s steps(1) infinite;\n",
              "  }\n",
              "\n",
              "  @keyframes spin {\n",
              "    0% {\n",
              "      border-color: transparent;\n",
              "      border-bottom-color: var(--fill-color);\n",
              "      border-left-color: var(--fill-color);\n",
              "    }\n",
              "    20% {\n",
              "      border-color: transparent;\n",
              "      border-left-color: var(--fill-color);\n",
              "      border-top-color: var(--fill-color);\n",
              "    }\n",
              "    30% {\n",
              "      border-color: transparent;\n",
              "      border-left-color: var(--fill-color);\n",
              "      border-top-color: var(--fill-color);\n",
              "      border-right-color: var(--fill-color);\n",
              "    }\n",
              "    40% {\n",
              "      border-color: transparent;\n",
              "      border-right-color: var(--fill-color);\n",
              "      border-top-color: var(--fill-color);\n",
              "    }\n",
              "    60% {\n",
              "      border-color: transparent;\n",
              "      border-right-color: var(--fill-color);\n",
              "    }\n",
              "    80% {\n",
              "      border-color: transparent;\n",
              "      border-right-color: var(--fill-color);\n",
              "      border-bottom-color: var(--fill-color);\n",
              "    }\n",
              "    90% {\n",
              "      border-color: transparent;\n",
              "      border-bottom-color: var(--fill-color);\n",
              "    }\n",
              "  }\n",
              "</style>\n",
              "\n",
              "  <script>\n",
              "    async function quickchart(key) {\n",
              "      const quickchartButtonEl =\n",
              "        document.querySelector('#' + key + ' button');\n",
              "      quickchartButtonEl.disabled = true;  // To prevent multiple clicks.\n",
              "      quickchartButtonEl.classList.add('colab-df-spinner');\n",
              "      try {\n",
              "        const charts = await google.colab.kernel.invokeFunction(\n",
              "            'suggestCharts', [key], {});\n",
              "      } catch (error) {\n",
              "        console.error('Error during call to suggestCharts:', error);\n",
              "      }\n",
              "      quickchartButtonEl.classList.remove('colab-df-spinner');\n",
              "      quickchartButtonEl.classList.add('colab-df-quickchart-complete');\n",
              "    }\n",
              "    (() => {\n",
              "      let quickchartButtonEl =\n",
              "        document.querySelector('#df-6ce42e2d-a3e1-4b91-add1-ac10cf5bba3e button');\n",
              "      quickchartButtonEl.style.display =\n",
              "        google.colab.kernel.accessAllowed ? 'block' : 'none';\n",
              "    })();\n",
              "  </script>\n",
              "</div>\n",
              "\n",
              "    </div>\n",
              "  </div>\n"
            ],
            "application/vnd.google.colaboratory.intrinsic+json": {
              "type": "dataframe",
              "variable_name": "dataset",
              "summary": "{\n  \"name\": \"dataset\",\n  \"rows\": 183,\n  \"fields\": [\n    {\n      \"column\": \"Survived\",\n      \"properties\": {\n        \"dtype\": \"number\",\n        \"std\": 0,\n        \"min\": 0,\n        \"max\": 1,\n        \"num_unique_values\": 2,\n        \"samples\": [\n          0,\n          1\n        ],\n        \"semantic_type\": \"\",\n        \"description\": \"\"\n      }\n    },\n    {\n      \"column\": \"Pclass\",\n      \"properties\": {\n        \"dtype\": \"number\",\n        \"std\": 0,\n        \"min\": 1,\n        \"max\": 3,\n        \"num_unique_values\": 3,\n        \"samples\": [\n          1,\n          3\n        ],\n        \"semantic_type\": \"\",\n        \"description\": \"\"\n      }\n    },\n    {\n      \"column\": \"Sex\",\n      \"properties\": {\n        \"dtype\": \"number\",\n        \"std\": 0,\n        \"min\": 0,\n        \"max\": 1,\n        \"num_unique_values\": 2,\n        \"samples\": [\n          1,\n          0\n        ],\n        \"semantic_type\": \"\",\n        \"description\": \"\"\n      }\n    },\n    {\n      \"column\": \"Age\",\n      \"properties\": {\n        \"dtype\": \"number\",\n        \"std\": 15.643865966849717,\n        \"min\": 0.92,\n        \"max\": 80.0,\n        \"num_unique_values\": 63,\n        \"samples\": [\n          11.0,\n          6.0\n        ],\n        \"semantic_type\": \"\",\n        \"description\": \"\"\n      }\n    },\n    {\n      \"column\": \"SibSp\",\n      \"properties\": {\n        \"dtype\": \"number\",\n        \"std\": 0,\n        \"min\": 0,\n        \"max\": 3,\n        \"num_unique_values\": 4,\n        \"samples\": [\n          0,\n          2\n        ],\n        \"semantic_type\": \"\",\n        \"description\": \"\"\n      }\n    },\n    {\n      \"column\": \"Parch\",\n      \"properties\": {\n        \"dtype\": \"number\",\n        \"std\": 0,\n        \"min\": 0,\n        \"max\": 4,\n        \"num_unique_values\": 4,\n        \"samples\": [\n          1,\n          4\n        ],\n        \"semantic_type\": \"\",\n        \"description\": \"\"\n      }\n    },\n    {\n      \"column\": \"Fare\",\n      \"properties\": {\n        \"dtype\": \"number\",\n        \"std\": 76.3478427004057,\n        \"min\": 0.0,\n        \"max\": 512.3292,\n        \"num_unique_values\": 93,\n        \"samples\": [\n          29.7,\n          66.6\n        ],\n        \"semantic_type\": \"\",\n        \"description\": \"\"\n      }\n    },\n    {\n      \"column\": \"Embarked\",\n      \"properties\": {\n        \"dtype\": \"number\",\n        \"std\": 0,\n        \"min\": 0,\n        \"max\": 2,\n        \"num_unique_values\": 3,\n        \"samples\": [\n          0,\n          2\n        ],\n        \"semantic_type\": \"\",\n        \"description\": \"\"\n      }\n    }\n  ]\n}"
            }
          },
          "metadata": {},
          "execution_count": 16
        }
      ]
    },
    {
      "cell_type": "code",
      "source": [
        "X = dataset.drop(\"Survived\", axis=1)\n",
        "y = dataset.loc[:,\"Survived\"]"
      ],
      "metadata": {
        "id": "CSwc-gvjYjCK"
      },
      "execution_count": null,
      "outputs": []
    },
    {
      "cell_type": "code",
      "source": [
        "X_train, X_test, y_train, y_test = train_test_split(X, y, test_size=0.3)"
      ],
      "metadata": {
        "id": "tekz5iZnYi_4"
      },
      "execution_count": null,
      "outputs": []
    },
    {
      "cell_type": "code",
      "source": [
        "'''\n",
        "These two lines of code create objects representing decision tree and random forest classifiers, respectively. These objects can then be used to train models on your data and make predictions.\n",
        "'''\n",
        "decisiontree = DecisionTreeClassifier()\n",
        "randomforest = RandomForestClassifier()"
      ],
      "metadata": {
        "id": "eLrG1Zp8Yi9R"
      },
      "execution_count": null,
      "outputs": []
    },
    {
      "cell_type": "code",
      "source": [
        "decisiontree.fit(X_train, y_train) # This line trains a decision tree model on the training data.\n",
        "randomforest.fit(X_train, y_train) # Similarly, this line trains a random forest model on the training data"
      ],
      "metadata": {
        "id": "oOXl3zCbYi7A"
      },
      "execution_count": null,
      "outputs": []
    },
    {
      "cell_type": "code",
      "source": [
        "# This line of code is used to make predictions on a new, unseen dataset using the trained decision tree model.\n",
        "decisiontree_pred = decisiontree.predict(X_test)\n",
        "\n",
        "# This line of code is similar to the previous one, but it's used for the random forest model.\n",
        "randomforest_pred = randomforest.predict(X_test)"
      ],
      "metadata": {
        "id": "WLgOj0mFYi4v"
      },
      "execution_count": null,
      "outputs": []
    },
    {
      "cell_type": "code",
      "source": [
        "print(classification_report(y_test, decisiontree_pred))"
      ],
      "metadata": {
        "id": "5DzGjIf0Yi2U"
      },
      "execution_count": null,
      "outputs": []
    },
    {
      "cell_type": "code",
      "source": [
        "print(classification_report(y_test, randomforest_pred))"
      ],
      "metadata": {
        "id": "9yIyKBAQYizw"
      },
      "execution_count": null,
      "outputs": []
    },
    {
      "cell_type": "code",
      "source": [
        "from sklearn.tree import plot_tree\n",
        "import matplotlib.pyplot as plt\n",
        "\n",
        "# This line creates a figure object with a size of 10x10 inches. This figure will be used to visualize the decision tree.\n",
        "fig = plt.figure(figsize=(10,10))\n",
        "\n",
        "# This line calls the plot_tree function to visualize the decision tree.\n",
        "plot_tree(decisiontree, # the decision tree model to be visualized\n",
        "          max_depth=2, # specifies that the tree will be shwn up to a max depth of 2 levels\n",
        "          feature_names=X.columns, # specifies the feature names to be used in the tree's nodes\n",
        "          filled=True, # fills the nodes with different colors for better visualization\n",
        "          impurity=False, # does not show impurity values in the nodes\n",
        "          rounded=True, # makes the nodes rounded\n",
        "          precision=1) # specifies the precision of numerical values\n",
        "\n",
        "# This line displays the created graph on the screen.\n",
        "plt.show()"
      ],
      "metadata": {
        "id": "UKb8cJuyYiw-"
      },
      "execution_count": null,
      "outputs": []
    },
    {
      "cell_type": "markdown",
      "source": [
        "## Neural Networks"
      ],
      "metadata": {
        "id": "QOSrWMJMXGHp"
      }
    },
    {
      "cell_type": "code",
      "source": [
        "from sklearn.datasets import fetch_openml\n",
        "from sklearn.model_selection import train_test_split\n",
        "\n",
        "X, y = fetch_openml(\"mnist_784\", version=1, return_X_y=True, as_frame=False)\n",
        "X = X / 255.0\n",
        "\n",
        "X_train, X_test, y_train, y_test = train_test_split(X, y, random_state=0, test_size=0.3)"
      ],
      "metadata": {
        "id": "JDkVhGiVlKF9"
      },
      "execution_count": null,
      "outputs": []
    },
    {
      "cell_type": "code",
      "source": [
        "import pandas as pd\n",
        "\n",
        "data = pd.DataFrame(X)\n",
        "data.insert(784, \"label\", y)\n",
        "\n",
        "data.head()"
      ],
      "metadata": {
        "id": "_2vKGkPSlKDh"
      },
      "execution_count": null,
      "outputs": []
    },
    {
      "cell_type": "code",
      "source": [
        "X_train[2]"
      ],
      "metadata": {
        "id": "WuW9q9y4lKA9"
      },
      "execution_count": null,
      "outputs": []
    },
    {
      "cell_type": "code",
      "source": [
        "import matplotlib.pyplot as plt\n",
        "for i in range(5):\n",
        "  plt.imshow(X[i].reshape((28, 28)), cmap='gray')\n",
        "  plt.show()"
      ],
      "metadata": {
        "id": "Nd1c5gMglJ-A"
      },
      "execution_count": null,
      "outputs": []
    },
    {
      "cell_type": "code",
      "source": [
        "from sklearn.neural_network import MLPClassifier\n",
        "\n",
        "mlp = MLPClassifier(hidden_layer_sizes=1, activation = \"logistic\")\n",
        "mlp1 = MLPClassifier(hidden_layer_sizes=100, activation = \"logistic\")\n",
        "mlp2 = MLPClassifier(hidden_layer_sizes=1000, activation = \"logistic\")"
      ],
      "metadata": {
        "id": "DmGUZfm4lJ2v"
      },
      "execution_count": null,
      "outputs": []
    },
    {
      "cell_type": "code",
      "source": [
        "mlp.fit(X_train, y_train)\n",
        "mlp1.fit(X_train, y_train)\n",
        "mlp2.fit(X_train, y_train)"
      ],
      "metadata": {
        "id": "Y7c_QLlmlJ0T"
      },
      "execution_count": null,
      "outputs": []
    },
    {
      "cell_type": "code",
      "source": [
        "predictions_NN = mlp.predict(X_test)\n",
        "predictions_NN"
      ],
      "metadata": {
        "id": "iF5qnksplJxi"
      },
      "execution_count": null,
      "outputs": []
    },
    {
      "cell_type": "code",
      "source": [
        "predictions_NN1 = mlp1.predict(X_test)\n",
        "predictions_NN1"
      ],
      "metadata": {
        "id": "9RFzdnOrlJu4"
      },
      "execution_count": null,
      "outputs": []
    },
    {
      "cell_type": "code",
      "source": [
        "predictions_NN2 = mlp2.predict(X_test)\n",
        "predictions_NN2"
      ],
      "metadata": {
        "id": "0tq5pzKzlJsV"
      },
      "execution_count": null,
      "outputs": []
    },
    {
      "cell_type": "code",
      "source": [
        "print(f\"Actual Value: {y_test[0]}\")\n",
        "print(f\"Predicted Value: {predictions_NN2[0]}\")\n",
        "\n",
        "\n",
        "plt.imshow(X_test[0].reshape((28, 28)), cmap='gray')\n",
        "plt.show()"
      ],
      "metadata": {
        "id": "XEfkPBp-lJpk"
      },
      "execution_count": null,
      "outputs": []
    },
    {
      "cell_type": "code",
      "source": [
        "print(f\"Actual Value: {y_test[1]}\")\n",
        "print(f\"Predicted Value For 1 Hidden Layer: {predictions_NN[1]}\")\n",
        "print(f\"Predicted Value For 100 Hidden Layer: {predictions_NN1[1]}\")\n",
        "print(f\"Predicted Value For 1000 Hidden Layer: {predictions_NN2[1]}\")\n",
        "\n",
        "\n",
        "plt.imshow(X_test[1].reshape((28, 28)), cmap='gray')\n",
        "plt.show()"
      ],
      "metadata": {
        "id": "MmDxi2wllJjb"
      },
      "execution_count": null,
      "outputs": []
    },
    {
      "cell_type": "code",
      "source": [
        "from sklearn.metrics import confusion_matrix\n",
        "\n",
        "confusion_matrix(y_test, predictions_NN)"
      ],
      "metadata": {
        "id": "YKhI8JWTlJZQ"
      },
      "execution_count": null,
      "outputs": []
    },
    {
      "cell_type": "code",
      "source": [
        "from sklearn.metrics import classification_report\n",
        "\n",
        "print(classification_report(y_test,predictions_NN))"
      ],
      "metadata": {
        "id": "QATNF683mIL_"
      },
      "execution_count": null,
      "outputs": []
    },
    {
      "cell_type": "code",
      "source": [
        "confusion_matrix(y_test, predictions_NN1)"
      ],
      "metadata": {
        "id": "-0VG7CMjmJ5f"
      },
      "execution_count": null,
      "outputs": []
    },
    {
      "cell_type": "code",
      "source": [
        "print(classification_report(y_test,predictions_NN1))"
      ],
      "metadata": {
        "id": "v-G9FbFTmMff"
      },
      "execution_count": null,
      "outputs": []
    },
    {
      "cell_type": "code",
      "source": [
        "confusion_matrix(y_test, predictions_NN2)"
      ],
      "metadata": {
        "id": "e9UG557UmNSn"
      },
      "execution_count": null,
      "outputs": []
    },
    {
      "cell_type": "code",
      "source": [
        "print(classification_report(y_test,predictions_NN2))"
      ],
      "metadata": {
        "id": "mvxMiwiZmNPa"
      },
      "execution_count": null,
      "outputs": []
    },
    {
      "cell_type": "markdown",
      "source": [
        "# Assessment - Models"
      ],
      "metadata": {
        "id": "HqsK7w8DXJcZ"
      }
    },
    {
      "cell_type": "markdown",
      "source": [
        "### 1.Which of the following statements describes the decision tree algorithm?\n",
        "* A network with layers\n",
        "* A statistical distribution\n",
        "* A series of if-else statements\n",
        "* A linear relationship"
      ],
      "metadata": {
        "id": "jLG_YRwCqGhk"
      }
    },
    {
      "cell_type": "markdown",
      "source": [
        "The decision tree algorithm is best described as **a series of if-else statements**."
      ],
      "metadata": {
        "id": "mpbLs9BPqX_s"
      }
    },
    {
      "cell_type": "markdown",
      "source": [
        "\n",
        "\n",
        "---\n",
        "\n"
      ],
      "metadata": {
        "id": "iUlXOR6HqmjU"
      }
    },
    {
      "cell_type": "markdown",
      "source": [
        "### 2.What are the disadvantages of decision trees? There are two correct answers.\n",
        "\n",
        "* Data needs to be normalized and scaled\n",
        "* They require longer time to train\n",
        "* They are prone to overfit to complicated data\n",
        "* Missing values significantly affect the performance"
      ],
      "metadata": {
        "id": "u2yTUoYdqnMU"
      }
    },
    {
      "cell_type": "markdown",
      "source": [
        "1. They are prone to overfit to complicated data.\n",
        "2. They require longer time to train"
      ],
      "metadata": {
        "id": "f7t08m-iq6zb"
      }
    },
    {
      "cell_type": "markdown",
      "source": [
        "\n",
        "\n",
        "---\n",
        "\n"
      ],
      "metadata": {
        "id": "Vlb6O5x4rG9z"
      }
    },
    {
      "cell_type": "markdown",
      "source": [
        "### 3.What types of problems can decision trees solve? There are two correct answers.\n",
        "\n",
        "* Regression\n",
        "* Classification\n",
        "* Clustering\n",
        "* Normalization"
      ],
      "metadata": {
        "id": "UDrVfSGrrHeV"
      }
    },
    {
      "cell_type": "markdown",
      "source": [
        "1. Regression\n",
        "2. Classification"
      ],
      "metadata": {
        "id": "k2kCAfjGrMKk"
      }
    },
    {
      "cell_type": "markdown",
      "source": [
        "\n",
        "\n",
        "---\n",
        "\n"
      ],
      "metadata": {
        "id": "Vlh79jY1rR9_"
      }
    },
    {
      "cell_type": "markdown",
      "source": [
        "### 4.What does “pruning” do?\n",
        "\n",
        "* Changes decision nodes manually\n",
        "* Removes unnecessary features to prevent overfitting\n",
        "* Scales the data\n",
        "* Provides decisions to the algorithm manually"
      ],
      "metadata": {
        "id": "ipw3PNeNrSbb"
      }
    },
    {
      "cell_type": "markdown",
      "source": [
        "\"Pruning\" in decision trees refers to the process of **removing unnecessary branches or nodes to prevent overfitting.**"
      ],
      "metadata": {
        "id": "VH_8apwhrZv1"
      }
    },
    {
      "cell_type": "markdown",
      "source": [
        "\n",
        "\n",
        "---\n",
        "\n"
      ],
      "metadata": {
        "id": "hnsIOCZhrfVY"
      }
    },
    {
      "cell_type": "markdown",
      "source": [
        "### 5.Which of the following statements about random forest and decision trees are true? There are three correct answers.\n",
        "\n",
        "* Random forest is less impacted by changes in the data compared to decision trees\n",
        "* Random forest is more complex compared to decision trees\n",
        "* Both random forest and decision trees are clustering algorithms\n",
        "* Random forest resolves the overfitting problem of decision trees"
      ],
      "metadata": {
        "id": "USqLwiJkrfxv"
      }
    },
    {
      "cell_type": "markdown",
      "source": [
        "1. Random forest is less impacted by changes in the data compared to decision trees\n",
        "2. Random forest is more complex compared to decision trees\n",
        "3. Random forest resolves the overfitting problem of decision trees"
      ],
      "metadata": {
        "id": "OX9tsD4nrjjv"
      }
    },
    {
      "cell_type": "markdown",
      "source": [
        "\n",
        "\n",
        "---\n",
        "\n"
      ],
      "metadata": {
        "id": "x5shH1Z6rujw"
      }
    },
    {
      "cell_type": "markdown",
      "source": [
        "### 6.Which of the following is true about the “Bayes” theorem?\n",
        "\n",
        "* It is the reverse of conditional probability\n",
        "* It is an extension of conditional probability that allows reverse reasoning\n",
        "* It is represented by P(A|B) = P(B|A) * P(B) / P(A)\n",
        "* None of the above"
      ],
      "metadata": {
        "id": "ZCirJW66rwW4"
      }
    },
    {
      "cell_type": "markdown",
      "source": [
        "The correct answer is: **It is an extension of conditional probability that allows reverse reasoning**."
      ],
      "metadata": {
        "id": "g7GrU23ar0Mg"
      }
    },
    {
      "cell_type": "markdown",
      "source": [
        "\n",
        "\n",
        "---\n",
        "\n"
      ],
      "metadata": {
        "id": "79i1oIjVr39f"
      }
    },
    {
      "cell_type": "markdown",
      "source": [
        "### 7.Which of the Naive Bayes classifiers we should choose in the case of working with binary data in sklearn?\n",
        "\n",
        "* Bernoulli Naive Bayes\n",
        "* Multinomial Naive Bayes\n",
        "* Gaussian Naive Bayes\n",
        "* Binary Naive Bayes"
      ],
      "metadata": {
        "id": "jlE7mhm6r5v4"
      }
    },
    {
      "cell_type": "markdown",
      "source": [
        "**Bernoulli Naive Bayes**\n",
        "* ![image.png](data:image/png;base64,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)"
      ],
      "metadata": {
        "id": "bG_PP-Ner-UU"
      }
    },
    {
      "cell_type": "markdown",
      "source": [
        "\n",
        "\n",
        "---\n",
        "\n"
      ],
      "metadata": {
        "id": "JXWeQbE_sANP"
      }
    },
    {
      "cell_type": "markdown",
      "source": [
        "### 8.Which of the following statements about Naive Bayes algorithm is correct?\n",
        "\n",
        "* It can produce good results with a small amount of data\n",
        "* It is usually used for benchmarking of a model\n",
        "* It can discretize continuous data\n",
        "* All of the above"
      ],
      "metadata": {
        "id": "e1g675y6sAoP"
      }
    },
    {
      "cell_type": "markdown",
      "source": [
        "The correct answer is: **All of the above.**"
      ],
      "metadata": {
        "id": "0ADc2J5ZsFyf"
      }
    },
    {
      "cell_type": "markdown",
      "source": [
        "\n",
        "\n",
        "---\n",
        "\n"
      ],
      "metadata": {
        "id": "jPPAJ7C0sH7Q"
      }
    },
    {
      "cell_type": "markdown",
      "source": [
        "### 9.Which of the following is a disadvantage of the Naive Bayes algorithm?\n",
        "\n",
        "* It takes long to train\n",
        "* It assumes features are independent, which may lead to wrong results\n",
        "* It requires a lot of data\n",
        "* It does not work well with continuous data"
      ],
      "metadata": {
        "id": "yyzlvFk-sIV4"
      }
    },
    {
      "cell_type": "markdown",
      "source": [
        "The correct answer is: **It assumes features are independent, which may lead to wrong results.**"
      ],
      "metadata": {
        "id": "1UffVOQlsMsR"
      }
    },
    {
      "cell_type": "markdown",
      "source": [
        "\n",
        "\n",
        "---\n",
        "\n"
      ],
      "metadata": {
        "id": "Le3fkFsWsTey"
      }
    },
    {
      "cell_type": "markdown",
      "source": [
        "### 10.Why is the Naive Bayes algorithm called “naive”?\n",
        "\n",
        "* It assumes features are independent when calculating the conditional probabilities\n",
        "* It generally has low accuracy\n",
        "* It assumes features are dependent when calculating the conditional probabilities\n",
        "* It only works on less complex problems"
      ],
      "metadata": {
        "id": "5zWpPUN7sUH3"
      }
    },
    {
      "cell_type": "markdown",
      "source": [
        "The correct option is: **It assumes features are independent when calculating the conditional probabilities.-**"
      ],
      "metadata": {
        "id": "kkTeP6uWsilP"
      }
    },
    {
      "cell_type": "markdown",
      "source": [
        "\n",
        "\n",
        "---\n",
        "\n"
      ],
      "metadata": {
        "id": "yNIiMB__slx_"
      }
    },
    {
      "cell_type": "markdown",
      "source": [
        "### 11.Which layer of neural networks sends the information to the output layer?\n",
        "\n",
        "* Input layer\n",
        "* Hidden layer\n",
        "* Output layer\n",
        "* None of the above"
      ],
      "metadata": {
        "id": "ydlzSRhmsmLX"
      }
    },
    {
      "cell_type": "markdown",
      "source": [
        "**Hidden layer** sends the information to the output layer in a neural network."
      ],
      "metadata": {
        "id": "Hlix_VOGsq8r"
      }
    },
    {
      "cell_type": "markdown",
      "source": [
        "\n",
        "\n",
        "---\n",
        "\n"
      ],
      "metadata": {
        "id": "xQRnv3W6srKo"
      }
    },
    {
      "cell_type": "markdown",
      "source": [
        "### 12.Which of the following statements about activation function is correct? There are two correct answers.\n",
        "\n",
        "* It is a linear function\n",
        "* It works like a threshold\n",
        "* It determines the output between the desired range\n",
        "* Only example of activation function is sigmoid function"
      ],
      "metadata": {
        "id": "9WhSCIqssu_p"
      }
    },
    {
      "cell_type": "markdown",
      "source": [
        "1. It works like a threshold\n",
        "2. It determines the output between the desired range"
      ],
      "metadata": {
        "id": "Bz361nf1s0VI"
      }
    },
    {
      "cell_type": "markdown",
      "source": [
        "\n",
        "\n",
        "---\n",
        "\n"
      ],
      "metadata": {
        "id": "yl3RTr1Xs9fQ"
      }
    },
    {
      "cell_type": "markdown",
      "source": [
        "### 13.What do “weights” and “bias” mean in neural networks? Drag the answers to the correct category.\n",
        "\n",
        "1. Analogue to the intercept in linear regression\n",
        "2. Indicate how much influence the input has on the output\n",
        "\n",
        "* Weights -->\n",
        "* Bias -->\n"
      ],
      "metadata": {
        "id": "qbRpD9gZs95r"
      }
    },
    {
      "cell_type": "markdown",
      "source": [
        "* Weights --> Indicate how much influence the input has on the output\n",
        "* Bias --> Analogue to the intercept in linear regression"
      ],
      "metadata": {
        "id": "j1MMD1svtf5c"
      }
    },
    {
      "cell_type": "markdown",
      "source": [
        "\n",
        "\n",
        "---\n",
        "\n"
      ],
      "metadata": {
        "id": "4FhUpDgBtqjE"
      }
    },
    {
      "cell_type": "markdown",
      "source": [
        "### 14.What are the steps of the forward propagation process? Please order them chronologically.\n",
        "\n",
        "* The activation function transforms the input to determine whether or not to activate the perceptron\n",
        "* The weights and bias are added to the initial value of each perceptron\n",
        "* Output layer receives values and computes the output\n",
        "* Input layer receives the input data"
      ],
      "metadata": {
        "id": "uCXI0mJIttFE"
      }
    },
    {
      "cell_type": "markdown",
      "source": [
        "1. Input layer receives the input data.\n",
        "2. The weights and bias are added to the initial value of each perceptron\n",
        "3. The activation function transforms the input to determine whether or not to activate the perceptron.\n",
        "4. Output layer receives values and computes the output."
      ],
      "metadata": {
        "id": "j65FlFcztzPs"
      }
    },
    {
      "cell_type": "markdown",
      "source": [
        "\n",
        "\n",
        "---\n",
        "\n"
      ],
      "metadata": {
        "id": "YlMtcveluNZO"
      }
    },
    {
      "cell_type": "markdown",
      "source": [
        "### 15.What can we do to improve Neural Networks?\n",
        "\n",
        "* Apply backpropagation method\n",
        "* Remove features\n",
        "* Add some outliers\n",
        "* None of the above"
      ],
      "metadata": {
        "id": "aga3n5QuuN3k"
      }
    },
    {
      "cell_type": "markdown",
      "source": [
        "The correct answer is: **Apply backpropagation method.**"
      ],
      "metadata": {
        "id": "h1nzCmgquRm8"
      }
    },
    {
      "cell_type": "markdown",
      "source": [
        "# Wrap Up"
      ],
      "metadata": {
        "id": "-4hGeyvCxQcw"
      }
    },
    {
      "cell_type": "markdown",
      "source": [
        "## Final Project: mushroom classification"
      ],
      "metadata": {
        "id": "1ENVDdjVx1ZY"
      }
    },
    {
      "cell_type": "code",
      "source": [
        "# Import Pandas and Matplotlib\n",
        "import pandas as pd\n",
        "import matplotlib.pyplot as plt\n",
        "\n",
        "# Import Label Encoder and train_test_split\n",
        "from sklearn.preprocessing import LabelEncoder\n",
        "from sklearn.model_selection import train_test_split\n",
        "\n",
        "# Import Logistic Regression, Ridge Classifier, Decision Tree\n",
        "# Gaussian Naive Bayes, MLP Classifier and Random Forest models\n",
        "from sklearn.linear_model import LogisticRegression, RidgeClassifier\n",
        "from sklearn.tree import DecisionTreeClassifier\n",
        "from sklearn.naive_bayes import GaussianNB\n",
        "from sklearn.neural_network import MLPClassifier\n",
        "from sklearn.ensemble import RandomForestClassifier\n",
        "\n",
        "# Import Classification Report function\n",
        "from sklearn.metrics import classification_report\n"
      ],
      "metadata": {
        "id": "FU4MXSzIx1AA"
      },
      "execution_count": 1,
      "outputs": []
    },
    {
      "cell_type": "code",
      "source": [
        "from google.colab import files\n",
        "uploaded = files.upload()"
      ],
      "metadata": {
        "colab": {
          "base_uri": "https://localhost:8080/",
          "height": 73
        },
        "id": "zI5b_QB-ydA7",
        "outputId": "077d0b03-4949-478e-ff38-b86ee9274db0"
      },
      "execution_count": 2,
      "outputs": [
        {
          "output_type": "display_data",
          "data": {
            "text/plain": [
              "<IPython.core.display.HTML object>"
            ],
            "text/html": [
              "\n",
              "     <input type=\"file\" id=\"files-ce54e6d1-c3a1-4cb7-94d5-b848f72983dc\" name=\"files[]\" multiple disabled\n",
              "        style=\"border:none\" />\n",
              "     <output id=\"result-ce54e6d1-c3a1-4cb7-94d5-b848f72983dc\">\n",
              "      Upload widget is only available when the cell has been executed in the\n",
              "      current browser session. Please rerun this cell to enable.\n",
              "      </output>\n",
              "      <script>// Copyright 2017 Google LLC\n",
              "//\n",
              "// Licensed under the Apache License, Version 2.0 (the \"License\");\n",
              "// you may not use this file except in compliance with the License.\n",
              "// You may obtain a copy of the License at\n",
              "//\n",
              "//      http://www.apache.org/licenses/LICENSE-2.0\n",
              "//\n",
              "// Unless required by applicable law or agreed to in writing, software\n",
              "// distributed under the License is distributed on an \"AS IS\" BASIS,\n",
              "// WITHOUT WARRANTIES OR CONDITIONS OF ANY KIND, either express or implied.\n",
              "// See the License for the specific language governing permissions and\n",
              "// limitations under the License.\n",
              "\n",
              "/**\n",
              " * @fileoverview Helpers for google.colab Python module.\n",
              " */\n",
              "(function(scope) {\n",
              "function span(text, styleAttributes = {}) {\n",
              "  const element = document.createElement('span');\n",
              "  element.textContent = text;\n",
              "  for (const key of Object.keys(styleAttributes)) {\n",
              "    element.style[key] = styleAttributes[key];\n",
              "  }\n",
              "  return element;\n",
              "}\n",
              "\n",
              "// Max number of bytes which will be uploaded at a time.\n",
              "const MAX_PAYLOAD_SIZE = 100 * 1024;\n",
              "\n",
              "function _uploadFiles(inputId, outputId) {\n",
              "  const steps = uploadFilesStep(inputId, outputId);\n",
              "  const outputElement = document.getElementById(outputId);\n",
              "  // Cache steps on the outputElement to make it available for the next call\n",
              "  // to uploadFilesContinue from Python.\n",
              "  outputElement.steps = steps;\n",
              "\n",
              "  return _uploadFilesContinue(outputId);\n",
              "}\n",
              "\n",
              "// This is roughly an async generator (not supported in the browser yet),\n",
              "// where there are multiple asynchronous steps and the Python side is going\n",
              "// to poll for completion of each step.\n",
              "// This uses a Promise to block the python side on completion of each step,\n",
              "// then passes the result of the previous step as the input to the next step.\n",
              "function _uploadFilesContinue(outputId) {\n",
              "  const outputElement = document.getElementById(outputId);\n",
              "  const steps = outputElement.steps;\n",
              "\n",
              "  const next = steps.next(outputElement.lastPromiseValue);\n",
              "  return Promise.resolve(next.value.promise).then((value) => {\n",
              "    // Cache the last promise value to make it available to the next\n",
              "    // step of the generator.\n",
              "    outputElement.lastPromiseValue = value;\n",
              "    return next.value.response;\n",
              "  });\n",
              "}\n",
              "\n",
              "/**\n",
              " * Generator function which is called between each async step of the upload\n",
              " * process.\n",
              " * @param {string} inputId Element ID of the input file picker element.\n",
              " * @param {string} outputId Element ID of the output display.\n",
              " * @return {!Iterable<!Object>} Iterable of next steps.\n",
              " */\n",
              "function* uploadFilesStep(inputId, outputId) {\n",
              "  const inputElement = document.getElementById(inputId);\n",
              "  inputElement.disabled = false;\n",
              "\n",
              "  const outputElement = document.getElementById(outputId);\n",
              "  outputElement.innerHTML = '';\n",
              "\n",
              "  const pickedPromise = new Promise((resolve) => {\n",
              "    inputElement.addEventListener('change', (e) => {\n",
              "      resolve(e.target.files);\n",
              "    });\n",
              "  });\n",
              "\n",
              "  const cancel = document.createElement('button');\n",
              "  inputElement.parentElement.appendChild(cancel);\n",
              "  cancel.textContent = 'Cancel upload';\n",
              "  const cancelPromise = new Promise((resolve) => {\n",
              "    cancel.onclick = () => {\n",
              "      resolve(null);\n",
              "    };\n",
              "  });\n",
              "\n",
              "  // Wait for the user to pick the files.\n",
              "  const files = yield {\n",
              "    promise: Promise.race([pickedPromise, cancelPromise]),\n",
              "    response: {\n",
              "      action: 'starting',\n",
              "    }\n",
              "  };\n",
              "\n",
              "  cancel.remove();\n",
              "\n",
              "  // Disable the input element since further picks are not allowed.\n",
              "  inputElement.disabled = true;\n",
              "\n",
              "  if (!files) {\n",
              "    return {\n",
              "      response: {\n",
              "        action: 'complete',\n",
              "      }\n",
              "    };\n",
              "  }\n",
              "\n",
              "  for (const file of files) {\n",
              "    const li = document.createElement('li');\n",
              "    li.append(span(file.name, {fontWeight: 'bold'}));\n",
              "    li.append(span(\n",
              "        `(${file.type || 'n/a'}) - ${file.size} bytes, ` +\n",
              "        `last modified: ${\n",
              "            file.lastModifiedDate ? file.lastModifiedDate.toLocaleDateString() :\n",
              "                                    'n/a'} - `));\n",
              "    const percent = span('0% done');\n",
              "    li.appendChild(percent);\n",
              "\n",
              "    outputElement.appendChild(li);\n",
              "\n",
              "    const fileDataPromise = new Promise((resolve) => {\n",
              "      const reader = new FileReader();\n",
              "      reader.onload = (e) => {\n",
              "        resolve(e.target.result);\n",
              "      };\n",
              "      reader.readAsArrayBuffer(file);\n",
              "    });\n",
              "    // Wait for the data to be ready.\n",
              "    let fileData = yield {\n",
              "      promise: fileDataPromise,\n",
              "      response: {\n",
              "        action: 'continue',\n",
              "      }\n",
              "    };\n",
              "\n",
              "    // Use a chunked sending to avoid message size limits. See b/62115660.\n",
              "    let position = 0;\n",
              "    do {\n",
              "      const length = Math.min(fileData.byteLength - position, MAX_PAYLOAD_SIZE);\n",
              "      const chunk = new Uint8Array(fileData, position, length);\n",
              "      position += length;\n",
              "\n",
              "      const base64 = btoa(String.fromCharCode.apply(null, chunk));\n",
              "      yield {\n",
              "        response: {\n",
              "          action: 'append',\n",
              "          file: file.name,\n",
              "          data: base64,\n",
              "        },\n",
              "      };\n",
              "\n",
              "      let percentDone = fileData.byteLength === 0 ?\n",
              "          100 :\n",
              "          Math.round((position / fileData.byteLength) * 100);\n",
              "      percent.textContent = `${percentDone}% done`;\n",
              "\n",
              "    } while (position < fileData.byteLength);\n",
              "  }\n",
              "\n",
              "  // All done.\n",
              "  yield {\n",
              "    response: {\n",
              "      action: 'complete',\n",
              "    }\n",
              "  };\n",
              "}\n",
              "\n",
              "scope.google = scope.google || {};\n",
              "scope.google.colab = scope.google.colab || {};\n",
              "scope.google.colab._files = {\n",
              "  _uploadFiles,\n",
              "  _uploadFilesContinue,\n",
              "};\n",
              "})(self);\n",
              "</script> "
            ]
          },
          "metadata": {}
        },
        {
          "output_type": "stream",
          "name": "stdout",
          "text": [
            "Saving mushrooms.csv to mushrooms.csv\n"
          ]
        }
      ]
    },
    {
      "cell_type": "code",
      "source": [
        "data = pd.read_csv(\"mushrooms.csv\")"
      ],
      "metadata": {
        "id": "W1SUxMY8ygo7"
      },
      "execution_count": 4,
      "outputs": []
    },
    {
      "cell_type": "code",
      "source": [
        "# Display the first 5 rows of the DataFrame\n",
        "data.head()"
      ],
      "metadata": {
        "colab": {
          "base_uri": "https://localhost:8080/",
          "height": 308
        },
        "id": "hxD4n3o3ytHk",
        "outputId": "47103903-f0b5-4feb-c5c5-9bc12ee0011c"
      },
      "execution_count": 5,
      "outputs": [
        {
          "output_type": "execute_result",
          "data": {
            "text/plain": [
              "  class cap-shape cap-surface cap-color bruises odor gill-attachment  \\\n",
              "0     p         x           s         n       t    p               f   \n",
              "1     e         x           s         y       t    a               f   \n",
              "2     e         b           s         w       t    l               f   \n",
              "3     p         x           y         w       t    p               f   \n",
              "4     e         x           s         g       f    n               f   \n",
              "\n",
              "  gill-spacing gill-size gill-color  ... stalk-surface-below-ring  \\\n",
              "0            c         n          k  ...                        s   \n",
              "1            c         b          k  ...                        s   \n",
              "2            c         b          n  ...                        s   \n",
              "3            c         n          n  ...                        s   \n",
              "4            w         b          k  ...                        s   \n",
              "\n",
              "  stalk-color-above-ring stalk-color-below-ring veil-type veil-color  \\\n",
              "0                      w                      w         p          w   \n",
              "1                      w                      w         p          w   \n",
              "2                      w                      w         p          w   \n",
              "3                      w                      w         p          w   \n",
              "4                      w                      w         p          w   \n",
              "\n",
              "  ring-number ring-type spore-print-color population habitat  \n",
              "0           o         p                 k          s       u  \n",
              "1           o         p                 n          n       g  \n",
              "2           o         p                 n          n       m  \n",
              "3           o         p                 k          s       u  \n",
              "4           o         e                 n          a       g  \n",
              "\n",
              "[5 rows x 23 columns]"
            ],
            "text/html": [
              "\n",
              "  <div id=\"df-250241ae-3059-4289-81e3-0654b66efd41\" class=\"colab-df-container\">\n",
              "    <div>\n",
              "<style scoped>\n",
              "    .dataframe tbody tr th:only-of-type {\n",
              "        vertical-align: middle;\n",
              "    }\n",
              "\n",
              "    .dataframe tbody tr th {\n",
              "        vertical-align: top;\n",
              "    }\n",
              "\n",
              "    .dataframe thead th {\n",
              "        text-align: right;\n",
              "    }\n",
              "</style>\n",
              "<table border=\"1\" class=\"dataframe\">\n",
              "  <thead>\n",
              "    <tr style=\"text-align: right;\">\n",
              "      <th></th>\n",
              "      <th>class</th>\n",
              "      <th>cap-shape</th>\n",
              "      <th>cap-surface</th>\n",
              "      <th>cap-color</th>\n",
              "      <th>bruises</th>\n",
              "      <th>odor</th>\n",
              "      <th>gill-attachment</th>\n",
              "      <th>gill-spacing</th>\n",
              "      <th>gill-size</th>\n",
              "      <th>gill-color</th>\n",
              "      <th>...</th>\n",
              "      <th>stalk-surface-below-ring</th>\n",
              "      <th>stalk-color-above-ring</th>\n",
              "      <th>stalk-color-below-ring</th>\n",
              "      <th>veil-type</th>\n",
              "      <th>veil-color</th>\n",
              "      <th>ring-number</th>\n",
              "      <th>ring-type</th>\n",
              "      <th>spore-print-color</th>\n",
              "      <th>population</th>\n",
              "      <th>habitat</th>\n",
              "    </tr>\n",
              "  </thead>\n",
              "  <tbody>\n",
              "    <tr>\n",
              "      <th>0</th>\n",
              "      <td>p</td>\n",
              "      <td>x</td>\n",
              "      <td>s</td>\n",
              "      <td>n</td>\n",
              "      <td>t</td>\n",
              "      <td>p</td>\n",
              "      <td>f</td>\n",
              "      <td>c</td>\n",
              "      <td>n</td>\n",
              "      <td>k</td>\n",
              "      <td>...</td>\n",
              "      <td>s</td>\n",
              "      <td>w</td>\n",
              "      <td>w</td>\n",
              "      <td>p</td>\n",
              "      <td>w</td>\n",
              "      <td>o</td>\n",
              "      <td>p</td>\n",
              "      <td>k</td>\n",
              "      <td>s</td>\n",
              "      <td>u</td>\n",
              "    </tr>\n",
              "    <tr>\n",
              "      <th>1</th>\n",
              "      <td>e</td>\n",
              "      <td>x</td>\n",
              "      <td>s</td>\n",
              "      <td>y</td>\n",
              "      <td>t</td>\n",
              "      <td>a</td>\n",
              "      <td>f</td>\n",
              "      <td>c</td>\n",
              "      <td>b</td>\n",
              "      <td>k</td>\n",
              "      <td>...</td>\n",
              "      <td>s</td>\n",
              "      <td>w</td>\n",
              "      <td>w</td>\n",
              "      <td>p</td>\n",
              "      <td>w</td>\n",
              "      <td>o</td>\n",
              "      <td>p</td>\n",
              "      <td>n</td>\n",
              "      <td>n</td>\n",
              "      <td>g</td>\n",
              "    </tr>\n",
              "    <tr>\n",
              "      <th>2</th>\n",
              "      <td>e</td>\n",
              "      <td>b</td>\n",
              "      <td>s</td>\n",
              "      <td>w</td>\n",
              "      <td>t</td>\n",
              "      <td>l</td>\n",
              "      <td>f</td>\n",
              "      <td>c</td>\n",
              "      <td>b</td>\n",
              "      <td>n</td>\n",
              "      <td>...</td>\n",
              "      <td>s</td>\n",
              "      <td>w</td>\n",
              "      <td>w</td>\n",
              "      <td>p</td>\n",
              "      <td>w</td>\n",
              "      <td>o</td>\n",
              "      <td>p</td>\n",
              "      <td>n</td>\n",
              "      <td>n</td>\n",
              "      <td>m</td>\n",
              "    </tr>\n",
              "    <tr>\n",
              "      <th>3</th>\n",
              "      <td>p</td>\n",
              "      <td>x</td>\n",
              "      <td>y</td>\n",
              "      <td>w</td>\n",
              "      <td>t</td>\n",
              "      <td>p</td>\n",
              "      <td>f</td>\n",
              "      <td>c</td>\n",
              "      <td>n</td>\n",
              "      <td>n</td>\n",
              "      <td>...</td>\n",
              "      <td>s</td>\n",
              "      <td>w</td>\n",
              "      <td>w</td>\n",
              "      <td>p</td>\n",
              "      <td>w</td>\n",
              "      <td>o</td>\n",
              "      <td>p</td>\n",
              "      <td>k</td>\n",
              "      <td>s</td>\n",
              "      <td>u</td>\n",
              "    </tr>\n",
              "    <tr>\n",
              "      <th>4</th>\n",
              "      <td>e</td>\n",
              "      <td>x</td>\n",
              "      <td>s</td>\n",
              "      <td>g</td>\n",
              "      <td>f</td>\n",
              "      <td>n</td>\n",
              "      <td>f</td>\n",
              "      <td>w</td>\n",
              "      <td>b</td>\n",
              "      <td>k</td>\n",
              "      <td>...</td>\n",
              "      <td>s</td>\n",
              "      <td>w</td>\n",
              "      <td>w</td>\n",
              "      <td>p</td>\n",
              "      <td>w</td>\n",
              "      <td>o</td>\n",
              "      <td>e</td>\n",
              "      <td>n</td>\n",
              "      <td>a</td>\n",
              "      <td>g</td>\n",
              "    </tr>\n",
              "  </tbody>\n",
              "</table>\n",
              "<p>5 rows × 23 columns</p>\n",
              "</div>\n",
              "    <div class=\"colab-df-buttons\">\n",
              "\n",
              "  <div class=\"colab-df-container\">\n",
              "    <button class=\"colab-df-convert\" onclick=\"convertToInteractive('df-250241ae-3059-4289-81e3-0654b66efd41')\"\n",
              "            title=\"Convert this dataframe to an interactive table.\"\n",
              "            style=\"display:none;\">\n",
              "\n",
              "  <svg xmlns=\"http://www.w3.org/2000/svg\" height=\"24px\" viewBox=\"0 -960 960 960\">\n",
              "    <path d=\"M120-120v-720h720v720H120Zm60-500h600v-160H180v160Zm220 220h160v-160H400v160Zm0 220h160v-160H400v160ZM180-400h160v-160H180v160Zm440 0h160v-160H620v160ZM180-180h160v-160H180v160Zm440 0h160v-160H620v160Z\"/>\n",
              "  </svg>\n",
              "    </button>\n",
              "\n",
              "  <style>\n",
              "    .colab-df-container {\n",
              "      display:flex;\n",
              "      gap: 12px;\n",
              "    }\n",
              "\n",
              "    .colab-df-convert {\n",
              "      background-color: #E8F0FE;\n",
              "      border: none;\n",
              "      border-radius: 50%;\n",
              "      cursor: pointer;\n",
              "      display: none;\n",
              "      fill: #1967D2;\n",
              "      height: 32px;\n",
              "      padding: 0 0 0 0;\n",
              "      width: 32px;\n",
              "    }\n",
              "\n",
              "    .colab-df-convert:hover {\n",
              "      background-color: #E2EBFA;\n",
              "      box-shadow: 0px 1px 2px rgba(60, 64, 67, 0.3), 0px 1px 3px 1px rgba(60, 64, 67, 0.15);\n",
              "      fill: #174EA6;\n",
              "    }\n",
              "\n",
              "    .colab-df-buttons div {\n",
              "      margin-bottom: 4px;\n",
              "    }\n",
              "\n",
              "    [theme=dark] .colab-df-convert {\n",
              "      background-color: #3B4455;\n",
              "      fill: #D2E3FC;\n",
              "    }\n",
              "\n",
              "    [theme=dark] .colab-df-convert:hover {\n",
              "      background-color: #434B5C;\n",
              "      box-shadow: 0px 1px 3px 1px rgba(0, 0, 0, 0.15);\n",
              "      filter: drop-shadow(0px 1px 2px rgba(0, 0, 0, 0.3));\n",
              "      fill: #FFFFFF;\n",
              "    }\n",
              "  </style>\n",
              "\n",
              "    <script>\n",
              "      const buttonEl =\n",
              "        document.querySelector('#df-250241ae-3059-4289-81e3-0654b66efd41 button.colab-df-convert');\n",
              "      buttonEl.style.display =\n",
              "        google.colab.kernel.accessAllowed ? 'block' : 'none';\n",
              "\n",
              "      async function convertToInteractive(key) {\n",
              "        const element = document.querySelector('#df-250241ae-3059-4289-81e3-0654b66efd41');\n",
              "        const dataTable =\n",
              "          await google.colab.kernel.invokeFunction('convertToInteractive',\n",
              "                                                    [key], {});\n",
              "        if (!dataTable) return;\n",
              "\n",
              "        const docLinkHtml = 'Like what you see? Visit the ' +\n",
              "          '<a target=\"_blank\" href=https://colab.research.google.com/notebooks/data_table.ipynb>data table notebook</a>'\n",
              "          + ' to learn more about interactive tables.';\n",
              "        element.innerHTML = '';\n",
              "        dataTable['output_type'] = 'display_data';\n",
              "        await google.colab.output.renderOutput(dataTable, element);\n",
              "        const docLink = document.createElement('div');\n",
              "        docLink.innerHTML = docLinkHtml;\n",
              "        element.appendChild(docLink);\n",
              "      }\n",
              "    </script>\n",
              "  </div>\n",
              "\n",
              "\n",
              "<div id=\"df-247ca058-2448-44ae-aef8-4db98779f027\">\n",
              "  <button class=\"colab-df-quickchart\" onclick=\"quickchart('df-247ca058-2448-44ae-aef8-4db98779f027')\"\n",
              "            title=\"Suggest charts\"\n",
              "            style=\"display:none;\">\n",
              "\n",
              "<svg xmlns=\"http://www.w3.org/2000/svg\" height=\"24px\"viewBox=\"0 0 24 24\"\n",
              "     width=\"24px\">\n",
              "    <g>\n",
              "        <path d=\"M19 3H5c-1.1 0-2 .9-2 2v14c0 1.1.9 2 2 2h14c1.1 0 2-.9 2-2V5c0-1.1-.9-2-2-2zM9 17H7v-7h2v7zm4 0h-2V7h2v10zm4 0h-2v-4h2v4z\"/>\n",
              "    </g>\n",
              "</svg>\n",
              "  </button>\n",
              "\n",
              "<style>\n",
              "  .colab-df-quickchart {\n",
              "      --bg-color: #E8F0FE;\n",
              "      --fill-color: #1967D2;\n",
              "      --hover-bg-color: #E2EBFA;\n",
              "      --hover-fill-color: #174EA6;\n",
              "      --disabled-fill-color: #AAA;\n",
              "      --disabled-bg-color: #DDD;\n",
              "  }\n",
              "\n",
              "  [theme=dark] .colab-df-quickchart {\n",
              "      --bg-color: #3B4455;\n",
              "      --fill-color: #D2E3FC;\n",
              "      --hover-bg-color: #434B5C;\n",
              "      --hover-fill-color: #FFFFFF;\n",
              "      --disabled-bg-color: #3B4455;\n",
              "      --disabled-fill-color: #666;\n",
              "  }\n",
              "\n",
              "  .colab-df-quickchart {\n",
              "    background-color: var(--bg-color);\n",
              "    border: none;\n",
              "    border-radius: 50%;\n",
              "    cursor: pointer;\n",
              "    display: none;\n",
              "    fill: var(--fill-color);\n",
              "    height: 32px;\n",
              "    padding: 0;\n",
              "    width: 32px;\n",
              "  }\n",
              "\n",
              "  .colab-df-quickchart:hover {\n",
              "    background-color: var(--hover-bg-color);\n",
              "    box-shadow: 0 1px 2px rgba(60, 64, 67, 0.3), 0 1px 3px 1px rgba(60, 64, 67, 0.15);\n",
              "    fill: var(--button-hover-fill-color);\n",
              "  }\n",
              "\n",
              "  .colab-df-quickchart-complete:disabled,\n",
              "  .colab-df-quickchart-complete:disabled:hover {\n",
              "    background-color: var(--disabled-bg-color);\n",
              "    fill: var(--disabled-fill-color);\n",
              "    box-shadow: none;\n",
              "  }\n",
              "\n",
              "  .colab-df-spinner {\n",
              "    border: 2px solid var(--fill-color);\n",
              "    border-color: transparent;\n",
              "    border-bottom-color: var(--fill-color);\n",
              "    animation:\n",
              "      spin 1s steps(1) infinite;\n",
              "  }\n",
              "\n",
              "  @keyframes spin {\n",
              "    0% {\n",
              "      border-color: transparent;\n",
              "      border-bottom-color: var(--fill-color);\n",
              "      border-left-color: var(--fill-color);\n",
              "    }\n",
              "    20% {\n",
              "      border-color: transparent;\n",
              "      border-left-color: var(--fill-color);\n",
              "      border-top-color: var(--fill-color);\n",
              "    }\n",
              "    30% {\n",
              "      border-color: transparent;\n",
              "      border-left-color: var(--fill-color);\n",
              "      border-top-color: var(--fill-color);\n",
              "      border-right-color: var(--fill-color);\n",
              "    }\n",
              "    40% {\n",
              "      border-color: transparent;\n",
              "      border-right-color: var(--fill-color);\n",
              "      border-top-color: var(--fill-color);\n",
              "    }\n",
              "    60% {\n",
              "      border-color: transparent;\n",
              "      border-right-color: var(--fill-color);\n",
              "    }\n",
              "    80% {\n",
              "      border-color: transparent;\n",
              "      border-right-color: var(--fill-color);\n",
              "      border-bottom-color: var(--fill-color);\n",
              "    }\n",
              "    90% {\n",
              "      border-color: transparent;\n",
              "      border-bottom-color: var(--fill-color);\n",
              "    }\n",
              "  }\n",
              "</style>\n",
              "\n",
              "  <script>\n",
              "    async function quickchart(key) {\n",
              "      const quickchartButtonEl =\n",
              "        document.querySelector('#' + key + ' button');\n",
              "      quickchartButtonEl.disabled = true;  // To prevent multiple clicks.\n",
              "      quickchartButtonEl.classList.add('colab-df-spinner');\n",
              "      try {\n",
              "        const charts = await google.colab.kernel.invokeFunction(\n",
              "            'suggestCharts', [key], {});\n",
              "      } catch (error) {\n",
              "        console.error('Error during call to suggestCharts:', error);\n",
              "      }\n",
              "      quickchartButtonEl.classList.remove('colab-df-spinner');\n",
              "      quickchartButtonEl.classList.add('colab-df-quickchart-complete');\n",
              "    }\n",
              "    (() => {\n",
              "      let quickchartButtonEl =\n",
              "        document.querySelector('#df-247ca058-2448-44ae-aef8-4db98779f027 button');\n",
              "      quickchartButtonEl.style.display =\n",
              "        google.colab.kernel.accessAllowed ? 'block' : 'none';\n",
              "    })();\n",
              "  </script>\n",
              "</div>\n",
              "\n",
              "    </div>\n",
              "  </div>\n"
            ],
            "application/vnd.google.colaboratory.intrinsic+json": {
              "type": "dataframe",
              "variable_name": "data"
            }
          },
          "metadata": {},
          "execution_count": 5
        }
      ]
    },
    {
      "cell_type": "code",
      "source": [
        "# Use value_counts on 'class' column and print the result\n",
        "class_counts = data['class'].value_counts()\n",
        "print(class_counts)"
      ],
      "metadata": {
        "colab": {
          "base_uri": "https://localhost:8080/"
        },
        "id": "zr69nFbYy2M0",
        "outputId": "07064d3f-94fc-4c4a-dc78-b5893ba42a2b"
      },
      "execution_count": 6,
      "outputs": [
        {
          "output_type": "stream",
          "name": "stdout",
          "text": [
            "class\n",
            "e    4208\n",
            "p    3916\n",
            "Name: count, dtype: int64\n"
          ]
        }
      ]
    },
    {
      "cell_type": "code",
      "source": [
        "# Count the values in the 'class' column\n",
        "class_counts = data['class'].value_counts()\n",
        "\n",
        "# Plot a bar chart\n",
        "plt.bar(class_counts.index, class_counts.values, color=['green', 'red'])\n",
        "\n",
        "# Add labels and title\n",
        "plt.xlabel('Mushroom Class')\n",
        "plt.ylabel('Count')\n",
        "plt.title('Count of Edible vs Poisonous Mushrooms')\n",
        "\n",
        "# Display the plot\n",
        "plt.show()"
      ],
      "metadata": {
        "colab": {
          "base_uri": "https://localhost:8080/",
          "height": 472
        },
        "id": "zmS-wqidzKiE",
        "outputId": "aacf2dd2-d995-409d-d853-8b333eba83c4"
      },
      "execution_count": 7,
      "outputs": [
        {
          "output_type": "display_data",
          "data": {
            "text/plain": [
              "<Figure size 640x480 with 1 Axes>"
            ],
            "image/png": "[encoded data removed]"
          },
          "metadata": {}
        }
      ]
    },
    {
      "cell_type": "code",
      "source": [
        "# Create the X variable for features (all columns except 'class')\n",
        "X = data.drop(columns=['class'])\n",
        "\n",
        "# Create the y variable for output labels (the 'class' column)\n",
        "y = data['class']"
      ],
      "metadata": {
        "id": "WlO9R-yrzQMc"
      },
      "execution_count": 8,
      "outputs": []
    },
    {
      "cell_type": "code",
      "source": [
        "# Create a LabelEncoder object\n",
        "label_encoder = LabelEncoder()\n",
        "\n",
        "# Encode the features (X) to integers inside a for loop\n",
        "for column in X.columns:\n",
        "    X[column] = label_encoder.fit_transform(X[column])\n",
        "\n",
        "# Encode the output labels (y) to integers\n",
        "y = label_encoder.fit_transform(y)"
      ],
      "metadata": {
        "id": "ThPRe9p_zTSz"
      },
      "execution_count": 9,
      "outputs": []
    },
    {
      "cell_type": "code",
      "source": [
        "#Print X\n",
        "# Print the features (X)\n",
        "print(\"Features (X):\")\n",
        "print(X)"
      ],
      "metadata": {
        "colab": {
          "base_uri": "https://localhost:8080/"
        },
        "id": "RGDVxzdszZ-j",
        "outputId": "042800d3-0162-4958-8f84-f9573bddfe90"
      },
      "execution_count": 10,
      "outputs": [
        {
          "output_type": "stream",
          "name": "stdout",
          "text": [
            "Features (X):\n",
            "      cap-shape  cap-surface  cap-color  bruises  odor  gill-attachment  \\\n",
            "0             5            2          4        1     6                1   \n",
            "1             5            2          9        1     0                1   \n",
            "2             0            2          8        1     3                1   \n",
            "3             5            3          8        1     6                1   \n",
            "4             5            2          3        0     5                1   \n",
            "...         ...          ...        ...      ...   ...              ...   \n",
            "8119          3            2          4        0     5                0   \n",
            "8120          5            2          4        0     5                0   \n",
            "8121          2            2          4        0     5                0   \n",
            "8122          3            3          4        0     8                1   \n",
            "8123          5            2          4        0     5                0   \n",
            "\n",
            "      gill-spacing  gill-size  gill-color  stalk-shape  ...  \\\n",
            "0                0          1           4            0  ...   \n",
            "1                0          0           4            0  ...   \n",
            "2                0          0           5            0  ...   \n",
            "3                0          1           5            0  ...   \n",
            "4                1          0           4            1  ...   \n",
            "...            ...        ...         ...          ...  ...   \n",
            "8119             0          0          11            0  ...   \n",
            "8120             0          0          11            0  ...   \n",
            "8121             0          0           5            0  ...   \n",
            "8122             0          1           0            1  ...   \n",
            "8123             0          0          11            0  ...   \n",
            "\n",
            "      stalk-surface-below-ring  stalk-color-above-ring  \\\n",
            "0                            2                       7   \n",
            "1                            2                       7   \n",
            "2                            2                       7   \n",
            "3                            2                       7   \n",
            "4                            2                       7   \n",
            "...                        ...                     ...   \n",
            "8119                         2                       5   \n",
            "8120                         2                       5   \n",
            "8121                         2                       5   \n",
            "8122                         1                       7   \n",
            "8123                         2                       5   \n",
            "\n",
            "      stalk-color-below-ring  veil-type  veil-color  ring-number  ring-type  \\\n",
            "0                          7          0           2            1          4   \n",
            "1                          7          0           2            1          4   \n",
            "2                          7          0           2            1          4   \n",
            "3                          7          0           2            1          4   \n",
            "4                          7          0           2            1          0   \n",
            "...                      ...        ...         ...          ...        ...   \n",
            "8119                       5          0           1            1          4   \n",
            "8120                       5          0           0            1          4   \n",
            "8121                       5          0           1            1          4   \n",
            "8122                       7          0           2            1          0   \n",
            "8123                       5          0           1            1          4   \n",
            "\n",
            "      spore-print-color  population  habitat  \n",
            "0                     2           3        5  \n",
            "1                     3           2        1  \n",
            "2                     3           2        3  \n",
            "3                     2           3        5  \n",
            "4                     3           0        1  \n",
            "...                 ...         ...      ...  \n",
            "8119                  0           1        2  \n",
            "8120                  0           4        2  \n",
            "8121                  0           1        2  \n",
            "8122                  7           4        2  \n",
            "8123                  4           1        2  \n",
            "\n",
            "[8124 rows x 22 columns]\n"
          ]
        }
      ]
    },
    {
      "cell_type": "code",
      "source": [
        "#Print y\n",
        "# Print the output labels (y)\n",
        "print(\"\\nOutput Labels (y):\")\n",
        "print(y)"
      ],
      "metadata": {
        "colab": {
          "base_uri": "https://localhost:8080/"
        },
        "id": "_Vo0ef3zzph_",
        "outputId": "90c7ab31-61b1-4243-b87b-9f9a4ea42ab2"
      },
      "execution_count": 11,
      "outputs": [
        {
          "output_type": "stream",
          "name": "stdout",
          "text": [
            "\n",
            "Output Labels (y):\n",
            "[1 0 0 ... 0 1 0]\n"
          ]
        }
      ]
    },
    {
      "cell_type": "code",
      "source": [
        "# Split the dataset into train and test sets with a 70-30 ratio\n",
        "X_train, X_test, y_train, y_test = train_test_split(X, y, test_size=0.3, random_state=42)\n",
        "\n",
        "# Print the shapes of the resulting datasets\n",
        "print(\"Training set shape:\", X_train.shape, y_train.shape)\n",
        "print(\"Testing set shape:\", X_test.shape, y_test.shape)\n"
      ],
      "metadata": {
        "colab": {
          "base_uri": "https://localhost:8080/"
        },
        "id": "R9rj0Lo10ArH",
        "outputId": "6b78fc57-69af-436e-c931-4662f46c91ed"
      },
      "execution_count": 12,
      "outputs": [
        {
          "output_type": "stream",
          "name": "stdout",
          "text": [
            "Training set shape: (5686, 22) (5686,)\n",
            "Testing set shape: (2438, 22) (2438,)\n"
          ]
        }
      ]
    },
    {
      "cell_type": "code",
      "source": [
        "# Create an object using the LogisticRegression() class\n",
        "logistic_model = LogisticRegression()\n",
        "\n",
        "# Create an object using the RidgeClassifier() class\n",
        "ridge_model = RidgeClassifier()\n",
        "\n",
        "# Create an object using the DecisionTreeClassifier() class\n",
        "decision_tree_model = DecisionTreeClassifier()\n",
        "\n",
        "# Create an object using the GaussianNB() class\n",
        "gnb_model = GaussianNB()\n",
        "\n",
        "# Create an object using the MLPClassifier() class\n",
        "mlp_model = MLPClassifier()\n"
      ],
      "metadata": {
        "id": "PRdpbWM90D6f"
      },
      "execution_count": 13,
      "outputs": []
    },
    {
      "cell_type": "code",
      "source": [
        "# Train the Logistic Classifier model\n",
        "logistic_model.fit(X_train, y_train)\n",
        "\n",
        "# Train the Ridge Classifier model\n",
        "ridge_model.fit(X_train, y_train)\n",
        "\n",
        "# Train the Decision Tree model\n",
        "decision_tree_model.fit(X_train, y_train)\n",
        "\n",
        "# Train the Naive Bayes model\n",
        "gnb_model.fit(X_train, y_train)\n",
        "\n",
        "# Train the Neural Network model\n",
        "mlp_model.fit(X_train, y_train)\n"
      ],
      "metadata": {
        "colab": {
          "base_uri": "https://localhost:8080/",
          "height": 239
        },
        "id": "VTkiicV10H3Y",
        "outputId": "954ca5df-829e-40cd-c071-053a555e66bb"
      },
      "execution_count": 14,
      "outputs": [
        {
          "output_type": "stream",
          "name": "stderr",
          "text": [
            "/usr/local/lib/python3.10/dist-packages/sklearn/linear_model/_logistic.py:469: ConvergenceWarning: lbfgs failed to converge (status=1):\n",
            "STOP: TOTAL NO. of ITERATIONS REACHED LIMIT.\n",
            "\n",
            "Increase the number of iterations (max_iter) or scale the data as shown in:\n",
            "    https://scikit-learn.org/stable/modules/preprocessing.html\n",
            "Please also refer to the documentation for alternative solver options:\n",
            "    https://scikit-learn.org/stable/modules/linear_model.html#logistic-regression\n",
            "  n_iter_i = _check_optimize_result(\n"
          ]
        },
        {
          "output_type": "execute_result",
          "data": {
            "text/plain": [
              "MLPClassifier()"
            ],
            "text/html": [
              "<style>#sk-container-id-1 {\n",
              "  /* Definition of color scheme common for light and dark mode */\n",
              "  --sklearn-color-text: black;\n",
              "  --sklearn-color-line: gray;\n",
              "  /* Definition of color scheme for unfitted estimators */\n",
              "  --sklearn-color-unfitted-level-0: #fff5e6;\n",
              "  --sklearn-color-unfitted-level-1: #f6e4d2;\n",
              "  --sklearn-color-unfitted-level-2: #ffe0b3;\n",
              "  --sklearn-color-unfitted-level-3: chocolate;\n",
              "  /* Definition of color scheme for fitted estimators */\n",
              "  --sklearn-color-fitted-level-0: #f0f8ff;\n",
              "  --sklearn-color-fitted-level-1: #d4ebff;\n",
              "  --sklearn-color-fitted-level-2: #b3dbfd;\n",
              "  --sklearn-color-fitted-level-3: cornflowerblue;\n",
              "\n",
              "  /* Specific color for light theme */\n",
              "  --sklearn-color-text-on-default-background: var(--sg-text-color, var(--theme-code-foreground, var(--jp-content-font-color1, black)));\n",
              "  --sklearn-color-background: var(--sg-background-color, var(--theme-background, var(--jp-layout-color0, white)));\n",
              "  --sklearn-color-border-box: var(--sg-text-color, var(--theme-code-foreground, var(--jp-content-font-color1, black)));\n",
              "  --sklearn-color-icon: #696969;\n",
              "\n",
              "  @media (prefers-color-scheme: dark) {\n",
              "    /* Redefinition of color scheme for dark theme */\n",
              "    --sklearn-color-text-on-default-background: var(--sg-text-color, var(--theme-code-foreground, var(--jp-content-font-color1, white)));\n",
              "    --sklearn-color-background: var(--sg-background-color, var(--theme-background, var(--jp-layout-color0, #111)));\n",
              "    --sklearn-color-border-box: var(--sg-text-color, var(--theme-code-foreground, var(--jp-content-font-color1, white)));\n",
              "    --sklearn-color-icon: #878787;\n",
              "  }\n",
              "}\n",
              "\n",
              "#sk-container-id-1 {\n",
              "  color: var(--sklearn-color-text);\n",
              "}\n",
              "\n",
              "#sk-container-id-1 pre {\n",
              "  padding: 0;\n",
              "}\n",
              "\n",
              "#sk-container-id-1 input.sk-hidden--visually {\n",
              "  border: 0;\n",
              "  clip: rect(1px 1px 1px 1px);\n",
              "  clip: rect(1px, 1px, 1px, 1px);\n",
              "  height: 1px;\n",
              "  margin: -1px;\n",
              "  overflow: hidden;\n",
              "  padding: 0;\n",
              "  position: absolute;\n",
              "  width: 1px;\n",
              "}\n",
              "\n",
              "#sk-container-id-1 div.sk-dashed-wrapped {\n",
              "  border: 1px dashed var(--sklearn-color-line);\n",
              "  margin: 0 0.4em 0.5em 0.4em;\n",
              "  box-sizing: border-box;\n",
              "  padding-bottom: 0.4em;\n",
              "  background-color: var(--sklearn-color-background);\n",
              "}\n",
              "\n",
              "#sk-container-id-1 div.sk-container {\n",
              "  /* jupyter's `normalize.less` sets `[hidden] { display: none; }`\n",
              "     but bootstrap.min.css set `[hidden] { display: none !important; }`\n",
              "     so we also need the `!important` here to be able to override the\n",
              "     default hidden behavior on the sphinx rendered scikit-learn.org.\n",
              "     See: https://github.com/scikit-learn/scikit-learn/issues/21755 */\n",
              "  display: inline-block !important;\n",
              "  position: relative;\n",
              "}\n",
              "\n",
              "#sk-container-id-1 div.sk-text-repr-fallback {\n",
              "  display: none;\n",
              "}\n",
              "\n",
              "div.sk-parallel-item,\n",
              "div.sk-serial,\n",
              "div.sk-item {\n",
              "  /* draw centered vertical line to link estimators */\n",
              "  background-image: linear-gradient(var(--sklearn-color-text-on-default-background), var(--sklearn-color-text-on-default-background));\n",
              "  background-size: 2px 100%;\n",
              "  background-repeat: no-repeat;\n",
              "  background-position: center center;\n",
              "}\n",
              "\n",
              "/* Parallel-specific style estimator block */\n",
              "\n",
              "#sk-container-id-1 div.sk-parallel-item::after {\n",
              "  content: \"\";\n",
              "  width: 100%;\n",
              "  border-bottom: 2px solid var(--sklearn-color-text-on-default-background);\n",
              "  flex-grow: 1;\n",
              "}\n",
              "\n",
              "#sk-container-id-1 div.sk-parallel {\n",
              "  display: flex;\n",
              "  align-items: stretch;\n",
              "  justify-content: center;\n",
              "  background-color: var(--sklearn-color-background);\n",
              "  position: relative;\n",
              "}\n",
              "\n",
              "#sk-container-id-1 div.sk-parallel-item {\n",
              "  display: flex;\n",
              "  flex-direction: column;\n",
              "}\n",
              "\n",
              "#sk-container-id-1 div.sk-parallel-item:first-child::after {\n",
              "  align-self: flex-end;\n",
              "  width: 50%;\n",
              "}\n",
              "\n",
              "#sk-container-id-1 div.sk-parallel-item:last-child::after {\n",
              "  align-self: flex-start;\n",
              "  width: 50%;\n",
              "}\n",
              "\n",
              "#sk-container-id-1 div.sk-parallel-item:only-child::after {\n",
              "  width: 0;\n",
              "}\n",
              "\n",
              "/* Serial-specific style estimator block */\n",
              "\n",
              "#sk-container-id-1 div.sk-serial {\n",
              "  display: flex;\n",
              "  flex-direction: column;\n",
              "  align-items: center;\n",
              "  background-color: var(--sklearn-color-background);\n",
              "  padding-right: 1em;\n",
              "  padding-left: 1em;\n",
              "}\n",
              "\n",
              "\n",
              "/* Toggleable style: style used for estimator/Pipeline/ColumnTransformer box that is\n",
              "clickable and can be expanded/collapsed.\n",
              "- Pipeline and ColumnTransformer use this feature and define the default style\n",
              "- Estimators will overwrite some part of the style using the `sk-estimator` class\n",
              "*/\n",
              "\n",
              "/* Pipeline and ColumnTransformer style (default) */\n",
              "\n",
              "#sk-container-id-1 div.sk-toggleable {\n",
              "  /* Default theme specific background. It is overwritten whether we have a\n",
              "  specific estimator or a Pipeline/ColumnTransformer */\n",
              "  background-color: var(--sklearn-color-background);\n",
              "}\n",
              "\n",
              "/* Toggleable label */\n",
              "#sk-container-id-1 label.sk-toggleable__label {\n",
              "  cursor: pointer;\n",
              "  display: block;\n",
              "  width: 100%;\n",
              "  margin-bottom: 0;\n",
              "  padding: 0.5em;\n",
              "  box-sizing: border-box;\n",
              "  text-align: center;\n",
              "}\n",
              "\n",
              "#sk-container-id-1 label.sk-toggleable__label-arrow:before {\n",
              "  /* Arrow on the left of the label */\n",
              "  content: \"▸\";\n",
              "  float: left;\n",
              "  margin-right: 0.25em;\n",
              "  color: var(--sklearn-color-icon);\n",
              "}\n",
              "\n",
              "#sk-container-id-1 label.sk-toggleable__label-arrow:hover:before {\n",
              "  color: var(--sklearn-color-text);\n",
              "}\n",
              "\n",
              "/* Toggleable content - dropdown */\n",
              "\n",
              "#sk-container-id-1 div.sk-toggleable__content {\n",
              "  max-height: 0;\n",
              "  max-width: 0;\n",
              "  overflow: hidden;\n",
              "  text-align: left;\n",
              "  /* unfitted */\n",
              "  background-color: var(--sklearn-color-unfitted-level-0);\n",
              "}\n",
              "\n",
              "#sk-container-id-1 div.sk-toggleable__content.fitted {\n",
              "  /* fitted */\n",
              "  background-color: var(--sklearn-color-fitted-level-0);\n",
              "}\n",
              "\n",
              "#sk-container-id-1 div.sk-toggleable__content pre {\n",
              "  margin: 0.2em;\n",
              "  border-radius: 0.25em;\n",
              "  color: var(--sklearn-color-text);\n",
              "  /* unfitted */\n",
              "  background-color: var(--sklearn-color-unfitted-level-0);\n",
              "}\n",
              "\n",
              "#sk-container-id-1 div.sk-toggleable__content.fitted pre {\n",
              "  /* unfitted */\n",
              "  background-color: var(--sklearn-color-fitted-level-0);\n",
              "}\n",
              "\n",
              "#sk-container-id-1 input.sk-toggleable__control:checked~div.sk-toggleable__content {\n",
              "  /* Expand drop-down */\n",
              "  max-height: 200px;\n",
              "  max-width: 100%;\n",
              "  overflow: auto;\n",
              "}\n",
              "\n",
              "#sk-container-id-1 input.sk-toggleable__control:checked~label.sk-toggleable__label-arrow:before {\n",
              "  content: \"▾\";\n",
              "}\n",
              "\n",
              "/* Pipeline/ColumnTransformer-specific style */\n",
              "\n",
              "#sk-container-id-1 div.sk-label input.sk-toggleable__control:checked~label.sk-toggleable__label {\n",
              "  color: var(--sklearn-color-text);\n",
              "  background-color: var(--sklearn-color-unfitted-level-2);\n",
              "}\n",
              "\n",
              "#sk-container-id-1 div.sk-label.fitted input.sk-toggleable__control:checked~label.sk-toggleable__label {\n",
              "  background-color: var(--sklearn-color-fitted-level-2);\n",
              "}\n",
              "\n",
              "/* Estimator-specific style */\n",
              "\n",
              "/* Colorize estimator box */\n",
              "#sk-container-id-1 div.sk-estimator input.sk-toggleable__control:checked~label.sk-toggleable__label {\n",
              "  /* unfitted */\n",
              "  background-color: var(--sklearn-color-unfitted-level-2);\n",
              "}\n",
              "\n",
              "#sk-container-id-1 div.sk-estimator.fitted input.sk-toggleable__control:checked~label.sk-toggleable__label {\n",
              "  /* fitted */\n",
              "  background-color: var(--sklearn-color-fitted-level-2);\n",
              "}\n",
              "\n",
              "#sk-container-id-1 div.sk-label label.sk-toggleable__label,\n",
              "#sk-container-id-1 div.sk-label label {\n",
              "  /* The background is the default theme color */\n",
              "  color: var(--sklearn-color-text-on-default-background);\n",
              "}\n",
              "\n",
              "/* On hover, darken the color of the background */\n",
              "#sk-container-id-1 div.sk-label:hover label.sk-toggleable__label {\n",
              "  color: var(--sklearn-color-text);\n",
              "  background-color: var(--sklearn-color-unfitted-level-2);\n",
              "}\n",
              "\n",
              "/* Label box, darken color on hover, fitted */\n",
              "#sk-container-id-1 div.sk-label.fitted:hover label.sk-toggleable__label.fitted {\n",
              "  color: var(--sklearn-color-text);\n",
              "  background-color: var(--sklearn-color-fitted-level-2);\n",
              "}\n",
              "\n",
              "/* Estimator label */\n",
              "\n",
              "#sk-container-id-1 div.sk-label label {\n",
              "  font-family: monospace;\n",
              "  font-weight: bold;\n",
              "  display: inline-block;\n",
              "  line-height: 1.2em;\n",
              "}\n",
              "\n",
              "#sk-container-id-1 div.sk-label-container {\n",
              "  text-align: center;\n",
              "}\n",
              "\n",
              "/* Estimator-specific */\n",
              "#sk-container-id-1 div.sk-estimator {\n",
              "  font-family: monospace;\n",
              "  border: 1px dotted var(--sklearn-color-border-box);\n",
              "  border-radius: 0.25em;\n",
              "  box-sizing: border-box;\n",
              "  margin-bottom: 0.5em;\n",
              "  /* unfitted */\n",
              "  background-color: var(--sklearn-color-unfitted-level-0);\n",
              "}\n",
              "\n",
              "#sk-container-id-1 div.sk-estimator.fitted {\n",
              "  /* fitted */\n",
              "  background-color: var(--sklearn-color-fitted-level-0);\n",
              "}\n",
              "\n",
              "/* on hover */\n",
              "#sk-container-id-1 div.sk-estimator:hover {\n",
              "  /* unfitted */\n",
              "  background-color: var(--sklearn-color-unfitted-level-2);\n",
              "}\n",
              "\n",
              "#sk-container-id-1 div.sk-estimator.fitted:hover {\n",
              "  /* fitted */\n",
              "  background-color: var(--sklearn-color-fitted-level-2);\n",
              "}\n",
              "\n",
              "/* Specification for estimator info (e.g. \"i\" and \"?\") */\n",
              "\n",
              "/* Common style for \"i\" and \"?\" */\n",
              "\n",
              ".sk-estimator-doc-link,\n",
              "a:link.sk-estimator-doc-link,\n",
              "a:visited.sk-estimator-doc-link {\n",
              "  float: right;\n",
              "  font-size: smaller;\n",
              "  line-height: 1em;\n",
              "  font-family: monospace;\n",
              "  background-color: var(--sklearn-color-background);\n",
              "  border-radius: 1em;\n",
              "  height: 1em;\n",
              "  width: 1em;\n",
              "  text-decoration: none !important;\n",
              "  margin-left: 1ex;\n",
              "  /* unfitted */\n",
              "  border: var(--sklearn-color-unfitted-level-1) 1pt solid;\n",
              "  color: var(--sklearn-color-unfitted-level-1);\n",
              "}\n",
              "\n",
              ".sk-estimator-doc-link.fitted,\n",
              "a:link.sk-estimator-doc-link.fitted,\n",
              "a:visited.sk-estimator-doc-link.fitted {\n",
              "  /* fitted */\n",
              "  border: var(--sklearn-color-fitted-level-1) 1pt solid;\n",
              "  color: var(--sklearn-color-fitted-level-1);\n",
              "}\n",
              "\n",
              "/* On hover */\n",
              "div.sk-estimator:hover .sk-estimator-doc-link:hover,\n",
              ".sk-estimator-doc-link:hover,\n",
              "div.sk-label-container:hover .sk-estimator-doc-link:hover,\n",
              ".sk-estimator-doc-link:hover {\n",
              "  /* unfitted */\n",
              "  background-color: var(--sklearn-color-unfitted-level-3);\n",
              "  color: var(--sklearn-color-background);\n",
              "  text-decoration: none;\n",
              "}\n",
              "\n",
              "div.sk-estimator.fitted:hover .sk-estimator-doc-link.fitted:hover,\n",
              ".sk-estimator-doc-link.fitted:hover,\n",
              "div.sk-label-container:hover .sk-estimator-doc-link.fitted:hover,\n",
              ".sk-estimator-doc-link.fitted:hover {\n",
              "  /* fitted */\n",
              "  background-color: var(--sklearn-color-fitted-level-3);\n",
              "  color: var(--sklearn-color-background);\n",
              "  text-decoration: none;\n",
              "}\n",
              "\n",
              "/* Span, style for the box shown on hovering the info icon */\n",
              ".sk-estimator-doc-link span {\n",
              "  display: none;\n",
              "  z-index: 9999;\n",
              "  position: relative;\n",
              "  font-weight: normal;\n",
              "  right: .2ex;\n",
              "  padding: .5ex;\n",
              "  margin: .5ex;\n",
              "  width: min-content;\n",
              "  min-width: 20ex;\n",
              "  max-width: 50ex;\n",
              "  color: var(--sklearn-color-text);\n",
              "  box-shadow: 2pt 2pt 4pt #999;\n",
              "  /* unfitted */\n",
              "  background: var(--sklearn-color-unfitted-level-0);\n",
              "  border: .5pt solid var(--sklearn-color-unfitted-level-3);\n",
              "}\n",
              "\n",
              ".sk-estimator-doc-link.fitted span {\n",
              "  /* fitted */\n",
              "  background: var(--sklearn-color-fitted-level-0);\n",
              "  border: var(--sklearn-color-fitted-level-3);\n",
              "}\n",
              "\n",
              ".sk-estimator-doc-link:hover span {\n",
              "  display: block;\n",
              "}\n",
              "\n",
              "/* \"?\"-specific style due to the `<a>` HTML tag */\n",
              "\n",
              "#sk-container-id-1 a.estimator_doc_link {\n",
              "  float: right;\n",
              "  font-size: 1rem;\n",
              "  line-height: 1em;\n",
              "  font-family: monospace;\n",
              "  background-color: var(--sklearn-color-background);\n",
              "  border-radius: 1rem;\n",
              "  height: 1rem;\n",
              "  width: 1rem;\n",
              "  text-decoration: none;\n",
              "  /* unfitted */\n",
              "  color: var(--sklearn-color-unfitted-level-1);\n",
              "  border: var(--sklearn-color-unfitted-level-1) 1pt solid;\n",
              "}\n",
              "\n",
              "#sk-container-id-1 a.estimator_doc_link.fitted {\n",
              "  /* fitted */\n",
              "  border: var(--sklearn-color-fitted-level-1) 1pt solid;\n",
              "  color: var(--sklearn-color-fitted-level-1);\n",
              "}\n",
              "\n",
              "/* On hover */\n",
              "#sk-container-id-1 a.estimator_doc_link:hover {\n",
              "  /* unfitted */\n",
              "  background-color: var(--sklearn-color-unfitted-level-3);\n",
              "  color: var(--sklearn-color-background);\n",
              "  text-decoration: none;\n",
              "}\n",
              "\n",
              "#sk-container-id-1 a.estimator_doc_link.fitted:hover {\n",
              "  /* fitted */\n",
              "  background-color: var(--sklearn-color-fitted-level-3);\n",
              "}\n",
              "</style><div id=\"sk-container-id-1\" class=\"sk-top-container\"><div class=\"sk-text-repr-fallback\"><pre>MLPClassifier()</pre><b>In a Jupyter environment, please rerun this cell to show the HTML representation or trust the notebook. <br />On GitHub, the HTML representation is unable to render, please try loading this page with nbviewer.org.</b></div><div class=\"sk-container\" hidden><div class=\"sk-item\"><div class=\"sk-estimator fitted sk-toggleable\"><input class=\"sk-toggleable__control sk-hidden--visually\" id=\"sk-estimator-id-1\" type=\"checkbox\" checked><label for=\"sk-estimator-id-1\" class=\"sk-toggleable__label fitted sk-toggleable__label-arrow fitted\">&nbsp;&nbsp;MLPClassifier<a class=\"sk-estimator-doc-link fitted\" rel=\"noreferrer\" target=\"_blank\" href=\"https://scikit-learn.org/1.5/modules/generated/sklearn.neural_network.MLPClassifier.html\">?<span>Documentation for MLPClassifier</span></a><span class=\"sk-estimator-doc-link fitted\">i<span>Fitted</span></span></label><div class=\"sk-toggleable__content fitted\"><pre>MLPClassifier()</pre></div> </div></div></div></div>"
            ]
          },
          "metadata": {},
          "execution_count": 14
        }
      ]
    },
    {
      "cell_type": "code",
      "source": [
        "# Make predictions using the test dataset on Logistic Classifier model\n",
        "logistic_predictions = logistic_model.predict(X_test)\n",
        "\n",
        "# Make predictions using the test dataset on Ridge Classifier model\n",
        "ridge_predictions = ridge_model.predict(X_test)\n",
        "\n",
        "# Make predictions using the test dataset on Decision Tree model\n",
        "decision_tree_predictions = decision_tree_model.predict(X_test)\n",
        "\n",
        "# Make predictions using the test dataset on Naive Bayes model\n",
        "gnb_predictions = gnb_model.predict(X_test)\n",
        "\n",
        "# Make predictions using the test dataset on Neural Network model\n",
        "mlp_predictions = mlp_model.predict(X_test)\n"
      ],
      "metadata": {
        "id": "PnvDXCbt0KUI"
      },
      "execution_count": 16,
      "outputs": []
    },
    {
      "cell_type": "code",
      "source": [
        "# Create a Classification Report for Logistic Classifier model\n",
        "print(\"Logistic Classifier Classification Report:\")\n",
        "print(classification_report(y_test, logistic_predictions))\n",
        "\n",
        "# Create a Classification Report for Ridge Classifier model\n",
        "print(\"Ridge Classifier Classification Report:\")\n",
        "print(classification_report(y_test, ridge_predictions))\n",
        "\n",
        "# Create a Classification Report for Decision Tree model\n",
        "print(\"Decision Tree Classification Report:\")\n",
        "print(classification_report(y_test, decision_tree_predictions))\n",
        "\n",
        "# Create a Classification Report for Naive Bayes model\n",
        "print(\"Naive Bayes Classification Report:\")\n",
        "print(classification_report(y_test, gnb_predictions))\n",
        "\n",
        "# Create a Classification Report for Neural Network model\n",
        "print(\"Neural Network Classification Report:\")\n",
        "print(classification_report(y_test, mlp_predictions))\n"
      ],
      "metadata": {
        "colab": {
          "base_uri": "https://localhost:8080/"
        },
        "id": "bkdiOgT_0Rjg",
        "outputId": "ab2104e5-bc65-45d6-8252-b9a2f1f2a05d"
      },
      "execution_count": 17,
      "outputs": [
        {
          "output_type": "stream",
          "name": "stdout",
          "text": [
            "Logistic Classifier Classification Report:\n",
            "              precision    recall  f1-score   support\n",
            "\n",
            "           0       0.95      0.95      0.95      1257\n",
            "           1       0.95      0.94      0.95      1181\n",
            "\n",
            "    accuracy                           0.95      2438\n",
            "   macro avg       0.95      0.95      0.95      2438\n",
            "weighted avg       0.95      0.95      0.95      2438\n",
            "\n",
            "Ridge Classifier Classification Report:\n",
            "              precision    recall  f1-score   support\n",
            "\n",
            "           0       0.94      0.96      0.95      1257\n",
            "           1       0.96      0.94      0.95      1181\n",
            "\n",
            "    accuracy                           0.95      2438\n",
            "   macro avg       0.95      0.95      0.95      2438\n",
            "weighted avg       0.95      0.95      0.95      2438\n",
            "\n",
            "Decision Tree Classification Report:\n",
            "              precision    recall  f1-score   support\n",
            "\n",
            "           0       1.00      1.00      1.00      1257\n",
            "           1       1.00      1.00      1.00      1181\n",
            "\n",
            "    accuracy                           1.00      2438\n",
            "   macro avg       1.00      1.00      1.00      2438\n",
            "weighted avg       1.00      1.00      1.00      2438\n",
            "\n",
            "Naive Bayes Classification Report:\n",
            "              precision    recall  f1-score   support\n",
            "\n",
            "           0       0.93      0.93      0.93      1257\n",
            "           1       0.93      0.93      0.93      1181\n",
            "\n",
            "    accuracy                           0.93      2438\n",
            "   macro avg       0.93      0.93      0.93      2438\n",
            "weighted avg       0.93      0.93      0.93      2438\n",
            "\n",
            "Neural Network Classification Report:\n",
            "              precision    recall  f1-score   support\n",
            "\n",
            "           0       1.00      1.00      1.00      1257\n",
            "           1       1.00      1.00      1.00      1181\n",
            "\n",
            "    accuracy                           1.00      2438\n",
            "   macro avg       1.00      1.00      1.00      2438\n",
            "weighted avg       1.00      1.00      1.00      2438\n",
            "\n"
          ]
        }
      ]
    },
    {
      "cell_type": "code",
      "source": [
        "# Print the report of the Logistic Regression model\n",
        "print(\"Logistic Regression Model Report:\")\n",
        "logistic_report = classification_report(y_test, logistic_predictions)\n",
        "print(logistic_report)\n",
        "\n",
        "# Print the report of the Ridge Regression model\n",
        "print(\"Ridge Regression Model Report:\")\n",
        "ridge_report = classification_report(y_test, ridge_predictions)\n",
        "print(ridge_report)\n",
        "\n",
        "# Print the report of the Decision Tree model\n",
        "print(\"Decision Tree Model Report:\")\n",
        "decision_tree_report = classification_report(y_test, decision_tree_predictions)\n",
        "print(decision_tree_report)\n",
        "\n",
        "# Print the report of the Naive Bayes model\n",
        "print(\"Naive Bayes Model Report:\")\n",
        "gnb_report = classification_report(y_test, gnb_predictions)\n",
        "print(gnb_report)\n",
        "\n",
        "# Print the report of the Neural Network model\n",
        "print(\"Neural Network Model Report:\")\n",
        "mlp_report = classification_report(y_test, mlp_predictions)\n",
        "print(mlp_report)\n"
      ],
      "metadata": {
        "colab": {
          "base_uri": "https://localhost:8080/"
        },
        "id": "_hNE1MEv0VDP",
        "outputId": "c303a685-12e6-4f7c-a271-d1b73aebd54d"
      },
      "execution_count": 18,
      "outputs": [
        {
          "output_type": "stream",
          "name": "stdout",
          "text": [
            "Logistic Regression Model Report:\n",
            "              precision    recall  f1-score   support\n",
            "\n",
            "           0       0.95      0.95      0.95      1257\n",
            "           1       0.95      0.94      0.95      1181\n",
            "\n",
            "    accuracy                           0.95      2438\n",
            "   macro avg       0.95      0.95      0.95      2438\n",
            "weighted avg       0.95      0.95      0.95      2438\n",
            "\n",
            "Ridge Regression Model Report:\n",
            "              precision    recall  f1-score   support\n",
            "\n",
            "           0       0.94      0.96      0.95      1257\n",
            "           1       0.96      0.94      0.95      1181\n",
            "\n",
            "    accuracy                           0.95      2438\n",
            "   macro avg       0.95      0.95      0.95      2438\n",
            "weighted avg       0.95      0.95      0.95      2438\n",
            "\n",
            "Decision Tree Model Report:\n",
            "              precision    recall  f1-score   support\n",
            "\n",
            "           0       1.00      1.00      1.00      1257\n",
            "           1       1.00      1.00      1.00      1181\n",
            "\n",
            "    accuracy                           1.00      2438\n",
            "   macro avg       1.00      1.00      1.00      2438\n",
            "weighted avg       1.00      1.00      1.00      2438\n",
            "\n",
            "Naive Bayes Model Report:\n",
            "              precision    recall  f1-score   support\n",
            "\n",
            "           0       0.93      0.93      0.93      1257\n",
            "           1       0.93      0.93      0.93      1181\n",
            "\n",
            "    accuracy                           0.93      2438\n",
            "   macro avg       0.93      0.93      0.93      2438\n",
            "weighted avg       0.93      0.93      0.93      2438\n",
            "\n",
            "Neural Network Model Report:\n",
            "              precision    recall  f1-score   support\n",
            "\n",
            "           0       1.00      1.00      1.00      1257\n",
            "           1       1.00      1.00      1.00      1181\n",
            "\n",
            "    accuracy                           1.00      2438\n",
            "   macro avg       1.00      1.00      1.00      2438\n",
            "weighted avg       1.00      1.00      1.00      2438\n",
            "\n"
          ]
        }
      ]
    },
    {
      "cell_type": "code",
      "source": [
        "# Import Random Forest Classifier\n",
        "from sklearn.ensemble import RandomForestClassifier\n",
        "\n",
        "# Create Random Forest Classifier object\n",
        "rf_model = RandomForestClassifier()\n",
        "\n",
        "# Train the Random Forest model\n",
        "rf_model.fit(X_train, y_train)\n",
        "\n",
        "# Make predictions using the test dataset on the Random Forest model\n",
        "rf_predictions = rf_model.predict(X_test)\n",
        "\n",
        "# Print the predictions\n",
        "print(\"Random Forest Predictions:\")\n",
        "print(rf_predictions)\n"
      ],
      "metadata": {
        "colab": {
          "base_uri": "https://localhost:8080/"
        },
        "id": "VpgnYbQB0YIX",
        "outputId": "3c1ff7e0-58d0-4149-952e-f8546a5ecf55"
      },
      "execution_count": 19,
      "outputs": [
        {
          "output_type": "stream",
          "name": "stdout",
          "text": [
            "Random Forest Predictions:\n",
            "[0 1 1 ... 1 0 0]\n"
          ]
        }
      ]
    },
    {
      "cell_type": "code",
      "source": [
        "# Create a classification report for Random Forest model\n",
        "print(\"Random Forest Classification Report:\")\n",
        "rf_report = classification_report(y_test, rf_predictions)\n",
        "print(rf_report)\n"
      ],
      "metadata": {
        "colab": {
          "base_uri": "https://localhost:8080/"
        },
        "id": "TCtIHcZ-0a9_",
        "outputId": "7401e830-6023-4bfe-8534-97306115517d"
      },
      "execution_count": 20,
      "outputs": [
        {
          "output_type": "stream",
          "name": "stdout",
          "text": [
            "Random Forest Classification Report:\n",
            "              precision    recall  f1-score   support\n",
            "\n",
            "           0       1.00      1.00      1.00      1257\n",
            "           1       1.00      1.00      1.00      1181\n",
            "\n",
            "    accuracy                           1.00      2438\n",
            "   macro avg       1.00      1.00      1.00      2438\n",
            "weighted avg       1.00      1.00      1.00      2438\n",
            "\n"
          ]
        }
      ]
    },
    {
      "cell_type": "markdown",
      "source": [
        "# Final Assessment"
      ],
      "metadata": {
        "id": "1jS_FxON0epQ"
      }
    },
    {
      "cell_type": "markdown",
      "source": [
        "### 1.How do we build a machine learning pipeline? Please order the steps chronologically.\n",
        "\n",
        "* Data is transformed into a form that a computer can understand\n",
        "* A series of mathematical steps are performed\n",
        "* An output is computed\n",
        "* Raw data is fed to the system"
      ],
      "metadata": {
        "id": "VxzJFkfH0kr_"
      }
    },
    {
      "cell_type": "markdown",
      "source": [
        "1. Raw data is fed to the system:\n",
        "2. Data is transformed into a form that a computer can understand\n",
        "3. A series of mathematical steps are performed\n",
        "4. An output is computed"
      ],
      "metadata": {
        "id": "xVm3hffk0wFP"
      }
    },
    {
      "cell_type": "markdown",
      "source": [
        "\n",
        "\n",
        "---\n",
        "\n"
      ],
      "metadata": {
        "id": "ftUFswNF1OJa"
      }
    },
    {
      "cell_type": "markdown",
      "source": [
        "### 2.In the context of machine learning, what is loss?\n",
        "\n",
        "* The difference between the predicted and the expected output\n",
        "* The value of the dependent variable\n",
        "* The value of the independent variable\n",
        "* The difference between our input and output"
      ],
      "metadata": {
        "id": "z4r3xgAP08RP"
      }
    },
    {
      "cell_type": "markdown",
      "source": [
        "**The difference between the predicted and the expected output.**"
      ],
      "metadata": {
        "id": "jA0l2x_t1FNy"
      }
    },
    {
      "cell_type": "markdown",
      "source": [
        "\n",
        "\n",
        "---\n",
        "\n"
      ],
      "metadata": {
        "id": "V-iyjoid1Oxr"
      }
    },
    {
      "cell_type": "markdown",
      "source": [
        "### 3.Which one is the most common library for importing machine learning modules in Python?\n",
        "\n",
        "* NumPy\n",
        "* Pandas\n",
        "* Matplotlib\n",
        "* Sklearn"
      ],
      "metadata": {
        "id": "DByMHhSf1IQP"
      }
    },
    {
      "cell_type": "markdown",
      "source": [
        "**Sklearn**"
      ],
      "metadata": {
        "id": "pGrj0ZaA1QPU"
      }
    },
    {
      "cell_type": "markdown",
      "source": [
        "\n",
        "\n",
        "---\n",
        "\n"
      ],
      "metadata": {
        "id": "AFstqr1D1TjU"
      }
    },
    {
      "cell_type": "markdown",
      "source": [
        "### 4.Which of the following pairs is used to compute mean squared error (MSE)?\n",
        "\n",
        "* Observed values – Predicted values\n",
        "* Mean value – Predicted values\n",
        "* Standard deviation value – Mean values\n",
        "* Mean value – Observed values"
      ],
      "metadata": {
        "id": "OYcjdt6T1U5b"
      }
    },
    {
      "cell_type": "markdown",
      "source": [
        "\n",
        "The pair used to compute Mean Squared Error (MSE) is:\n",
        "**Observed values – Predicted values.**"
      ],
      "metadata": {
        "id": "gGCJDTSW1b2U"
      }
    },
    {
      "cell_type": "markdown",
      "source": [
        "\n",
        "\n",
        "---\n",
        "\n"
      ],
      "metadata": {
        "id": "12o40PKe1eB8"
      }
    },
    {
      "cell_type": "markdown",
      "source": [
        "### 5.In the confusion metrix, which one is the formula for the classification evaluation metric, recall?\n",
        "\n",
        "* (True Positives) / (True Positives + False Negatives)\n",
        "* (True Positives) / (True Positives + True Negatives)\n",
        "* (True Positives) / (False Positives + True Positives)\n",
        "* (True Positives) / (False Positives + True Negatives)"
      ],
      "metadata": {
        "id": "zlHT0rT_1hPs"
      }
    },
    {
      "cell_type": "markdown",
      "source": [
        "**(True Positives) / (True Positives + False Negatives)**\n"
      ],
      "metadata": {
        "id": "gONx2tKU1mxM"
      }
    },
    {
      "cell_type": "markdown",
      "source": [
        "\n",
        "\n",
        "---\n",
        "\n"
      ],
      "metadata": {
        "id": "0SgB05_H1tAE"
      }
    },
    {
      "cell_type": "markdown",
      "source": [
        "### 6.Which of the following functions of sklearn splits data into a train and a test dataset?\n",
        "\n",
        "* split()\n",
        "* separate()\n",
        "* train_test_split()\n",
        "* test_train_split()"
      ],
      "metadata": {
        "id": "DGfnUK-n1ugE"
      }
    },
    {
      "cell_type": "markdown",
      "source": [
        "**train_test_split()**"
      ],
      "metadata": {
        "id": "Ys9iZNS81zE0"
      }
    },
    {
      "cell_type": "markdown",
      "source": [
        "\n",
        "\n",
        "---\n",
        "\n"
      ],
      "metadata": {
        "id": "tG1I-5w011ir"
      }
    },
    {
      "cell_type": "markdown",
      "source": [
        "### 7.What does “K” mean in K-means clustering?\n",
        "\n",
        "* Selecting centroids randomly\n",
        "* Optimizing the centroid position iteratively\n",
        "* Initializing “k” number of center points\n",
        "* Assigning data to clusters"
      ],
      "metadata": {
        "id": "oodWR7f51358"
      }
    },
    {
      "cell_type": "markdown",
      "source": [
        "1. Initializing \"k\" number of center points\n",
        "2. Selecting centroids randomly\n",
        "3. Assigning data to clusters\n",
        "4. Optimizing the centroid position iteratively"
      ],
      "metadata": {
        "id": "MR7y0pdE2G01"
      }
    },
    {
      "cell_type": "markdown",
      "source": [
        "\n",
        "\n",
        "---\n",
        "\n"
      ],
      "metadata": {
        "id": "USskLXqP2bGN"
      }
    },
    {
      "cell_type": "markdown",
      "source": [
        "### 8.What do the different scores of the silhouette coefficient mean? Drag the answers next to the correct category.\n",
        "\n",
        "1. Dense and well separated clusters\n",
        "2. Overlapping clusters\n",
        "3. Non-meaningful clusters\n",
        "\n",
        "* Close to 0 -->\n",
        "* Close to 1 -->\n",
        "* Close to -1 -->"
      ],
      "metadata": {
        "id": "PkUX95lZ2bmr"
      }
    },
    {
      "cell_type": "markdown",
      "source": [
        "* Close to 0 -->  Overlapping clusters\n",
        "* Close to 1 --> Dense and well seperated clusters\n",
        "* Close to -1 --> Non-meaningful clusters"
      ],
      "metadata": {
        "id": "cYFcrOSp2o-H"
      }
    },
    {
      "cell_type": "markdown",
      "source": [
        "\n",
        "\n",
        "---\n",
        "\n"
      ],
      "metadata": {
        "id": "z2ddHpzu26eP"
      }
    },
    {
      "cell_type": "markdown",
      "source": [
        "### 9.Suppose your model is overfitting. Which of the following is a wrong way to reduce overfitting?\n",
        "\n",
        "* Increase the amount of training data\n",
        "* Regularization\n",
        "* Decrease the model complexity\n",
        "* Feature Selection"
      ],
      "metadata": {
        "id": "3QUxNRar269n"
      }
    },
    {
      "cell_type": "markdown",
      "source": [
        "The wrong way to reduce overfitting from the options provided is:\n",
        "\n",
        "**Increase the amount of training data.**"
      ],
      "metadata": {
        "id": "BSB-rXIQ3A8b"
      }
    },
    {
      "cell_type": "markdown",
      "source": [
        "\n",
        "\n",
        "---\n",
        "\n"
      ],
      "metadata": {
        "id": "LCzFZ6_s3EUi"
      }
    },
    {
      "cell_type": "markdown",
      "source": [
        "### 10.What is the relationship between variance and bias? There are two correct answers.\n",
        "\n",
        "* As variance increases, bias decreases\n",
        "* As variance decreases, bias increases\n",
        "* As variance increases, bias increases\n",
        "* As variance decreases, bias decreases"
      ],
      "metadata": {
        "id": "K_rTzOlU3EwQ"
      }
    },
    {
      "cell_type": "markdown",
      "source": [
        "1. As variance increases, bias decreases\n",
        "2. As variance decreases, bias increases"
      ],
      "metadata": {
        "id": "XAtBxs4i3JHP"
      }
    },
    {
      "cell_type": "markdown",
      "source": [
        "\n",
        "\n",
        "---\n",
        "\n"
      ],
      "metadata": {
        "id": "J-ulVc0t3QTA"
      }
    },
    {
      "cell_type": "markdown",
      "source": [
        "### 11.What types of problems can decision trees solve? There are two correct answers.\n",
        "\n",
        "* Regression\n",
        "* Classification\n",
        "* Clustering\n",
        "* Normalization"
      ],
      "metadata": {
        "id": "1fKHSKa-3Qtv"
      }
    },
    {
      "cell_type": "markdown",
      "source": [
        "1. Regression\n",
        "2. Classification"
      ],
      "metadata": {
        "id": "VOsmRIKA3VjI"
      }
    },
    {
      "cell_type": "markdown",
      "source": [
        "\n",
        "\n",
        "---\n",
        "\n"
      ],
      "metadata": {
        "id": "LSucjJ1t3asS"
      }
    },
    {
      "cell_type": "markdown",
      "source": [
        "### 12. Which of the following statements about random forest and decision trees are true? There are three correct answers.\n",
        "\n",
        "* Random forest is less impacted by changes in the data compared to decision trees\n",
        "* Random forest is more complex compared to decision trees\n",
        "* Both random forest and decision trees are clustering algorithms\n",
        "* Random forest resolves the overfitting problem of decision trees"
      ],
      "metadata": {
        "id": "n2pauSX-3b6h"
      }
    },
    {
      "cell_type": "markdown",
      "source": [
        "1. Random forest is less impacted by changes in the data compared to decision trees\n",
        "2. Random forest is more complex compared to decision trees\n",
        "3. Random forest resolves the overfitting problem of decision trees"
      ],
      "metadata": {
        "id": "TPxnFwGA3hWp"
      }
    },
    {
      "cell_type": "markdown",
      "source": [
        "\n",
        "\n",
        "---\n",
        "\n"
      ],
      "metadata": {
        "id": "Qo3ZohES3nNF"
      }
    },
    {
      "cell_type": "markdown",
      "source": [
        "### 13.Which of the following statements about Naive Bayes algorithm is correct?\n",
        "\n",
        "* It can produce good results with a small amount of data\n",
        "* It is usually used for benchmarking of a model\n",
        "* It can discretize continuous data\n",
        "* All of the above"
      ],
      "metadata": {
        "id": "iPSiVePP3n3R"
      }
    },
    {
      "cell_type": "markdown",
      "source": [
        "**All of the above.**"
      ],
      "metadata": {
        "id": "JBF2GW2G3r4O"
      }
    },
    {
      "cell_type": "markdown",
      "source": [
        "\n",
        "\n",
        "---\n",
        "\n"
      ],
      "metadata": {
        "id": "29soF4ZS3t4Y"
      }
    },
    {
      "cell_type": "markdown",
      "source": [
        "### 14.Why is the Naive Bayes algorithm called “naive”?\n",
        "\n",
        "* It assumes features are independent when calculating the conditional probabilities\n",
        "* It generally has low accuracy\n",
        "* It assumes features are dependent when calculating the conditional probabilities\n",
        "* It only works on less complex problems"
      ],
      "metadata": {
        "id": "rT_MHFD_3uWn"
      }
    },
    {
      "cell_type": "markdown",
      "source": [
        "The Naive Bayes algorithm is called \"naive\" because:\n",
        "\n",
        "**It assumes features are independent when calculating the conditional probabilities.**"
      ],
      "metadata": {
        "id": "vx0UL7qJ30B0"
      }
    },
    {
      "cell_type": "markdown",
      "source": [
        "\n",
        "\n",
        "---\n",
        "\n"
      ],
      "metadata": {
        "id": "tSBdbj0O34V9"
      }
    },
    {
      "cell_type": "markdown",
      "source": [
        "### 15.Which of the following statements about activation function is correct? There are two correct answers.\n",
        "\n",
        "* It is a linear function\n",
        "* It works like a threshold\n",
        "* It determines the output between the desired range\n",
        "* Only example of activation function is sigmoid function"
      ],
      "metadata": {
        "id": "VflaJORq340A"
      }
    },
    {
      "cell_type": "markdown",
      "source": [
        "1. It works like a threshold\n",
        "2. It determines the output between the desired range"
      ],
      "metadata": {
        "id": "e2lmb-1T39qv"
      }
    },
    {
      "cell_type": "markdown",
      "source": [
        "\n",
        "\n",
        "---\n",
        "\n"
      ],
      "metadata": {
        "id": "z1cgf4UA4Bwd"
      }
    },
    {
      "cell_type": "markdown",
      "source": [
        "### 16.What are the steps of the forward propagation process? Please order them chronologically.\n",
        "\n",
        "* The activation function transforms the input to determine whether or not to activate the perceptron\n",
        "* Output layer receives values and computes the output\n",
        "* The weights and bias are added to the initial value of each perceptron\n",
        "* Input layer receives the input data"
      ],
      "metadata": {
        "id": "V8wfJgFy4CQE"
      }
    },
    {
      "cell_type": "markdown",
      "source": [
        "1. Input layer receives the input data\n",
        "2. The weights and bias are added to the initial value of each perceptron\n",
        "3. The activation function transforms the input to determine whether or not to activate the perceptron\n",
        "4. Output layer receives values and computes the output"
      ],
      "metadata": {
        "id": "-NMTyhMd4Ixs"
      }
    },
    {
      "cell_type": "markdown",
      "source": [
        "\n",
        "\n",
        "---\n",
        "\n"
      ],
      "metadata": {
        "id": "PD-Sfnl04Nxz"
      }
    }
  ]
}